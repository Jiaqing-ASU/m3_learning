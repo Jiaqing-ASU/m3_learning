{
 "cells": [
  {
   "attachments": {},
   "cell_type": "markdown",
   "id": "c9efe82d",
   "metadata": {},
   "source": [
    "# RHEED Metrics"
   ]
  },
  {
   "attachments": {},
   "cell_type": "markdown",
   "id": "6230ef4d",
   "metadata": {},
   "source": [
    "## 0. Load packages and functions"
   ]
  },
  {
   "cell_type": "code",
   "execution_count": 1,
   "id": "6dd43ed6",
   "metadata": {},
   "outputs": [
    {
     "name": "stderr",
     "output_type": "stream",
     "text": [
      "2023-06-06 14:24:48.991767: I tensorflow/core/platform/cpu_feature_guard.cc:193] This TensorFlow binary is optimized with oneAPI Deep Neural Network Library (oneDNN) to use the following CPU instructions in performance-critical operations:  AVX2 FMA\n",
      "To enable them in other operations, rebuild TensorFlow with the appropriate compiler flags.\n",
      "2023-06-06 14:24:49.552803: W tensorflow/compiler/xla/stream_executor/platform/default/dso_loader.cc:64] Could not load dynamic library 'libnvinfer.so.7'; dlerror: libnvinfer.so.7: cannot open shared object file: No such file or directory; LD_LIBRARY_PATH: /home/ferroelectric/micromamba/envs/m3-RHEED/lib/python3.10/site-packages/cv2/../../lib64:\n",
      "2023-06-06 14:24:49.552857: W tensorflow/compiler/xla/stream_executor/platform/default/dso_loader.cc:64] Could not load dynamic library 'libnvinfer_plugin.so.7'; dlerror: libnvinfer_plugin.so.7: cannot open shared object file: No such file or directory; LD_LIBRARY_PATH: /home/ferroelectric/micromamba/envs/m3-RHEED/lib/python3.10/site-packages/cv2/../../lib64:\n",
      "2023-06-06 14:24:49.552862: W tensorflow/compiler/tf2tensorrt/utils/py_utils.cc:38] TF-TRT Warning: Cannot dlopen some TensorRT libraries. If you would like to use Nvidia GPU with TensorRT, please make sure the missing libraries mentioned above are installed properly.\n"
     ]
    },
    {
     "name": "stdout",
     "output_type": "stream",
     "text": [
      "printing set for seaborn\n",
      "Pytorch seed was set to 42\n",
      "Numpy seed was set to 42\n",
      "tensorflow seed was set to 42\n"
     ]
    }
   ],
   "source": [
    "%load_ext autoreload\n",
    "%autoreload 2\n",
    "%matplotlib inline\n",
    "\n",
    "import sys\n",
    "sys.path.append('../../src/')\n",
    "\n",
    "import os\n",
    "import re\n",
    "import numpy as np\n",
    "import matplotlib.pyplot as plt\n",
    "\n",
    "from m3_learning.nn.random import random_seed\n",
    "from m3_learning.viz.style import set_style\n",
    "from m3_learning.util.file_IO import download_and_unzip\n",
    "from m3_learning.viz.printing import printer\n",
    "from m3_learning.RHEED.Dataset import RHEED_spot_Dataset, RHEED_parameter_dataset\n",
    "from m3_learning.RHEED.Viz import Viz\n",
    "from m3_learning.RHEED.Fit import RHEED_image_processer, Gaussian\n",
    "\n",
    "printing_image = printer(basepath = 'Figures/1.Fit_RHEED_spot/')\n",
    "printing_plot = printer(basepath = 'Figures/1.Fit_RHEED_spot/', fileformats=['png'])\n",
    "\n",
    "set_style(\"printing\")\n",
    "random_seed(seed=42)"
   ]
  },
  {
   "attachments": {},
   "cell_type": "markdown",
   "id": "386ca468",
   "metadata": {},
   "source": [
    "## 1. Download datasets from Zenodo"
   ]
  },
  {
   "cell_type": "code",
   "execution_count": 6,
   "id": "95e16ae6",
   "metadata": {},
   "outputs": [
    {
     "name": "stdout",
     "output_type": "stream",
     "text": [
      "Using files already downloaded\n",
      "downloading data\n",
      "...2%, 920 MB, 4751 KB/s, 198 seconds passed"
     ]
    }
   ],
   "source": [
    "# Download the data file from Zenodo\n",
    "download=True\n",
    "if download:\n",
    "    # full size version\n",
    "    urls = ['https://zenodo.org/record/7950043/files/STO_STO_test6_06292022-standard.h5?download=1',\n",
    "            'https://zenodo.org/record/7950043/files/STO_STO_test7_06292022-standard.h5?download=1',\n",
    "            'https://zenodo.org/record/7950043/files/STO_STO_test9_07142022-standard.h5?download=1',\n",
    "            'https://zenodo.org/record/7950043/files/test6_gaussian_fit_parameters_all-04232023.h5?download=1',\n",
    "            'https://zenodo.org/record/7950043/files/test7_gaussian_fit_parameters_all-04232023.h5?download=1',\n",
    "            'https://zenodo.org/record/7950043/files/test9_gaussian_fit_parameters_all-04232023.h5?download=1']\n",
    "\n",
    "    # compressed version\n",
    "    urls_compressed = ['https://zenodo.org/record/7948591/files/STO_STO_test6_06292022-standard-compressed.h5?download=1',\n",
    "                        'https://zenodo.org/record/7948591/files/STO_STO_test7_06292022-standard-compressed.h5?download=1',\n",
    "                        'https://zenodo.org/record/7948591/files/STO_STO_test9_07142022-standard-compressed.h5?download=1',\n",
    "                        'https://zenodo.org/record/7948591/files/test6_gaussian_fit_parameters_all-04232023-compressed.h5?download=1',\n",
    "                        'https://zenodo.org/record/7948591/files/test7_gaussian_fit_parameters_all-04232023-compressed.h5?download=1',\n",
    "                        'https://zenodo.org/record/7948591/files/test9_gaussian_fit_parameters_all-04232023-compressed.h5?download=1']   \n",
    "\n",
    "    for url in urls:\n",
    "        # Specify the filename and the path to save the file\n",
    "        filename = re.split(r'\\?', os.path.basename(url))[0]\n",
    "        save_path = './../2023_RHEED_PLD_SrTiO3/Datasets/'\n",
    "\n",
    "        # download the file\n",
    "        download_and_unzip(filename, url, save_path)"
   ]
  },
  {
   "attachments": {},
   "cell_type": "markdown",
   "id": "e110235c",
   "metadata": {},
   "source": [
    "## 2. Fitting the RHEED Dataset"
   ]
  },
  {
   "attachments": {},
   "cell_type": "markdown",
   "id": "f0a3087d",
   "metadata": {},
   "source": [
    "### 2.1 Sample treated_213nm"
   ]
  },
  {
   "attachments": {},
   "cell_type": "markdown",
   "id": "437d698f",
   "metadata": {},
   "source": [
    "#### 2.1.1 Loading the Dataset"
   ]
  },
  {
   "cell_type": "code",
   "execution_count": null,
   "id": "c32bcfeb",
   "metadata": {
    "scrolled": true
   },
   "outputs": [],
   "source": [
    "path = './Datasets/STO_STO_test6_06292022-standard.h5'\n",
    "D1_spot = RHEED_spot_Dataset(path, sample_name='treated_213nm')\n",
    "D1_spot.data_info"
   ]
  },
  {
   "attachments": {},
   "cell_type": "markdown",
   "id": "79b8dd1a",
   "metadata": {},
   "source": [
    "#### 2.1.2 Locate the diffraction spots"
   ]
  },
  {
   "cell_type": "code",
   "execution_count": null,
   "id": "f1aafa28",
   "metadata": {},
   "outputs": [],
   "source": [
    "D1_spot.viz_RHEED_spot(growth='growth_2', index=0, figsize=(2,4), filename=True, printing=printing_image)"
   ]
  },
  {
   "attachments": {},
   "cell_type": "markdown",
   "id": "3d7aa751",
   "metadata": {},
   "source": [
    "#### 2.1.3 Visualize an example"
   ]
  },
  {
   "cell_type": "code",
   "execution_count": null,
   "id": "bd210631",
   "metadata": {},
   "outputs": [],
   "source": [
    "crop_dict = {'spot_1': [40, 80, 100, 160], \n",
    "             'spot_2': [137, 166, 147, 195], \n",
    "             'spot_3': [230, 262, 115, 180]}\n",
    "\n",
    "fit_function = Gaussian().recreate_gaussian\n",
    "processor = RHEED_image_processer(D1_spot, crop_dict, fit_function)\n",
    "img, img_rec, parameters = processor.visualize(growth='growth_1', spot='spot_1', frame=0)"
   ]
  },
  {
   "cell_type": "code",
   "execution_count": null,
   "id": "d01bee7a",
   "metadata": {},
   "outputs": [],
   "source": [
    "img, img_rec, parameters = processor.visualize(growth='growth_12', spot='spot_1', frame=0)"
   ]
  },
  {
   "cell_type": "code",
   "execution_count": null,
   "id": "2faaa342",
   "metadata": {},
   "outputs": [],
   "source": [
    "img, img_rec, parameters = processor.visualize(growth='growth_1', spot='spot_2', frame=0)"
   ]
  },
  {
   "cell_type": "code",
   "execution_count": null,
   "id": "0a22addd",
   "metadata": {},
   "outputs": [],
   "source": [
    "img, img_rec, parameters = processor.visualize(growth='growth_12', spot='spot_2', frame=0)"
   ]
  },
  {
   "cell_type": "code",
   "execution_count": null,
   "id": "c73186c1",
   "metadata": {},
   "outputs": [],
   "source": [
    "img, img_rec, parameters = processor.visualize(growth='growth_1', spot='spot_3', frame=0)"
   ]
  },
  {
   "cell_type": "code",
   "execution_count": null,
   "id": "95f6dabe",
   "metadata": {},
   "outputs": [],
   "source": [
    "img, img_rec, parameters = processor.visualize(growth='growth_12', spot='spot_3', frame=0)"
   ]
  },
  {
   "attachments": {},
   "cell_type": "markdown",
   "id": "9a582cb0",
   "metadata": {},
   "source": [
    "#### 2.1.4 Exam the dataset"
   ]
  },
  {
   "cell_type": "code",
   "execution_count": null,
   "id": "2add7bef",
   "metadata": {},
   "outputs": [],
   "source": [
    "path = './Datasets/test6_gaussian_fit_parameters_all-04232023.h5'\n",
    "D1_para = RHEED_parameter_dataset(path, camera_freq=500, sample_name='treated_213nm')\n",
    "# D1_para.data_info   "
   ]
  },
  {
   "cell_type": "code",
   "execution_count": null,
   "id": "48d8c8e8",
   "metadata": {},
   "outputs": [],
   "source": [
    "D1_para.viz_RHEED_parameter(growth='growth_2', spot='spot_2', index=10000, filename = True, printing=printing_image)"
   ]
  },
  {
   "cell_type": "code",
   "execution_count": null,
   "id": "9084ea60",
   "metadata": {},
   "outputs": [],
   "source": [
    "growth_list = ['growth_1', 'growth_2', 'growth_3', 'growth_4', 'growth_5', 'growth_6', \n",
    "               'growth_7', 'growth_8', 'growth_9', 'growth_10', 'growth_11', 'growth_12']\n",
    "D1_para.viz_RHEED_parameter_trend(growth_list, spot='spot_2', head_tail=(100,300), filename=True, printing=printing_plot)"
   ]
  },
  {
   "attachments": {},
   "cell_type": "markdown",
   "id": "dbf483cf",
   "metadata": {},
   "source": [
    "### 2.2 Sample treated_81nm"
   ]
  },
  {
   "attachments": {},
   "cell_type": "markdown",
   "id": "2a153f70",
   "metadata": {},
   "source": [
    "#### 2.2.1 Loading the Dataset"
   ]
  },
  {
   "cell_type": "code",
   "execution_count": null,
   "id": "25860988",
   "metadata": {},
   "outputs": [],
   "source": [
    "path = './Datasets/STO_STO_test7_06292022-standard.h5'\n",
    "D2_spot = RHEED_spot_Dataset(path, sample_name='treated_81nm')\n",
    "D2_spot.data_info"
   ]
  },
  {
   "attachments": {},
   "cell_type": "markdown",
   "id": "abd10e97",
   "metadata": {},
   "source": [
    "#### 2.2.2 Locate the diffraction spots"
   ]
  },
  {
   "cell_type": "code",
   "execution_count": null,
   "id": "60bb8863",
   "metadata": {},
   "outputs": [],
   "source": [
    "D2_spot.viz_RHEED_spot(growth='growth_2', index=10, figsize=(2,3), filename=True, printing=printing_image)"
   ]
  },
  {
   "attachments": {},
   "cell_type": "markdown",
   "id": "db4a70ec",
   "metadata": {},
   "source": [
    "#### 2.2.3 Visualize an example"
   ]
  },
  {
   "cell_type": "code",
   "execution_count": null,
   "id": "373b3aaf",
   "metadata": {},
   "outputs": [],
   "source": [
    "crop_dict = {'spot_1': [50, 80, 340, 450], 'spot_2': [143, 165, 415, 455], 'spot_3': [220, 260, 340, 450]}\n",
    "fit_function = Gaussian().recreate_gaussian\n",
    "processor = RHEED_image_processer(D2_spot, crop_dict, fit_function)\n",
    "img, img_rec, parameters = processor.visualize(growth='growth_1', spot='spot_1', frame=1000)"
   ]
  },
  {
   "cell_type": "code",
   "execution_count": null,
   "id": "625af371",
   "metadata": {},
   "outputs": [],
   "source": [
    "img, img_rec, parameters = processor.visualize(growth='growth_12', spot='spot_1', frame=1000)"
   ]
  },
  {
   "cell_type": "code",
   "execution_count": null,
   "id": "15a5034a",
   "metadata": {},
   "outputs": [],
   "source": [
    "img, img_rec, parameters = processor.visualize(growth='growth_1', spot='spot_2', frame=1000)"
   ]
  },
  {
   "cell_type": "code",
   "execution_count": null,
   "id": "1da7e029",
   "metadata": {},
   "outputs": [],
   "source": [
    "img, img_rec, parameters = processor.visualize(growth='growth_12', spot='spot_2', frame=1000)"
   ]
  },
  {
   "cell_type": "code",
   "execution_count": null,
   "id": "66848880",
   "metadata": {},
   "outputs": [],
   "source": [
    "img, img_rec, parameters = processor.visualize(growth='growth_1', spot='spot_3', frame=1000)"
   ]
  },
  {
   "cell_type": "code",
   "execution_count": null,
   "id": "fa508090",
   "metadata": {},
   "outputs": [],
   "source": [
    "img, img_rec, parameters = processor.visualize(growth='growth_12', spot='spot_3', frame=1000)"
   ]
  },
  {
   "attachments": {},
   "cell_type": "markdown",
   "id": "7d127be8",
   "metadata": {},
   "source": [
    "#### 2.2.4 Exam the dataset"
   ]
  },
  {
   "cell_type": "code",
   "execution_count": null,
   "id": "7bd904ea",
   "metadata": {},
   "outputs": [],
   "source": [
    "path = './Datasets/test7_gaussian_fit_parameters_all-04232023.h5'\n",
    "D2_para = RHEED_parameter_dataset(path, camera_freq=500, sample_name='treated_81nm')\n",
    "# D2_para.data_info"
   ]
  },
  {
   "cell_type": "code",
   "execution_count": null,
   "id": "791fcf4e",
   "metadata": {},
   "outputs": [],
   "source": [
    "D2_para.viz_RHEED_parameter(growth='growth_2', spot='spot_2', index=10000, filename=True, printing=printing_image)"
   ]
  },
  {
   "cell_type": "code",
   "execution_count": null,
   "id": "b59b74d0",
   "metadata": {},
   "outputs": [],
   "source": [
    "growth_list = ['growth_1', 'growth_2', 'growth_3', 'growth_4', 'growth_5', 'growth_6', 'growth_7', 'growth_8', 'growth_9', 'growth_10', 'growth_11', 'growth_12']\n",
    "D2_para.viz_RHEED_parameter_trend(growth_list, spot='spot_2', filename=True, printing=printing_plot)"
   ]
  },
  {
   "attachments": {},
   "cell_type": "markdown",
   "id": "63ed33b3",
   "metadata": {},
   "source": [
    "### 2.3 Sample untreated_162nm"
   ]
  },
  {
   "attachments": {},
   "cell_type": "markdown",
   "id": "b88091d1",
   "metadata": {},
   "source": [
    "#### 2.3.1 Loading the Dataset"
   ]
  },
  {
   "cell_type": "code",
   "execution_count": null,
   "id": "232ad71d",
   "metadata": {},
   "outputs": [],
   "source": [
    "path = './Datasets/STO_STO_test9_07142022-standard.h5'\n",
    "D3_spot = RHEED_spot_Dataset(path, sample_name='untreated_162nm')\n",
    "# D3_spot.data_info"
   ]
  },
  {
   "attachments": {},
   "cell_type": "markdown",
   "id": "bec58a71",
   "metadata": {},
   "source": [
    "#### 2.3.2 Locate the diffraction spots"
   ]
  },
  {
   "cell_type": "code",
   "execution_count": null,
   "id": "d18cb426",
   "metadata": {},
   "outputs": [],
   "source": [
    "D3_spot.viz_RHEED_spot(growth='growth_2', index=0, figsize=(2,4),  filename=True, printing=printing_image)"
   ]
  },
  {
   "attachments": {},
   "cell_type": "markdown",
   "id": "1961351c",
   "metadata": {},
   "source": [
    "#### 2.3.3 Visualize an example"
   ]
  },
  {
   "cell_type": "code",
   "execution_count": null,
   "id": "d15232d5",
   "metadata": {},
   "outputs": [],
   "source": [
    "# sets where to crop the image to extact the peaks\n",
    "crop_dict = {'spot_1': [50, 72, 100, 150], 'spot_2': [143, 162, 150, 190], 'spot_3': [218, 262, 100, 165]}\n",
    "fit_function = Gaussian().recreate_gaussian\n",
    "processor = RHEED_image_processer(D3_spot, crop_dict, fit_function)"
   ]
  },
  {
   "cell_type": "code",
   "execution_count": null,
   "id": "afa5c684",
   "metadata": {},
   "outputs": [],
   "source": [
    "img, img_rec, parameters = processor.visualize(growth='growth_1', spot='spot_1', frame=1000)"
   ]
  },
  {
   "cell_type": "code",
   "execution_count": null,
   "id": "a270c64e",
   "metadata": {},
   "outputs": [],
   "source": [
    "img, img_rec, parameters = processor.visualize(growth='growth_18', spot='spot_1', frame=1000)"
   ]
  },
  {
   "cell_type": "code",
   "execution_count": null,
   "id": "4c7ce823",
   "metadata": {},
   "outputs": [],
   "source": [
    "img, img_rec, parameters = processor.visualize(growth='growth_1', spot='spot_2', frame=1000)"
   ]
  },
  {
   "cell_type": "code",
   "execution_count": null,
   "id": "e1eaf5b3",
   "metadata": {},
   "outputs": [],
   "source": [
    "img, img_rec, parameters = processor.visualize(growth='growth_18', spot='spot_2', frame=1000)"
   ]
  },
  {
   "cell_type": "code",
   "execution_count": null,
   "id": "29e64051",
   "metadata": {},
   "outputs": [],
   "source": [
    "img, img_rec, parameters = processor.visualize(growth='growth_1', spot='spot_3', frame=1000)"
   ]
  },
  {
   "cell_type": "code",
   "execution_count": null,
   "id": "e0167c30",
   "metadata": {},
   "outputs": [],
   "source": [
    "img, img_rec, parameters = processor.visualize(growth='growth_18', spot='spot_3', frame=1000)"
   ]
  },
  {
   "attachments": {},
   "cell_type": "markdown",
   "id": "0981d2c0",
   "metadata": {},
   "source": [
    "#### 2.3.4 Examine the dataset"
   ]
  },
  {
   "cell_type": "code",
   "execution_count": null,
   "id": "5849aed2",
   "metadata": {},
   "outputs": [],
   "source": [
    "path = './Datasets/test9_gaussian_fit_parameters_all-04232023.h5'\n",
    "D3_para = RHEED_parameter_dataset(path, camera_freq=500, sample_name='untreated_162nm')\n",
    "D3_para.data_info"
   ]
  },
  {
   "cell_type": "code",
   "execution_count": null,
   "id": "f5090754",
   "metadata": {},
   "outputs": [],
   "source": [
    "D3_para.viz_RHEED_parameter(growth='growth_2', spot='spot_2', index=100, filename=True, printing=printing_image)"
   ]
  },
  {
   "cell_type": "code",
   "execution_count": null,
   "id": "fe212454",
   "metadata": {},
   "outputs": [],
   "source": [
    "growth_list = ['growth_1', 'growth_2', 'growth_3', 'growth_4', 'growth_5', 'growth_6', 'growth_7', 'growth_8', 'growth_9', \n",
    "               'growth_10', 'growth_11', 'growth_12' , 'growth_13', 'growth_14', 'growth_15', 'growth_16', 'growth_17', 'growth_18']\n",
    "D3_para.viz_RHEED_parameter_trend(growth_list, spot='spot_2', filename=True, printing=printing_plot)"
   ]
  },
  {
   "cell_type": "code",
   "execution_count": null,
   "id": "d213799f",
   "metadata": {},
   "outputs": [],
   "source": []
  }
 ],
 "metadata": {
  "kernelspec": {
   "display_name": "m3",
   "language": "python",
   "name": "python3"
  },
  "language_info": {
   "codemirror_mode": {
    "name": "ipython",
    "version": 3
   },
   "file_extension": ".py",
   "mimetype": "text/x-python",
   "name": "python",
   "nbconvert_exporter": "python",
   "pygments_lexer": "ipython3",
   "version": "3.10.0"
  }
 },
 "nbformat": 4,
 "nbformat_minor": 5
}
