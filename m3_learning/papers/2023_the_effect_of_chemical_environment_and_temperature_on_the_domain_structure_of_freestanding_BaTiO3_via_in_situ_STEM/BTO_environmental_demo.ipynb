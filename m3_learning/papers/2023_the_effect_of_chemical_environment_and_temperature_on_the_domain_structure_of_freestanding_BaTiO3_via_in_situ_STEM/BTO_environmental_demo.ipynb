{
 "cells": [
  {
   "cell_type": "code",
   "execution_count": 1,
   "metadata": {},
   "outputs": [],
   "source": [
    "import sys\n",
    "import matplotlib.pyplot as plt\n",
    "sys.path.append('../../')\n",
    "sys.path.append(\"/home/xinqiao/m3_learning/m3_learning/src\")"
   ]
  },
  {
   "cell_type": "code",
   "execution_count": 2,
   "metadata": {},
   "outputs": [],
   "source": [
    "# For the notebook to work you must have m3_learning installed\n",
    "# pip install m3_learning\n",
    "%load_ext autoreload\n",
    "%autoreload 2 "
   ]
  },
  {
   "cell_type": "code",
   "execution_count": 57,
   "metadata": {},
   "outputs": [
    {
     "name": "stdout",
     "output_type": "stream",
     "text": [
      "printing set for seaborn\n"
     ]
    }
   ],
   "source": [
    "from m3_learning.viz.printing import printer\n",
    "from m3_learning.viz.style import set_style\n",
    "from m3_learning.nn.Bright_Field_NN.Dataset import Bright_Field_Dataset\n",
    "from m3_learning.nn.Bright_Field_NN.Viz import Viz\n",
    "from m3_learning.viz.layout import layout_fig, labelfigs\n",
    "\n",
    "# Specify the filename and the path to save the file\n",
    "save_path = './../../../Data/2023_Bright_Field'\n",
    "fig_path = save_path.replace(\"Data\", \"Figures\") + '/'\n",
    "\n",
    "# builds the printer object\n",
    "printing = printer(basepath=fig_path)\n",
    "\n",
    "# Set the style of the plots\n",
    "set_style(\"printing\")"
   ]
  },
  {
   "cell_type": "code",
   "execution_count": 58,
   "metadata": {},
   "outputs": [
    {
     "name": "stdout",
     "output_type": "stream",
     "text": [
      "number of images:  43\n"
     ]
    }
   ],
   "source": [
    "dset = Bright_Field_Dataset('/home/xinqiao/m3_learning/Data/2023_Bright_Field/Annealed','Annealed_results',verbose=True)\n",
    "\n",
    "# dset.write_h5(200,300,1400,name='Anneal')"
   ]
  },
  {
   "cell_type": "code",
   "execution_count": 59,
   "metadata": {},
   "outputs": [
    {
     "name": "stdout",
     "output_type": "stream",
     "text": [
      "['Ramp_Up 23',\n",
      " 'Ramp_Up 30',\n",
      " 'Ramp_Up 40',\n",
      " 'Ramp_Up 50',\n",
      " 'Ramp_Up 60',\n",
      " 'Ramp_Up 70',\n",
      " 'Ramp_Up 80',\n",
      " 'Ramp_Up 90',\n",
      " 'Ramp_Up 100',\n",
      " 'Ramp_Up 110',\n",
      " 'Ramp_Up 120',\n",
      " 'Ramp_Up 130',\n",
      " 'Ramp_Up 140',\n",
      " 'Ramp_Up 150',\n",
      " 'Ramp_Up 160',\n",
      " 'Ramp_Up 170',\n",
      " 'Ramp_Up 180',\n",
      " 'Ramp_Up 190',\n",
      " 'Ramp_Up 200',\n",
      " 'Ramp_Up 210',\n",
      " 'Ramp_Up 220',\n",
      " 'Ramp_Up 250',\n",
      " 'Ramp_Down 220',\n",
      " 'Ramp_Down 210',\n",
      " 'Ramp_Down 200',\n",
      " 'Ramp_Down 190',\n",
      " 'Ramp_Down 180',\n",
      " 'Ramp_Down 170',\n",
      " 'Ramp_Down 160',\n",
      " 'Ramp_Down 150',\n",
      " 'Ramp_Down 140',\n",
      " 'Ramp_Down 130',\n",
      " 'Ramp_Down 120',\n",
      " 'Ramp_Down 110',\n",
      " 'Ramp_Down 100',\n",
      " 'Ramp_Down 90',\n",
      " 'Ramp_Down 80',\n",
      " 'Ramp_Down 70',\n",
      " 'Ramp_Down 60',\n",
      " 'Ramp_Down 50',\n",
      " 'Ramp_Down 40',\n",
      " 'Ramp_Down 30',\n",
      " 'Ramp_Down 20']\n"
     ]
    }
   ],
   "source": [
    "dset.list_imgs()"
   ]
  },
  {
   "cell_type": "code",
   "execution_count": 60,
   "metadata": {},
   "outputs": [
    {
     "data": {
      "image/png": "[encoded data removed]",
      "text/plain": [
       "<Figure size 125x125 with 2 Axes>"
      ]
     },
     "metadata": {},
     "output_type": "display_data"
    }
   ],
   "source": [
    "im = dset.get_img('Down',\"50\")\n",
    "plt.imshow(im)\n",
    "plt.show()"
   ]
  },
  {
   "cell_type": "code",
   "execution_count": 61,
   "metadata": {},
   "outputs": [
    {
     "data": {
      "text/plain": [
       "numpy.ndarray"
      ]
     },
     "execution_count": 61,
     "metadata": {},
     "output_type": "execute_result"
    }
   ],
   "source": [
    "type(im)"
   ]
  },
  {
   "cell_type": "code",
   "execution_count": 62,
   "metadata": {},
   "outputs": [],
   "source": [
    "viz = Viz(dset,printer=printing)"
   ]
  },
  {
   "cell_type": "code",
   "execution_count": 63,
   "metadata": {},
   "outputs": [],
   "source": [
    "viz.scalebar_ = {\"width\": 273.4, \"scale length\": 50, \"units\": \"nm\"}"
   ]
  },
  {
   "cell_type": "code",
   "execution_count": 64,
   "metadata": {},
   "outputs": [
    {
     "name": "stdout",
     "output_type": "stream",
     "text": [
      "./../../../Figures/2023_Bright_Field/Up_23_maps.png\n",
      "./../../../Figures/2023_Bright_Field/Up_23_maps.svg\n"
     ]
    }
   ],
   "source": [
    "img_name = ['Up','23']\n",
    "viz.view_raw(img_name)"
   ]
  },
  {
   "cell_type": "code",
   "execution_count": null,
   "metadata": {},
   "outputs": [],
   "source": []
  },
  {
   "cell_type": "code",
   "execution_count": null,
   "metadata": {},
   "outputs": [],
   "source": []
  }
 ],
 "metadata": {
  "kernelspec": {
   "display_name": "m3",
   "language": "python",
   "name": "python3"
  },
  "language_info": {
   "codemirror_mode": {
    "name": "ipython",
    "version": 3
   },
   "file_extension": ".py",
   "mimetype": "text/x-python",
   "name": "python",
   "nbconvert_exporter": "python",
   "pygments_lexer": "ipython3",
   "version": "3.9.0"
  },
  "orig_nbformat": 4
 },
 "nbformat": 4,
 "nbformat_minor": 2
}
