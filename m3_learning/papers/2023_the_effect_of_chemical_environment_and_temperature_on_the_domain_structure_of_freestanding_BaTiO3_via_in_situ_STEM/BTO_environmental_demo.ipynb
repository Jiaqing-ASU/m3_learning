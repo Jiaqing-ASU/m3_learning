{
 "cells": [
  {
   "cell_type": "code",
   "execution_count": 1,
   "metadata": {},
   "outputs": [],
   "source": [
    "import sys\n",
    "import matplotlib.pyplot as plt\n",
    "sys.path.append('../../')\n",
    "sys.path.append(\"/home/xinqiao/m3_learning/m3_learning/src\")"
   ]
  },
  {
   "cell_type": "code",
   "execution_count": 2,
   "metadata": {},
   "outputs": [],
   "source": [
    "# For the notebook to work you must have m3_learning installed\n",
    "# pip install m3_learning\n",
    "%load_ext autoreload\n",
    "%autoreload 2 "
   ]
  },
  {
   "cell_type": "code",
   "execution_count": 3,
   "metadata": {},
   "outputs": [
    {
     "name": "stderr",
     "output_type": "stream",
     "text": [
      "2023-04-23 19:04:48.843304: I tensorflow/core/platform/cpu_feature_guard.cc:193] This TensorFlow binary is optimized with oneAPI Deep Neural Network Library (oneDNN) to use the following CPU instructions in performance-critical operations:  AVX2 AVX512F FMA\n",
      "To enable them in other operations, rebuild TensorFlow with the appropriate compiler flags.\n",
      "2023-04-23 19:04:48.986674: E tensorflow/stream_executor/cuda/cuda_blas.cc:2981] Unable to register cuBLAS factory: Attempting to register factory for plugin cuBLAS when one has already been registered\n",
      "2023-04-23 19:04:49.530414: W tensorflow/stream_executor/platform/default/dso_loader.cc:64] Could not load dynamic library 'libnvinfer.so.7'; dlerror: libnvinfer.so.7: cannot open shared object file: No such file or directory; LD_LIBRARY_PATH: /home/xinqiao/anaconda3/envs/m3/lib/python3.9/site-packages/cv2/../../lib64:\n",
      "2023-04-23 19:04:49.530478: W tensorflow/stream_executor/platform/default/dso_loader.cc:64] Could not load dynamic library 'libnvinfer_plugin.so.7'; dlerror: libnvinfer_plugin.so.7: cannot open shared object file: No such file or directory; LD_LIBRARY_PATH: /home/xinqiao/anaconda3/envs/m3/lib/python3.9/site-packages/cv2/../../lib64:\n",
      "2023-04-23 19:04:49.530484: W tensorflow/compiler/tf2tensorrt/utils/py_utils.cc:38] TF-TRT Warning: Cannot dlopen some TensorRT libraries. If you would like to use Nvidia GPU with TensorRT, please make sure the missing libraries mentioned above are installed properly.\n"
     ]
    },
    {
     "name": "stdout",
     "output_type": "stream",
     "text": [
      "printing set for seaborn\n"
     ]
    }
   ],
   "source": [
    "from m3_learning.viz.printing import printer\n",
    "from m3_learning.viz.style import set_style\n",
    "from m3_learning.nn.Bright_Field_NN.Dataset import Bright_Field_Dataset\n",
    "from m3_learning.nn.Bright_Field_NN.Viz import Viz\n",
    "from m3_learning.viz.layout import layout_fig, labelfigs\n",
    "\n",
    "# Specify the filename and the path to save the file\n",
    "save_path = './../../../Data/2023_Bright_Field'\n",
    "fig_path = save_path.replace(\"Data\", \"Figures\") + '/'\n",
    "\n",
    "# builds the printer object\n",
    "printing = printer(basepath=fig_path)\n",
    "\n",
    "# Set the style of the plots\n",
    "set_style(\"printing\")"
   ]
  },
  {
   "cell_type": "code",
   "execution_count": 58,
   "metadata": {},
   "outputs": [
    {
     "name": "stdout",
     "output_type": "stream",
     "text": [
      "number of images:  43\n"
     ]
    }
   ],
   "source": [
    "# defines Dataset object using images from specified folder\n",
    "dset = Bright_Field_Dataset('/home/xinqiao/m3_learning/Data/2023_Bright_Field/Annealed','Annealed_results',verbose=True)\n",
    "\n",
    "# list  paths to image data\n",
    "dset.list_imgs()"
   ]
  },
  {
   "cell_type": "code",
   "execution_count": null,
   "metadata": {},
   "outputs": [],
   "source": [
    "# extract array of image at rampdown, 50 deg celsius\n",
    "im = dset.get_img('Down',\"50\")\n",
    "plt.imshow(im)\n",
    "plt.show()"
   ]
  },
  {
   "cell_type": "code",
   "execution_count": null,
   "metadata": {},
   "outputs": [],
   "source": [
    "# # Write image data to h5 file\n",
    "# dset.write_h5(200,300,1400,name='Anneal')"
   ]
  },
  {
   "attachments": {},
   "cell_type": "markdown",
   "metadata": {},
   "source": [
    "## Visualization"
   ]
  },
  {
   "cell_type": "code",
   "execution_count": 62,
   "metadata": {},
   "outputs": [],
   "source": [
    "# create vizualizer object\n",
    "viz = Viz(dset,printer=printing)\n",
    "\n",
    "# add scalebar\n",
    "viz.scalebar_ = {\"width\": 273.4, \"scale length\": 50, \"units\": \"nm\"}\n",
    "\n",
    "# view raw image\n",
    "img_name = ['Up','23']\n",
    "viz.view_raw(img_name)"
   ]
  },
  {
   "cell_type": "code",
   "execution_count": null,
   "metadata": {},
   "outputs": [],
   "source": []
  },
  {
   "cell_type": "code",
   "execution_count": null,
   "metadata": {},
   "outputs": [],
   "source": []
  }
 ],
 "metadata": {
  "kernelspec": {
   "display_name": "m3",
   "language": "python",
   "name": "python3"
  },
  "language_info": {
   "codemirror_mode": {
    "name": "ipython",
    "version": 3
   },
   "file_extension": ".py",
   "mimetype": "text/x-python",
   "name": "python",
   "nbconvert_exporter": "python",
   "pygments_lexer": "ipython3",
   "version": "3.9.0"
  },
  "orig_nbformat": 4
 },
 "nbformat": 4,
 "nbformat_minor": 2
}
