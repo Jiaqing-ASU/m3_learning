{
 "cells": [
  {
   "attachments": {},
   "cell_type": "markdown",
   "metadata": {},
   "source": [
    "# 2. SHO Fitting in Pytorch\n"
   ]
  },
  {
   "cell_type": "code",
   "execution_count": 1,
   "metadata": {},
   "outputs": [],
   "source": [
    "import sys\n",
    "\n",
    "sys.path.append(\"../../\")\n",
    "sys.path.append(\"/home/ferroelectric/m3_learning/m3_learning/src\")"
   ]
  },
  {
   "cell_type": "code",
   "execution_count": 2,
   "metadata": {},
   "outputs": [
    {
     "name": "stderr",
     "output_type": "stream",
     "text": [
      "2023-05-08 09:40:59.409010: I tensorflow/core/platform/cpu_feature_guard.cc:193] This TensorFlow binary is optimized with oneAPI Deep Neural Network Library (oneDNN) to use the following CPU instructions in performance-critical operations:  AVX2 FMA\n",
      "To enable them in other operations, rebuild TensorFlow with the appropriate compiler flags.\n",
      "2023-05-08 09:40:59.526611: E tensorflow/stream_executor/cuda/cuda_blas.cc:2981] Unable to register cuBLAS factory: Attempting to register factory for plugin cuBLAS when one has already been registered\n",
      "2023-05-08 09:40:59.948530: W tensorflow/stream_executor/platform/default/dso_loader.cc:64] Could not load dynamic library 'libnvinfer.so.7'; dlerror: libnvinfer.so.7: cannot open shared object file: No such file or directory; LD_LIBRARY_PATH: /home/ferroelectric/anaconda3/envs/rapidfitting/lib/python3.9/site-packages/cv2/../../lib64:\n",
      "2023-05-08 09:40:59.948580: W tensorflow/stream_executor/platform/default/dso_loader.cc:64] Could not load dynamic library 'libnvinfer_plugin.so.7'; dlerror: libnvinfer_plugin.so.7: cannot open shared object file: No such file or directory; LD_LIBRARY_PATH: /home/ferroelectric/anaconda3/envs/rapidfitting/lib/python3.9/site-packages/cv2/../../lib64:\n",
      "2023-05-08 09:40:59.948585: W tensorflow/compiler/tf2tensorrt/utils/py_utils.cc:38] TF-TRT Warning: Cannot dlopen some TensorRT libraries. If you would like to use Nvidia GPU with TensorRT, please make sure the missing libraries mentioned above are installed properly.\n"
     ]
    },
    {
     "name": "stdout",
     "output_type": "stream",
     "text": [
      "printing set for seaborn\n",
      "Pytorch seed was set to 42\n",
      "Numpy seed was set to 42\n",
      "tensorflow seed was set to 42\n"
     ]
    }
   ],
   "source": [
    "%load_ext autoreload\n",
    "%autoreload 2\n",
    "\n",
    "import numpy as np\n",
    "\n",
    "from m3_learning.nn.random import random_seed\n",
    "from m3_learning.viz.style import set_style\n",
    "from m3_learning.viz.printing import printer\n",
    "from m3_learning.be.viz import Viz\n",
    "from m3_learning.be.dataset import BE_Dataset\n",
    "from m3_learning.nn.Regularization.Regularizers import NegValLoss\n",
    "# from m3_learning.be.nn import SHO_Model, SHO_NN_Model, SHO_fit_func_nn\n",
    "\n",
    "# from m3_learning.be.dataset import BE_Dataset\n",
    "printing = printer(basepath = './../../../Figures/2023_rapid_fitting/')\n",
    "\n",
    "\n",
    "set_style(\"printing\")\n",
    "random_seed(seed=42)\n",
    "\n",
    "%matplotlib inline\n",
    "\n",
    "# import matplotlib.pyplot as plt\n",
    "# import numpy as np\n",
    "\n",
    "# import torch\n",
    "# import torch.nn as nn\n",
    "# from torch.utils.data import DataLoader\n",
    "\n",
    "# from scipy.signal import resample\n",
    "# from sklearn.preprocessing import StandardScaler\n",
    "from sklearn.model_selection import train_test_split \n",
    "# from sklearn.metrics import mean_squared_error\n",
    "\n",
    "from m3_learning.optimizers.AdaHessian import AdaHessian\n",
    "# from m3_learning.nn.SHO_fitter.SHO import SHO_fit_func_torch\n",
    "# from m3_learning.be.processing import convert_amp_phase, SHO_fit_to_array\n",
    "# from m3_learning.util.preprocessing import global_scaler\n",
    "# from m3_learning.nn.random import random_seed\n",
    "# from m3_learning.nn.benchmarks.inference import computeTime\n",
    "from m3_learning.util.file_IO import make_folder\n",
    "from m3_learning.be.nn import SHO_fit_func_nn, SHO_Model\n",
    "# from m3_learning.be.dataset import BE_Dataset\n",
    "# from m3_learning.viz.style import set_style\n",
    "\n",
    "# set_style(\"printing\")"
   ]
  },
  {
   "attachments": {},
   "cell_type": "markdown",
   "metadata": {},
   "source": [
    "## Loads Data\n"
   ]
  },
  {
   "cell_type": "code",
   "execution_count": 3,
   "metadata": {},
   "outputs": [
    {
     "name": "stdout",
     "output_type": "stream",
     "text": [
      "/\n",
      "├ Measurement_000\n",
      "  ---------------\n",
      "  ├ Channel_000\n",
      "    -----------\n",
      "    ├ Bin_FFT\n",
      "    ├ Bin_Frequencies\n",
      "    ├ Bin_Indices\n",
      "    ├ Bin_Step\n",
      "    ├ Bin_Wfm_Type\n",
      "    ├ Excitation_Waveform\n",
      "    ├ Noise_Floor\n",
      "    ├ Position_Indices\n",
      "    ├ Position_Values\n",
      "    ├ Raw_Data\n",
      "    ├ Raw_Data_Reshaped\n",
      "    ├ Spatially_Averaged_Plot_Group_000\n",
      "      ---------------------------------\n",
      "      ├ Bin_Frequencies\n",
      "      ├ Max_Response\n",
      "      ├ Mean_Spectrogram\n",
      "      ├ Min_Response\n",
      "      ├ Spectroscopic_Parameter\n",
      "      ├ Step_Averaged_Response\n",
      "    ├ Spatially_Averaged_Plot_Group_001\n",
      "      ---------------------------------\n",
      "      ├ Bin_Frequencies\n",
      "      ├ Max_Response\n",
      "      ├ Mean_Spectrogram\n",
      "      ├ Min_Response\n",
      "      ├ Spectroscopic_Parameter\n",
      "      ├ Step_Averaged_Response\n",
      "    ├ Spectroscopic_Indices\n",
      "    ├ Spectroscopic_Values\n",
      "    ├ UDVS\n",
      "    ├ UDVS_Indices\n",
      "    ├ raw_data_resampled\n",
      "├ Raw_Data-SHO_Fit_000\n",
      "  --------------------\n",
      "  ├ Fit\n",
      "  ├ Guess\n",
      "  ├ SHO_LSQF\n",
      "  ├ Spectroscopic_Indices\n",
      "  ├ Spectroscopic_Values\n",
      "  ├ completed_fit_positions\n",
      "  ├ completed_guess_positions\n",
      "Datasets and datagroups within the file:\n",
      "------------------------------------\n",
      "/\n",
      "/Measurement_000\n",
      "/Measurement_000/Channel_000\n",
      "/Measurement_000/Channel_000/Bin_FFT\n",
      "/Measurement_000/Channel_000/Bin_Frequencies\n",
      "/Measurement_000/Channel_000/Bin_Indices\n",
      "/Measurement_000/Channel_000/Bin_Step\n",
      "/Measurement_000/Channel_000/Bin_Wfm_Type\n",
      "/Measurement_000/Channel_000/Excitation_Waveform\n",
      "/Measurement_000/Channel_000/Noise_Floor\n",
      "/Measurement_000/Channel_000/Position_Indices\n",
      "/Measurement_000/Channel_000/Position_Values\n",
      "/Measurement_000/Channel_000/Raw_Data\n",
      "/Measurement_000/Channel_000/Raw_Data_Reshaped\n",
      "/Measurement_000/Channel_000/Spatially_Averaged_Plot_Group_000\n",
      "/Measurement_000/Channel_000/Spatially_Averaged_Plot_Group_000/Bin_Frequencies\n",
      "/Measurement_000/Channel_000/Spatially_Averaged_Plot_Group_000/Max_Response\n",
      "/Measurement_000/Channel_000/Spatially_Averaged_Plot_Group_000/Mean_Spectrogram\n",
      "/Measurement_000/Channel_000/Spatially_Averaged_Plot_Group_000/Min_Response\n",
      "/Measurement_000/Channel_000/Spatially_Averaged_Plot_Group_000/Spectroscopic_Parameter\n",
      "/Measurement_000/Channel_000/Spatially_Averaged_Plot_Group_000/Step_Averaged_Response\n",
      "/Measurement_000/Channel_000/Spatially_Averaged_Plot_Group_001\n",
      "/Measurement_000/Channel_000/Spatially_Averaged_Plot_Group_001/Bin_Frequencies\n",
      "/Measurement_000/Channel_000/Spatially_Averaged_Plot_Group_001/Max_Response\n",
      "/Measurement_000/Channel_000/Spatially_Averaged_Plot_Group_001/Mean_Spectrogram\n",
      "/Measurement_000/Channel_000/Spatially_Averaged_Plot_Group_001/Min_Response\n",
      "/Measurement_000/Channel_000/Spatially_Averaged_Plot_Group_001/Spectroscopic_Parameter\n",
      "/Measurement_000/Channel_000/Spatially_Averaged_Plot_Group_001/Step_Averaged_Response\n",
      "/Measurement_000/Channel_000/Spectroscopic_Indices\n",
      "/Measurement_000/Channel_000/Spectroscopic_Values\n",
      "/Measurement_000/Channel_000/UDVS\n",
      "/Measurement_000/Channel_000/UDVS_Indices\n",
      "/Measurement_000/Channel_000/raw_data_resampled\n",
      "/Raw_Data-SHO_Fit_000\n",
      "/Raw_Data-SHO_Fit_000/Fit\n",
      "/Raw_Data-SHO_Fit_000/Guess\n",
      "/Raw_Data-SHO_Fit_000/SHO_LSQF\n",
      "/Raw_Data-SHO_Fit_000/Spectroscopic_Indices\n",
      "/Raw_Data-SHO_Fit_000/Spectroscopic_Values\n",
      "/Raw_Data-SHO_Fit_000/completed_fit_positions\n",
      "/Raw_Data-SHO_Fit_000/completed_guess_positions\n",
      "\n",
      "The main dataset:\n",
      "------------------------------------\n",
      "<HDF5 file \"data_raw.h5\" (mode r+)>\n",
      "\n",
      "The ancillary datasets:\n",
      "------------------------------------\n",
      "<HDF5 dataset \"Position_Indices\": shape (3600, 2), type \"<u4\">\n",
      "<HDF5 dataset \"Position_Values\": shape (3600, 2), type \"<f4\">\n",
      "<HDF5 dataset \"Spectroscopic_Indices\": shape (4, 63360), type \"<u4\">\n",
      "<HDF5 dataset \"Spectroscopic_Values\": shape (4, 63360), type \"<f4\">\n",
      "\n",
      "Metadata or attributes in a datagroup\n",
      "------------------------------------\n",
      "BE_actual_duration_[s] : 0.004\n",
      "BE_amplitude_[V] : 1\n",
      "BE_auto_smoothing : auto smoothing on\n",
      "BE_band_edge_smoothing_[s] : 4832.1\n",
      "BE_band_edge_trim : 0.094742\n",
      "BE_band_width_[Hz] : 200000\n",
      "BE_bins_per_band : 0\n",
      "BE_center_frequency_[Hz] : 1310000\n",
      "BE_desired_duration_[s] : 0.004\n",
      "BE_phase_content : chirp-sinc hybrid\n",
      "BE_phase_variation : 1\n",
      "BE_points_per_BE_wave : 0\n",
      "BE_repeats : 4\n",
      "FORC_V_high1_[V] : 1\n",
      "FORC_V_high2_[V] : 10\n",
      "FORC_V_low1_[V] : -1\n",
      "FORC_V_low2_[V] : -10\n",
      "FORC_num_of_FORC_cycles : 1\n",
      "FORC_num_of_FORC_repeats : 1\n",
      "File_MDAQ_version : MDAQ_VS_090915_01\n",
      "File_date_and_time : 18-Sep-2015 18:32:14\n",
      "File_file_name : SP128_NSO\n",
      "File_file_path : C:\\Users\\Asylum User\\Documents\\Users\\Agar\\SP128_NSO\\\n",
      "File_file_suffix : 99\n",
      "IO_AO_amplifier : 10\n",
      "IO_AO_range_[V] : +/- 10\n",
      "IO_Analog_Input_1 : +/- .1V, FFT\n",
      "IO_Analog_Input_2 : off\n",
      "IO_Analog_Input_3 : off\n",
      "IO_Analog_Input_4 : off\n",
      "IO_DAQ_platform : NI 6115\n",
      "IO_rate_[Hz] : 4000000\n",
      "VS_amplitude_[V] : 16\n",
      "VS_cycle_fraction : full\n",
      "VS_cycle_phase_shift : 0\n",
      "VS_measure_in_field_loops : in and out-of-field\n",
      "VS_mode : DC modulation mode\n",
      "VS_number_of_cycles : 2\n",
      "VS_offset_[V] : 0\n",
      "VS_read_voltage_[V] : 0\n",
      "VS_set_pulse_amplitude[V] : 0\n",
      "VS_set_pulse_duration[s] : 0.002\n",
      "VS_step_edge_smoothing_[s] : 0.001\n",
      "VS_steps_per_full_cycle : 96\n",
      "data_type : BEPSData\n",
      "grid_/single : grid\n",
      "grid_contact_set_point_[V] : 1\n",
      "grid_current_col : 1\n",
      "grid_current_row : 1\n",
      "grid_cycle_time_[s] : 10\n",
      "grid_measuring : 0\n",
      "grid_moving : 0\n",
      "grid_num_cols : 60\n",
      "grid_num_rows : 60\n",
      "grid_settle_time_[s] : 0.15\n",
      "grid_time_remaining_[h;m;s] : 10\n",
      "grid_total_time_[h;m;s] : 10\n",
      "grid_transit_set_point_[V] : 0.1\n",
      "grid_transit_time_[s] : 0.15\n",
      "num_bins : 165\n",
      "num_pix : 3600\n",
      "num_udvs_steps : 384\n"
     ]
    }
   ],
   "source": [
    "# Specify the filename and the path to save the file\n",
    "filename = \"data_raw.h5\"\n",
    "save_path = \"./../../../Data/2023_rapid_fitting\"\n",
    "\n",
    "\n",
    "data_path = save_path + \"/\" + filename\n",
    "\n",
    "# instantiate the dataset object\n",
    "dataset = BE_Dataset(data_path, resample_bins=80, SHO_fit_func_NN=SHO_fit_func_nn)\n",
    "\n",
    "# print the contents of the file\n",
    "dataset.print_be_tree()"
   ]
  },
  {
   "attachments": {},
   "cell_type": "markdown",
   "metadata": {},
   "source": [
    "## Testing the Torch Function\n",
    "\n",
    "The function for a simple-harmonic oscillator needs to be recast in PyTorch. Here we prove that the PyTorch function is implemented identically to the Numpy model.\n",
    "\n",
    "Note: This uses the results from the least squares fitting LSQF results.\n"
   ]
  },
  {
   "cell_type": "code",
   "execution_count": 4,
   "metadata": {},
   "outputs": [],
   "source": [
    "true = {\"fitter\": \"NN\", \"resampled\": False, \"label\": \"NN Fit\"}\n",
    "\n",
    "predicted = {\"fitter\": \"LSQF\", \"resampled\": False, \"label\": \"Raw\", \"scaled\": False}\n",
    "\n",
    "BE_viz = Viz(dataset, printing, verbose=True)"
   ]
  },
  {
   "cell_type": "code",
   "execution_count": 5,
   "metadata": {},
   "outputs": [
    {
     "name": "stdout",
     "output_type": "stream",
     "text": [
      "\n",
      "                  Resample = False\n",
      "                  Raw Format = complex\n",
      "                  fitter = LSQF\n",
      "                  scaled = False\n",
      "                  Output Shape = pixels\n",
      "                  Measurement State = all\n",
      "                  Resample Resampled = False\n",
      "                  Resample Bins = 80\n",
      "                  LSQF Phase Shift = None\n",
      "                  NN Phase Shift = None\n",
      "                  \n"
     ]
    }
   ],
   "source": [
    "dataset.extraction_state"
   ]
  },
  {
   "cell_type": "code",
   "execution_count": 6,
   "metadata": {},
   "outputs": [
    {
     "name": "stdout",
     "output_type": "stream",
     "text": [
      "True \n",
      "\n",
      "\n",
      "                  Resample = False\n",
      "                  Raw Format = complex\n",
      "                  fitter = NN\n",
      "                  scaled = False\n",
      "                  Output Shape = pixels\n",
      "                  Measurement State = all\n",
      "                  Resample Resampled = False\n",
      "                  Resample Bins = 80\n",
      "                  LSQF Phase Shift = None\n",
      "                  NN Phase Shift = None\n",
      "                  \n",
      "predicted \n",
      "\n",
      "\n",
      "                  Resample = False\n",
      "                  Raw Format = complex\n",
      "                  fitter = LSQF\n",
      "                  scaled = False\n",
      "                  Output Shape = pixels\n",
      "                  Measurement State = all\n",
      "                  Resample Resampled = False\n",
      "                  Resample Bins = 80\n",
      "                  LSQF Phase Shift = None\n",
      "                  NN Phase Shift = None\n",
      "                  \n",
      "./../../../Figures/2023_rapid_fitting/Figure_7_PyTorch_fit_tester.png\n",
      "./../../../Figures/2023_rapid_fitting/Figure_7_PyTorch_fit_tester.svg\n"
     ]
    },
    {
     "data": {
      "image/png": "[encoded data removed]",
      "text/plain": [
       "<Figure size 500x125 with 4 Axes>"
      ]
     },
     "metadata": {},
     "output_type": "display_data"
    }
   ],
   "source": [
    "BE_viz.fit_tester(true, predicted, filename=\"Figure_7_PyTorch_fit_tester\")"
   ]
  },
  {
   "attachments": {},
   "cell_type": "markdown",
   "metadata": {},
   "source": [
    "**Figure 7** Shows the result of the PyTorch function. The result based on the LSQF results shows that the PyTorch function is implemented correctly.\n"
   ]
  },
  {
   "attachments": {},
   "cell_type": "markdown",
   "metadata": {},
   "source": [
    "## Pytorch Model\n",
    "\n",
    "### Model Architecture\n"
   ]
  },
  {
   "attachments": {},
   "cell_type": "markdown",
   "metadata": {},
   "source": [
    "### Scaling the Data\n",
    "\n",
    "When training the neural network it is useful to scale the data. We apply a global scaler such that the spectrum have a mean of 0 and a standard deviation of 1.\n",
    "\n",
    "#### Visualizing the Scaled Data\n"
   ]
  },
  {
   "cell_type": "code",
   "execution_count": 7,
   "metadata": {},
   "outputs": [
    {
     "name": "stdout",
     "output_type": "stream",
     "text": [
      "\n",
      "                  Resample = True\n",
      "                  Raw Format = complex\n",
      "                  fitter = LSQF\n",
      "                  scaled = True\n",
      "                  Output Shape = pixels\n",
      "                  Measurement State = all\n",
      "                  Resample Resampled = True\n",
      "                  Resample Bins = 80\n",
      "                  LSQF Phase Shift = None\n",
      "                  NN Phase Shift = None\n",
      "                  \n",
      "./../../../Figures/2023_rapid_fitting/Figure_8_Scaled Raw Data.png\n",
      "./../../../Figures/2023_rapid_fitting/Figure_8_Scaled Raw Data.svg\n"
     ]
    },
    {
     "data": {
      "image/png": "[encoded data removed]",
      "text/plain": [
       "<Figure size 300x125 with 2 Axes>"
      ]
     },
     "metadata": {},
     "output_type": "display_data"
    }
   ],
   "source": [
    "BE_viz = Viz(dataset, printing, verbose=True)\n",
    "\n",
    "\n",
    "state = {\"fitter\": \"LSQF\", \"resampled\": True, \"scaled\": True, \"label\": \"Scaled\"}\n",
    "\n",
    "BE_viz.nn_checker(state, filename=\"Figure_8_Scaled Raw Data\")"
   ]
  },
  {
   "attachments": {},
   "cell_type": "markdown",
   "metadata": {},
   "source": [
    "**Figure 8** shows the scaled data. The data is scaled to have a mean of 0 and a standard deviation of 1. This is done using a global scaler of the entire spectrum.\n"
   ]
  },
  {
   "cell_type": "code",
   "execution_count": 8,
   "metadata": {},
   "outputs": [
    {
     "name": "stdout",
     "output_type": "stream",
     "text": [
      "\n",
      "                  Resample = True\n",
      "                  Raw Format = complex\n",
      "                  fitter = LSQF\n",
      "                  scaled = True\n",
      "                  Output Shape = pixels\n",
      "                  Measurement State = all\n",
      "                  Resample Resampled = True\n",
      "                  Resample Bins = 80\n",
      "                  LSQF Phase Shift = 1.5707963267948966\n",
      "                  NN Phase Shift = None\n",
      "                  \n",
      "./../../../Figures/2023_rapid_fitting/Figure_9_Phase_Shifted_Scaled_Histograms.png\n",
      "./../../../Figures/2023_rapid_fitting/Figure_9_Phase_Shifted_Scaled_Histograms.svg\n"
     ]
    },
    {
     "data": {
      "image/png": "[encoded data removed]",
      "text/plain": [
       "<Figure size 525x125 with 4 Axes>"
      ]
     },
     "metadata": {},
     "output_type": "display_data"
    }
   ],
   "source": [
    "dataset.LSQF_phase_shift = np.pi / 2\n",
    "\n",
    "BE_viz.SHO_hist(\n",
    "    dataset.SHO_fit_results(), filename=\"Figure_9_Phase_Shifted_Scaled_Histograms\"\n",
    ")"
   ]
  },
  {
   "attachments": {},
   "cell_type": "markdown",
   "metadata": {},
   "source": [
    "**Figure 9** shows the histograms of the scaled a) amplitude, b) resonance frequency, c) quality factor, and d) phase. Note there is a transformation applied to the phase.\n"
   ]
  },
  {
   "attachments": {},
   "cell_type": "markdown",
   "metadata": {},
   "source": [
    "### Training the Model\n",
    "\n",
    "We will train the model from scratch. Generally the model trains very well in a few epochs. This will take less than 5 minutes to train on a GPU.\n"
   ]
  },
  {
   "cell_type": "code",
   "execution_count": 9,
   "metadata": {},
   "outputs": [
    {
     "name": "stdout",
     "output_type": "stream",
     "text": [
      "Pytorch seed was set to 42\n",
      "Numpy seed was set to 42\n",
      "tensorflow seed was set to 42\n",
      "Using GPU NVIDIA GeForce RTX 3090\n"
     ]
    }
   ],
   "source": [
    "random_seed(seed=42)\n",
    "\n",
    "# instantiate the model\n",
    "model = SHO_Model(dataset, training=True, model_basename=\"SHO_Fitter_original_data\")\n",
    "\n",
    "# constructs a test train split\n",
    "X_train, X_test, y_train, y_test = dataset.test_train_split_(shuffle=True)"
   ]
  },
  {
   "cell_type": "code",
   "execution_count": 10,
   "metadata": {},
   "outputs": [],
   "source": [
    "import torch_optimizer as optml\n",
    "\n",
    "train = False\n",
    "\n",
    "if train:\n",
    "    # fits the model\n",
    "    model.fit(\n",
    "        dataset.X_train,\n",
    "        500,\n",
    "        optimizer=\"Adam\",\n",
    "    )\n",
    "else:\n",
    "    model.load(\n",
    "        \"/home/ferroelectric/m3_learning/m3_learning/papers/2023_Rapid_Fitting/Trained Models/SHO Fitter/SHO_Fitter_original_data_model_epoch_5_train_loss_0.052957967706552825.pth\"\n",
    "    )"
   ]
  },
  {
   "attachments": {},
   "cell_type": "markdown",
   "metadata": {},
   "source": [
    "### Evaluate the Neural Network Results\n",
    "\n",
    "It is always recommended to validate that the autoencoder is working correctly. We can do this by comparing the different stages of the autoencoder including the raw data, the generated curves.\n"
   ]
  },
  {
   "cell_type": "code",
   "execution_count": 11,
   "metadata": {},
   "outputs": [
    {
     "name": "stderr",
     "output_type": "stream",
     "text": [
      "/home/ferroelectric/m3_learning/m3_learning/src/m3_learning/be/dataset.py:593: UserWarning: To copy construct from a tensor, it is recommended to use sourceTensor.clone().detach() or sourceTensor.clone().detach().requires_grad_(True), rather than torch.tensor(sourceTensor).\n",
      "  params = torch.tensor(fit_results.reshape(-1, 4))\n"
     ]
    },
    {
     "name": "stdout",
     "output_type": "stream",
     "text": [
      "torch.Size([1105920, 4])\n",
      "torch.Size([3, 4])\n",
      "./../../../Figures/2023_rapid_fitting/Figure_10_NN_validation_Train.png\n",
      "./../../../Figures/2023_rapid_fitting/Figure_10_NN_validation_Train.svg\n"
     ]
    },
    {
     "data": {
      "image/png": "[encoded data removed]",
      "text/plain": [
       "<Figure size 615x158 with 6 Axes>"
      ]
     },
     "metadata": {},
     "output_type": "display_data"
    }
   ],
   "source": [
    "d1, d2, index1, mse1 = BE_viz.bmw_nn(\n",
    "    X_train,\n",
    "    prediction=model,\n",
    "    out_state={\"scaled\": True, \"measurement_state\": \"complex\"},\n",
    "    returns=True,\n",
    "    filename=\"Figure_10_NN_validation_Train\",\n",
    ")"
   ]
  },
  {
   "attachments": {},
   "cell_type": "markdown",
   "metadata": {},
   "source": [
    "**Figure 10** Raw data and reconstruction of the autoendcoder for the training data. Shows the a) best, b) median, and c) worst reconstruction of the training data.\n"
   ]
  },
  {
   "cell_type": "code",
   "execution_count": 12,
   "metadata": {},
   "outputs": [
    {
     "name": "stdout",
     "output_type": "stream",
     "text": [
      "torch.Size([276480, 4])\n",
      "torch.Size([3, 4])\n",
      "./../../../Figures/2023_rapid_fitting/Figure_11_NN_validation_test.png\n",
      "./../../../Figures/2023_rapid_fitting/Figure_11_NN_validation_test.svg\n"
     ]
    },
    {
     "data": {
      "image/png": "[encoded data removed]",
      "text/plain": [
       "<Figure size 615x158 with 6 Axes>"
      ]
     },
     "metadata": {},
     "output_type": "display_data"
    }
   ],
   "source": [
    "d1, d2, index1, mse1 = BE_viz.bmw_nn(\n",
    "    X_test,\n",
    "    prediction=model,\n",
    "    out_state={\"scaled\": True, \"measurement State\": \"complex\"},\n",
    "    returns=True,\n",
    "    filename=\"Figure_11_NN_validation_test\",\n",
    ")"
   ]
  },
  {
   "attachments": {},
   "cell_type": "markdown",
   "metadata": {},
   "source": [
    "**Figure 11** Raw data and reconstruction of the autoendcoder for the test data. Shows the a) best, b) median, and c) worst reconstruction of the test data.\n"
   ]
  },
  {
   "cell_type": "code",
   "execution_count": 13,
   "metadata": {},
   "outputs": [
    {
     "name": "stderr",
     "output_type": "stream",
     "text": [
      "/home/ferroelectric/m3_learning/m3_learning/src/m3_learning/be/dataset.py:593: UserWarning: To copy construct from a tensor, it is recommended to use sourceTensor.clone().detach() or sourceTensor.clone().detach().requires_grad_(True), rather than torch.tensor(sourceTensor).\n",
      "  params = torch.tensor(fit_results.reshape(-1, 4))\n"
     ]
    },
    {
     "name": "stdout",
     "output_type": "stream",
     "text": [
      "torch.Size([1382400, 4])\n",
      "torch.Size([3, 4])\n",
      "./../../../Figures/2023_rapid_fitting/Figure_12_NN_validation_full_data.png\n",
      "./../../../Figures/2023_rapid_fitting/Figure_12_NN_validation_full_data.svg\n"
     ]
    },
    {
     "data": {
      "image/png": "[encoded data removed]",
      "text/plain": [
       "<Figure size 615x158 with 6 Axes>"
      ]
     },
     "metadata": {},
     "output_type": "display_data"
    }
   ],
   "source": [
    "state = {\n",
    "    \"fitter\": \"LSQF\",\n",
    "    \"measurement_state\": \"complex\",\n",
    "    \"resampled\": True,\n",
    "    \"scaled\": True,\n",
    "    \"output_shape\": \"index\",\n",
    "}\n",
    "\n",
    "X_data, Y_data = dataset.NN_data()\n",
    "\n",
    "d1, d2, index1, mse1 = BE_viz.bmw_nn(\n",
    "    state,\n",
    "    prediction=model,\n",
    "    out_state={\"scaled\": True, \"measurement State\": \"complex\"},\n",
    "    returns=True,\n",
    "    filename=\"Figure_12_NN_validation_full_data\",\n",
    ")"
   ]
  },
  {
   "attachments": {},
   "cell_type": "markdown",
   "metadata": {},
   "source": [
    "**Figure 12** Raw data and reconstruction of the autoendcoder for the entire data. Shows the a) best, b) median, and c) worst reconstruction of the entire data.\n"
   ]
  },
  {
   "attachments": {},
   "cell_type": "markdown",
   "metadata": {},
   "source": [
    "### Calculate the MSE error\n",
    "\n",
    "We can calculate the MSE error for the training, test, and entire data set.\n"
   ]
  },
  {
   "cell_type": "code",
   "execution_count": 14,
   "metadata": {},
   "outputs": [
    {
     "name": "stdout",
     "output_type": "stream",
     "text": [
      "Full Data Mean Squared Error: 0.0449\n",
      "Test Data Mean Squared Error: 0.0448\n",
      "Train Data Mean Squared Error: 0.0449\n"
     ]
    }
   ],
   "source": [
    "X_data, Y_data = dataset.NN_data()\n",
    "\n",
    "data = (X_data, X_test, X_train)\n",
    "labels = [\"Full Data\", \"Test Data\", \"Train Data\"]\n",
    "\n",
    "\n",
    "model.print_mse(data, labels)"
   ]
  },
  {
   "attachments": {},
   "cell_type": "markdown",
   "metadata": {},
   "source": [
    "From here on out we will assume that the autoencoder is working correctly, and is not overfit. This is a good assumption because the results are more or less the same for the training, test, and entire data set.\n"
   ]
  },
  {
   "attachments": {},
   "cell_type": "markdown",
   "metadata": {},
   "source": [
    "### GPU Inference Speedtest\n",
    "\n",
    "Here we show the speedtest for the GPU. This is done using the torch.cuda.synchronize() function. This is used to ensure that the GPU is done processing before the timer is stopped.\n"
   ]
  },
  {
   "cell_type": "code",
   "execution_count": 15,
   "metadata": {},
   "outputs": [
    {
     "name": "stdout",
     "output_type": "stream",
     "text": [
      "Mean execution time computed for 1383 batches of size 1000\n",
      "Average execution time per batch (ms): 2.450513 ± 0.042733\n",
      "Average execution time per iteration (ms): 0.002451 ± 0.000043\n",
      "Total execution time (s): 3.39 \n"
     ]
    }
   ],
   "source": [
    "X_data, Y_data = dataset.NN_data()\n",
    "\n",
    "model.inference_timer(X_data, batch_size=1000)"
   ]
  },
  {
   "attachments": {},
   "cell_type": "markdown",
   "metadata": {},
   "source": [
    "### Histogram of Fit Results\n",
    "\n",
    "It is useful to view the histogram of the fitting results to apply any necessary phase shifts, and to see if the results are reasonable.\n"
   ]
  },
  {
   "cell_type": "code",
   "execution_count": 16,
   "metadata": {},
   "outputs": [
    {
     "name": "stdout",
     "output_type": "stream",
     "text": [
      "\n",
      "                  Resample = True\n",
      "                  Raw Format = complex\n",
      "                  fitter = LSQF\n",
      "                  scaled = True\n",
      "                  Output Shape = index\n",
      "                  Measurement State = complex\n",
      "                  Resample Resampled = True\n",
      "                  Resample Bins = 80\n",
      "                  LSQF Phase Shift = 1.5707963267948966\n",
      "                  NN Phase Shift = 1.5707963267948966\n",
      "                  \n",
      "./../../../Figures/2023_rapid_fitting/Figure_13_NN_Unscaled_Parameters_Histograms.png\n",
      "./../../../Figures/2023_rapid_fitting/Figure_13_NN_Unscaled_Parameters_Histograms.svg\n"
     ]
    },
    {
     "data": {
      "image/png": "[encoded data removed]",
      "text/plain": [
       "<Figure size 525x125 with 4 Axes>"
      ]
     },
     "metadata": {},
     "output_type": "display_data"
    }
   ],
   "source": [
    "# we will add the appropriate phase shift to the dataset based on the fix seed,\n",
    "# If your seed is different the results might vary\n",
    "dataset.NN_phase_shift = np.pi/2 \n",
    "\n",
    "# you can view the test and training dataset by replacing X_data with X_test or X_train\n",
    "pred_data, scaled_param, parm = model.predict(X_data)\n",
    "\n",
    "BE_viz.SHO_hist(parm, filename=\"Figure_13_NN_Unscaled_Parameters_Histograms\")"
   ]
  },
  {
   "attachments": {},
   "cell_type": "markdown",
   "metadata": {},
   "source": [
    "**Figure 13** Histogram of the fit results for the a) amplitude, b) resonance frequency, c) quality factor, and d) phase.\n"
   ]
  },
  {
   "cell_type": "code",
   "execution_count": 17,
   "metadata": {},
   "outputs": [
    {
     "name": "stderr",
     "output_type": "stream",
     "text": [
      "[autoreload of m3_learning.viz.layout failed: Traceback (most recent call last):\n",
      "  File \"/home/ferroelectric/anaconda3/envs/rapidfitting/lib/python3.9/site-packages/IPython/extensions/autoreload.py\", line 261, in check\n",
      "    superreload(m, reload, self.old_objects)\n",
      "  File \"/home/ferroelectric/anaconda3/envs/rapidfitting/lib/python3.9/site-packages/IPython/extensions/autoreload.py\", line 459, in superreload\n",
      "    module = reload(module)\n",
      "  File \"/home/ferroelectric/anaconda3/envs/rapidfitting/lib/python3.9/importlib/__init__.py\", line 169, in reload\n",
      "    _bootstrap._exec(spec, module)\n",
      "  File \"<frozen importlib._bootstrap>\", line 613, in _exec\n",
      "  File \"<frozen importlib._bootstrap_external>\", line 786, in exec_module\n",
      "  File \"<frozen importlib._bootstrap_external>\", line 923, in get_code\n",
      "  File \"<frozen importlib._bootstrap_external>\", line 853, in source_to_code\n",
      "  File \"<frozen importlib._bootstrap>\", line 228, in _call_with_frames_removed\n",
      "  File \"/home/ferroelectric/m3_learning/m3_learning/src/m3_learning/viz/layout.py\", line 46\n",
      "    def set_fig\n",
      "               ^\n",
      "SyntaxError: invalid syntax\n",
      "]\n"
     ]
    },
    {
     "name": "stdout",
     "output_type": "stream",
     "text": [
      "\n",
      "                  Resample = True\n",
      "                  Raw Format = complex\n",
      "                  fitter = LSQF\n",
      "                  scaled = True\n",
      "                  Output Shape = index\n",
      "                  Measurement State = complex\n",
      "                  Resample Resampled = True\n",
      "                  Resample Bins = 80\n",
      "                  LSQF Phase Shift = 1.5707963267948966\n",
      "                  NN Phase Shift = 1.5707963267948966\n",
      "                  \n",
      "./../../../Figures/2023_rapid_fitting/Figure_13_NN_scaled_Parameters_Histograms.png\n",
      "./../../../Figures/2023_rapid_fitting/Figure_13_NN_scaled_Parameters_Histograms.svg\n"
     ]
    },
    {
     "data": {
      "image/png": "[encoded data removed]",
      "text/plain": [
       "<Figure size 525x125 with 4 Axes>"
      ]
     },
     "metadata": {},
     "output_type": "display_data"
    }
   ],
   "source": [
    "out = dataset.SHO_scaler.transform(parm)\n",
    "\n",
    "BE_viz.SHO_hist(out, filename=\"Figure_13_NN_scaled_Parameters_Histograms\")"
   ]
  },
  {
   "attachments": {},
   "cell_type": "markdown",
   "metadata": {},
   "source": [
    "**Figure 14** Histogram of the fit results for the a) amplitude, b) resonance frequency, c) quality factor, and d) phase. The histograms show the scaled parameters.\n"
   ]
  },
  {
   "cell_type": "code",
   "execution_count": null,
   "metadata": {},
   "outputs": [],
   "source": [
    "self = BE_viz\n",
    "\n",
    "BE_viz.me"
   ]
  },
  {
   "cell_type": "code",
   "execution_count": 72,
   "metadata": {},
   "outputs": [
    {
     "name": "stdout",
     "output_type": "stream",
     "text": [
      "[0, 1.1866666666666672, 0.5183333333333334, 0.5183333333333334]\n",
      "0\n",
      "[2.2033333333333336, 1.1866666666666672, 0.5183333333333334, 0.5183333333333334]\n",
      "1\n",
      "[4.406666666666667, 1.1866666666666672, 0.5183333333333334, 0.5183333333333334]\n",
      "2\n",
      "[0, 0.6183333333333337, 0.5183333333333334, 0.5183333333333334]\n",
      "3\n",
      "[2.2033333333333336, 0.6183333333333337, 0.5183333333333334, 0.5183333333333334]\n",
      "4\n",
      "[4.406666666666667, 0.6183333333333337, 0.5183333333333334, 0.5183333333333334]\n",
      "5\n",
      "[0, 0.050000000000000266, 0.5183333333333334, 0.5183333333333334]\n",
      "6\n",
      "[2.2033333333333336, 0.050000000000000266, 0.5183333333333334, 0.5183333333333334]\n",
      "7\n",
      "[4.406666666666667, 0.050000000000000266, 0.5183333333333334, 0.5183333333333334]\n",
      "8\n"
     ]
    },
    {
     "data": {
      "image/png": "[encoded data removed]",
      "text/plain": [
       "<Figure size 650x328.5 with 37 Axes>"
      ]
     },
     "metadata": {},
     "output_type": "display_data"
    }
   ],
   "source": [
    "import matplotlib.pyplot as plt\n",
    "\n",
    "# number of columns for the embedddings \n",
    "cols = 3\n",
    "fig_width = 6.5\n",
    "\n",
    "ax = []\n",
    "\n",
    "# number of steps on the graph\n",
    "number_of_steps = 9\n",
    "\n",
    "voltage_plot_height = 1.25\n",
    "\n",
    "\n",
    "# the gap between the graphs\n",
    "intra_gap = 0.02\n",
    "inter_gap = 0.05\n",
    "\n",
    "# number of rows\n",
    "rows = np.ceil(number_of_steps / 3)\n",
    "\n",
    "# calculates the size of the embedding image \n",
    "embedding_image_size = (fig_width - (inter_gap * (cols - 1)) - intra_gap * 3 * cols) /(cols * 4)\n",
    "\n",
    "# calculates the figure height based on the image details\n",
    "fig_height = rows * (embedding_image_size + inter_gap) + voltage_plot_height + .33\n",
    "\n",
    "# defines a scalar to convert inches to relative coordinates\n",
    "fig_scalar = fig_dim_converter((fig_width, fig_height))\n",
    "\n",
    "# creates the figure\n",
    "fig = plt.figure(figsize=(fig_width, fig_height))\n",
    "\n",
    "#left bottom width height\n",
    "pos_inch = [0.33 , fig_height - voltage_plot_height, 6.5 - .33, voltage_plot_height]\n",
    "\n",
    "# adds the plot for the voltage\n",
    "ax.append(fig.add_axes(fig_scalar.to_relative(pos_inch)))\n",
    "\n",
    "# resets the x0 position for the embedding plots\n",
    "pos_inch[0] = 0\n",
    "pos_inch[1] -= embedding_image_size + 0.33\n",
    "\n",
    "# sets the embedding size of the image\n",
    "pos_inch[2] = embedding_image_size\n",
    "pos_inch[3] = embedding_image_size \n",
    "\n",
    "# adds the embedding plots\n",
    "for i in range(number_of_steps):\n",
    "\n",
    "    # loops around the amp, phase, and freq\n",
    "    for j in range(4):\n",
    "       \n",
    "        # adds the plot to the figure\n",
    "        ax.append(fig.add_axes(fig_scalar.to_relative(pos_inch))) \n",
    "        \n",
    "        # adds the interplot gap\n",
    "        pos_inch[0] += embedding_image_size + intra_gap\n",
    "\n",
    "    # if the last column in row, moves the position to the next row\n",
    "    if (i+1) % cols == 0 and i != 0:\n",
    "        \n",
    "        # resets the x0 position for the embedding plots\n",
    "        pos_inch[0] = 0\n",
    "        \n",
    "        # moves the y0 position to the next row\n",
    "        pos_inch[1] -= embedding_image_size + inter_gap\n",
    "    else:\n",
    "        # adds the small gap between the plots\n",
    "        pos_inch[0] += inter_gap\n",
    "\n",
    "ax[0]\n",
    "\n",
    "    \n",
    "fig.show()"
   ]
  },
  {
   "cell_type": "code",
   "execution_count": 71,
   "metadata": {},
   "outputs": [
    {
     "data": {
      "text/plain": [
       "0"
      ]
     },
     "execution_count": 71,
     "metadata": {},
     "output_type": "execute_result"
    }
   ],
   "source": [
    "6 %3"
   ]
  },
  {
   "cell_type": "code",
   "execution_count": 53,
   "metadata": {},
   "outputs": [],
   "source": [
    "class fig_dim_converter:\n",
    "    \n",
    "    def __init__(self, figsize):\n",
    "        \n",
    "        self.fig_width = figsize[0]\n",
    "        self.fig_height = figsize[1]\n",
    "    \n",
    "    def to_inches(self, x):\n",
    "        \n",
    "        return (x[0] * self.fig_width, x[1] * self.fig_height, x[2] * self.fig_width, x[3] * self.fig_height)\n",
    "    \n",
    "    def to_relative(self, x):\n",
    "        \n",
    "        return (x[0] / self.fig_width, x[1] / self.fig_height, x[2] / self.fig_width, x[3] / self.fig_height)\n",
    "    "
   ]
  },
  {
   "cell_type": "code",
   "execution_count": 54,
   "metadata": {},
   "outputs": [
    {
     "data": {
      "text/plain": [
       "(0.33, 1.795, 6.17, 1.25)"
      ]
     },
     "execution_count": 54,
     "metadata": {},
     "output_type": "execute_result"
    }
   ],
   "source": [
    "pos_inch"
   ]
  },
  {
   "cell_type": "code",
   "execution_count": 55,
   "metadata": {},
   "outputs": [
    {
     "data": {
      "text/plain": [
       "3.045"
      ]
     },
     "execution_count": 55,
     "metadata": {},
     "output_type": "execute_result"
    }
   ],
   "source": [
    "fig_scalar.fig_height"
   ]
  },
  {
   "cell_type": "code",
   "execution_count": 45,
   "metadata": {},
   "outputs": [
    {
     "data": {
      "text/plain": [
       "(0.050769230769230775,\n",
       " 0.7821350762527233,\n",
       " 0.9492307692307692,\n",
       " 2.6884531590413943)"
      ]
     },
     "execution_count": 45,
     "metadata": {},
     "output_type": "execute_result"
    }
   ],
   "source": [
    "fig_scalar.to_relative(pos_inch)"
   ]
  },
  {
   "attachments": {},
   "cell_type": "markdown",
   "metadata": {},
   "source": [
    "## Comparison SHO and Neural Network Fits\n",
    "\n",
    "3 graphs, best, median, worst\n",
    "\n",
    "histograms of parameters.\n"
   ]
  },
  {
   "cell_type": "code",
   "execution_count": 18,
   "metadata": {},
   "outputs": [
    {
     "name": "stdout",
     "output_type": "stream",
     "text": [
      "(1382400, 4)\n",
      "(3, 4)\n"
     ]
    },
    {
     "name": "stderr",
     "output_type": "stream",
     "text": [
      "/home/ferroelectric/m3_learning/m3_learning/src/m3_learning/be/dataset.py:593: UserWarning: To copy construct from a tensor, it is recommended to use sourceTensor.clone().detach() or sourceTensor.clone().detach().requires_grad_(True), rather than torch.tensor(sourceTensor).\n",
      "  params = torch.tensor(fit_results.reshape(-1, 4))\n"
     ]
    },
    {
     "name": "stdout",
     "output_type": "stream",
     "text": [
      "torch.Size([1382400, 4])\n",
      "torch.Size([3, 4])\n",
      "./../../../Figures/2023_rapid_fitting/Figure_14_LSQF_NN_bmw_comparison.png\n",
      "./../../../Figures/2023_rapid_fitting/Figure_14_LSQF_NN_bmw_comparison.svg\n"
     ]
    },
    {
     "data": {
      "image/png": "[encoded data removed]",
      "text/plain": [
       "<Figure size 410x645 with 12 Axes>"
      ]
     },
     "metadata": {},
     "output_type": "display_data"
    }
   ],
   "source": [
    "dataset.NN_phase_shift = np.pi/2\n",
    "dataset.LSQF_phase_shift = np.pi/2\n",
    "\n",
    "true_state = {\n",
    "    \"fitter\": \"LSQF\",\n",
    "    \"measurement_state\": \"complex\",\n",
    "    \"resampled\": True,\n",
    "    \"scaled\": True,\n",
    "    \"output_shape\": \"index\",\n",
    "}\n",
    "\n",
    "out_state = {\"scaled\": True, \"measurement_state\": \"magnitude spectrum\"}\n",
    "\n",
    "n = 1\n",
    "\n",
    "LSQF = BE_viz.get_best_median_worst(\n",
    "    true_state,\n",
    "    prediction={\"fitter\": \"LSQF\"},\n",
    "    out_state=out_state,\n",
    "    SHO_results=True,\n",
    "    n=n,\n",
    ")\n",
    "\n",
    "NN = BE_viz.get_best_median_worst(\n",
    "    true_state, prediction=model, out_state=out_state, SHO_results=True, n=n\n",
    ")\n",
    "\n",
    "data = (LSQF, NN)\n",
    "names = [\"LSQF\", \"NN\"]\n",
    "\n",
    "BE_viz.SHO_Fit_comparison(\n",
    "    data,\n",
    "    names,\n",
    "    model_comparison=[model, {\"fitter\": \"LSQF\"}],\n",
    "    out_state=out_state,\n",
    "    filename=\"Figure_14_LSQF_NN_bmw_comparison\",\n",
    "    # display_results = None\n",
    ")"
   ]
  },
  {
   "attachments": {},
   "cell_type": "markdown",
   "metadata": {},
   "source": [
    "### Statistics of the Results for Training, Validation, and Entire Dataset\n"
   ]
  },
  {
   "cell_type": "code",
   "execution_count": null,
   "metadata": {},
   "outputs": [],
   "source": [
    "# dataset.LSQF_phase_shift = 0\n",
    "\n",
    "# state = {'fitter' : 'LSQF',\n",
    "#              'resampled' : True,\n",
    "#              'scaled' : False,\n",
    "#              \"measurement_state\" : \"complex\"}\n",
    "\n",
    "# BE_viz.set_attributes(**state)\n",
    "\n",
    "# self = dataset\n",
    "\n",
    "# fit_results = self.raw_spectra(fit_results = self.SHO_fit_results())\n",
    "\n",
    "# fit_results = self.raw_data_scaler.transform(fit_results)\n",
    "\n",
    "# fit_results = self.to_real_imag(fit_results)\n",
    "\n",
    "# state = {'fitter' : 'LSQF',\n",
    "#              'resampled' : True,\n",
    "#              'scaled' : True,\n",
    "#              \"measurement_state\" : \"complex\"}\n",
    "\n",
    "# BE_viz.set_attributes(**state)\n",
    "\n",
    "# raw = self.raw_spectra()"
   ]
  },
  {
   "cell_type": "code",
   "execution_count": null,
   "metadata": {},
   "outputs": [],
   "source": [
    "# fit_results[0].shape"
   ]
  },
  {
   "cell_type": "code",
   "execution_count": null,
   "metadata": {},
   "outputs": [],
   "source": [
    "# from sklearn.metrics import mean_squared_error\n",
    "\n",
    "# mse = mean_squared_error(fit_results[0].reshape(-1,80), raw[0].reshape(-1,80)) + mean_squared_error(fit_results[1].reshape(-1,80), raw[1].reshape(-1,80))\n",
    "\n",
    "# mse /=2"
   ]
  },
  {
   "cell_type": "code",
   "execution_count": null,
   "metadata": {},
   "outputs": [],
   "source": [
    "# import matplotlib.pyplot as plt\n",
    "\n",
    "# i = np.random.randint(0, len(raw[0]))\n",
    "\n",
    "# plt.plot(raw[0].reshape(-1,80)[i])\n",
    "# plt.plot(fit_results[0].reshape(-1,80)[i])"
   ]
  },
  {
   "attachments": {},
   "cell_type": "markdown",
   "metadata": {},
   "source": [
    "### Visualization of the Distribution of the NN Fit Results\n",
    "\n",
    "It is useful to check the distribution of the scaled and unscaled fit results for the entire dataset, this will also allow us to add a correction for a phase shift (if necessary).\n"
   ]
  },
  {
   "attachments": {},
   "cell_type": "markdown",
   "metadata": {},
   "source": [
    "#### Unscaled Histograms of Neural Network Fit Results\n"
   ]
  },
  {
   "cell_type": "code",
   "execution_count": null,
   "metadata": {},
   "outputs": [],
   "source": [
    "# dataset.NN_phase_shift = 3*np.pi/2\n",
    "\n",
    "# pred_data, scaled_param, parm = model.predict(X_train)"
   ]
  },
  {
   "cell_type": "code",
   "execution_count": null,
   "metadata": {},
   "outputs": [],
   "source": [
    "#"
   ]
  },
  {
   "cell_type": "code",
   "execution_count": null,
   "metadata": {},
   "outputs": [],
   "source": [
    "pred_data, scaled_param, parm = model.predict(X_data)"
   ]
  },
  {
   "cell_type": "code",
   "execution_count": null,
   "metadata": {},
   "outputs": [],
   "source": []
  },
  {
   "attachments": {},
   "cell_type": "markdown",
   "metadata": {},
   "source": [
    "**Figure 10** Calculated fitting parameters from the neural network. Histograms of the unscaled a) amplitude, b) resonance frequency, c) quality factor, and d) phase. Note there is a transformation applied to the phase.\n"
   ]
  },
  {
   "attachments": {},
   "cell_type": "markdown",
   "metadata": {},
   "source": [
    "#### Scaled Histograms of Neural Network Fit Results\n"
   ]
  },
  {
   "cell_type": "code",
   "execution_count": null,
   "metadata": {},
   "outputs": [],
   "source": [
    "BE_viz.SHO_hist(scaled_param, filename=\"Figure_11_NN_Scaled_Histograms\")"
   ]
  },
  {
   "cell_type": "code",
   "execution_count": null,
   "metadata": {},
   "outputs": [],
   "source": [
    "BE_viz.SHO_hist(parm, filename=\"Figure_10_NN_Unscaled_Histograms\")"
   ]
  },
  {
   "cell_type": "code",
   "execution_count": null,
   "metadata": {},
   "outputs": [],
   "source": [
    "self = dataset\n",
    "\n",
    "state = {\n",
    "    \"fitter\": \"LSQF\",\n",
    "    \"resampled\": True,\n",
    "    \"scaled\": True,\n",
    "    \"measurement_state\": \"complex\",\n",
    "}\n",
    "\n",
    "BE_viz.set_attributes(**state)\n",
    "\n",
    "raw = self.raw_spectra()"
   ]
  },
  {
   "cell_type": "code",
   "execution_count": null,
   "metadata": {},
   "outputs": [],
   "source": [
    "3600 * 384"
   ]
  },
  {
   "cell_type": "code",
   "execution_count": null,
   "metadata": {},
   "outputs": [],
   "source": [
    "from m3_learning.be.nn import SHO_fit_func_nn\n",
    "\n",
    "out = SHO_fit_func_nn(parm, dataset.resampled_freq)\n",
    "\n",
    "out = dataset.raw_data_scaler.transform(out)\n",
    "\n",
    "out = dataset.to_real_imag(out)"
   ]
  },
  {
   "cell_type": "code",
   "execution_count": null,
   "metadata": {},
   "outputs": [],
   "source": [
    "out[0].shape"
   ]
  },
  {
   "cell_type": "code",
   "execution_count": null,
   "metadata": {},
   "outputs": [],
   "source": [
    "dataset.NN_phase_shift = 0"
   ]
  },
  {
   "cell_type": "code",
   "execution_count": null,
   "metadata": {},
   "outputs": [],
   "source": [
    "import matplotlib.pyplot as plt\n",
    "\n",
    "i = np.random.randint(0, len(raw[0]))\n",
    "\n",
    "# plt.plot(out[0].reshape(-1,80)[i])\n",
    "plt.plot(out[1].reshape(-1, 80)[i])\n",
    "plt.plot(raw[1].reshape(-1, 80)[i])\n",
    "\n",
    "plt.figure()\n",
    "plt.plot(out[0].reshape(-1, 80)[i])\n",
    "plt.plot(raw[0].reshape(-1, 80)[i])"
   ]
  },
  {
   "attachments": {},
   "cell_type": "markdown",
   "metadata": {},
   "source": [
    "**Figure 11** Calculated fitting parameters from the neural network. Histograms of the scaled a) amplitude, b) resonance frequency, c) quality factor, and d) phase. Note there is a transformation applied to the phase.\n"
   ]
  },
  {
   "attachments": {},
   "cell_type": "markdown",
   "metadata": {},
   "source": [
    "### Model Validation\n",
    "\n",
    "It is helpful to view reconstructions of the data from the training and validation datasets. This ensures that the model is doing a good job of fitting the data.\n"
   ]
  },
  {
   "attachments": {},
   "cell_type": "markdown",
   "metadata": {},
   "source": [
    "#### Random Training Data Fit\n"
   ]
  },
  {
   "cell_type": "code",
   "execution_count": null,
   "metadata": {},
   "outputs": [],
   "source": [
    "BE_viz.nn_validation(\n",
    "    model,\n",
    "    X_train,\n",
    "    filename=\"Figure_11_NN_Validation_example_training\",\n",
    "    SHO_results=y_train,\n",
    ")"
   ]
  },
  {
   "attachments": {},
   "cell_type": "markdown",
   "metadata": {},
   "source": [
    "**Figure 11** A random reconstruction of the neural network fits for the training dataset\n"
   ]
  },
  {
   "cell_type": "code",
   "execution_count": null,
   "metadata": {},
   "outputs": [],
   "source": [
    "BE_viz.nn_validation(\n",
    "    model, X_test, filename=\"Figure_12_NN_Validation_example_test\", SHO_results=y_test\n",
    ")"
   ]
  },
  {
   "attachments": {},
   "cell_type": "markdown",
   "metadata": {},
   "source": [
    "**Figure 12** A random reconstruction of the neural network fits for the training dataset\n"
   ]
  },
  {
   "cell_type": "code",
   "execution_count": null,
   "metadata": {},
   "outputs": [],
   "source": [
    "state = {\n",
    "    \"raw_format\": \"magnitude spectrum\",\n",
    "}\n",
    "\n",
    "BE_viz.set_attributes(**state)\n",
    "\n",
    "BE_viz.best_median_worst_reconstructions(\n",
    "    model,\n",
    "    X_data,\n",
    "    SHO_values=Y_data,\n",
    "    filename=\"Figure_13_NN_Best_Median_Worst_Reconstructions_Training\",\n",
    ")"
   ]
  },
  {
   "cell_type": "code",
   "execution_count": null,
   "metadata": {},
   "outputs": [],
   "source": [
    "BE_viz.best_median_worst_reconstructions(\n",
    "    model,\n",
    "    X_test,\n",
    "    SHO_values=y_test,\n",
    "    filename=\"Figure 14_NN_Best_Median_Worst_Reconstructions_Testing\",\n",
    ")"
   ]
  },
  {
   "attachments": {},
   "cell_type": "markdown",
   "metadata": {},
   "source": [
    "Overall, the fit results are excellent for both the training and validation datasets.\n"
   ]
  },
  {
   "cell_type": "code",
   "execution_count": null,
   "metadata": {},
   "outputs": [],
   "source": [
    "import pandas as pd\n",
    "\n",
    "df = pd.DataFrame()\n",
    "\n",
    "\n",
    "true = scaled_param\n",
    "compare = dataset.SHO_fit_results().reshape(-1, 4)\n",
    "\n",
    "true_df = pd.DataFrame(true, columns=[\"Amplitude\", \"Resonance\", \"Q-Factor\", \"Phase\"])\n",
    "predicted_df = pd.DataFrame(\n",
    "    compare, columns=[\"Amplitude\", \"Resonance\", \"Q-Factor\", \"Phase\"]\n",
    ")\n",
    "\n",
    "df = pd.concat((true_df, predicted_df))\n",
    "\n",
    "# df = pd.DataFrame(np.vstack((true, compare)))\n",
    "\n",
    "names = [true, compare]\n",
    "names_str = [\"SHO\", \"NN\"]\n",
    "labels = [\"Amplitude\", \"Resonance\", \"Q-Factor\", \"Phase\"]\n",
    "\n",
    "for j, name in enumerate(names):\n",
    "    for i, label in enumerate(labels):\n",
    "        dict_ = {\n",
    "            \"value\": name[:, i],\n",
    "            \"parameter\": np.repeat(label, name.shape[0]),\n",
    "            \"dataset\": np.repeat(names_str[j], name.shape[0]),\n",
    "        }\n",
    "\n",
    "        df = pd.concat((df, pd.DataFrame(dict_)))"
   ]
  },
  {
   "cell_type": "code",
   "execution_count": null,
   "metadata": {},
   "outputs": [],
   "source": [
    "import pandas as pd\n",
    "\n",
    "impoet\n",
    "\n",
    "\n",
    "state = {\n",
    "    \"fitter\": \"LSQF\",\n",
    "    \"resampled\": True,\n",
    "    \"scaled\": True,\n",
    "    \"measurement_state\": \"complex\",\n",
    "}\n",
    "\n",
    "BE_viz.set_attributes(**state)\n",
    "\n",
    "\n",
    "true = scaled_param\n",
    "compare = dataset.SHO_fit_results().reshape(-1, 4)\n",
    "\n",
    "# build a dictionary:\n",
    "DataNames = [true, compare]\n",
    "labels = [\"Amplitude\", \"Resonance\", \"Q-Factor\", \"Phase\"]\n",
    "names_str = [\"NN\", \"SHO\"]\n",
    "\n",
    "df = pd.DataFrame()\n",
    "\n",
    "for i, data in enumerate(DataNames):\n",
    "    for j, signal in enumerate(labels):\n",
    "        dict_ = {\n",
    "            \"value\": data[:, j],\n",
    "            \"parameter\": np.repeat(signal, data.shape[0]),\n",
    "            \"dataset\": np.repeat(names_str[i], data.shape[0]),\n",
    "        }\n",
    "\n",
    "        df = pd.concat((df, pd.DataFrame(dict_)))"
   ]
  },
  {
   "cell_type": "code",
   "execution_count": null,
   "metadata": {},
   "outputs": [],
   "source": [
    "import seaborn as sns\n",
    "\n",
    "sns.violinplot(data=df, x=\"parameter\", y=\"value\", hue=\"dataset\", split=True)"
   ]
  },
  {
   "cell_type": "code",
   "execution_count": null,
   "metadata": {},
   "outputs": [],
   "source": [
    "import seaborn as sns\n",
    "import pandas as pd\n",
    "\n",
    "# Create a random dataset with two categories\n",
    "data = pd.DataFrame(\n",
    "    {\n",
    "        \"category\": [\"left\"] * 100 + [\"right\"] * 100,\n",
    "        \"value\": np.concatenate([np.random.randn(100), np.random.randn(100) + 2]),\n",
    "    }\n",
    ")\n",
    "\n",
    "# Create a violin plot with left and right categories\n",
    "sns.violinplot(x=\"category\", y=\"value\", hue=\"category\", data=data, split=True)"
   ]
  },
  {
   "cell_type": "code",
   "execution_count": null,
   "metadata": {},
   "outputs": [],
   "source": [
    "df.head()"
   ]
  },
  {
   "cell_type": "code",
   "execution_count": null,
   "metadata": {},
   "outputs": [],
   "source": [
    "df.head()"
   ]
  },
  {
   "cell_type": "code",
   "execution_count": null,
   "metadata": {},
   "outputs": [],
   "source": []
  },
  {
   "cell_type": "code",
   "execution_count": null,
   "metadata": {},
   "outputs": [],
   "source": []
  },
  {
   "attachments": {},
   "cell_type": "markdown",
   "metadata": {},
   "source": [
    "## Comparison of NN and LSQF Results\n",
    "\n",
    "It is useful to compare the NN and LSQF results. While generally, the LSQF results might be considered the ground truth, this is not really the case. It is unclear which fitting method is actually more precise and accurate. We conjecture through this analysis that the neural network is actually a more accurate and precise fitting method.\n",
    "\n",
    "This section will help to make this case.\n"
   ]
  },
  {
   "cell_type": "code",
   "execution_count": null,
   "metadata": {},
   "outputs": [],
   "source": [
    "state = {\n",
    "    \"fitter\": \"LSQF\",\n",
    "    \"resampled\": True,\n",
    "    \"scaled\": False,\n",
    "    \"raw_format\": \"magnitude spectrum\",\n",
    "}\n",
    "\n",
    "BE_viz.set_attributes(**state)\n",
    "\n",
    "LSQF_results = dataset.raw_spectra(fit_results=dataset.SHO_fit_results())\n",
    "\n",
    "state = {\n",
    "    \"fitter\": \"LSQF\",\n",
    "    \"resampled\": True,\n",
    "    \"scaled\": False,\n",
    "    \"raw_format\": \"magnitude spectrum\",\n",
    "}\n",
    "\n",
    "BE_viz.set_attributes(**state)\n",
    "\n",
    "raw_spectra = dataset.raw_spectra()\n",
    "\n",
    "# ind, mse = BE_viz.best_median_worst_fit_comparison(LSQF_results, raw_spectra, 1, 1)"
   ]
  },
  {
   "cell_type": "code",
   "execution_count": null,
   "metadata": {},
   "outputs": [],
   "source": [
    "BE_viz.best_median_worst_fit_comparison()"
   ]
  },
  {
   "cell_type": "code",
   "execution_count": null,
   "metadata": {},
   "outputs": [],
   "source": [
    "self = BE_viz\n",
    "\n",
    "# for the SHO curves it makes sense to determine the error based on the normalized fit results in complex form.\n",
    "state = {\n",
    "    \"fitter\": \"LSQF\",\n",
    "    \"resampled\": False,\n",
    "    \"scaled\": True,\n",
    "    \"raw_format\": \"complex\",\n",
    "}\n",
    "\n",
    "self.set_attributes(**state)\n",
    "\n",
    "fit_results_compare = self.dataset.raw_spectra(\n",
    "    fit_results=self.dataset.SHO_fit_results()\n",
    ")\n",
    "\n",
    "raw_SHO = self.dataset.raw_spectra()\n",
    "\n",
    "index1, mse1, d1, d2 = SHO_Model.get_rankings(raw_SHO, fit_results_compare, n=1)"
   ]
  },
  {
   "cell_type": "code",
   "execution_count": null,
   "metadata": {},
   "outputs": [],
   "source": [
    "index1"
   ]
  },
  {
   "cell_type": "code",
   "execution_count": null,
   "metadata": {},
   "outputs": [],
   "source": [
    "a = raw_SHO[0].reshape(-1, 165)[745386]\n",
    "b = np.array(fit_results_compare[0].reshape(-1, 165)[745386])\n",
    "\n",
    "a1 = raw_SHO[1].reshape(-1, 165)[745386]\n",
    "b1 = np.array(fit_results_compare[1].reshape(-1, 165)[745386])"
   ]
  },
  {
   "cell_type": "code",
   "execution_count": null,
   "metadata": {},
   "outputs": [],
   "source": [
    "(np.mean((a - b) ** 2) + np.mean((a1 - b1) ** 2)) / 2"
   ]
  },
  {
   "cell_type": "code",
   "execution_count": null,
   "metadata": {},
   "outputs": [],
   "source": [
    "X_data.shape"
   ]
  },
  {
   "cell_type": "code",
   "execution_count": null,
   "metadata": {},
   "outputs": [],
   "source": [
    "dataset.resampled_freq.shape"
   ]
  },
  {
   "cell_type": "code",
   "execution_count": null,
   "metadata": {},
   "outputs": [],
   "source": [
    "plt.plot(dataset.frequency_bin)\n",
    "plt.plot(dataset.resampled_freq, \"o\")"
   ]
  },
  {
   "cell_type": "code",
   "execution_count": null,
   "metadata": {},
   "outputs": [],
   "source": [
    "import matplotlib.pyplot as plt\n",
    "\n",
    "plt.plot(X_data[745386, :, 0])\n",
    "# plt.plot(dataset.frequency_bin, a)\n",
    "# plt.plot(dataset.frequency_bin, b)"
   ]
  },
  {
   "cell_type": "code",
   "execution_count": null,
   "metadata": {},
   "outputs": [],
   "source": [
    "state = {\n",
    "    \"fitter\": \"LSQF\",\n",
    "    \"resampled\": True,\n",
    "    \"scaled\": True,\n",
    "    \"raw_format\": \"complex\",\n",
    "}\n",
    "\n",
    "BE_viz.set_attributes(**state)\n",
    "\n",
    "LSQF_results = dataset.raw_spectra(fit_results=dataset.SHO_fit_results())"
   ]
  },
  {
   "cell_type": "code",
   "execution_count": null,
   "metadata": {},
   "outputs": [],
   "source": [
    "np.array(d1).shape"
   ]
  },
  {
   "cell_type": "code",
   "execution_count": null,
   "metadata": {},
   "outputs": [],
   "source": [
    "d1[1][0].shape"
   ]
  },
  {
   "cell_type": "code",
   "execution_count": null,
   "metadata": {},
   "outputs": [],
   "source": [
    "plt.plot(d1[0][0])\n",
    "plt.plot(d1[1][0])\n",
    "mse1[0]"
   ]
  },
  {
   "cell_type": "code",
   "execution_count": null,
   "metadata": {},
   "outputs": [],
   "source": [
    "np.array(LSQF_results).shape.index(2)"
   ]
  },
  {
   "cell_type": "code",
   "execution_count": null,
   "metadata": {},
   "outputs": [],
   "source": [
    "np.array(LSQF_results).shape.index(2)"
   ]
  },
  {
   "cell_type": "code",
   "execution_count": null,
   "metadata": {},
   "outputs": [],
   "source": [
    "index, mse, c1, c2 = SHO_Model.get_rankings(LSQF_results, raw_spectra, n=1, curves=True)"
   ]
  },
  {
   "cell_type": "code",
   "execution_count": null,
   "metadata": {},
   "outputs": [],
   "source": [
    "c1.shape"
   ]
  },
  {
   "cell_type": "code",
   "execution_count": null,
   "metadata": {},
   "outputs": [],
   "source": [
    "plt.plot(c1[0, 0])\n",
    "plt.plot(c2[0, 0], \"o\")"
   ]
  },
  {
   "cell_type": "code",
   "execution_count": null,
   "metadata": {},
   "outputs": [],
   "source": [
    "plt.plot(c1[2, :, 1])\n",
    "plt.plot(c2[2, :, 1], \"o\")"
   ]
  },
  {
   "cell_type": "code",
   "execution_count": null,
   "metadata": {},
   "outputs": [],
   "source": [
    "[tensor.numpy() for tensor in LSQF_results]"
   ]
  },
  {
   "cell_type": "code",
   "execution_count": null,
   "metadata": {},
   "outputs": [],
   "source": [
    "import matplotlib.pyplot as plt\n",
    "\n",
    "plt.plot(LSQF_results[0][100, 100, :])\n",
    "plt.plot(raw_spectra[0][100, 100, :])"
   ]
  },
  {
   "cell_type": "code",
   "execution_count": null,
   "metadata": {},
   "outputs": [],
   "source": [
    "[0### LSQF NN compairison resonstruction\n",
    "\n",
    "### LSQF NN comapairison distributions\n",
    "\n",
    "### LSQF NN comparison movies.'"
   ]
  },
  {
   "cell_type": "code",
   "execution_count": null,
   "metadata": {},
   "outputs": [],
   "source": []
  },
  {
   "cell_type": "code",
   "execution_count": null,
   "metadata": {},
   "outputs": [],
   "source": []
  }
 ],
 "metadata": {
  "kernelspec": {
   "display_name": "rapidfitting",
   "language": "python",
   "name": "python3"
  },
  "language_info": {
   "codemirror_mode": {
    "name": "ipython",
    "version": 3
   },
   "file_extension": ".py",
   "mimetype": "text/x-python",
   "name": "python",
   "nbconvert_exporter": "python",
   "pygments_lexer": "ipython3",
   "version": "3.9.0"
  },
  "orig_nbformat": 4,
  "vscode": {
   "interpreter": {
    "hash": "b88dbc8072abb6ef9a30839cda5b7a1baf9f1401fa4b52ed02da9e59e44435e3"
   }
  }
 },
 "nbformat": 4,
 "nbformat_minor": 2
}
