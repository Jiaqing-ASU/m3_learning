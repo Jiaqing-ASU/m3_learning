{
 "cells": [
  {
   "attachments": {},
   "cell_type": "markdown",
   "metadata": {},
   "source": [
    "# Hysteresis Loops Fitting"
   ]
  },
  {
   "cell_type": "code",
   "execution_count": 1,
   "metadata": {},
   "outputs": [],
   "source": [
    "import sys\n",
    "sys.path.append('../../')\n",
    "sys.path.append(\"/home/ferroelectric/m3_learning/m3_learning/src\")"
   ]
  },
  {
   "cell_type": "code",
   "execution_count": 2,
   "metadata": {},
   "outputs": [
    {
     "name": "stderr",
     "output_type": "stream",
     "text": [
      "2023-08-16 21:42:52.939170: I tensorflow/core/platform/cpu_feature_guard.cc:182] This TensorFlow binary is optimized to use available CPU instructions in performance-critical operations.\n",
      "To enable the following instructions: AVX2 FMA, in other operations, rebuild TensorFlow with the appropriate compiler flags.\n",
      "2023-08-16 21:42:53.844968: W tensorflow/compiler/tf2tensorrt/utils/py_utils.cc:38] TF-TRT Warning: Could not find TensorRT\n"
     ]
    },
    {
     "name": "stdout",
     "output_type": "stream",
     "text": [
      "printing set for seaborn\n",
      "Pytorch seed was set to 42\n",
      "Numpy seed was set to 42\n",
      "tensorflow seed was set to 42\n"
     ]
    }
   ],
   "source": [
    "%load_ext autoreload\n",
    "%autoreload 2\n",
    "\n",
    "import h5py\n",
    "import pyUSID as usid\n",
    "\n",
    "from src.m3_learning.be.processing import fit_loop_function, loop_lsqf\n",
    "\n",
    "import numpy as np\n",
    "\n",
    "from m3_learning.nn.random import random_seed\n",
    "from m3_learning.viz.style import set_style\n",
    "from m3_learning.viz.printing import printer\n",
    "from m3_learning.be.viz import Viz\n",
    "from m3_learning.be.dataset import BE_Dataset\n",
    "from m3_learning.be.nn import SHO_fit_func_nn, SHO_Model\n",
    "from m3_learning.nn.Fitter1D.Fitter1D import Multiscale1DFitter, Model\n",
    "\n",
    "printing = printer(basepath = './Figures/')\n",
    "\n",
    "\n",
    "set_style(\"printing\")\n",
    "random_seed(seed=42)\n",
    "\n",
    "%matplotlib inline"
   ]
  },
  {
   "attachments": {},
   "cell_type": "markdown",
   "metadata": {},
   "source": [
    "## Loads data"
   ]
  },
  {
   "cell_type": "code",
   "execution_count": 7,
   "metadata": {},
   "outputs": [
    {
     "name": "stdout",
     "output_type": "stream",
     "text": [
      "No spectroscopic datasets found as attributes of /Measurement_000/Channel_000/Position_Indices\n",
      "No position datasets found as attributes of /Raw_Data_SHO_Fit/Raw_Data-SHO_Fit_000/Spectroscopic_Values\n",
      "/\n",
      "├ Measurement_000\n",
      "  ---------------\n",
      "  ├ Channel_000\n",
      "    -----------\n",
      "    ├ Bin_FFT\n",
      "    ├ Bin_Frequencies\n",
      "    ├ Bin_Indices\n",
      "    ├ Bin_Step\n",
      "    ├ Bin_Wfm_Type\n",
      "    ├ Excitation_Waveform\n",
      "    ├ Noise_Floor\n",
      "    ├ Noisy_Data_1\n",
      "    ├ Noisy_Data_2\n",
      "    ├ Noisy_Data_3\n",
      "    ├ Noisy_Data_4\n",
      "    ├ Noisy_Data_5\n",
      "    ├ Noisy_Data_6\n",
      "    ├ Noisy_Data_7\n",
      "    ├ Noisy_Data_8\n",
      "    ├ Position_Indices\n",
      "    ├ Position_Values\n",
      "    ├ Raw_Data\n",
      "    ├ Spatially_Averaged_Plot_Group_000\n",
      "      ---------------------------------\n",
      "      ├ Bin_Frequencies\n",
      "      ├ Max_Response\n",
      "      ├ Mean_Spectrogram\n",
      "      ├ Min_Response\n",
      "      ├ Spectroscopic_Parameter\n",
      "      ├ Step_Averaged_Response\n",
      "    ├ Spatially_Averaged_Plot_Group_001\n",
      "      ---------------------------------\n",
      "      ├ Bin_Frequencies\n",
      "      ├ Max_Response\n",
      "      ├ Mean_Spectrogram\n",
      "      ├ Min_Response\n",
      "      ├ Spectroscopic_Parameter\n",
      "      ├ Step_Averaged_Response\n",
      "    ├ Spectroscopic_Indices\n",
      "    ├ Spectroscopic_Values\n",
      "    ├ UDVS\n",
      "    ├ UDVS_Indices\n",
      "├ Noisy_Data_1_SHO_Fit\n",
      "  --------------------\n",
      "  ├ Noisy_Data_1-SHO_Fit_000\n",
      "    ------------------------\n",
      "    ├ Fit\n",
      "    ├ Guess\n",
      "    ├ Spectroscopic_Indices\n",
      "    ├ Spectroscopic_Values\n",
      "    ├ completed_fit_positions\n",
      "    ├ completed_guess_positions\n",
      "├ Noisy_Data_2_SHO_Fit\n",
      "  --------------------\n",
      "  ├ Noisy_Data_2-SHO_Fit_000\n",
      "    ------------------------\n",
      "    ├ Fit\n",
      "    ├ Guess\n",
      "    ├ Spectroscopic_Indices\n",
      "    ├ Spectroscopic_Values\n",
      "    ├ completed_fit_positions\n",
      "    ├ completed_guess_positions\n",
      "├ Noisy_Data_3_SHO_Fit\n",
      "  --------------------\n",
      "  ├ Noisy_Data_3-SHO_Fit_000\n",
      "    ------------------------\n",
      "    ├ Fit\n",
      "    ├ Guess\n",
      "    ├ Spectroscopic_Indices\n",
      "    ├ Spectroscopic_Values\n",
      "    ├ completed_fit_positions\n",
      "    ├ completed_guess_positions\n",
      "├ Noisy_Data_4_SHO_Fit\n",
      "  --------------------\n",
      "  ├ Noisy_Data_4-SHO_Fit_000\n",
      "    ------------------------\n",
      "    ├ Fit\n",
      "    ├ Guess\n",
      "    ├ Spectroscopic_Indices\n",
      "    ├ Spectroscopic_Values\n",
      "    ├ completed_fit_positions\n",
      "    ├ completed_guess_positions\n",
      "├ Noisy_Data_5_SHO_Fit\n",
      "  --------------------\n",
      "  ├ Noisy_Data_5-SHO_Fit_000\n",
      "    ------------------------\n",
      "    ├ Fit\n",
      "    ├ Guess\n",
      "    ├ Spectroscopic_Indices\n",
      "    ├ Spectroscopic_Values\n",
      "    ├ completed_fit_positions\n",
      "    ├ completed_guess_positions\n",
      "├ Noisy_Data_6_SHO_Fit\n",
      "  --------------------\n",
      "  ├ Noisy_Data_6-SHO_Fit_000\n",
      "    ------------------------\n",
      "    ├ Fit\n",
      "    ├ Guess\n",
      "    ├ Spectroscopic_Indices\n",
      "    ├ Spectroscopic_Values\n",
      "    ├ completed_fit_positions\n",
      "    ├ completed_guess_positions\n",
      "├ Noisy_Data_7_SHO_Fit\n",
      "  --------------------\n",
      "  ├ Noisy_Data_7-SHO_Fit_000\n",
      "    ------------------------\n",
      "    ├ Fit\n",
      "    ├ Guess\n",
      "    ├ Spectroscopic_Indices\n",
      "    ├ Spectroscopic_Values\n",
      "    ├ completed_fit_positions\n",
      "    ├ completed_guess_positions\n",
      "├ Noisy_Data_8_SHO_Fit\n",
      "  --------------------\n",
      "  ├ Noisy_Data_8-SHO_Fit_000\n",
      "    ------------------------\n",
      "    ├ Fit\n",
      "    ├ Guess\n",
      "    ├ Spectroscopic_Indices\n",
      "    ├ Spectroscopic_Values\n",
      "    ├ completed_fit_positions\n",
      "    ├ completed_guess_positions\n",
      "├ Raw_Data_SHO_Fit\n",
      "  ----------------\n",
      "  ├ Raw_Data-SHO_Fit_000\n",
      "    --------------------\n",
      "    ├ Fit\n",
      "    ├ Fit-Loop_Fit_000\n",
      "      ----------------\n",
      "      ├ Fit\n",
      "      ├ Fit_Loop_Parameters\n",
      "      ├ Guess\n",
      "      ├ Guess_Loop_Parameters\n",
      "      ├ Loop_Metrics\n",
      "      ├ Loop_Metrics_Indices\n",
      "      ├ Loop_Metrics_Values\n",
      "      ├ Projected_Loops\n",
      "      ├ completed_fit_positions\n",
      "      ├ completed_guess_positions\n",
      "      ├ completed_positions\n",
      "    ├ Guess\n",
      "    ├ Spectroscopic_Indices\n",
      "    ├ Spectroscopic_Values\n",
      "    ├ completed_fit_positions\n",
      "    ├ completed_guess_positions\n",
      "Datasets and datagroups within the file:\n",
      "------------------------------------\n",
      "/\n",
      "/Measurement_000\n",
      "/Measurement_000/Channel_000\n",
      "/Measurement_000/Channel_000/Bin_FFT\n",
      "/Measurement_000/Channel_000/Bin_Frequencies\n",
      "/Measurement_000/Channel_000/Bin_Indices\n",
      "/Measurement_000/Channel_000/Bin_Step\n",
      "/Measurement_000/Channel_000/Bin_Wfm_Type\n",
      "/Measurement_000/Channel_000/Excitation_Waveform\n",
      "/Measurement_000/Channel_000/Noise_Floor\n",
      "/Measurement_000/Channel_000/Noisy_Data_1\n",
      "/Measurement_000/Channel_000/Noisy_Data_2\n",
      "/Measurement_000/Channel_000/Noisy_Data_3\n",
      "/Measurement_000/Channel_000/Noisy_Data_4\n",
      "/Measurement_000/Channel_000/Noisy_Data_5\n",
      "/Measurement_000/Channel_000/Noisy_Data_6\n",
      "/Measurement_000/Channel_000/Noisy_Data_7\n",
      "/Measurement_000/Channel_000/Noisy_Data_8\n",
      "/Measurement_000/Channel_000/Position_Indices\n",
      "/Measurement_000/Channel_000/Position_Values\n",
      "/Measurement_000/Channel_000/Raw_Data\n",
      "/Measurement_000/Channel_000/Spatially_Averaged_Plot_Group_000\n",
      "/Measurement_000/Channel_000/Spatially_Averaged_Plot_Group_000/Bin_Frequencies\n",
      "/Measurement_000/Channel_000/Spatially_Averaged_Plot_Group_000/Max_Response\n",
      "/Measurement_000/Channel_000/Spatially_Averaged_Plot_Group_000/Mean_Spectrogram\n",
      "/Measurement_000/Channel_000/Spatially_Averaged_Plot_Group_000/Min_Response\n",
      "/Measurement_000/Channel_000/Spatially_Averaged_Plot_Group_000/Spectroscopic_Parameter\n",
      "/Measurement_000/Channel_000/Spatially_Averaged_Plot_Group_000/Step_Averaged_Response\n",
      "/Measurement_000/Channel_000/Spatially_Averaged_Plot_Group_001\n",
      "/Measurement_000/Channel_000/Spatially_Averaged_Plot_Group_001/Bin_Frequencies\n",
      "/Measurement_000/Channel_000/Spatially_Averaged_Plot_Group_001/Max_Response\n",
      "/Measurement_000/Channel_000/Spatially_Averaged_Plot_Group_001/Mean_Spectrogram\n",
      "/Measurement_000/Channel_000/Spatially_Averaged_Plot_Group_001/Min_Response\n",
      "/Measurement_000/Channel_000/Spatially_Averaged_Plot_Group_001/Spectroscopic_Parameter\n",
      "/Measurement_000/Channel_000/Spatially_Averaged_Plot_Group_001/Step_Averaged_Response\n",
      "/Measurement_000/Channel_000/Spectroscopic_Indices\n",
      "/Measurement_000/Channel_000/Spectroscopic_Values\n",
      "/Measurement_000/Channel_000/UDVS\n",
      "/Measurement_000/Channel_000/UDVS_Indices\n",
      "/Noisy_Data_1_SHO_Fit\n",
      "/Noisy_Data_1_SHO_Fit/Noisy_Data_1-SHO_Fit_000\n",
      "/Noisy_Data_1_SHO_Fit/Noisy_Data_1-SHO_Fit_000/Fit\n",
      "/Noisy_Data_1_SHO_Fit/Noisy_Data_1-SHO_Fit_000/Guess\n",
      "/Noisy_Data_1_SHO_Fit/Noisy_Data_1-SHO_Fit_000/Spectroscopic_Indices\n",
      "/Noisy_Data_1_SHO_Fit/Noisy_Data_1-SHO_Fit_000/Spectroscopic_Values\n",
      "/Noisy_Data_1_SHO_Fit/Noisy_Data_1-SHO_Fit_000/completed_fit_positions\n",
      "/Noisy_Data_1_SHO_Fit/Noisy_Data_1-SHO_Fit_000/completed_guess_positions\n",
      "/Noisy_Data_2_SHO_Fit\n",
      "/Noisy_Data_2_SHO_Fit/Noisy_Data_2-SHO_Fit_000\n",
      "/Noisy_Data_2_SHO_Fit/Noisy_Data_2-SHO_Fit_000/Fit\n",
      "/Noisy_Data_2_SHO_Fit/Noisy_Data_2-SHO_Fit_000/Guess\n",
      "/Noisy_Data_2_SHO_Fit/Noisy_Data_2-SHO_Fit_000/Spectroscopic_Indices\n",
      "/Noisy_Data_2_SHO_Fit/Noisy_Data_2-SHO_Fit_000/Spectroscopic_Values\n",
      "/Noisy_Data_2_SHO_Fit/Noisy_Data_2-SHO_Fit_000/completed_fit_positions\n",
      "/Noisy_Data_2_SHO_Fit/Noisy_Data_2-SHO_Fit_000/completed_guess_positions\n",
      "/Noisy_Data_3_SHO_Fit\n",
      "/Noisy_Data_3_SHO_Fit/Noisy_Data_3-SHO_Fit_000\n",
      "/Noisy_Data_3_SHO_Fit/Noisy_Data_3-SHO_Fit_000/Fit\n",
      "/Noisy_Data_3_SHO_Fit/Noisy_Data_3-SHO_Fit_000/Guess\n",
      "/Noisy_Data_3_SHO_Fit/Noisy_Data_3-SHO_Fit_000/Spectroscopic_Indices\n",
      "/Noisy_Data_3_SHO_Fit/Noisy_Data_3-SHO_Fit_000/Spectroscopic_Values\n",
      "/Noisy_Data_3_SHO_Fit/Noisy_Data_3-SHO_Fit_000/completed_fit_positions\n",
      "/Noisy_Data_3_SHO_Fit/Noisy_Data_3-SHO_Fit_000/completed_guess_positions\n",
      "/Noisy_Data_4_SHO_Fit\n",
      "/Noisy_Data_4_SHO_Fit/Noisy_Data_4-SHO_Fit_000\n",
      "/Noisy_Data_4_SHO_Fit/Noisy_Data_4-SHO_Fit_000/Fit\n",
      "/Noisy_Data_4_SHO_Fit/Noisy_Data_4-SHO_Fit_000/Guess\n",
      "/Noisy_Data_4_SHO_Fit/Noisy_Data_4-SHO_Fit_000/Spectroscopic_Indices\n",
      "/Noisy_Data_4_SHO_Fit/Noisy_Data_4-SHO_Fit_000/Spectroscopic_Values\n",
      "/Noisy_Data_4_SHO_Fit/Noisy_Data_4-SHO_Fit_000/completed_fit_positions\n",
      "/Noisy_Data_4_SHO_Fit/Noisy_Data_4-SHO_Fit_000/completed_guess_positions\n",
      "/Noisy_Data_5_SHO_Fit\n",
      "/Noisy_Data_5_SHO_Fit/Noisy_Data_5-SHO_Fit_000\n",
      "/Noisy_Data_5_SHO_Fit/Noisy_Data_5-SHO_Fit_000/Fit\n",
      "/Noisy_Data_5_SHO_Fit/Noisy_Data_5-SHO_Fit_000/Guess\n",
      "/Noisy_Data_5_SHO_Fit/Noisy_Data_5-SHO_Fit_000/Spectroscopic_Indices\n",
      "/Noisy_Data_5_SHO_Fit/Noisy_Data_5-SHO_Fit_000/Spectroscopic_Values\n",
      "/Noisy_Data_5_SHO_Fit/Noisy_Data_5-SHO_Fit_000/completed_fit_positions\n",
      "/Noisy_Data_5_SHO_Fit/Noisy_Data_5-SHO_Fit_000/completed_guess_positions\n",
      "/Noisy_Data_6_SHO_Fit\n",
      "/Noisy_Data_6_SHO_Fit/Noisy_Data_6-SHO_Fit_000\n",
      "/Noisy_Data_6_SHO_Fit/Noisy_Data_6-SHO_Fit_000/Fit\n",
      "/Noisy_Data_6_SHO_Fit/Noisy_Data_6-SHO_Fit_000/Guess\n",
      "/Noisy_Data_6_SHO_Fit/Noisy_Data_6-SHO_Fit_000/Spectroscopic_Indices\n",
      "/Noisy_Data_6_SHO_Fit/Noisy_Data_6-SHO_Fit_000/Spectroscopic_Values\n",
      "/Noisy_Data_6_SHO_Fit/Noisy_Data_6-SHO_Fit_000/completed_fit_positions\n",
      "/Noisy_Data_6_SHO_Fit/Noisy_Data_6-SHO_Fit_000/completed_guess_positions\n",
      "/Noisy_Data_7_SHO_Fit\n",
      "/Noisy_Data_7_SHO_Fit/Noisy_Data_7-SHO_Fit_000\n",
      "/Noisy_Data_7_SHO_Fit/Noisy_Data_7-SHO_Fit_000/Fit\n",
      "/Noisy_Data_7_SHO_Fit/Noisy_Data_7-SHO_Fit_000/Guess\n",
      "/Noisy_Data_7_SHO_Fit/Noisy_Data_7-SHO_Fit_000/Spectroscopic_Indices\n",
      "/Noisy_Data_7_SHO_Fit/Noisy_Data_7-SHO_Fit_000/Spectroscopic_Values\n",
      "/Noisy_Data_7_SHO_Fit/Noisy_Data_7-SHO_Fit_000/completed_fit_positions\n",
      "/Noisy_Data_7_SHO_Fit/Noisy_Data_7-SHO_Fit_000/completed_guess_positions\n",
      "/Noisy_Data_8_SHO_Fit\n",
      "/Noisy_Data_8_SHO_Fit/Noisy_Data_8-SHO_Fit_000\n",
      "/Noisy_Data_8_SHO_Fit/Noisy_Data_8-SHO_Fit_000/Fit\n",
      "/Noisy_Data_8_SHO_Fit/Noisy_Data_8-SHO_Fit_000/Guess\n",
      "/Noisy_Data_8_SHO_Fit/Noisy_Data_8-SHO_Fit_000/Spectroscopic_Indices\n",
      "/Noisy_Data_8_SHO_Fit/Noisy_Data_8-SHO_Fit_000/Spectroscopic_Values\n",
      "/Noisy_Data_8_SHO_Fit/Noisy_Data_8-SHO_Fit_000/completed_fit_positions\n",
      "/Noisy_Data_8_SHO_Fit/Noisy_Data_8-SHO_Fit_000/completed_guess_positions\n",
      "/Raw_Data_SHO_Fit\n",
      "/Raw_Data_SHO_Fit/Raw_Data-SHO_Fit_000\n",
      "/Raw_Data_SHO_Fit/Raw_Data-SHO_Fit_000/Fit\n",
      "/Raw_Data_SHO_Fit/Raw_Data-SHO_Fit_000/Fit-Loop_Fit_000\n",
      "/Raw_Data_SHO_Fit/Raw_Data-SHO_Fit_000/Fit-Loop_Fit_000/Fit\n",
      "/Raw_Data_SHO_Fit/Raw_Data-SHO_Fit_000/Fit-Loop_Fit_000/Fit_Loop_Parameters\n",
      "/Raw_Data_SHO_Fit/Raw_Data-SHO_Fit_000/Fit-Loop_Fit_000/Guess\n",
      "/Raw_Data_SHO_Fit/Raw_Data-SHO_Fit_000/Fit-Loop_Fit_000/Guess_Loop_Parameters\n",
      "/Raw_Data_SHO_Fit/Raw_Data-SHO_Fit_000/Fit-Loop_Fit_000/Loop_Metrics\n",
      "/Raw_Data_SHO_Fit/Raw_Data-SHO_Fit_000/Fit-Loop_Fit_000/Loop_Metrics_Indices\n",
      "/Raw_Data_SHO_Fit/Raw_Data-SHO_Fit_000/Fit-Loop_Fit_000/Loop_Metrics_Values\n",
      "/Raw_Data_SHO_Fit/Raw_Data-SHO_Fit_000/Fit-Loop_Fit_000/Projected_Loops\n",
      "/Raw_Data_SHO_Fit/Raw_Data-SHO_Fit_000/Fit-Loop_Fit_000/completed_fit_positions\n",
      "/Raw_Data_SHO_Fit/Raw_Data-SHO_Fit_000/Fit-Loop_Fit_000/completed_guess_positions\n",
      "/Raw_Data_SHO_Fit/Raw_Data-SHO_Fit_000/Fit-Loop_Fit_000/completed_positions\n",
      "/Raw_Data_SHO_Fit/Raw_Data-SHO_Fit_000/Guess\n",
      "/Raw_Data_SHO_Fit/Raw_Data-SHO_Fit_000/Spectroscopic_Indices\n",
      "/Raw_Data_SHO_Fit/Raw_Data-SHO_Fit_000/Spectroscopic_Values\n",
      "/Raw_Data_SHO_Fit/Raw_Data-SHO_Fit_000/completed_fit_positions\n",
      "/Raw_Data_SHO_Fit/Raw_Data-SHO_Fit_000/completed_guess_positions\n",
      "\n",
      "The main dataset:\n",
      "------------------------------------\n",
      "<HDF5 file \"data_raw_SHO.h5\" (mode r+)>\n",
      "\n",
      "The ancillary datasets:\n",
      "------------------------------------\n",
      "<HDF5 dataset \"Position_Indices\": shape (3600, 2), type \"<u4\">\n",
      "<HDF5 dataset \"Position_Values\": shape (3600, 2), type \"<f4\">\n",
      "<HDF5 dataset \"Spectroscopic_Indices\": shape (4, 63360), type \"<u4\">\n",
      "<HDF5 dataset \"Spectroscopic_Values\": shape (4, 63360), type \"<f4\">\n",
      "\n",
      "Metadata or attributes in a datagroup\n",
      "------------------------------------\n",
      "BE_actual_duration_[s] : 0.004\n",
      "BE_amplitude_[V] : 1\n",
      "BE_auto_smoothing : auto smoothing on\n",
      "BE_band_edge_smoothing_[s] : 4832.1\n",
      "BE_band_edge_trim : 0.094742\n",
      "BE_band_width_[Hz] : 200000\n",
      "BE_bins_per_band : 0\n",
      "BE_center_frequency_[Hz] : 1310000\n",
      "BE_desired_duration_[s] : 0.004\n",
      "BE_phase_content : chirp-sinc hybrid\n",
      "BE_phase_variation : 1\n",
      "BE_points_per_BE_wave : 0\n",
      "BE_repeats : 4\n",
      "FORC_V_high1_[V] : 1\n",
      "FORC_V_high2_[V] : 10\n",
      "FORC_V_low1_[V] : -1\n",
      "FORC_V_low2_[V] : -10\n",
      "FORC_num_of_FORC_cycles : 1\n",
      "FORC_num_of_FORC_repeats : 1\n",
      "File_MDAQ_version : MDAQ_VS_090915_01\n",
      "File_date_and_time : 18-Sep-2015 18:32:14\n",
      "File_file_name : SP128_NSO\n",
      "File_file_path : C:\\Users\\Asylum User\\Documents\\Users\\Agar\\SP128_NSO\\\n",
      "File_file_suffix : 99\n",
      "IO_AO_amplifier : 10\n",
      "IO_AO_range_[V] : +/- 10\n",
      "IO_Analog_Input_1 : +/- .1V, FFT\n",
      "IO_Analog_Input_2 : off\n",
      "IO_Analog_Input_3 : off\n",
      "IO_Analog_Input_4 : off\n",
      "IO_DAQ_platform : NI 6115\n",
      "IO_rate_[Hz] : 4000000\n",
      "VS_amplitude_[V] : 16\n",
      "VS_cycle_fraction : full\n",
      "VS_cycle_phase_shift : 0\n",
      "VS_measure_in_field_loops : in and out-of-field\n",
      "VS_mode : DC modulation mode\n",
      "VS_number_of_cycles : 2\n",
      "VS_offset_[V] : 0\n",
      "VS_read_voltage_[V] : 0\n",
      "VS_set_pulse_amplitude[V] : 0\n",
      "VS_set_pulse_duration[s] : 0.002\n",
      "VS_step_edge_smoothing_[s] : 0.001\n",
      "VS_steps_per_full_cycle : 96\n",
      "data_type : BEPSData\n",
      "grid_/single : grid\n",
      "grid_contact_set_point_[V] : 1\n",
      "grid_current_col : 1\n",
      "grid_current_row : 1\n",
      "grid_cycle_time_[s] : 10\n",
      "grid_measuring : 0\n",
      "grid_moving : 0\n",
      "grid_num_cols : 60\n",
      "grid_num_rows : 60\n",
      "grid_settle_time_[s] : 0.15\n",
      "grid_time_remaining_[h;m;s] : 10\n",
      "grid_total_time_[h;m;s] : 10\n",
      "grid_transit_set_point_[V] : 0.1\n",
      "grid_transit_time_[s] : 0.15\n",
      "num_bins : 165\n",
      "num_pix : 3600\n",
      "num_udvs_steps : 384\n"
     ]
    }
   ],
   "source": [
    "# Specify the filename and the path to save the file\n",
    "filename = \"data_raw_SHO.h5\"\n",
    "save_path = \"./Data\"\n",
    "\n",
    "\n",
    "data_path = save_path + \"/\" + filename\n",
    "\n",
    "# instantiate the dataset object\n",
    "dataset = BE_Dataset(data_path, resample_bins=None, SHO_fit_func_NN=SHO_fit_func_nn,\n",
    "                     )\n",
    "\n",
    "# print the contents of the file\n",
    "dataset.print_be_tree()"
   ]
  },
  {
   "attachments": {},
   "cell_type": "markdown",
   "metadata": {},
   "source": [
    "## Performs SHO fits"
   ]
  },
  {
   "cell_type": "code",
   "execution_count": 5,
   "metadata": {},
   "outputs": [
    {
     "name": "stdout",
     "output_type": "stream",
     "text": [
      "Consider calling test() to check results before calling compute() which computes on the entire dataset and writes results to the HDF5 file\n",
      "\n",
      "Note: Loop_Fit has already been performed with the same parameters before. These results will be returned by compute() by default. Set override to True to force fresh computation\n",
      "\n",
      "[<HDF5 group \"/Raw_Data_SHO_Fit/Raw_Data-SHO_Fit_000/Fit-Loop_Fit_000\" (11 members)>]\n",
      "\n",
      "Note: Loop_Fit has already been performed with the same parameters before. These results will be returned by compute() by default. Set override to True to force fresh computation\n",
      "\n",
      "[<HDF5 group \"/Raw_Data_SHO_Fit/Raw_Data-SHO_Fit_000/Fit-Loop_Fit_000\" (11 members)>]\n",
      "Returned previously computed results at /Raw_Data_SHO_Fit/Raw_Data-SHO_Fit_000/Fit-Loop_Fit_000\n",
      "\n",
      "Note: Loop_Fit has already been performed with the same parameters before. These results will be returned by compute() by default. Set override to True to force fresh computation\n",
      "\n",
      "[<HDF5 group \"/Raw_Data_SHO_Fit/Raw_Data-SHO_Fit_000/Fit-Loop_Fit_000\" (11 members)>]\n",
      "Returned previously computed results at /Raw_Data_SHO_Fit/Raw_Data-SHO_Fit_000/Fit-Loop_Fit_000\n"
     ]
    },
    {
     "name": "stderr",
     "output_type": "stream",
     "text": [
      "/home/ferroelectric/micromamba/envs/shofittting/lib/python3.10/site-packages/pyUSID/io/hdf_utils/simple.py:888: UserWarning: A dataset named: Guess_Loop_Parameters already exists in group: /Raw_Data_SHO_Fit/Raw_Data-SHO_Fit_000/Fit-Loop_Fit_000\n",
      "  warn('A dataset named: {} already exists in group: {}'.format(dset_name, h5_group.name))\n",
      "/home/ferroelectric/micromamba/envs/shofittting/lib/python3.10/site-packages/pyUSID/io/hdf_utils/simple.py:888: UserWarning: A dataset named: Fit_Loop_Parameters already exists in group: /Raw_Data_SHO_Fit/Raw_Data-SHO_Fit_000/Fit-Loop_Fit_000\n",
      "  warn('A dataset named: {} already exists in group: {}'.format(dset_name, h5_group.name))\n"
     ]
    }
   ],
   "source": [
    "h5_loop_fit, h5_loop_group = dataset.LSQF_Loop_Fit()"
   ]
  },
  {
   "cell_type": "markdown",
   "metadata": {},
   "source": [
    "## Neural Network Fits"
   ]
  },
  {
   "cell_type": "code",
   "execution_count": 6,
   "metadata": {},
   "outputs": [],
   "source": [
    "self = dataset"
   ]
  },
  {
   "cell_type": "code",
   "execution_count": 48,
   "metadata": {},
   "outputs": [],
   "source": [
    "from m3_learning.util.rand_util import in_list\n"
   ]
  },
  {
   "cell_type": "code",
   "execution_count": 50,
   "metadata": {},
   "outputs": [
    {
     "data": {
      "text/plain": [
       "True"
      ]
     },
     "execution_count": 50,
     "metadata": {},
     "output_type": "execute_result"
    }
   ],
   "source": [
    "list_ = dataset.get_tree()\n",
    "\n",
    "in_list(list_, \"*SHO_Fit*\")"
   ]
  },
  {
   "cell_type": "code",
   "execution_count": null,
   "metadata": {},
   "outputs": [],
   "source": [
    "from m3_learning.be.loop_fitter import loop_fitting_function_torch\n",
    "\n",
    "\n",
    "model_ = Multiscale1DFitter(loop_fitting_function_torch, # function \n",
    "                            x_data, # x data\n",
    "                            1, # input channels\n",
    "                            9, # output parameters\n",
    "                            dataset.SHO_scaler, \n",
    "                            postprocessor)"
   ]
  },
  {
   "cell_type": "markdown",
   "metadata": {},
   "source": [
    "## Plot a Random Example of the fit"
   ]
  },
  {
   "cell_type": "code",
   "execution_count": null,
   "metadata": {},
   "outputs": [],
   "source": [
    "# insatiate the visualization object\n",
    "image_scalebar = [2000, 500, \"nm\", \"br\"]\n",
    "\n",
    "BE_viz = Viz(dataset, printing, verbose=True, \n",
    "             SHO_ranges = [(0,1.5e-4), (1.31e6, 1.33e6), (-300, 300), (-np.pi, np.pi)], \n",
    "             image_scalebar = image_scalebar)\n",
    "\n",
    "self = BE_viz"
   ]
  },
  {
   "cell_type": "code",
   "execution_count": null,
   "metadata": {},
   "outputs": [],
   "source": []
  },
  {
   "cell_type": "code",
   "execution_count": null,
   "metadata": {},
   "outputs": [],
   "source": [
    "def hysteresis_fit(self, voltage, datasets, original = True,\n",
    "                   row = None, \n",
    "                   col = None,\n",
    "                   cycle = None):\n",
    "    \n",
    "    if row is None:\n",
    "        row = np.random.randint(0, self.dataset.num_rows, 1)\n",
    "        \n",
    "    if col is None:\n",
    "        col = np.random.randint(0, self.dataset.num_cols, 1)\n",
    "        \n",
    "    if cycle is None:\n",
    "        cycle = np.random.randint(0, self.dataset.num_cycles, 1)\n",
    "    \n",
    "    fig, ax = subfigures(1,1, size = (1.25,1.25))\n",
    "    \n",
    "    if original:\n",
    "        \n",
    "        "
   ]
  },
  {
   "cell_type": "code",
   "execution_count": null,
   "metadata": {},
   "outputs": [],
   "source": [
    "from m3_learning.viz.layout import layout_fig, inset_connector, add_box, subfigures, add_text_to_figure, get_axis_pos_inches, imagemap,  FigDimConverter, labelfigs, imagemap, scalebar\n",
    "\n",
    "fig, ax = subfigures(1,1, size = (1.25,1.25))\n",
    "\n",
    "\n",
    "axs.plot(V, proj_nd_shifted_transposed[i[0], i[1], :, 3],'og',\n",
    "         label='initial loops')\n",
    "axs.plot(V, loop_fit_results[:, i[0], i[1]], 'blue', label='fit results (NumPy)')\n",
    "axs.plot(V, np.reshape(loop_fitting_function_tf(func_type, V, params), \n",
    "                       (num_pix_1d, num_pix_1d, 96))[i[0], i[1], :], 'black', \n",
    "         label='fit results (Tensorflow)')\n",
    "axs.legend()\n",
    "axs.ticklabel_format(axis=\"y\", style=\"sci\", scilimits=(0,0))\n",
    "axs.set(xlabel='Voltage (V)', ylabel='Amplitude (Arb. U.)')\n",
    "axs.label_outer()"
   ]
  },
  {
   "cell_type": "code",
   "execution_count": null,
   "metadata": {},
   "outputs": [],
   "source": []
  },
  {
   "cell_type": "code",
   "execution_count": null,
   "metadata": {},
   "outputs": [],
   "source": []
  },
  {
   "cell_type": "code",
   "execution_count": null,
   "metadata": {},
   "outputs": [],
   "source": [
    "with h5py.File(dataset.file, \"r+\") as h5_f:\n",
    "    \n",
    "    out = h5_f['/Raw_Data_SHO_Fit/Raw_Data-SHO_Fit_000/Fit-Loop_Fit_000/Fit'][:]"
   ]
  },
  {
   "cell_type": "code",
   "execution_count": 26,
   "metadata": {},
   "outputs": [
    {
     "name": "stdout",
     "output_type": "stream",
     "text": [
      "No spectroscopic datasets found as attributes of /Measurement_000/Channel_000/Position_Indices\n",
      "No position datasets found as attributes of /Raw_Data_SHO_Fit/Raw_Data-SHO_Fit_000/Spectroscopic_Values\n"
     ]
    }
   ],
   "source": [
    "out, bias = dataset.get_hysteresis(plotting_values=True, output_shape = \"index\")\n",
    "# made it so you can get the flattened values. next we need to do the preprocessing\n"
   ]
  },
  {
   "cell_type": "code",
   "execution_count": 24,
   "metadata": {},
   "outputs": [
    {
     "data": {
      "text/plain": [
       "14400"
      ]
     },
     "execution_count": 24,
     "metadata": {},
     "output_type": "execute_result"
    }
   ],
   "source": [
    "3600*4"
   ]
  },
  {
   "cell_type": "code",
   "execution_count": 27,
   "metadata": {},
   "outputs": [
    {
     "data": {
      "text/plain": [
       "(14400, 96)"
      ]
     },
     "execution_count": 27,
     "metadata": {},
     "output_type": "execute_result"
    }
   ],
   "source": [
    "out.shape"
   ]
  },
  {
   "cell_type": "code",
   "execution_count": 56,
   "metadata": {},
   "outputs": [
    {
     "data": {
      "text/plain": [
       "{'resampled': False,\n",
       " 'raw_format': 'complex',\n",
       " 'fitter': 'LSQF',\n",
       " 'scaled': False,\n",
       " 'output_shape': 'pixels',\n",
       " 'measurement_state': 'all',\n",
       " 'resampled_bins': 165,\n",
       " 'LSQF_phase_shift': None,\n",
       " 'NN_phase_shift': None,\n",
       " 'noise': 0}"
      ]
     },
     "execution_count": 56,
     "metadata": {},
     "output_type": "execute_result"
    }
   ],
   "source": [
    "dataset.get_state"
   ]
  },
  {
   "cell_type": "code",
   "execution_count": 58,
   "metadata": {},
   "outputs": [
    {
     "name": "stderr",
     "output_type": "stream",
     "text": [
      "[autoreload of m3_learning.be.dataset failed: Traceback (most recent call last):\n",
      "  File \"/home/ferroelectric/.local/lib/python3.9/site-packages/IPython/extensions/autoreload.py\", line 273, in check\n",
      "    superreload(m, reload, self.old_objects)\n",
      "  File \"/home/ferroelectric/.local/lib/python3.9/site-packages/IPython/extensions/autoreload.py\", line 496, in superreload\n",
      "    update_generic(old_obj, new_obj)\n",
      "  File \"/home/ferroelectric/.local/lib/python3.9/site-packages/IPython/extensions/autoreload.py\", line 393, in update_generic\n",
      "    update(a, b)\n",
      "  File \"/home/ferroelectric/.local/lib/python3.9/site-packages/IPython/extensions/autoreload.py\", line 345, in update_class\n",
      "    if update_generic(old_obj, new_obj):\n",
      "  File \"/home/ferroelectric/.local/lib/python3.9/site-packages/IPython/extensions/autoreload.py\", line 393, in update_generic\n",
      "    update(a, b)\n",
      "  File \"/home/ferroelectric/.local/lib/python3.9/site-packages/IPython/extensions/autoreload.py\", line 305, in update_function\n",
      "    setattr(old, name, getattr(new, name))\n",
      "ValueError: get_hysteresis() requires a code object with 0 free vars, not 1\n",
      "]\n",
      "[autoreload of src.m3_learning.be.dataset failed: Traceback (most recent call last):\n",
      "  File \"/home/ferroelectric/.local/lib/python3.9/site-packages/IPython/extensions/autoreload.py\", line 273, in check\n",
      "    superreload(m, reload, self.old_objects)\n",
      "  File \"/home/ferroelectric/.local/lib/python3.9/site-packages/IPython/extensions/autoreload.py\", line 496, in superreload\n",
      "    update_generic(old_obj, new_obj)\n",
      "  File \"/home/ferroelectric/.local/lib/python3.9/site-packages/IPython/extensions/autoreload.py\", line 393, in update_generic\n",
      "    update(a, b)\n",
      "  File \"/home/ferroelectric/.local/lib/python3.9/site-packages/IPython/extensions/autoreload.py\", line 345, in update_class\n",
      "    if update_generic(old_obj, new_obj):\n",
      "  File \"/home/ferroelectric/.local/lib/python3.9/site-packages/IPython/extensions/autoreload.py\", line 393, in update_generic\n",
      "    update(a, b)\n",
      "  File \"/home/ferroelectric/.local/lib/python3.9/site-packages/IPython/extensions/autoreload.py\", line 305, in update_function\n",
      "    setattr(old, name, getattr(new, name))\n",
      "ValueError: get_hysteresis() requires a code object with 0 free vars, not 1\n",
      "]\n"
     ]
    },
    {
     "ename": "TypeError",
     "evalue": "get_hysteresis() got an unexpected keyword argument 'noise'",
     "output_type": "error",
     "traceback": [
      "\u001b[0;31m---------------------------------------------------------------------------\u001b[0m",
      "\u001b[0;31mTypeError\u001b[0m                                 Traceback (most recent call last)",
      "Cell \u001b[0;32mIn[58], line 1\u001b[0m\n\u001b[0;32m----> 1\u001b[0m out, bias \u001b[39m=\u001b[39m dataset\u001b[39m.\u001b[39;49mget_hysteresis(noise \u001b[39m=\u001b[39;49m \u001b[39m0\u001b[39;49m, plotting_values\u001b[39m=\u001b[39;49m\u001b[39mTrue\u001b[39;49;00m)\n",
      "\u001b[0;31mTypeError\u001b[0m: get_hysteresis() got an unexpected keyword argument 'noise'"
     ]
    }
   ],
   "source": [
    "out, bias = dataset.get_hysteresis(noise = 0, plotting_values=True)\n"
   ]
  },
  {
   "cell_type": "code",
   "execution_count": 52,
   "metadata": {},
   "outputs": [
    {
     "data": {
      "text/plain": [
       "(60, 60, 96, 4)"
      ]
     },
     "execution_count": 52,
     "metadata": {},
     "output_type": "execute_result"
    }
   ],
   "source": [
    "# need to do the fitting. "
   ]
  },
  {
   "cell_type": "code",
   "execution_count": 31,
   "metadata": {},
   "outputs": [],
   "source": [
    "dataset.noise = 0"
   ]
  },
  {
   "cell_type": "code",
   "execution_count": 41,
   "metadata": {},
   "outputs": [
    {
     "data": {
      "text/plain": [
       "(-5.0939765e-05, 0.00011221, -9.489103, 9.112893, -2.5883776e-07, 4.127603, 3.444781, 3.569492, 5.756202, 0.16547185)"
      ]
     },
     "execution_count": 41,
     "metadata": {},
     "output_type": "execute_result"
    }
   ],
   "source": [
    "dataset.LSQF_hysteresis_params()[0,0,0]"
   ]
  },
  {
   "cell_type": "code",
   "execution_count": 51,
   "metadata": {},
   "outputs": [
    {
     "data": {
      "text/plain": [
       "array([[[(-5.0939765e-05, 1.12208327e-04,  -9.489103 ,  9.112893 , -2.58837758e-07, 4.1276031e+00, 3.444781  ,  3.569492 , 5.7562022e+00, 0.16547185),\n",
       "         (-5.8921243e-05, 1.28217027e-04,  -6.787699 ,  9.686429 ,  1.25447275e-06, 6.1484528e+00, 5.153319  ,  9.821714 , 4.9383836e+00, 0.07621715),\n",
       "         (-5.2515057e-05, 1.17481126e-04,  -6.6974144,  7.2170625,  3.61530397e-07, 6.2768569e+00, 2.2908301 ,  2.8622894, 6.5264616e+00, 0.02717826),\n",
       "         (-5.8921243e-05, 1.28217027e-04,  -6.787699 ,  9.686429 ,  1.25447275e-06, 6.1484528e+00, 5.153319  ,  9.821714 , 4.9383836e+00, 0.03166403)],\n",
       "        [(-5.2515057e-05, 1.17481126e-04,  -6.6974144,  7.2170625,  3.61530397e-07, 6.2768569e+00, 2.2908301 ,  2.8622894, 6.5264616e+00, 0.05556669),\n",
       "         (-5.8921243e-05, 1.28217027e-04,  -6.787699 ,  9.686429 ,  1.25447275e-06, 6.1484528e+00, 5.153319  ,  9.821714 , 4.9383836e+00, 0.02592632),\n",
       "         (-5.2515057e-05, 1.17481126e-04,  -6.6974144,  7.2170625,  3.61530397e-07, 6.2768569e+00, 2.2908301 ,  2.8622894, 6.5264616e+00, 0.0365645 ),\n",
       "         (-6.9518195e-05, 1.46173741e-04,  -6.1217036,  7.733318 ,  1.14110480e-06, 6.2541180e+00, 3.8479214 ,  6.3501906, 5.5485129e+00, 0.01598732)],\n",
       "        [(-7.5063937e-05, 1.35352602e-04,  -8.644528 , 10.239639 ,  1.12408372e-06, 4.1419535e+00, 6.3067884 ,  7.850867 , 4.5509672e+00, 0.04596822),\n",
       "         (-7.5594333e-05, 1.42712131e-04,  -5.2645364,  8.601988 ,  1.22401946e-06, 6.2832189e+00, 3.4126685 ,  7.5591807, 6.0126123e+00, 0.01914307),\n",
       "         (-7.7338977e-05, 1.38630829e-04,  -6.887467 ,  6.0027847,  1.92778799e-07, 6.8135839e+00, 2.718983  ,  1.722748 , 7.1336007e+00, 0.0337604 ),\n",
       "         (-6.9518195e-05, 1.46173741e-04,  -6.1217036,  7.733318 ,  1.14110480e-06, 6.2541180e+00, 3.8479214 ,  6.3501906, 5.5485129e+00, 0.00809663)],\n",
       "        ...,\n",
       "        [(-5.8721565e-05, 1.02890408e-04,  -6.997955 ,  9.867865 , -7.71493148e-07, 4.3233390e+00, 3.06602   ,  1.5149317, 4.9738841e+00, 0.07863153),\n",
       "         (-6.5491658e-05, 1.09235756e-04,  -4.2953515, 12.38208  ,  1.58210878e-06, 5.0777802e+00, 2.9942198 , 12.601816 , 4.2751551e+00, 0.01665103),\n",
       "         (-5.8721565e-05, 1.02890408e-04,  -6.997955 ,  9.867865 , -7.71493148e-07, 4.3233390e+00, 3.06602   ,  1.5149317, 4.9738841e+00, 0.07586386),\n",
       "         (-6.7390545e-05, 1.18533775e-04,  -6.509573 , 12.736724 ,  1.40085581e-06, 3.6517324e+00, 4.402675  ,  9.179971 , 3.6790268e+00, 0.02521677)],\n",
       "        [(-3.5255889e-05, 7.11967878e-05,  -6.473914 , 10.78521  ,  1.11728660e-07, 5.7608266e+00, 2.79623   ,  2.5983114, 5.1352348e+00, 0.10407343),\n",
       "         ( 5.3508615e-05, 7.07309810e-05,  -4.7961555, 16.580069 ,  2.04149296e-06, 3.1978893e+00, 3.11013   , 11.074118 , 1.0000000e-03, 0.05109997),\n",
       "         (-3.5255889e-05, 7.11967878e-05,  -6.473914 , 10.78521  ,  1.11728660e-07, 5.7608266e+00, 2.79623   ,  2.5983114, 5.1352348e+00, 0.10043064),\n",
       "         (-5.0187824e-05, 9.40835380e-05,  -4.605312 , 16.288748 ,  1.59769831e-06, 5.1421685e+00, 3.299332  , 11.702271 , 1.0000000e-03, 0.01234581)],\n",
       "        [(-5.0051261e-05, 9.55424039e-05,  -7.447792 , 10.034826 , -2.77715095e-08, 5.1876860e+00, 3.0313165 ,  3.270746 , 5.6341147e+00, 0.10189335),\n",
       "         (-5.4433982e-05, 1.09221757e-04,  -4.5961456, 12.107311 ,  1.46166747e-06, 6.7864866e+00, 3.576951  , 12.040365 , 3.8910635e+00, 0.02338346),\n",
       "         (-5.9689253e-05, 1.00310397e-04,  -3.9838955,  8.667654 ,  1.15891154e-07, 6.2118020e+00, 0.73280036,  2.7011404, 6.7977223e+00, 0.08299133),\n",
       "         (-5.4433982e-05, 1.09221757e-04,  -4.5961456, 12.107311 ,  1.46166747e-06, 6.7864866e+00, 3.576951  , 12.040365 , 3.8910635e+00, 0.01831413)]],\n",
       "\n",
       "       [[(-5.0939765e-05, 1.12208327e-04,  -9.489103 ,  9.112893 , -2.58837758e-07, 4.1276031e+00, 3.444781  ,  3.569492 , 5.7562022e+00, 0.1217555 ),\n",
       "         (-5.8921243e-05, 1.28217027e-04,  -6.787699 ,  9.686429 ,  1.25447275e-06, 6.1484528e+00, 5.153319  ,  9.821714 , 4.9383836e+00, 0.04094071),\n",
       "         (-5.2515057e-05, 1.17481126e-04,  -6.6974144,  7.2170625,  3.61530397e-07, 6.2768569e+00, 2.2908301 ,  2.8622894, 6.5264616e+00, 0.04771667),\n",
       "         (-6.9518195e-05, 1.46173741e-04,  -6.1217036,  7.733318 ,  1.14110480e-06, 6.2541180e+00, 3.8479214 ,  6.3501906, 5.5485129e+00, 0.01893222)],\n",
       "        [(-6.6630018e-05, 1.38344840e-04,  -7.226449 ,  7.821969 , -3.58720740e-07, 5.1093020e+00, 1.9985542 ,  2.5783343, 6.3069410e+00, 0.03257411),\n",
       "         (-6.9518195e-05, 1.46173741e-04,  -6.1217036,  7.733318 ,  1.14110480e-06, 6.2541180e+00, 3.8479214 ,  6.3501906, 5.5485129e+00, 0.01852176),\n",
       "         (-7.7338977e-05, 1.38630829e-04,  -6.887467 ,  6.0027847,  1.92778799e-07, 6.8135839e+00, 2.718983  ,  1.722748 , 7.1336007e+00, 0.03579788),\n",
       "         (-6.9518195e-05, 1.46173741e-04,  -6.1217036,  7.733318 ,  1.14110480e-06, 6.2541180e+00, 3.8479214 ,  6.3501906, 5.5485129e+00, 0.01206427)],\n",
       "        [(-9.1058813e-05, 1.76960297e-04,  -9.4818735,  9.177978 , -7.57398766e-07, 2.7680647e+00, 3.5490751 ,  2.9857965, 4.8893075e+00, 0.01808394),\n",
       "         (-9.0843110e-05, 1.80584728e-04,  -9.635375 ,  8.73798  ,  1.06341088e-06, 2.4955709e+00, 5.557161  ,  4.654679 , 5.0082974e+00, 0.01365792),\n",
       "         (-8.6446402e-05, 1.79983384e-04,  -7.5392213,  7.050334 , -4.86226838e-07, 5.0436840e+00, 3.2092454 ,  1.9732769, 5.9222474e+00, 0.02220888),\n",
       "         (-8.3629551e-05, 1.73568231e-04,  -7.331829 ,  7.037454 ,  1.02188596e-06, 4.6708922e+00, 4.25387   ,  3.6344748, 5.8587704e+00, 0.00845918)],\n",
       "        ...,\n",
       "        [(-3.5255889e-05, 7.11967878e-05,  -6.473914 , 10.78521  ,  1.11728660e-07, 5.7608266e+00, 2.79623   ,  2.5983114, 5.1352348e+00, 0.14582546),\n",
       "         (-3.9923358e-05, 8.55624894e-05,  -2.8064637, 16.681036 ,  1.66602763e-06, 6.3038392e+00, 1.9955869 , 14.582444 , 1.0000000e-03, 0.02494345),\n",
       "         (-3.7056321e-05, 8.30210192e-05,  -8.364451 , 10.008318 , -4.48801387e-08, 4.7786641e+00, 3.4260597 ,  3.0555906, 5.5447850e+00, 0.0976002 ),\n",
       "         (-3.7535465e-05, 9.41472244e-05,  -3.430542 , 13.603473 ,  1.74052968e-06, 7.7962980e+00, 2.359311  , 12.411165 , 2.6433582e+00, 0.02002747)],\n",
       "        [(-5.0051261e-05, 9.55424039e-05,  -7.447792 , 10.034826 , -2.77715095e-08, 5.1876860e+00, 3.0313165 ,  3.270746 , 5.6341147e+00, 0.11753678),\n",
       "         (-5.4433982e-05, 1.09221757e-04,  -4.5961456, 12.107311 ,  1.46166747e-06, 6.7864866e+00, 3.576951  , 12.040365 , 3.8910635e+00, 0.03970467),\n",
       "         (-5.0051261e-05, 9.55424039e-05,  -7.447792 , 10.034826 , -2.77715095e-08, 5.1876860e+00, 3.0313165 ,  3.270746 , 5.6341147e+00, 0.07756192),\n",
       "         (-5.4433982e-05, 1.09221757e-04,  -4.5961456, 12.107311 ,  1.46166747e-06, 6.7864866e+00, 3.576951  , 12.040365 , 3.8910635e+00, 0.02405448)],\n",
       "        [(-5.9689253e-05, 1.00310397e-04,  -3.9838955,  8.667654 ,  1.15891154e-07, 6.2118020e+00, 0.73280036,  2.7011404, 6.7977223e+00, 0.07276364),\n",
       "         (-6.5491658e-05, 1.09235756e-04,  -4.2953515, 12.38208  ,  1.58210878e-06, 5.0777802e+00, 2.9942198 , 12.601816 , 4.2751551e+00, 0.04248464),\n",
       "         (-7.7077981e-05, 1.30166867e-04,  -5.382287 ,  7.8578534, -7.55481295e-08, 5.7038484e+00, 1.5416015 ,  2.6117456, 6.8203969e+00, 0.04708605),\n",
       "         (-7.6424862e-05, 1.31185850e-04,  -4.412923 ,  7.9024363,  1.55266275e-06, 4.7937226e+00, 2.5757468 ,  6.6071725, 7.2920852e+00, 0.01399143)]],\n",
       "\n",
       "       [[(-3.7056321e-05, 8.30210192e-05,  -8.364451 , 10.008318 , -4.48801387e-08, 4.7786641e+00, 3.4260597 ,  3.0555906, 5.5447850e+00, 0.17392333),\n",
       "         (-5.8921243e-05, 1.28217027e-04,  -6.787699 ,  9.686429 ,  1.25447275e-06, 6.1484528e+00, 5.153319  ,  9.821714 , 4.9383836e+00, 0.06581845),\n",
       "         (-5.2515057e-05, 1.17481126e-04,  -6.6974144,  7.2170625,  3.61530397e-07, 6.2768569e+00, 2.2908301 ,  2.8622894, 6.5264616e+00, 0.04320033),\n",
       "         (-5.8921243e-05, 1.28217027e-04,  -6.787699 ,  9.686429 ,  1.25447275e-06, 6.1484528e+00, 5.153319  ,  9.821714 , 4.9383836e+00, 0.01744894)],\n",
       "        [(-6.6630018e-05, 1.38344840e-04,  -7.226449 ,  7.821969 , -3.58720740e-07, 5.1093020e+00, 1.9985542 ,  2.5783343, 6.3069410e+00, 0.03500705),\n",
       "         (-6.9518195e-05, 1.46173741e-04,  -6.1217036,  7.733318 ,  1.14110480e-06, 6.2541180e+00, 3.8479214 ,  6.3501906, 5.5485129e+00, 0.01158791),\n",
       "         (-7.7338977e-05, 1.38630829e-04,  -6.887467 ,  6.0027847,  1.92778799e-07, 6.8135839e+00, 2.718983  ,  1.722748 , 7.1336007e+00, 0.0298195 ),\n",
       "         (-6.9518195e-05, 1.46173741e-04,  -6.1217036,  7.733318 ,  1.14110480e-06, 6.2541180e+00, 3.8479214 ,  6.3501906, 5.5485129e+00, 0.01073179)],\n",
       "        [(-7.3113413e-05, 1.43776633e-04,  -6.087539 ,  7.91914  , -1.83517045e-07, 5.0426264e+00, 1.7827269 ,  2.434063 , 6.7092752e+00, 0.03066726),\n",
       "         (-7.7586279e-05, 1.59653137e-04,  -6.7268443,  9.211974 ,  1.07643496e-06, 4.4004407e+00, 3.9800916 ,  6.2154436, 5.6667633e+00, 0.01229856),\n",
       "         (-7.8035366e-05, 1.60677970e-04,  -7.3478518,  7.271888 , -3.77774597e-07, 4.8040833e+00, 2.8366199 ,  1.8925891, 6.2323785e+00, 0.02308821),\n",
       "         (-7.7586279e-05, 1.59653137e-04,  -6.7268443,  9.211974 ,  1.07643496e-06, 4.4004407e+00, 3.9800916 ,  6.2154436, 5.6667633e+00, 0.01232829)],\n",
       "        ...,\n",
       "        [(-2.4586661e-05, 7.11389075e-05, -10.776969 , 10.626965 ,  2.79960766e-08, 3.1563022e+00, 3.8171496 ,  2.8571067, 5.2706714e+00, 0.1720461 ),\n",
       "         (-3.7535465e-05, 9.41472244e-05,  -3.430542 , 13.603473 ,  1.74052968e-06, 7.7962980e+00, 2.359311  , 12.411165 , 2.6433582e+00, 0.03024529),\n",
       "         (-2.4586661e-05, 7.11389075e-05, -10.776969 , 10.626965 ,  2.79960766e-08, 3.1563022e+00, 3.8171496 ,  2.8571067, 5.2706714e+00, 0.14579251),\n",
       "         (-3.7535465e-05, 9.41472244e-05,  -3.430542 , 13.603473 ,  1.74052968e-06, 7.7962980e+00, 2.359311  , 12.411165 , 2.6433582e+00, 0.02181412)],\n",
       "        [(-5.0051261e-05, 9.55424039e-05,  -7.447792 , 10.034826 , -2.77715095e-08, 5.1876860e+00, 3.0313165 ,  3.270746 , 5.6341147e+00, 0.10551392),\n",
       "         (-5.4433982e-05, 1.09221757e-04,  -4.5961456, 12.107311 ,  1.46166747e-06, 6.7864866e+00, 3.576951  , 12.040365 , 3.8910635e+00, 0.03297923),\n",
       "         (-5.0051261e-05, 9.55424039e-05,  -7.447792 , 10.034826 , -2.77715095e-08, 5.1876860e+00, 3.0313165 ,  3.270746 , 5.6341147e+00, 0.06314188),\n",
       "         (-5.4433982e-05, 1.09221757e-04,  -4.5961456, 12.107311 ,  1.46166747e-06, 6.7864866e+00, 3.576951  , 12.040365 , 3.8910635e+00, 0.01946938)],\n",
       "        [(-6.8051566e-05, 1.10420558e-04,  -6.9356956, 10.286717 ,  1.59578040e-09, 4.2366385e+00, 2.2659912 ,  4.310049 , 6.0717030e+00, 0.05048523),\n",
       "         (-7.6424862e-05, 1.31185850e-04,  -4.412923 ,  7.9024363,  1.55266275e-06, 4.7937226e+00, 2.5757468 ,  6.6071725, 7.2920852e+00, 0.02689771),\n",
       "         (-7.7077981e-05, 1.30166867e-04,  -5.382287 ,  7.8578534, -7.55481295e-08, 5.7038484e+00, 1.5416015 ,  2.6117456, 6.8203969e+00, 0.01597343),\n",
       "         (-8.9130539e-05, 1.51140455e-04,  -6.568765 ,  8.169918 ,  1.35815901e-06, 3.6015079e+00, 3.8686776 ,  6.0831647, 6.8759465e+00, 0.0090548 )]],\n",
       "\n",
       "       ...,\n",
       "\n",
       "       [[(-5.1644722e-05, 1.34981339e-04,  -8.659778 ,  7.6728983,  1.75623654e-07, 5.1951618e+00, 3.479094  ,  3.8420904, 6.3766966e+00, 0.18425393),\n",
       "         (-5.7728521e-05, 1.54571229e-04,  -7.0064845,  7.8854647,  8.82093218e-07, 7.0875735e+00, 5.324697  ,  7.607214 , 5.3726039e+00, 0.08320585),\n",
       "         (-6.7564695e-05, 1.51247441e-04,  -9.375165 ,  9.784528 , -5.66230995e-07, 3.8024340e+00, 3.1573842 ,  3.7148917, 4.4908018e+00, 0.07393126),\n",
       "         (-7.5776603e-05, 1.72433618e-04, -10.530776 ,  9.046993 ,  8.74339776e-07, 4.0357046e+00, 6.7915277 ,  6.8942738, 4.0969658e+00, 0.02731124)],\n",
       "        [(-5.0939765e-05, 1.12208327e-04,  -9.489103 ,  9.112893 , -2.58837758e-07, 4.1276031e+00, 3.444781  ,  3.569492 , 5.7562022e+00, 0.09175938),\n",
       "         (-6.4578177e-05, 1.24975195e-04, -15.640398 ,  7.680381 ,  1.28409556e-06, 1.0025846e-03, 9.209999  ,  7.966202 , 6.5969300e+00, 0.02661139),\n",
       "         (-5.0939765e-05, 1.12208327e-04,  -9.489103 ,  9.112893 , -2.58837758e-07, 4.1276031e+00, 3.444781  ,  3.569492 , 5.7562022e+00, 0.12476668),\n",
       "         (-6.4578177e-05, 1.24975195e-04, -15.640398 ,  7.680381 ,  1.28409556e-06, 1.0025846e-03, 9.209999  ,  7.966202 , 6.5969300e+00, 0.05178733)],\n",
       "        [(-2.4586661e-05, 7.11389075e-05, -10.776969 , 10.626965 ,  2.79960766e-08, 3.1563022e+00, 3.8171496 ,  2.8571067, 5.2706714e+00, 0.1348856 ),\n",
       "         (-4.0681018e-05, 8.30413264e-05, -10.984874 , 12.038034 ,  1.57243869e-06, 4.5114675e+00, 9.60586   , 14.827975 , 4.6069427e+00, 0.07782748),\n",
       "         (-2.4586661e-05, 7.11389075e-05, -10.776969 , 10.626965 ,  2.79960766e-08, 3.1563022e+00, 3.8171496 ,  2.8571067, 5.2706714e+00, 0.1045099 ),\n",
       "         (-4.0681018e-05, 8.30413264e-05, -10.984874 , 12.038034 ,  1.57243869e-06, 4.5114675e+00, 9.60586   , 14.827975 , 4.6069427e+00, 0.07385876)],\n",
       "        ...,\n",
       "        [(-8.2991915e-05, 1.41484154e-04,  -7.7547207,  9.305842 , -6.13058887e-07, 2.9480722e+00, 2.7015967 ,  2.346857 , 5.6466322e+00, 0.02331372),\n",
       "         (-7.9113117e-05, 1.38019313e-04,  -7.3251657, 10.948987 ,  1.24221981e-06, 2.8319950e+00, 4.510334  ,  7.274753 , 5.0160761e+00, 0.01175286),\n",
       "         (-8.9371482e-05, 1.53263114e-04,  -7.097559 ,  8.146759 , -2.87996016e-07, 4.1439781e+00, 2.6315176 ,  2.9161375, 6.0290055e+00, 0.02137113),\n",
       "         (-7.9113117e-05, 1.38019313e-04,  -7.3251657, 10.948987 ,  1.24221981e-06, 2.8319950e+00, 4.510334  ,  7.274753 , 5.0160761e+00, 0.01903288)],\n",
       "        [(-8.2991915e-05, 1.41484154e-04,  -7.7547207,  9.305842 , -6.13058887e-07, 2.9480722e+00, 2.7015967 ,  2.346857 , 5.6466322e+00, 0.01852932),\n",
       "         (-9.0288348e-05, 1.58222829e-04,  -7.930848 ,  9.701144 ,  1.10315807e-06, 2.2228117e+00, 4.373206  ,  5.2826557, 5.5695634e+00, 0.01185725),\n",
       "         (-8.9371482e-05, 1.53263114e-04,  -7.097559 ,  8.146759 , -2.87996016e-07, 4.1439781e+00, 2.6315176 ,  2.9161375, 6.0290055e+00, 0.01209844),\n",
       "         (-9.0288348e-05, 1.58222829e-04,  -7.930848 ,  9.701144 ,  1.10315807e-06, 2.2228117e+00, 4.373206  ,  5.2826557, 5.5695634e+00, 0.01621507)],\n",
       "        [(-8.9371482e-05, 1.53263114e-04,  -7.097559 ,  8.146759 , -2.87996016e-07, 4.1439781e+00, 2.6315176 ,  2.9161375, 6.0290055e+00, 0.01027862),\n",
       "         (-8.9130539e-05, 1.51140455e-04,  -6.568765 ,  8.169918 ,  1.35815901e-06, 3.6015079e+00, 3.8686776 ,  6.0831647, 6.8759465e+00, 0.0087478 ),\n",
       "         (-8.9371482e-05, 1.53263114e-04,  -7.097559 ,  8.146759 , -2.87996016e-07, 4.1439781e+00, 2.6315176 ,  2.9161375, 6.0290055e+00, 0.00860931),\n",
       "         (-9.0288348e-05, 1.58222829e-04,  -7.930848 ,  9.701144 ,  1.10315807e-06, 2.2228117e+00, 4.373206  ,  5.2826557, 5.5695634e+00, 0.01078543)]],\n",
       "\n",
       "       [[(-2.4586661e-05, 7.11389075e-05, -10.776969 , 10.626965 ,  2.79960766e-08, 3.1563022e+00, 3.8171496 ,  2.8571067, 5.2706714e+00, 0.24526806),\n",
       "         (-6.4578177e-05, 1.24975195e-04, -15.640398 ,  7.680381 ,  1.28409556e-06, 1.0025846e-03, 9.209999  ,  7.966202 , 6.5969300e+00, 0.09906226),\n",
       "         (-5.0939765e-05, 1.12208327e-04,  -9.489103 ,  9.112893 , -2.58837758e-07, 4.1276031e+00, 3.444781  ,  3.569492 , 5.7562022e+00, 0.08876343),\n",
       "         (-6.4578177e-05, 1.24975195e-04, -15.640398 ,  7.680381 ,  1.28409556e-06, 1.0025846e-03, 9.209999  ,  7.966202 , 6.5969300e+00, 0.04027675)],\n",
       "        [(-5.0939765e-05, 1.12208327e-04,  -9.489103 ,  9.112893 , -2.58837758e-07, 4.1276031e+00, 3.444781  ,  3.569492 , 5.7562022e+00, 0.13979857),\n",
       "         (-6.4578177e-05, 1.24975195e-04, -15.640398 ,  7.680381 ,  1.28409556e-06, 1.0025846e-03, 9.209999  ,  7.966202 , 6.5969300e+00, 0.02388165),\n",
       "         (-5.0939765e-05, 1.12208327e-04,  -9.489103 ,  9.112893 , -2.58837758e-07, 4.1276031e+00, 3.444781  ,  3.569492 , 5.7562022e+00, 0.09299839),\n",
       "         (-6.4578177e-05, 1.24975195e-04, -15.640398 ,  7.680381 ,  1.28409556e-06, 1.0025846e-03, 9.209999  ,  7.966202 , 6.5969300e+00, 0.01286478)],\n",
       "        [(-2.8136403e-05, 6.07115071e-05, -10.47931  , 11.511402 , -1.64052608e-07, 3.6533065e+00, 1.8936971 ,  3.8319776, 4.0531273e+00, 0.09183204),\n",
       "         (-4.0681018e-05, 8.30413264e-05, -10.984874 , 12.038034 ,  1.57243869e-06, 4.5114675e+00, 9.60586   , 14.827975 , 4.6069427e+00, 0.04971562),\n",
       "         (-2.8136403e-05, 6.07115071e-05, -10.47931  , 11.511402 , -1.64052608e-07, 3.6533065e+00, 1.8936971 ,  3.8319776, 4.0531273e+00, 0.12431142),\n",
       "         (-6.4578177e-05, 1.24975195e-04, -15.640398 ,  7.680381 ,  1.28409556e-06, 1.0025846e-03, 9.209999  ,  7.966202 , 6.5969300e+00, 0.04244662)],\n",
       "        ...,\n",
       "        [(-7.7077981e-05, 1.30166867e-04,  -5.382287 ,  7.8578534, -7.55481295e-08, 5.7038484e+00, 1.5416015 ,  2.6117456, 6.8203969e+00, 0.02195749),\n",
       "         (-7.5063937e-05, 1.35352602e-04,  -8.644528 , 10.239639 ,  1.12408372e-06, 4.1419535e+00, 6.3067884 ,  7.850867 , 4.5509672e+00, 0.00660476),\n",
       "         (-7.7338977e-05, 1.38630829e-04,  -6.887467 ,  6.0027847,  1.92778799e-07, 6.8135839e+00, 2.718983  ,  1.722748 , 7.1336007e+00, 0.02130285),\n",
       "         (-7.5063937e-05, 1.35352602e-04,  -8.644528 , 10.239639 ,  1.12408372e-06, 4.1419535e+00, 6.3067884 ,  7.850867 , 4.5509672e+00, 0.00792936)],\n",
       "        [(-7.7077981e-05, 1.30166867e-04,  -5.382287 ,  7.8578534, -7.55481295e-08, 5.7038484e+00, 1.5416015 ,  2.6117456, 6.8203969e+00, 0.01854172),\n",
       "         (-7.5063937e-05, 1.35352602e-04,  -8.644528 , 10.239639 ,  1.12408372e-06, 4.1419535e+00, 6.3067884 ,  7.850867 , 4.5509672e+00, 0.00944684),\n",
       "         (-7.7338977e-05, 1.38630829e-04,  -6.887467 ,  6.0027847,  1.92778799e-07, 6.8135839e+00, 2.718983  ,  1.722748 , 7.1336007e+00, 0.02761125),\n",
       "         (-7.5063937e-05, 1.35352602e-04,  -8.644528 , 10.239639 ,  1.12408372e-06, 4.1419535e+00, 6.3067884 ,  7.850867 , 4.5509672e+00, 0.01161453)],\n",
       "        [(-8.9371482e-05, 1.53263114e-04,  -7.097559 ,  8.146759 , -2.87996016e-07, 4.1439781e+00, 2.6315176 ,  2.9161375, 6.0290055e+00, 0.02158322),\n",
       "         (-7.9113117e-05, 1.38019313e-04,  -7.3251657, 10.948987 ,  1.24221981e-06, 2.8319950e+00, 4.510334  ,  7.274753 , 5.0160761e+00, 0.01479191),\n",
       "         (-8.9371482e-05, 1.53263114e-04,  -7.097559 ,  8.146759 , -2.87996016e-07, 4.1439781e+00, 2.6315176 ,  2.9161375, 6.0290055e+00, 0.01721424),\n",
       "         (-8.7353321e-05, 1.56222653e-04,  -5.1241937,  6.4891887,  1.22706012e-06, 7.8064942e+00, 3.2092464 ,  4.546282 , 6.2778277e+00, 0.0194839 )]],\n",
       "\n",
       "       [[(-2.4586661e-05, 7.11389075e-05, -10.776969 , 10.626965 ,  2.79960766e-08, 3.1563022e+00, 3.8171496 ,  2.8571067, 5.2706714e+00, 0.28430027),\n",
       "         (-6.4578177e-05, 1.24975195e-04, -15.640398 ,  7.680381 ,  1.28409556e-06, 1.0025846e-03, 9.209999  ,  7.966202 , 6.5969300e+00, 0.12370491),\n",
       "         (-5.0939765e-05, 1.12208327e-04,  -9.489103 ,  9.112893 , -2.58837758e-07, 4.1276031e+00, 3.444781  ,  3.569492 , 5.7562022e+00, 0.11092439),\n",
       "         (-6.4578177e-05, 1.24975195e-04, -15.640398 ,  7.680381 ,  1.28409556e-06, 1.0025846e-03, 9.209999  ,  7.966202 , 6.5969300e+00, 0.02829221)],\n",
       "        [(-2.8136403e-05, 6.07115071e-05, -10.47931  , 11.511402 , -1.64052608e-07, 3.6533065e+00, 1.8936971 ,  3.8319776, 4.0531273e+00, 0.13269196),\n",
       "         (-6.4578177e-05, 1.24975195e-04, -15.640398 ,  7.680381 ,  1.28409556e-06, 1.0025846e-03, 9.209999  ,  7.966202 , 6.5969300e+00, 0.04814988),\n",
       "         (-3.7056321e-05, 8.30210192e-05,  -8.364451 , 10.008318 , -4.48801387e-08, 4.7786641e+00, 3.4260597 ,  3.0555906, 5.5447850e+00, 0.11749718),\n",
       "         (-6.4578177e-05, 1.24975195e-04, -15.640398 ,  7.680381 ,  1.28409556e-06, 1.0025846e-03, 9.209999  ,  7.966202 , 6.5969300e+00, 0.02276798)],\n",
       "        [(-2.8136403e-05, 6.07115071e-05, -10.47931  , 11.511402 , -1.64052608e-07, 3.6533065e+00, 1.8936971 ,  3.8319776, 4.0531273e+00, 0.05418324),\n",
       "         (-4.0681018e-05, 8.30413264e-05, -10.984874 , 12.038034 ,  1.57243869e-06, 4.5114675e+00, 9.60586   , 14.827975 , 4.6069427e+00, 0.01693924),\n",
       "         (-2.8136403e-05, 6.07115071e-05, -10.47931  , 11.511402 , -1.64052608e-07, 3.6533065e+00, 1.8936971 ,  3.8319776, 4.0531273e+00, 0.06827872),\n",
       "         (-4.0681018e-05, 8.30413264e-05, -10.984874 , 12.038034 ,  1.57243869e-06, 4.5114675e+00, 9.60586   , 14.827975 , 4.6069427e+00, 0.02368305)],\n",
       "        ...,\n",
       "        [(-6.3108077e-05, 1.18888333e-04,  -6.6191745,  8.424047 , -1.68576069e-08, 5.6551275e+00, 2.3118918 ,  2.8815928, 6.3625007e+00, 0.01868787),\n",
       "         (-7.5594333e-05, 1.42712131e-04,  -5.2645364,  8.601988 ,  1.22401946e-06, 6.2832189e+00, 3.4126685 ,  7.5591807, 6.0126123e+00, 0.00728041),\n",
       "         (-7.7338977e-05, 1.38630829e-04,  -6.887467 ,  6.0027847,  1.92778799e-07, 6.8135839e+00, 2.718983  ,  1.722748 , 7.1336007e+00, 0.02513118),\n",
       "         (-7.5594333e-05, 1.42712131e-04,  -5.2645364,  8.601988 ,  1.22401946e-06, 6.2832189e+00, 3.4126685 ,  7.5591807, 6.0126123e+00, 0.01028734)],\n",
       "        [(-6.3108077e-05, 1.18888333e-04,  -6.6191745,  8.424047 , -1.68576069e-08, 5.6551275e+00, 2.3118918 ,  2.8815928, 6.3625007e+00, 0.01935699),\n",
       "         (-7.5594333e-05, 1.42712131e-04,  -5.2645364,  8.601988 ,  1.22401946e-06, 6.2832189e+00, 3.4126685 ,  7.5591807, 6.0126123e+00, 0.00478406),\n",
       "         (-7.7338977e-05, 1.38630829e-04,  -6.887467 ,  6.0027847,  1.92778799e-07, 6.8135839e+00, 2.718983  ,  1.722748 , 7.1336007e+00, 0.01523793),\n",
       "         (-7.5594333e-05, 1.42712131e-04,  -5.2645364,  8.601988 ,  1.22401946e-06, 6.2832189e+00, 3.4126685 ,  7.5591807, 6.0126123e+00, 0.00918489)],\n",
       "        [(-7.7077981e-05, 1.30166867e-04,  -5.382287 ,  7.8578534, -7.55481295e-08, 5.7038484e+00, 1.5416015 ,  2.6117456, 6.8203969e+00, 0.02621532),\n",
       "         (-7.5063937e-05, 1.35352602e-04,  -8.644528 , 10.239639 ,  1.12408372e-06, 4.1419535e+00, 6.3067884 ,  7.850867 , 4.5509672e+00, 0.0074497 ),\n",
       "         (-7.7338977e-05, 1.38630829e-04,  -6.887467 ,  6.0027847,  1.92778799e-07, 6.8135839e+00, 2.718983  ,  1.722748 , 7.1336007e+00, 0.01430138),\n",
       "         (-7.5063937e-05, 1.35352602e-04,  -8.644528 , 10.239639 ,  1.12408372e-06, 4.1419535e+00, 6.3067884 ,  7.850867 , 4.5509672e+00, 0.00772182)]]],\n",
       "      dtype=[('a_0', '<f4'), ('a_1', '<f4'), ('a_2', '<f4'), ('a_3', '<f4'), ('a_4', '<f4'), ('b_0', '<f4'), ('b_1', '<f4'), ('b_2', '<f4'), ('b_3', '<f4'), ('R2 Criterion', '<f4')])"
      ]
     },
     "execution_count": 51,
     "metadata": {},
     "output_type": "execute_result"
    }
   ],
   "source": [
    "dataset.LSQF_hysteresis_params()"
   ]
  },
  {
   "cell_type": "code",
   "execution_count": null,
   "metadata": {},
   "outputs": [],
   "source": [
    "from m3_learning.be.loop_fitter import loop_fitting_function_torch"
   ]
  },
  {
   "cell_type": "code",
   "execution_count": null,
   "metadata": {},
   "outputs": [],
   "source": [
    "dataset.num_cols"
   ]
  },
  {
   "cell_type": "code",
   "execution_count": 77,
   "metadata": {},
   "outputs": [
    {
     "name": "stderr",
     "output_type": "stream",
     "text": [
      "[autoreload of m3_learning.be.dataset failed: Traceback (most recent call last):\n",
      "  File \"/home/ferroelectric/.local/lib/python3.9/site-packages/IPython/extensions/autoreload.py\", line 273, in check\n",
      "    superreload(m, reload, self.old_objects)\n",
      "  File \"/home/ferroelectric/.local/lib/python3.9/site-packages/IPython/extensions/autoreload.py\", line 496, in superreload\n",
      "    update_generic(old_obj, new_obj)\n",
      "  File \"/home/ferroelectric/.local/lib/python3.9/site-packages/IPython/extensions/autoreload.py\", line 393, in update_generic\n",
      "    update(a, b)\n",
      "  File \"/home/ferroelectric/.local/lib/python3.9/site-packages/IPython/extensions/autoreload.py\", line 345, in update_class\n",
      "    if update_generic(old_obj, new_obj):\n",
      "  File \"/home/ferroelectric/.local/lib/python3.9/site-packages/IPython/extensions/autoreload.py\", line 393, in update_generic\n",
      "    update(a, b)\n",
      "  File \"/home/ferroelectric/.local/lib/python3.9/site-packages/IPython/extensions/autoreload.py\", line 305, in update_function\n",
      "    setattr(old, name, getattr(new, name))\n",
      "ValueError: wrapper() requires a code object with 1 free vars, not 0\n",
      "]\n",
      "[autoreload of src.m3_learning.be.dataset failed: Traceback (most recent call last):\n",
      "  File \"/home/ferroelectric/.local/lib/python3.9/site-packages/IPython/extensions/autoreload.py\", line 273, in check\n",
      "    superreload(m, reload, self.old_objects)\n",
      "  File \"/home/ferroelectric/.local/lib/python3.9/site-packages/IPython/extensions/autoreload.py\", line 496, in superreload\n",
      "    update_generic(old_obj, new_obj)\n",
      "  File \"/home/ferroelectric/.local/lib/python3.9/site-packages/IPython/extensions/autoreload.py\", line 393, in update_generic\n",
      "    update(a, b)\n",
      "  File \"/home/ferroelectric/.local/lib/python3.9/site-packages/IPython/extensions/autoreload.py\", line 345, in update_class\n",
      "    if update_generic(old_obj, new_obj):\n",
      "  File \"/home/ferroelectric/.local/lib/python3.9/site-packages/IPython/extensions/autoreload.py\", line 393, in update_generic\n",
      "    update(a, b)\n",
      "  File \"/home/ferroelectric/.local/lib/python3.9/site-packages/IPython/extensions/autoreload.py\", line 305, in update_function\n",
      "    setattr(old, name, getattr(new, name))\n",
      "ValueError: wrapper() requires a code object with 1 free vars, not 0\n",
      "]\n"
     ]
    }
   ],
   "source": [
    "parm = dataset.LSQF_hysteresis_params(output_shape = \"index\")"
   ]
  },
  {
   "cell_type": "code",
   "execution_count": 78,
   "metadata": {},
   "outputs": [
    {
     "data": {
      "text/plain": [
       "(3600, 4, 9)"
      ]
     },
     "execution_count": 78,
     "metadata": {},
     "output_type": "execute_result"
    }
   ],
   "source": [
    "parm.shape\n"
   ]
  },
  {
   "cell_type": "code",
   "execution_count": null,
   "metadata": {},
   "outputs": [],
   "source": [
    "out, bias = dataset.get_hysteresis(\"/Raw_Data_SHO_Fit/Raw_Data-SHO_Fit_000/Fit-Loop_Fit_000\", plotting_values=True)\n",
    "out.shape"
   ]
  },
  {
   "cell_type": "code",
   "execution_count": null,
   "metadata": {},
   "outputs": [],
   "source": [
    "import matplotlib.pyplot as plt\n",
    "\n",
    "\n",
    "col = np.random.randint(0, self.num_cols, 1)\n",
    "cycle = pos = np.random.randint(0, 4, 1)\n",
    "\n",
    "\n",
    "parm = dataset.LSQF_hysteresis_params()[row, col, cycle].view('<f4')\n",
    "loop = loop_fitting_function_torch(bias[:, cycle], parm, type='9 parameters')\n",
    "out, bias = dataset.get_hysteresis(\"/Raw_Data_SHO_Fit/Raw_Data-SHO_Fit_000/Fit-Loop_Fit_000\", plotting_values=True)\n",
    "\n",
    "\n",
    "\n",
    "plt.plot(bias[:, cycle].squeeze(), loop.cpu().squeeze(), 'r')\n",
    "plt.plot(bias[:, cycle].squeeze(), out[row, col, :, cycle].squeeze(), 'b')"
   ]
  },
  {
   "cell_type": "code",
   "execution_count": null,
   "metadata": {},
   "outputs": [],
   "source": [
    "from scipy.special import erf, erfinv\n",
    "import warnings\n",
    "\n",
    "def loop_fit_function(vdc, coef_vec):\n",
    "    \"\"\"\n",
    "    9 parameter fit function\n",
    "    \n",
    "    Parameters\n",
    "    -----------\n",
    "    vdc : 1D numpy array or list\n",
    "        DC voltages\n",
    "    coef_vec : 1D numpy array or list\n",
    "        9 parameter coefficient vector\n",
    "        \n",
    "    Returns\n",
    "    ---------\n",
    "    loop_eval : 1D numpy array\n",
    "        Loop values\n",
    "    \"\"\"\n",
    "\n",
    "    a = coef_vec[:5]\n",
    "    b = coef_vec[5:]\n",
    "    d = 1000\n",
    "\n",
    "    v1 = np.asarray(vdc[:int(len(vdc) / 2)])\n",
    "    v2 = np.asarray(vdc[int(len(vdc) / 2):])\n",
    "\n",
    "    g1 = (b[1] - b[0]) / 2 * (erf((v1 - a[2]) * d) + 1) + b[0]\n",
    "    g2 = (b[3] - b[2]) / 2 * (erf((v2 - a[3]) * d) + 1) + b[2]\n",
    "\n",
    "    y1 = (g1 * erf((v1 - a[2]) / g1) + b[0]) / (b[0] + b[1])\n",
    "    y2 = (g2 * erf((v2 - a[3]) / g2) + b[2]) / (b[2] + b[3])\n",
    "\n",
    "    f1 = a[0] + a[1] * y1 + a[4] * v1\n",
    "    f2 = a[0] + a[1] * y2 + a[4] * v2\n",
    "\n",
    "    loop_eval = np.hstack((f1, f2))\n",
    "    return loop_eval"
   ]
  },
  {
   "cell_type": "code",
   "execution_count": null,
   "metadata": {},
   "outputs": [],
   "source": [
    "plt.plot(bias[:,0])"
   ]
  },
  {
   "cell_type": "code",
   "execution_count": null,
   "metadata": {},
   "outputs": [],
   "source": [
    "loop_eval = loop_fit_function(bias[:,0], parm)"
   ]
  },
  {
   "cell_type": "code",
   "execution_count": null,
   "metadata": {},
   "outputs": [],
   "source": [
    "plt.plot(bias[:,cycle].squeeze(), loop_eval)"
   ]
  },
  {
   "cell_type": "code",
   "execution_count": null,
   "metadata": {},
   "outputs": [],
   "source": [
    "dataset.LSQF_hysteresis_params()[0,0]"
   ]
  },
  {
   "cell_type": "code",
   "execution_count": null,
   "metadata": {},
   "outputs": [],
   "source": [
    "from m3_learning.be.loop_fitter import loop_fitting_function_torch"
   ]
  },
  {
   "cell_type": "code",
   "execution_count": null,
   "metadata": {},
   "outputs": [],
   "source": [
    "with h5py.File(\"/home/ferroelectric/m3_learning/m3_learning/papers/2023_Rapid_Fitting/Data/data_raw_SHO.h5\", \"r+\") as h5_f:\n",
    "    # number of pixels in the image\n",
    "    num_pix = h5_f[\"Measurement_000\"].attrs[\"num_pix\"]\n",
    "    \n",
    "    # voltage vector\n",
    "    V = np.swapaxes(np.atleast_2d(h5_f['Measurement_000']['Channel_000']['UDVS'][::2][:, 1][24:120]), 0, 1).astype(np.float64)\n",
    "    \n",
    "    params = np.array(h5_f['Fit_Loop_Parameters'][:])\n",
    "    "
   ]
  },
  {
   "cell_type": "code",
   "execution_count": null,
   "metadata": {},
   "outputs": [],
   "source": [
    "dataset.dataset"
   ]
  },
  {
   "cell_type": "code",
   "execution_count": null,
   "metadata": {},
   "outputs": [],
   "source": [
    "import matplotlib.pyplot as plt\n",
    "\n",
    "plt.plot(dataset.hysteresis_waveform)\n"
   ]
  },
  {
   "cell_type": "code",
   "execution_count": null,
   "metadata": {},
   "outputs": [],
   "source": [
    "# # Sets path to file\n",
    "# path = r\"./\"\n",
    "\n",
    "# # Opens the data file2\n",
    "# h5_f = h5py.File(path + \"data_file.h5\", \"r+\")\n",
    "\n",
    "\n",
    "# # number of pixels in the image\n",
    "# num_pix = h5_f[\"Measurement_000\"].attrs[\"num_pix\"]\n",
    "# #dataset.num_pix\n",
    "\n",
    "# num_pix_1d = int(np.sqrt(num_pix))\n",
    "# #dataset.num_pix\n",
    "\n",
    "\n",
    "# # number of DC voltage steps\n",
    "# voltage_steps = h5_f[\"Measurement_000\"].attrs[\"num_udvs_steps\"]\n",
    "\n",
    "# proj_nd_shifted = loop_lsqf(h5_f)\n",
    "# proj_nd_shifted_transposed = np.transpose(proj_nd_shifted,(1,0,2,3))\n",
    "\n",
    "# getting parameters for the hysteresis loops\n",
    "params = np.array(h5_f['params_hysteresis'][:])\n",
    "params_names = ['a_0', 'a_1', 'a_2', 'a_3', 'a_4', 'b_0', 'b_1', 'b_2', 'b_3']\n",
    "\n",
    "# voltage vector\n",
    "V = np.swapaxes(np.atleast_2d(h5_f['Measurement_000']['Channel_000']['UDVS'][::2][:, 1][24:120]), 0, 1).astype(np.float64)\n",
    "\n",
    "# to set up a type of loop_fitting function to use. Possible options: ['9 parameters', '13 parameters']\n",
    "func_type = '9 parameters'\n",
    "\n",
    "# retrieve results\n",
    "real_loops = np.array(h5_f['real_loops_hysteresis'][:])\n",
    "unscaled_param_trust = np.array(h5_f['predictions_hysteresis_trustregcg'][:])\n",
    "unscaled_param_adam = np.array(h5_f['predictions_hysteresis_adam'][:])"
   ]
  }
 ],
 "metadata": {
  "kernelspec": {
   "display_name": "rapid_fitting",
   "language": "python",
   "name": "python3"
  },
  "language_info": {
   "codemirror_mode": {
    "name": "ipython",
    "version": 3
   },
   "file_extension": ".py",
   "mimetype": "text/x-python",
   "name": "python",
   "nbconvert_exporter": "python",
   "pygments_lexer": "ipython3",
   "version": "3.10.11"
  },
  "orig_nbformat": 4,
  "vscode": {
   "interpreter": {
    "hash": "c58f42fd11d8ae4df132d3c425059695e86ccc63a852aa66615442730ca8b1fc"
   }
  }
 },
 "nbformat": 4,
 "nbformat_minor": 2
}
