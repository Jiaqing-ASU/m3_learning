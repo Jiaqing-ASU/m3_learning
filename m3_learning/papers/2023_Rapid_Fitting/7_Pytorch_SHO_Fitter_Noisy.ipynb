{
 "cells": [
  {
   "cell_type": "markdown",
   "metadata": {},
   "source": [
    "# SHO Fitter on the noisy data"
   ]
  },
  {
   "cell_type": "code",
   "execution_count": 1,
   "metadata": {},
   "outputs": [],
   "source": [
    "import sys\n",
    "\n",
    "sys.path.append(\"../../\")\n",
    "sys.path.append(\"/home/ferroelectric/m3_learning/m3_learning/src\")"
   ]
  },
  {
   "cell_type": "code",
   "execution_count": 2,
   "metadata": {},
   "outputs": [
    {
     "name": "stderr",
     "output_type": "stream",
     "text": [
      "2023-05-14 20:31:02.618400: I tensorflow/core/platform/cpu_feature_guard.cc:193] This TensorFlow binary is optimized with oneAPI Deep Neural Network Library (oneDNN) to use the following CPU instructions in performance-critical operations:  AVX2 FMA\n",
      "To enable them in other operations, rebuild TensorFlow with the appropriate compiler flags.\n",
      "2023-05-14 20:31:02.735675: E tensorflow/stream_executor/cuda/cuda_blas.cc:2981] Unable to register cuBLAS factory: Attempting to register factory for plugin cuBLAS when one has already been registered\n",
      "2023-05-14 20:31:03.177356: W tensorflow/stream_executor/platform/default/dso_loader.cc:64] Could not load dynamic library 'libnvinfer.so.7'; dlerror: libnvinfer.so.7: cannot open shared object file: No such file or directory; LD_LIBRARY_PATH: /home/ferroelectric/anaconda3/envs/rapidfitting/lib/python3.9/site-packages/cv2/../../lib64:\n",
      "2023-05-14 20:31:03.177407: W tensorflow/stream_executor/platform/default/dso_loader.cc:64] Could not load dynamic library 'libnvinfer_plugin.so.7'; dlerror: libnvinfer_plugin.so.7: cannot open shared object file: No such file or directory; LD_LIBRARY_PATH: /home/ferroelectric/anaconda3/envs/rapidfitting/lib/python3.9/site-packages/cv2/../../lib64:\n",
      "2023-05-14 20:31:03.177411: W tensorflow/compiler/tf2tensorrt/utils/py_utils.cc:38] TF-TRT Warning: Cannot dlopen some TensorRT libraries. If you would like to use Nvidia GPU with TensorRT, please make sure the missing libraries mentioned above are installed properly.\n"
     ]
    }
   ],
   "source": [
    "%load_ext autoreload\n",
    "%autoreload 2\n",
    "\n",
    "import numpy as np\n",
    "from m3_learning.be.dataset import BE_Dataset\n",
    "from m3_learning.viz.printing import printer\n",
    "from m3_learning.be.nn import SHO_fit_func_nn, SHO_Model\n",
    "\n",
    "\n",
    "# from m3_learning.be.dataset import BE_Dataset\n",
    "printing = printer(basepath = './Figures/')"
   ]
  },
  {
   "attachments": {},
   "cell_type": "markdown",
   "metadata": {},
   "source": [
    "The Solution to the problem is to place the data into the state do the fits and then take the data out of the state. This is a bit of a pain but it works."
   ]
  },
  {
   "cell_type": "code",
   "execution_count": 3,
   "metadata": {},
   "outputs": [],
   "source": [
    "# import sys\n",
    "# sys.path.append('../../')\n",
    "# sys.path.append('/home/ferroelectric/m3_learning/m3_learning/src')\n"
   ]
  },
  {
   "cell_type": "code",
   "execution_count": 4,
   "metadata": {},
   "outputs": [],
   "source": [
    "# import matplotlib.pyplot as plt\n",
    "# import numpy as np\n",
    "# import h5py\n",
    "# import time\n",
    "# import pandas as pd\n",
    "# import os\n",
    "# import shutil\n",
    "# import gc\n",
    "# import gdown\n",
    "\n",
    "# import torch\n",
    "# import torch.nn as nn\n",
    "# from torch.utils.data import DataLoader\n",
    "\n",
    "# from scipy.signal import resample\n",
    "# from sklearn.preprocessing import StandardScaler\n",
    "# from sklearn.model_selection import train_test_split \n",
    "\n",
    "# from src.m3_learning.optimizers.AdaHessian import AdaHessian\n",
    "# from src.m3_learning.nn.SHO_fitter.SHO import SHO_fit_func_torch\n",
    "# from src.m3_learning.be.processing import convert_amp_phase, SHO_Fitter, SHO_fit_to_array\n",
    "# from src.m3_learning.nn.random import random_seed\n",
    "# from src.m3_learning.util.preprocessing import global_scaler\n",
    "# from src.m3_learning.viz.layout import layout_fig\n",
    "\n",
    "# from src.m3_learning.be.util import print_be_tree\n",
    "\n",
    "# from src.m3_learning.viz.printing import printer\n",
    "# from src.m3_learning.viz.layout import combine_lines, labelfigs\n",
    "\n",
    "\n",
    "# printing = printer(basepath='./figures/')"
   ]
  },
  {
   "cell_type": "code",
   "execution_count": 5,
   "metadata": {},
   "outputs": [],
   "source": [
    "# gdown.download(\n",
    "#     \"https://drive.google.com/uc?export=download&id=1Q2Qo_1VGlCsVOTjQpZlE5tjoIV1etVe2\",\n",
    "#     path + \"data_file_google.h5\",\n",
    "#     quiet=False,\n",
    "#     resume=True,\n",
    "# )"
   ]
  },
  {
   "attachments": {},
   "cell_type": "markdown",
   "metadata": {},
   "source": [
    "## Loads data"
   ]
  },
  {
   "cell_type": "code",
   "execution_count": 6,
   "metadata": {},
   "outputs": [],
   "source": [
    "# # Sets path to file\n",
    "# path = r\"./\"\n",
    "\n",
    "# # Opens the data file\n",
    "# h5_f = h5py.File(path + \"data_file.h5\", \"r+\")\n",
    "\n",
    "# # number of pixels in the image\n",
    "# num_pix = h5_f[\"Measurement_000\"].attrs[\"num_pix\"]\n",
    "\n",
    "# num_pix_1d = int(np.sqrt(num_pix))\n",
    "\n",
    "# # Frequency Vector in Hz\n",
    "# frequency_bin = h5_f[\"Measurement_000\"][\"Channel_000\"][\"Bin_Frequencies\"][:]\n",
    "\n",
    "# # extracting spectroscopic values\n",
    "# spectroscopic_values = h5_f['Measurement_000']['Channel_000']['Spectroscopic_Values']\n",
    "\n",
    "# # number of DC voltage steps\n",
    "# voltage_steps = h5_f[\"Measurement_000\"].attrs[\"num_udvs_steps\"]\n",
    "\n",
    "# # Resampled frequency vector\n",
    "# wvec_freq = resample(frequency_bin, 80)\n",
    "\n",
    "# # get raw data (real and imaginary combined)\n",
    "# raw_data = h5_f[\"Measurement_000\"][\"Channel_000\"][\"Raw_Data\"]\n",
    "# raw_data_resampled = resample(np.array(h5_f[\"Measurement_000\"][\"Channel_000\"][\"Raw_Data\"]).reshape(-1, 165), 80, axis=1)\n",
    "\n",
    "# # conversion of raw data (both resampled and full)\n",
    "# amp, phase = convert_amp_phase(raw_data)\n",
    "# amp_resample, phase_resample = convert_amp_phase(raw_data_resampled)\n",
    "\n",
    "# scaled_data = h5_f[\"Measurement_000\"][\"Channel_000\"]['complex']['scaled_data'][:]\n",
    "# real_resample = h5_f[\"Measurement_000\"][\"Channel_000\"]['complex']['real_resample'][:]\n",
    "# imag_resample = h5_f[\"Measurement_000\"][\"Channel_000\"]['complex']['imag_resample'][:]\n",
    "\n",
    "# # scale the real component of input data\n",
    "# scaler_real = global_scaler()\n",
    "# scaled_data_real = scaler_real.fit_transform(real_resample).reshape(-1, 80)\n",
    "\n",
    "# # scale the imaginary component of input data\n",
    "# scaler_imag = global_scaler()\n",
    "# scaled_data_imag = scaler_imag.fit_transform(imag_resample).reshape(-1, 80)"
   ]
  },
  {
   "cell_type": "code",
   "execution_count": 8,
   "metadata": {},
   "outputs": [
    {
     "ename": "KeyboardInterrupt",
     "evalue": "",
     "output_type": "error",
     "traceback": [
      "\u001b[0;31m---------------------------------------------------------------------------\u001b[0m",
      "\u001b[0;31mKeyboardInterrupt\u001b[0m                         Traceback (most recent call last)",
      "\u001b[1;32m/home/ferroelectric/m3_learning/m3_learning/papers/2023_Rapid_Fitting/7_Pytorch_SHO_Fitter_Noisy.ipynb Cell 10\u001b[0m in \u001b[0;36m9\n\u001b[1;32m      <a href='vscode-notebook-cell://ssh-remote%2B10.248.36.21/home/ferroelectric/m3_learning/m3_learning/papers/2023_Rapid_Fitting/7_Pytorch_SHO_Fitter_Noisy.ipynb#X13sdnNjb2RlLXJlbW90ZQ%3D%3D?line=5'>6</a>\u001b[0m data_path \u001b[39m=\u001b[39m save_path \u001b[39m+\u001b[39m \u001b[39m\"\u001b[39m\u001b[39m/\u001b[39m\u001b[39m\"\u001b[39m \u001b[39m+\u001b[39m filename\n\u001b[1;32m      <a href='vscode-notebook-cell://ssh-remote%2B10.248.36.21/home/ferroelectric/m3_learning/m3_learning/papers/2023_Rapid_Fitting/7_Pytorch_SHO_Fitter_Noisy.ipynb#X13sdnNjb2RlLXJlbW90ZQ%3D%3D?line=7'>8</a>\u001b[0m \u001b[39m# instantiate the dataset object\u001b[39;00m\n\u001b[0;32m----> <a href='vscode-notebook-cell://ssh-remote%2B10.248.36.21/home/ferroelectric/m3_learning/m3_learning/papers/2023_Rapid_Fitting/7_Pytorch_SHO_Fitter_Noisy.ipynb#X13sdnNjb2RlLXJlbW90ZQ%3D%3D?line=8'>9</a>\u001b[0m dataset \u001b[39m=\u001b[39m BE_Dataset(data_path, resample_bins\u001b[39m=\u001b[39;49m\u001b[39m80\u001b[39;49m, SHO_fit_func_NN\u001b[39m=\u001b[39;49mSHO_fit_func_nn)\n\u001b[1;32m     <a href='vscode-notebook-cell://ssh-remote%2B10.248.36.21/home/ferroelectric/m3_learning/m3_learning/papers/2023_Rapid_Fitting/7_Pytorch_SHO_Fitter_Noisy.ipynb#X13sdnNjb2RlLXJlbW90ZQ%3D%3D?line=10'>11</a>\u001b[0m \u001b[39m# print the contents of the file\u001b[39;00m\n\u001b[1;32m     <a href='vscode-notebook-cell://ssh-remote%2B10.248.36.21/home/ferroelectric/m3_learning/m3_learning/papers/2023_Rapid_Fitting/7_Pytorch_SHO_Fitter_Noisy.ipynb#X13sdnNjb2RlLXJlbW90ZQ%3D%3D?line=11'>12</a>\u001b[0m dataset\u001b[39m.\u001b[39mprint_be_tree()\n",
      "File \u001b[0;32m~/m3_learning/m3_learning/src/m3_learning/be/dataset.py:105\u001b[0m, in \u001b[0;36mBE_Dataset.__init__\u001b[0;34m(self, file_, scaled, raw_format, fitter, output_shape, measurement_state, resampled, resampled_bins, LSQF_phase_shift, NN_phase_shift, verbose, noise, basegroup, SHO_fit_func_LSQF, **kwargs)\u001b[0m\n\u001b[1;32m    102\u001b[0m     \u001b[39msetattr\u001b[39m(\u001b[39mself\u001b[39m, key, value)\n\u001b[1;32m    104\u001b[0m \u001b[39m# make only run if SHO exist\u001b[39;00m\n\u001b[0;32m--> 105\u001b[0m \u001b[39mself\u001b[39;49m\u001b[39m.\u001b[39;49mset_preprocessing()\n",
      "File \u001b[0;32m~/m3_learning/m3_learning/src/m3_learning/be/dataset.py:169\u001b[0m, in \u001b[0;36mBE_Dataset.set_preprocessing\u001b[0;34m(self)\u001b[0m\n\u001b[1;32m    167\u001b[0m \u001b[39mdef\u001b[39;00m \u001b[39mset_preprocessing\u001b[39m(\u001b[39mself\u001b[39m):\n\u001b[1;32m    168\u001b[0m     \u001b[39m# extract the raw data and reshapes is\u001b[39;00m\n\u001b[0;32m--> 169\u001b[0m     \u001b[39mself\u001b[39;49m\u001b[39m.\u001b[39;49mset_raw_data()\n\u001b[1;32m    171\u001b[0m     \u001b[39m# resamples the data if necessary\u001b[39;00m\n\u001b[1;32m    172\u001b[0m     \u001b[39mself\u001b[39m\u001b[39m.\u001b[39mset_raw_data_resampler()\n",
      "File \u001b[0;32m~/m3_learning/m3_learning/src/m3_learning/be/dataset.py:35\u001b[0m, in \u001b[0;36mstatic_state_decorator.<locals>.wrapper\u001b[0;34m(*args, **kwargs)\u001b[0m\n\u001b[1;32m     33\u001b[0m \u001b[39mdef\u001b[39;00m \u001b[39mwrapper\u001b[39m(\u001b[39m*\u001b[39margs, \u001b[39m*\u001b[39m\u001b[39m*\u001b[39mkwargs):\n\u001b[1;32m     34\u001b[0m     current_state \u001b[39m=\u001b[39m args[\u001b[39m0\u001b[39m]\u001b[39m.\u001b[39mget_state\n\u001b[0;32m---> 35\u001b[0m     out \u001b[39m=\u001b[39m func(\u001b[39m*\u001b[39;49margs, \u001b[39m*\u001b[39;49m\u001b[39m*\u001b[39;49mkwargs)\n\u001b[1;32m     36\u001b[0m     args[\u001b[39m0\u001b[39m]\u001b[39m.\u001b[39mset_attributes(\u001b[39m*\u001b[39m\u001b[39m*\u001b[39mcurrent_state)\n\u001b[1;32m     37\u001b[0m     \u001b[39mreturn\u001b[39;00m out\n",
      "File \u001b[0;32m~/m3_learning/m3_learning/src/m3_learning/be/dataset.py:501\u001b[0m, in \u001b[0;36mBE_Dataset.set_raw_data\u001b[0;34m(self)\u001b[0m\n\u001b[1;32m    499\u001b[0m \u001b[39m# loops around all the datasets and stores them reshaped in a dictionary\u001b[39;00m\n\u001b[1;32m    500\u001b[0m \u001b[39mfor\u001b[39;00m dataset \u001b[39min\u001b[39;00m datasets:\n\u001b[0;32m--> 501\u001b[0m     \u001b[39mself\u001b[39m\u001b[39m.\u001b[39mraw_data_reshaped[dataset\u001b[39m.\u001b[39mname\u001b[39m.\u001b[39msplit(\u001b[39m'\u001b[39m\u001b[39m/\u001b[39m\u001b[39m'\u001b[39m)[\u001b[39m-\u001b[39m\u001b[39m1\u001b[39m]] \u001b[39m=\u001b[39m dataset[:]\u001b[39m.\u001b[39mreshape(\u001b[39mself\u001b[39m\u001b[39m.\u001b[39mnum_pix, \u001b[39mself\u001b[39m\u001b[39m.\u001b[39mvoltage_steps, \u001b[39mself\u001b[39m\u001b[39m.\u001b[39mnum_bins)\n\u001b[1;32m    503\u001b[0m     \u001b[39mself\u001b[39m\u001b[39m.\u001b[39mraw_datasets\u001b[39m.\u001b[39mextend([dataset\u001b[39m.\u001b[39mname\u001b[39m.\u001b[39msplit(\u001b[39m'\u001b[39m\u001b[39m/\u001b[39m\u001b[39m'\u001b[39m)[\u001b[39m-\u001b[39m\u001b[39m1\u001b[39m]])\n",
      "File \u001b[0;32mh5py/_objects.pyx:54\u001b[0m, in \u001b[0;36mh5py._objects.with_phil.wrapper\u001b[0;34m()\u001b[0m\n",
      "File \u001b[0;32mh5py/_objects.pyx:55\u001b[0m, in \u001b[0;36mh5py._objects.with_phil.wrapper\u001b[0;34m()\u001b[0m\n",
      "File \u001b[0;32m~/anaconda3/envs/rapidfitting/lib/python3.9/site-packages/h5py/_hl/dataset.py:824\u001b[0m, in \u001b[0;36mDataset.__getitem__\u001b[0;34m(self, args, new_dtype)\u001b[0m\n\u001b[1;32m    822\u001b[0m mspace \u001b[39m=\u001b[39m h5s\u001b[39m.\u001b[39mcreate_simple(selection\u001b[39m.\u001b[39mmshape)\n\u001b[1;32m    823\u001b[0m fspace \u001b[39m=\u001b[39m selection\u001b[39m.\u001b[39mid\n\u001b[0;32m--> 824\u001b[0m \u001b[39mself\u001b[39;49m\u001b[39m.\u001b[39;49mid\u001b[39m.\u001b[39;49mread(mspace, fspace, arr, mtype, dxpl\u001b[39m=\u001b[39;49m\u001b[39mself\u001b[39;49m\u001b[39m.\u001b[39;49m_dxpl)\n\u001b[1;32m    826\u001b[0m \u001b[39m# Patch up the output for NumPy\u001b[39;00m\n\u001b[1;32m    827\u001b[0m \u001b[39mif\u001b[39;00m arr\u001b[39m.\u001b[39mshape \u001b[39m==\u001b[39m ():\n",
      "\u001b[0;31mKeyboardInterrupt\u001b[0m: "
     ]
    }
   ],
   "source": [
    "# Specify the filename and the path to save the file\n",
    "filename = \"data_raw_original.h5\"\n",
    "save_path = \"./Data\"\n",
    "\n",
    "\n",
    "data_path = save_path + \"/\" + filename\n",
    "\n",
    "# instantiate the dataset object\n",
    "dataset = BE_Dataset(data_path, resample_bins=80, SHO_fit_func_NN=SHO_fit_func_nn)\n",
    "\n",
    "# print the contents of the file\n",
    "dataset.print_be_tree()"
   ]
  },
  {
   "cell_type": "code",
   "execution_count": 26,
   "metadata": {},
   "outputs": [
    {
     "data": {
      "text/plain": [
       "<HDF5 dataset \"Raw_Data\": shape (3600, 63360), type \"<c8\">"
      ]
     },
     "execution_count": 26,
     "metadata": {},
     "output_type": "execute_result"
    }
   ],
   "source": [
    "\n",
    "h5_main = usid.hdf_utils.find_dataset(h5_file, \"Raw_Data\")[0]"
   ]
  },
  {
   "cell_type": "code",
   "execution_count": 41,
   "metadata": {},
   "outputs": [
    {
     "name": "stdout",
     "output_type": "stream",
     "text": [
      "<HDF5 dataset \"Normalized_Data\": shape (3600, 63360), type \"<f8\">\n",
      "located at: \n",
      "\t/Measurement_000/Channel_000/Normalized_Data \n",
      "Data contains: \n",
      "\tCurrent (nA) \n",
      "Data dimensions and original shape: \n",
      "Position Dimensions: \n",
      "\tY - size: 60 \n",
      "\tX - size: 60 \n",
      "Spectroscopic Dimensions: \n",
      "\tFrequency - size: 165 \n",
      "\tDC_Offset - size: 96 \n",
      "\tField - size: 2 \n",
      "\tCycle - size: 2\n",
      "Data Type:\n",
      "\tfloat64\n"
     ]
    }
   ],
   "source": [
    "\n",
    "h5_norm = usid.hdf_utils.write_main_dataset(h5_f[f\"/Measurement_000/Channel_000/\"],  # parent group\n",
    "                                            data,  # data to be written\n",
    "                                            'Normalized_Data',  # Name of the main dataset\n",
    "                                            'Current',  # quantity\n",
    "                                            'nA',  # units\n",
    "                                            None,  # position dimensions\n",
    "                                            None,  # spectroscopic dimensions\n",
    "                                            h5_pos_inds=h5_main.h5_pos_inds,\n",
    "                                            h5_pos_vals=h5_main.h5_pos_vals,\n",
    "                                            h5_spec_inds=h5_main.h5_spec_inds,\n",
    "                                            h5_spec_vals=h5_main.h5_spec_vals,\n",
    "                                            compression='gzip')\n",
    "print(h5_norm)"
   ]
  },
  {
   "cell_type": "code",
   "execution_count": 100,
   "metadata": {},
   "outputs": [],
   "source": [
    "data = generate_noisy_data(dataset, noise_multipliers=3)"
   ]
  },
  {
   "cell_type": "code",
   "execution_count": 12,
   "metadata": {},
   "outputs": [],
   "source": [
    "from m3_learning.util.h5_util import make_dataset, make_group\n",
    "import pyUSID as usid\n",
    "with h5py.File(dataset.file, \"a\") as h5_file:\n",
    "    h5_main = usid.hdf_utils.find_dataset(h5_file, \"Raw_Data\")[0]"
   ]
  },
  {
   "cell_type": "code",
   "execution_count": null,
   "metadata": {},
   "outputs": [],
   "source": [
    "h5_main = usid.hdf_utils.find_dataset(h5_f, \"Normalized_Data\")[0]"
   ]
  },
  {
   "cell_type": "code",
   "execution_count": 30,
   "metadata": {},
   "outputs": [
    {
     "data": {
      "text/plain": [
       "<HDF5 dataset \"Normalized_Data\": shape (3600, 63360), type \"<f8\">\n",
       "located at: \n",
       "\t/Noisy_Data/Normalized_Data \n",
       "Data contains: \n",
       "\tCurrent (nA) \n",
       "Data dimensions and original shape: \n",
       "Position Dimensions: \n",
       "\tY - size: 60 \n",
       "\tX - size: 60 \n",
       "Spectroscopic Dimensions: \n",
       "\tFrequency - size: 165 \n",
       "\tDC_Offset - size: 96 \n",
       "\tField - size: 2 \n",
       "\tCycle - size: 2\n",
       "Data Type:\n",
       "\tfloat64"
      ]
     },
     "execution_count": 30,
     "metadata": {},
     "output_type": "execute_result"
    }
   ],
   "source": [
    "h5_main = usid.hdf_utils.find_dataset(h5_f, \"Normalized_Data\")[0]\n",
    "h5_main"
   ]
  },
  {
   "cell_type": "code",
   "execution_count": 42,
   "metadata": {},
   "outputs": [
    {
     "name": "stdout",
     "output_type": "stream",
     "text": [
      "Working on:\n",
      "./../../../Data/2023_rapid_fitting/data_raw copy.h5\n",
      "['Y', 'X'] [60, 60]\n",
      "\n",
      "\n",
      "SHO Fits will be written to:\n",
      "./../../../Data/2023_rapid_fitting/data_raw copy.h5\n",
      "\n",
      "\n",
      "Consider calling test() to check results before calling compute() which computes on the entire dataset and writes results to the HDF5 file\n",
      "\tThis class (likely) supports interruption and resuming of computations!\n",
      "\tIf you are operating in a python console, press Ctrl+C or Cmd+C to abort\n",
      "\tIf you are in a Jupyter notebook, click on \"Kernel\">>\"Interrupt\"\n",
      "\tIf you are operating on a cluster and your job gets killed, re-run the job to resume\n",
      "\n"
     ]
    },
    {
     "ename": "KeyboardInterrupt",
     "evalue": "",
     "output_type": "error",
     "traceback": [
      "\u001b[0;31m---------------------------------------------------------------------------\u001b[0m",
      "\u001b[0;31mKeyboardInterrupt\u001b[0m                         Traceback (most recent call last)",
      "\u001b[1;32m/home/ferroelectric/m3_learning/m3_learning/papers/2023_Rapid_Fitting/7_Pytorch_SHO_Fitter_Noisy.ipynb Cell 20\u001b[0m in \u001b[0;36m1\n\u001b[0;32m----> <a href='vscode-notebook-cell://ssh-remote%2B10.248.36.21/home/ferroelectric/m3_learning/m3_learning/papers/2023_Rapid_Fitting/7_Pytorch_SHO_Fitter_Noisy.ipynb#Y111sdnNjb2RlLXJlbW90ZQ%3D%3D?line=0'>1</a>\u001b[0m dataset\u001b[39m.\u001b[39;49mSHO_Fitter(dataset \u001b[39m=\u001b[39;49m \u001b[39m\"\u001b[39;49m\u001b[39mNormalized_Data\u001b[39;49m\u001b[39m\"\u001b[39;49m, h5_sho_targ_grp\u001b[39m=\u001b[39;49m\u001b[39m\"\u001b[39;49m\u001b[39mtest\u001b[39;49m\u001b[39m\"\u001b[39;49m)\n",
      "File \u001b[0;32m~/m3_learning/m3_learning/src/m3_learning/be/dataset.py:320\u001b[0m, in \u001b[0;36mBE_Dataset.SHO_Fitter\u001b[0;34m(self, force, max_cores, max_mem, dataset, h5_sho_targ_grp)\u001b[0m\n\u001b[1;32m    313\u001b[0m sho_fitter \u001b[39m=\u001b[39m belib\u001b[39m.\u001b[39manalysis\u001b[39m.\u001b[39mBESHOfitter(\n\u001b[1;32m    314\u001b[0m     h5_main, cores\u001b[39m=\u001b[39mmax_cores, verbose\u001b[39m=\u001b[39m\u001b[39mFalse\u001b[39;00m, h5_target_group\u001b[39m=\u001b[39mh5_sho_targ_grp\n\u001b[1;32m    315\u001b[0m )\n\u001b[1;32m    316\u001b[0m sho_fitter\u001b[39m.\u001b[39mset_up_guess(\n\u001b[1;32m    317\u001b[0m     guess_func\u001b[39m=\u001b[39mbelib\u001b[39m.\u001b[39manalysis\u001b[39m.\u001b[39mbe_sho_fitter\u001b[39m.\u001b[39mSHOGuessFunc\u001b[39m.\u001b[39mcomplex_gaussian,\n\u001b[1;32m    318\u001b[0m     num_points\u001b[39m=\u001b[39msho_fit_points,\n\u001b[1;32m    319\u001b[0m )\n\u001b[0;32m--> 320\u001b[0m h5_sho_guess \u001b[39m=\u001b[39m sho_fitter\u001b[39m.\u001b[39;49mdo_guess(override\u001b[39m=\u001b[39;49msho_override)\n\u001b[1;32m    321\u001b[0m sho_fitter\u001b[39m.\u001b[39mset_up_fit()\n\u001b[1;32m    322\u001b[0m h5_sho_fit \u001b[39m=\u001b[39m sho_fitter\u001b[39m.\u001b[39mdo_fit(override\u001b[39m=\u001b[39msho_override)\n",
      "File \u001b[0;32m~/anaconda3/envs/rapidfitting/lib/python3.9/site-packages/BGlib/be/analysis/fitter.py:173\u001b[0m, in \u001b[0;36mFitter.do_guess\u001b[0;34m(self, override, *args, **kwargs)\u001b[0m\n\u001b[1;32m    170\u001b[0m \u001b[39mif\u001b[39;00m \u001b[39mnot\u001b[39;00m \u001b[39mself\u001b[39m\u001b[39m.\u001b[39m__set_up_called:\n\u001b[1;32m    171\u001b[0m     \u001b[39mraise\u001b[39;00m \u001b[39mValueError\u001b[39;00m(\u001b[39m'\u001b[39m\u001b[39mPlease call set_up_guess() before calling \u001b[39m\u001b[39m'\u001b[39m\n\u001b[1;32m    172\u001b[0m                      \u001b[39m'\u001b[39m\u001b[39mdo_guess()\u001b[39m\u001b[39m'\u001b[39m)\n\u001b[0;32m--> 173\u001b[0m \u001b[39mself\u001b[39m\u001b[39m.\u001b[39mh5_results_grp \u001b[39m=\u001b[39m \u001b[39msuper\u001b[39;49m(Fitter, \u001b[39mself\u001b[39;49m)\u001b[39m.\u001b[39;49mcompute(override\u001b[39m=\u001b[39;49moverride)\n\u001b[1;32m    174\u001b[0m \u001b[39m# to be on the safe side, expect setup again\u001b[39;00m\n\u001b[1;32m    175\u001b[0m \u001b[39mself\u001b[39m\u001b[39m.\u001b[39m__set_up_called \u001b[39m=\u001b[39m \u001b[39mFalse\u001b[39;00m\n",
      "File \u001b[0;32m~/anaconda3/envs/rapidfitting/lib/python3.9/site-packages/pyUSID/processing/process.py:963\u001b[0m, in \u001b[0;36mProcess.compute\u001b[0;34m(self, override, *args, **kwargs)\u001b[0m\n\u001b[1;32m    959\u001b[0m num_jobs_in_batch \u001b[39m=\u001b[39m \u001b[39mself\u001b[39m\u001b[39m.\u001b[39m__end_pos \u001b[39m-\u001b[39m \u001b[39mself\u001b[39m\u001b[39m.\u001b[39m__start_pos\n\u001b[1;32m    961\u001b[0m t_start_1 \u001b[39m=\u001b[39m tm\u001b[39m.\u001b[39mtime()\n\u001b[0;32m--> 963\u001b[0m \u001b[39mself\u001b[39;49m\u001b[39m.\u001b[39;49m_unit_computation(\u001b[39m*\u001b[39;49margs, \u001b[39m*\u001b[39;49m\u001b[39m*\u001b[39;49mkwargs)\n\u001b[1;32m    965\u001b[0m comp_time \u001b[39m=\u001b[39m np\u001b[39m.\u001b[39mround(tm\u001b[39m.\u001b[39mtime() \u001b[39m-\u001b[39m t_start_1, decimals\u001b[39m=\u001b[39m\u001b[39m2\u001b[39m)  \u001b[39m# in seconds\u001b[39;00m\n\u001b[1;32m    966\u001b[0m time_per_pix \u001b[39m=\u001b[39m comp_time \u001b[39m/\u001b[39m num_jobs_in_batch\n",
      "File \u001b[0;32m~/anaconda3/envs/rapidfitting/lib/python3.9/site-packages/pyUSID/processing/process.py:807\u001b[0m, in \u001b[0;36mProcess._unit_computation\u001b[0;34m(self, *args, **kwargs)\u001b[0m\n\u001b[1;32m    804\u001b[0m \u001b[39mif\u001b[39;00m \u001b[39mself\u001b[39m\u001b[39m.\u001b[39mverbose \u001b[39mand\u001b[39;00m \u001b[39mself\u001b[39m\u001b[39m.\u001b[39mmpi_rank \u001b[39m==\u001b[39m \u001b[39m0\u001b[39m:\n\u001b[1;32m    805\u001b[0m     \u001b[39mprint\u001b[39m(\u001b[39m\"\u001b[39m\u001b[39mRank \u001b[39m\u001b[39m{}\u001b[39;00m\u001b[39m at Process class\u001b[39m\u001b[39m'\u001b[39m\u001b[39m default _unit_computation() that \u001b[39m\u001b[39m\"\u001b[39m\n\u001b[1;32m    806\u001b[0m           \u001b[39m\"\u001b[39m\u001b[39mwill call parallel_compute()\u001b[39m\u001b[39m\"\u001b[39m\u001b[39m.\u001b[39mformat(\u001b[39mself\u001b[39m\u001b[39m.\u001b[39mmpi_rank))\n\u001b[0;32m--> 807\u001b[0m \u001b[39mself\u001b[39m\u001b[39m.\u001b[39m_results \u001b[39m=\u001b[39m parallel_compute(\u001b[39mself\u001b[39;49m\u001b[39m.\u001b[39;49mdata, \u001b[39mself\u001b[39;49m\u001b[39m.\u001b[39;49m_map_function, cores\u001b[39m=\u001b[39;49m\u001b[39mself\u001b[39;49m\u001b[39m.\u001b[39;49m_cores,\n\u001b[1;32m    808\u001b[0m                                  lengthy_computation\u001b[39m=\u001b[39;49m\u001b[39mFalse\u001b[39;49;00m,\n\u001b[1;32m    809\u001b[0m                                  func_args\u001b[39m=\u001b[39;49margs, func_kwargs\u001b[39m=\u001b[39;49mkwargs,\n\u001b[1;32m    810\u001b[0m                                  verbose\u001b[39m=\u001b[39;49m\u001b[39mself\u001b[39;49m\u001b[39m.\u001b[39;49mverbose)\n",
      "File \u001b[0;32m~/anaconda3/envs/rapidfitting/lib/python3.9/site-packages/sidpy/proc/comp_utils.py:188\u001b[0m, in \u001b[0;36mparallel_compute\u001b[0;34m(data, func, cores, lengthy_computation, func_args, func_kwargs, verbose, joblib_backend)\u001b[0m\n\u001b[1;32m    185\u001b[0m         \u001b[39mprint\u001b[39m(\u001b[39m\"\u001b[39m\u001b[39mRank \u001b[39m\u001b[39m{}\u001b[39;00m\u001b[39m computing serially ...\u001b[39m\u001b[39m\"\u001b[39m\u001b[39m.\u001b[39mformat(rank))\n\u001b[1;32m    186\u001b[0m     \u001b[39m# List comprehension vs map vs for loop?\u001b[39;00m\n\u001b[1;32m    187\u001b[0m     \u001b[39m# https://stackoverflow.com/questions/1247486/python-list-comprehension-vs-map\u001b[39;00m\n\u001b[0;32m--> 188\u001b[0m     results \u001b[39m=\u001b[39m [func(vector, \u001b[39m*\u001b[39mfunc_args, \u001b[39m*\u001b[39m\u001b[39m*\u001b[39mfunc_kwargs) \u001b[39mfor\u001b[39;00m vector \u001b[39min\u001b[39;00m data]\n\u001b[1;32m    190\u001b[0m \u001b[39mreturn\u001b[39;00m results\n",
      "File \u001b[0;32m~/anaconda3/envs/rapidfitting/lib/python3.9/site-packages/sidpy/proc/comp_utils.py:188\u001b[0m, in \u001b[0;36m<listcomp>\u001b[0;34m(.0)\u001b[0m\n\u001b[1;32m    185\u001b[0m         \u001b[39mprint\u001b[39m(\u001b[39m\"\u001b[39m\u001b[39mRank \u001b[39m\u001b[39m{}\u001b[39;00m\u001b[39m computing serially ...\u001b[39m\u001b[39m\"\u001b[39m\u001b[39m.\u001b[39mformat(rank))\n\u001b[1;32m    186\u001b[0m     \u001b[39m# List comprehension vs map vs for loop?\u001b[39;00m\n\u001b[1;32m    187\u001b[0m     \u001b[39m# https://stackoverflow.com/questions/1247486/python-list-comprehension-vs-map\u001b[39;00m\n\u001b[0;32m--> 188\u001b[0m     results \u001b[39m=\u001b[39m [func(vector, \u001b[39m*\u001b[39;49mfunc_args, \u001b[39m*\u001b[39;49m\u001b[39m*\u001b[39;49mfunc_kwargs) \u001b[39mfor\u001b[39;00m vector \u001b[39min\u001b[39;00m data]\n\u001b[1;32m    190\u001b[0m \u001b[39mreturn\u001b[39;00m results\n",
      "File \u001b[0;32m~/anaconda3/envs/rapidfitting/lib/python3.9/site-packages/BGlib/be/analysis/be_sho_fitter.py:569\u001b[0m, in \u001b[0;36mcomplex_gaussian\u001b[0;34m(resp_vec, w_vec, num_points)\u001b[0m\n\u001b[1;32m    565\u001b[0m guess \u001b[39m=\u001b[39m SHOestimateGuess(resp_vec, w_vec, num_points)\n\u001b[1;32m    567\u001b[0m \u001b[39m# Calculate the error and append it.\u001b[39;00m\n\u001b[1;32m    568\u001b[0m guess \u001b[39m=\u001b[39m np\u001b[39m.\u001b[39mhstack(\n\u001b[0;32m--> 569\u001b[0m     [guess, np\u001b[39m.\u001b[39marray(_r_square(resp_vec, SHOfunc, guess, w_vec))])\n\u001b[1;32m    571\u001b[0m \u001b[39mreturn\u001b[39;00m guess\n",
      "File \u001b[0;32m~/anaconda3/envs/rapidfitting/lib/python3.9/site-packages/BGlib/be/analysis/be_sho_fitter.py:516\u001b[0m, in \u001b[0;36m_r_square\u001b[0;34m(data_vec, func, *args, **kwargs)\u001b[0m\n\u001b[1;32m    514\u001b[0m data_mean \u001b[39m=\u001b[39m np\u001b[39m.\u001b[39mmean(data_vec)\n\u001b[1;32m    515\u001b[0m ss_tot \u001b[39m=\u001b[39m \u001b[39msum\u001b[39m(\u001b[39mabs\u001b[39m(data_vec \u001b[39m-\u001b[39m data_mean) \u001b[39m*\u001b[39m\u001b[39m*\u001b[39m \u001b[39m2\u001b[39m)\n\u001b[0;32m--> 516\u001b[0m ss_res \u001b[39m=\u001b[39m \u001b[39msum\u001b[39m(\u001b[39mabs\u001b[39m(data_vec \u001b[39m-\u001b[39m func(\u001b[39m*\u001b[39;49margs, \u001b[39m*\u001b[39;49m\u001b[39m*\u001b[39;49mkwargs)) \u001b[39m*\u001b[39m\u001b[39m*\u001b[39m \u001b[39m2\u001b[39m)\n\u001b[1;32m    518\u001b[0m r_squared \u001b[39m=\u001b[39m \u001b[39m1\u001b[39m \u001b[39m-\u001b[39m ss_res \u001b[39m/\u001b[39m ss_tot \u001b[39mif\u001b[39;00m ss_tot \u001b[39m>\u001b[39m \u001b[39m0\u001b[39m \u001b[39melse\u001b[39;00m \u001b[39m0\u001b[39m\n\u001b[1;32m    520\u001b[0m \u001b[39mreturn\u001b[39;00m r_squared\n",
      "File \u001b[0;32m~/anaconda3/envs/rapidfitting/lib/python3.9/site-packages/BGlib/be/analysis/utils/be_sho.py:25\u001b[0m, in \u001b[0;36mSHOfunc\u001b[0;34m(parms, w_vec)\u001b[0m\n\u001b[1;32m     13\u001b[0m \u001b[39mdef\u001b[39;00m \u001b[39mSHOfunc\u001b[39m(parms, w_vec):\n\u001b[1;32m     14\u001b[0m     \u001b[39m\"\"\"\u001b[39;00m\n\u001b[1;32m     15\u001b[0m \u001b[39m    Generates the SHO response over the given frequency band\u001b[39;00m\n\u001b[1;32m     16\u001b[0m \n\u001b[0;32m   (...)\u001b[0m\n\u001b[1;32m     22\u001b[0m \u001b[39m        Vector of frequency values\u001b[39;00m\n\u001b[1;32m     23\u001b[0m \u001b[39m    \"\"\"\u001b[39;00m\n\u001b[1;32m     24\u001b[0m     \u001b[39mreturn\u001b[39;00m parms[\u001b[39m0\u001b[39m] \u001b[39m*\u001b[39m exp(\u001b[39m1\u001b[39mj \u001b[39m*\u001b[39m parms[\u001b[39m3\u001b[39m]) \u001b[39m*\u001b[39m parms[\u001b[39m1\u001b[39m] \u001b[39m*\u001b[39m\u001b[39m*\u001b[39m \u001b[39m2\u001b[39m \u001b[39m/\u001b[39m \\\n\u001b[0;32m---> 25\u001b[0m         (w_vec \u001b[39m*\u001b[39m\u001b[39m*\u001b[39m \u001b[39m2\u001b[39m \u001b[39m-\u001b[39m \u001b[39m1\u001b[39;49mj \u001b[39m*\u001b[39;49m w_vec \u001b[39m*\u001b[39m parms[\u001b[39m1\u001b[39m] \u001b[39m/\u001b[39m parms[\u001b[39m2\u001b[39m] \u001b[39m-\u001b[39m parms[\u001b[39m1\u001b[39m] \u001b[39m*\u001b[39m\u001b[39m*\u001b[39m \u001b[39m2\u001b[39m)\n",
      "\u001b[0;31mKeyboardInterrupt\u001b[0m: "
     ]
    }
   ],
   "source": [
    "dataset.SHO_Fitter(dataset = \"Normalized_Data\", h5_sho_targ_grp=\"test\")"
   ]
  },
  {
   "cell_type": "code",
   "execution_count": 21,
   "metadata": {},
   "outputs": [
    {
     "ename": "TypeError",
     "evalue": "Supply a h5py.Dataset object that is a USID main dataset",
     "output_type": "error",
     "traceback": [
      "\u001b[0;31m---------------------------------------------------------------------------\u001b[0m",
      "\u001b[0;31mTypeError\u001b[0m                                 Traceback (most recent call last)",
      "\u001b[1;32m/home/ferroelectric/m3_learning/m3_learning/papers/2023_Rapid_Fitting/7_Pytorch_SHO_Fitter_Noisy.ipynb Cell 16\u001b[0m in \u001b[0;36m1\n\u001b[0;32m----> <a href='vscode-notebook-cell://ssh-remote%2B10.248.36.21/home/ferroelectric/m3_learning/m3_learning/papers/2023_Rapid_Fitting/7_Pytorch_SHO_Fitter_Noisy.ipynb#Y103sdnNjb2RlLXJlbW90ZQ%3D%3D?line=0'>1</a>\u001b[0m h5_main \u001b[39m=\u001b[39m usid\u001b[39m.\u001b[39;49mUSIDataset(h5_main)\n",
      "File \u001b[0;32m~/anaconda3/envs/rapidfitting/lib/python3.9/site-packages/pyUSID/io/usi_data.py:92\u001b[0m, in \u001b[0;36mUSIDataset.__init__\u001b[0;34m(self, h5_ref, sort_dims)\u001b[0m\n\u001b[1;32m     43\u001b[0m \u001b[39m\"\"\"\u001b[39;00m\n\u001b[1;32m     44\u001b[0m \u001b[39mParameters\u001b[39;00m\n\u001b[1;32m     45\u001b[0m \u001b[39m----------\u001b[39;00m\n\u001b[0;32m   (...)\u001b[0m\n\u001b[1;32m     88\u001b[0m \n\u001b[1;32m     89\u001b[0m \u001b[39m\"\"\"\u001b[39;00m\n\u001b[1;32m     91\u001b[0m \u001b[39mif\u001b[39;00m \u001b[39mnot\u001b[39;00m check_if_main(h5_ref):\n\u001b[0;32m---> 92\u001b[0m     \u001b[39mraise\u001b[39;00m \u001b[39mTypeError\u001b[39;00m(\u001b[39m'\u001b[39m\u001b[39mSupply a h5py.Dataset object that is a USID main dataset\u001b[39m\u001b[39m'\u001b[39m)\n\u001b[1;32m     94\u001b[0m \u001b[39msuper\u001b[39m(USIDataset, \u001b[39mself\u001b[39m)\u001b[39m.\u001b[39m\u001b[39m__init__\u001b[39m(h5_ref\u001b[39m.\u001b[39mid)\n\u001b[1;32m     96\u001b[0m \u001b[39m# User accessible properties\u001b[39;00m\n\u001b[1;32m     97\u001b[0m \u001b[39m# The required Position and Spectroscopic datasets\u001b[39;00m\n",
      "\u001b[0;31mTypeError\u001b[0m: Supply a h5py.Dataset object that is a USID main dataset"
     ]
    }
   ],
   "source": [
    "h5_main = usid.USIDataset(h5_main)"
   ]
  },
  {
   "cell_type": "code",
   "execution_count": 11,
   "metadata": {},
   "outputs": [],
   "source": [
    "import h5py\n",
    "h5_f = h5py.File(dataset.file, \"r+\")\n"
   ]
  },
  {
   "cell_type": "code",
   "execution_count": 136,
   "metadata": {},
   "outputs": [
    {
     "name": "stdout",
     "output_type": "stream",
     "text": [
      "Bin_FFT : <HDF5 object reference (null)>\n",
      "Bin_Frequencies : <HDF5 object reference (null)>\n",
      "Bin_Indices : <HDF5 object reference (null)>\n",
      "Bin_Step : <HDF5 object reference (null)>\n",
      "Bin_Wfm_Type : <HDF5 object reference (null)>\n",
      "Excitation_Waveform : <HDF5 object reference (null)>\n",
      "Noise_Floor : <HDF5 object reference (null)>\n",
      "Position_Indices : <HDF5 object reference (null)>\n",
      "Position_Values : <HDF5 object reference (null)>\n",
      "Raw_Data : <HDF5 object reference (null)>\n",
      "Spectroscopic_Indices : <HDF5 object reference (null)>\n",
      "Spectroscopic_Values : <HDF5 object reference (null)>\n",
      "UDVS : <HDF5 object reference (null)>\n",
      "UDVS_Indices : <HDF5 object reference (null)>\n",
      "in_field_Plot_Group : <HDF5 region reference (null>\n",
      "out_of_field_Plot_Group : <HDF5 region reference (null>\n",
      "quantity : Piezoresponse\n",
      "units : V\n"
     ]
    }
   ],
   "source": [
    "for key, val in sidpy.hdf_utils.get_attributes(h5_f[\"/Noisy_Data/Noise_1/Raw_Data\"]).items():\n",
    "    print('{} : {}'.format(key, val))"
   ]
  },
  {
   "cell_type": "code",
   "execution_count": 39,
   "metadata": {},
   "outputs": [
    {
     "name": "stdout",
     "output_type": "stream",
     "text": [
      "{'Pycroscopy version': '0.60.4', 'current_position_x': 59, 'current_position_y': 59, 'data_type': 'BEPSData', 'experiment_date': '18-Sep-2015 18:32:14', 'grid_size_x': 60, 'grid_size_y': 60, 'translator': 'NDF'}\n"
     ]
    }
   ],
   "source": [
    "import sidpy\n",
    "\n",
    "print(sidpy.hdf_utils.get_attributes(h5_main.parent.parent))"
   ]
  },
  {
   "cell_type": "code",
   "execution_count": 137,
   "metadata": {},
   "outputs": [
    {
     "data": {
      "text/plain": [
       "<HDF5 dataset \"Raw_Data\": shape (3600, 63360), type \"<c8\">"
      ]
     },
     "execution_count": 137,
     "metadata": {},
     "output_type": "execute_result"
    }
   ],
   "source": [
    "h5_f[\"/Noisy_Data/Noise_1/Raw_Data\"]"
   ]
  },
  {
   "cell_type": "code",
   "execution_count": 131,
   "metadata": {},
   "outputs": [
    {
     "ename": "NameError",
     "evalue": "name 'gzip' is not defined",
     "output_type": "error",
     "traceback": [
      "\u001b[0;31m---------------------------------------------------------------------------\u001b[0m",
      "\u001b[0;31mNameError\u001b[0m                                 Traceback (most recent call last)",
      "\u001b[1;32m/home/ferroelectric/m3_learning/m3_learning/papers/2023_Rapid_Fitting/7_Pytorch_SHO_Fitter_Noisy.ipynb Cell 17\u001b[0m in \u001b[0;36m8\n\u001b[1;32m      <a href='vscode-notebook-cell://ssh-remote%2B10.248.36.21/home/ferroelectric/m3_learning/m3_learning/papers/2023_Rapid_Fitting/7_Pytorch_SHO_Fitter_Noisy.ipynb#Y105sdnNjb2RlLXJlbW90ZQ%3D%3D?line=0'>1</a>\u001b[0m usid\u001b[39m.\u001b[39mhdf_utils\u001b[39m.\u001b[39mwrite_main_dataset(h5_f[\u001b[39m'\u001b[39m\u001b[39mMeasurement_000\u001b[39m\u001b[39m'\u001b[39m],\n\u001b[1;32m      <a href='vscode-notebook-cell://ssh-remote%2B10.248.36.21/home/ferroelectric/m3_learning/m3_learning/papers/2023_Rapid_Fitting/7_Pytorch_SHO_Fitter_Noisy.ipynb#Y105sdnNjb2RlLXJlbW90ZQ%3D%3D?line=1'>2</a>\u001b[0m                                   (\u001b[39mself\u001b[39m\u001b[39m.\u001b[39mnum_pix, \u001b[39mself\u001b[39m\u001b[39m.\u001b[39mvoltage_steps),\n\u001b[1;32m      <a href='vscode-notebook-cell://ssh-remote%2B10.248.36.21/home/ferroelectric/m3_learning/m3_learning/papers/2023_Rapid_Fitting/7_Pytorch_SHO_Fitter_Noisy.ipynb#Y105sdnNjb2RlLXJlbW90ZQ%3D%3D?line=2'>3</a>\u001b[0m                                   \u001b[39m\"\u001b[39m\u001b[39mRaw_Data_Noise_3\u001b[39m\u001b[39m\"\u001b[39m,\n\u001b[1;32m      <a href='vscode-notebook-cell://ssh-remote%2B10.248.36.21/home/ferroelectric/m3_learning/m3_learning/papers/2023_Rapid_Fitting/7_Pytorch_SHO_Fitter_Noisy.ipynb#Y105sdnNjb2RlLXJlbW90ZQ%3D%3D?line=3'>4</a>\u001b[0m                                   \u001b[39m\"\u001b[39m\u001b[39mPiezoresponse\u001b[39m\u001b[39m\"\u001b[39m,\n\u001b[1;32m      <a href='vscode-notebook-cell://ssh-remote%2B10.248.36.21/home/ferroelectric/m3_learning/m3_learning/papers/2023_Rapid_Fitting/7_Pytorch_SHO_Fitter_Noisy.ipynb#Y105sdnNjb2RlLXJlbW90ZQ%3D%3D?line=4'>5</a>\u001b[0m                                   \u001b[39m\"\u001b[39m\u001b[39mV\u001b[39m\u001b[39m\"\u001b[39m,\n\u001b[1;32m      <a href='vscode-notebook-cell://ssh-remote%2B10.248.36.21/home/ferroelectric/m3_learning/m3_learning/papers/2023_Rapid_Fitting/7_Pytorch_SHO_Fitter_Noisy.ipynb#Y105sdnNjb2RlLXJlbW90ZQ%3D%3D?line=5'>6</a>\u001b[0m                                   (\u001b[39m60\u001b[39m,\u001b[39m60\u001b[39m),\n\u001b[1;32m      <a href='vscode-notebook-cell://ssh-remote%2B10.248.36.21/home/ferroelectric/m3_learning/m3_learning/papers/2023_Rapid_Fitting/7_Pytorch_SHO_Fitter_Noisy.ipynb#Y105sdnNjb2RlLXJlbW90ZQ%3D%3D?line=6'>7</a>\u001b[0m                                   (\u001b[39m2\u001b[39m,\u001b[39m165\u001b[39m),\n\u001b[0;32m----> <a href='vscode-notebook-cell://ssh-remote%2B10.248.36.21/home/ferroelectric/m3_learning/m3_learning/papers/2023_Rapid_Fitting/7_Pytorch_SHO_Fitter_Noisy.ipynb#Y105sdnNjb2RlLXJlbW90ZQ%3D%3D?line=7'>8</a>\u001b[0m                                   dtype \u001b[39m=\u001b[39m gzip,\n\u001b[1;32m      <a href='vscode-notebook-cell://ssh-remote%2B10.248.36.21/home/ferroelectric/m3_learning/m3_learning/papers/2023_Rapid_Fitting/7_Pytorch_SHO_Fitter_Noisy.ipynb#Y105sdnNjb2RlLXJlbW90ZQ%3D%3D?line=8'>9</a>\u001b[0m                                   )\n",
      "\u001b[0;31mNameError\u001b[0m: name 'gzip' is not defined"
     ]
    }
   ],
   "source": [
    "usid.hdf_utils.write_main_dataset(h5_f['Measurement_000'],\n",
    "                                  (self.num_pix, self.voltage_steps),\n",
    "                                  \"Raw_Data_Noise_3\",\n",
    "                                  \"Piezoresponse\",\n",
    "                                  \"V\",\n",
    "                                  (60,60),\n",
    "                                  (2,165),\n",
    "                                  dtype = gzip,\n",
    "                                  )"
   ]
  },
  {
   "cell_type": "code",
   "execution_count": 99,
   "metadata": {},
   "outputs": [
    {
     "name": "stdout",
     "output_type": "stream",
     "text": [
      "\u001b[0;31mSignature:\u001b[0m\n",
      "\u001b[0musid\u001b[0m\u001b[0;34m.\u001b[0m\u001b[0mhdf_utils\u001b[0m\u001b[0;34m.\u001b[0m\u001b[0mwrite_main_dataset\u001b[0m\u001b[0;34m(\u001b[0m\u001b[0;34m\u001b[0m\n",
      "\u001b[0;34m\u001b[0m    \u001b[0mh5_parent_group\u001b[0m\u001b[0;34m,\u001b[0m\u001b[0;34m\u001b[0m\n",
      "\u001b[0;34m\u001b[0m    \u001b[0mmain_data\u001b[0m\u001b[0;34m,\u001b[0m\u001b[0;34m\u001b[0m\n",
      "\u001b[0;34m\u001b[0m    \u001b[0mmain_data_name\u001b[0m\u001b[0;34m,\u001b[0m\u001b[0;34m\u001b[0m\n",
      "\u001b[0;34m\u001b[0m    \u001b[0mquantity\u001b[0m\u001b[0;34m,\u001b[0m\u001b[0;34m\u001b[0m\n",
      "\u001b[0;34m\u001b[0m    \u001b[0munits\u001b[0m\u001b[0;34m,\u001b[0m\u001b[0;34m\u001b[0m\n",
      "\u001b[0;34m\u001b[0m    \u001b[0mpos_dims\u001b[0m\u001b[0;34m,\u001b[0m\u001b[0;34m\u001b[0m\n",
      "\u001b[0;34m\u001b[0m    \u001b[0mspec_dims\u001b[0m\u001b[0;34m,\u001b[0m\u001b[0;34m\u001b[0m\n",
      "\u001b[0;34m\u001b[0m    \u001b[0mmain_dset_attrs\u001b[0m\u001b[0;34m=\u001b[0m\u001b[0;32mNone\u001b[0m\u001b[0;34m,\u001b[0m\u001b[0;34m\u001b[0m\n",
      "\u001b[0;34m\u001b[0m    \u001b[0mh5_pos_inds\u001b[0m\u001b[0;34m=\u001b[0m\u001b[0;32mNone\u001b[0m\u001b[0;34m,\u001b[0m\u001b[0;34m\u001b[0m\n",
      "\u001b[0;34m\u001b[0m    \u001b[0mh5_pos_vals\u001b[0m\u001b[0;34m=\u001b[0m\u001b[0;32mNone\u001b[0m\u001b[0;34m,\u001b[0m\u001b[0;34m\u001b[0m\n",
      "\u001b[0;34m\u001b[0m    \u001b[0mh5_spec_inds\u001b[0m\u001b[0;34m=\u001b[0m\u001b[0;32mNone\u001b[0m\u001b[0;34m,\u001b[0m\u001b[0;34m\u001b[0m\n",
      "\u001b[0;34m\u001b[0m    \u001b[0mh5_spec_vals\u001b[0m\u001b[0;34m=\u001b[0m\u001b[0;32mNone\u001b[0m\u001b[0;34m,\u001b[0m\u001b[0;34m\u001b[0m\n",
      "\u001b[0;34m\u001b[0m    \u001b[0maux_spec_prefix\u001b[0m\u001b[0;34m=\u001b[0m\u001b[0;34m'Spectroscopic_'\u001b[0m\u001b[0;34m,\u001b[0m\u001b[0;34m\u001b[0m\n",
      "\u001b[0;34m\u001b[0m    \u001b[0maux_pos_prefix\u001b[0m\u001b[0;34m=\u001b[0m\u001b[0;34m'Position_'\u001b[0m\u001b[0;34m,\u001b[0m\u001b[0;34m\u001b[0m\n",
      "\u001b[0;34m\u001b[0m    \u001b[0mverbose\u001b[0m\u001b[0;34m=\u001b[0m\u001b[0;32mFalse\u001b[0m\u001b[0;34m,\u001b[0m\u001b[0;34m\u001b[0m\n",
      "\u001b[0;34m\u001b[0m    \u001b[0mslow_to_fast\u001b[0m\u001b[0;34m=\u001b[0m\u001b[0;32mFalse\u001b[0m\u001b[0;34m,\u001b[0m\u001b[0;34m\u001b[0m\n",
      "\u001b[0;34m\u001b[0m    \u001b[0;34m**\u001b[0m\u001b[0mkwargs\u001b[0m\u001b[0;34m,\u001b[0m\u001b[0;34m\u001b[0m\n",
      "\u001b[0;34m\u001b[0m\u001b[0;34m)\u001b[0m\u001b[0;34m\u001b[0m\u001b[0;34m\u001b[0m\u001b[0m\n",
      "\u001b[0;31mSource:\u001b[0m   \n",
      "\u001b[0;32mdef\u001b[0m \u001b[0mwrite_main_dataset\u001b[0m\u001b[0;34m(\u001b[0m\u001b[0mh5_parent_group\u001b[0m\u001b[0;34m,\u001b[0m \u001b[0mmain_data\u001b[0m\u001b[0;34m,\u001b[0m \u001b[0mmain_data_name\u001b[0m\u001b[0;34m,\u001b[0m \u001b[0mquantity\u001b[0m\u001b[0;34m,\u001b[0m \u001b[0munits\u001b[0m\u001b[0;34m,\u001b[0m \u001b[0mpos_dims\u001b[0m\u001b[0;34m,\u001b[0m \u001b[0mspec_dims\u001b[0m\u001b[0;34m,\u001b[0m\u001b[0;34m\u001b[0m\n",
      "\u001b[0;34m\u001b[0m                       \u001b[0mmain_dset_attrs\u001b[0m\u001b[0;34m=\u001b[0m\u001b[0;32mNone\u001b[0m\u001b[0;34m,\u001b[0m \u001b[0mh5_pos_inds\u001b[0m\u001b[0;34m=\u001b[0m\u001b[0;32mNone\u001b[0m\u001b[0;34m,\u001b[0m \u001b[0mh5_pos_vals\u001b[0m\u001b[0;34m=\u001b[0m\u001b[0;32mNone\u001b[0m\u001b[0;34m,\u001b[0m \u001b[0mh5_spec_inds\u001b[0m\u001b[0;34m=\u001b[0m\u001b[0;32mNone\u001b[0m\u001b[0;34m,\u001b[0m \u001b[0mh5_spec_vals\u001b[0m\u001b[0;34m=\u001b[0m\u001b[0;32mNone\u001b[0m\u001b[0;34m,\u001b[0m\u001b[0;34m\u001b[0m\n",
      "\u001b[0;34m\u001b[0m                       \u001b[0maux_spec_prefix\u001b[0m\u001b[0;34m=\u001b[0m\u001b[0;34m'Spectroscopic_'\u001b[0m\u001b[0;34m,\u001b[0m \u001b[0maux_pos_prefix\u001b[0m\u001b[0;34m=\u001b[0m\u001b[0;34m'Position_'\u001b[0m\u001b[0;34m,\u001b[0m \u001b[0mverbose\u001b[0m\u001b[0;34m=\u001b[0m\u001b[0;32mFalse\u001b[0m\u001b[0;34m,\u001b[0m\u001b[0;34m\u001b[0m\n",
      "\u001b[0;34m\u001b[0m                       \u001b[0mslow_to_fast\u001b[0m\u001b[0;34m=\u001b[0m\u001b[0;32mFalse\u001b[0m\u001b[0;34m,\u001b[0m \u001b[0;34m**\u001b[0m\u001b[0mkwargs\u001b[0m\u001b[0;34m)\u001b[0m\u001b[0;34m:\u001b[0m\u001b[0;34m\u001b[0m\n",
      "\u001b[0;34m\u001b[0m    \u001b[0;34m\"\"\"\u001b[0m\n",
      "\u001b[0;34m    Writes the provided data as a 'Main' dataset with all appropriate linking.\u001b[0m\n",
      "\u001b[0;34m    By default, the instructions for generating the ancillary datasets should be specified using the pos_dims and\u001b[0m\n",
      "\u001b[0;34m    spec_dims arguments as dictionary objects. Alternatively, if both the indices and values datasets are already\u001b[0m\n",
      "\u001b[0;34m    available for either/or the positions / spectroscopic, they can be specified using the keyword arguments. In this\u001b[0m\n",
      "\u001b[0;34m    case, fresh datasets will not be generated.\u001b[0m\n",
      "\u001b[0;34m\u001b[0m\n",
      "\u001b[0;34m    Parameters\u001b[0m\n",
      "\u001b[0;34m    ----------\u001b[0m\n",
      "\u001b[0;34m    h5_parent_group : :class:`h5py.Group`\u001b[0m\n",
      "\u001b[0;34m        Parent group under which the datasets will be created\u001b[0m\n",
      "\u001b[0;34m    main_data : numpy.ndarray, dask.array.core.Array, list or tuple\u001b[0m\n",
      "\u001b[0;34m        2D matrix formatted as [position, spectral] or a list / tuple with the shape for an empty dataset.\u001b[0m\n",
      "\u001b[0;34m        If creating an empty dataset - the dtype must be specified via a kwarg.\u001b[0m\n",
      "\u001b[0;34m    main_data_name : String / Unicode\u001b[0m\n",
      "\u001b[0;34m        Name to give to the main dataset. This cannot contain the '-' character.\u001b[0m\n",
      "\u001b[0;34m    quantity : String / Unicode\u001b[0m\n",
      "\u001b[0;34m        Name of the physical quantity stored in the dataset. Example - 'Current'\u001b[0m\n",
      "\u001b[0;34m    units : String / Unicode\u001b[0m\n",
      "\u001b[0;34m        Name of units for the quantity stored in the dataset. Example - 'A' for amperes\u001b[0m\n",
      "\u001b[0;34m    pos_dims : Dimension or array-like of Dimension objects\u001b[0m\n",
      "\u001b[0;34m        Sequence of Dimension objects that provides all necessary instructions for constructing the indices and values\u001b[0m\n",
      "\u001b[0;34m        datasets\u001b[0m\n",
      "\u001b[0;34m        Object specifying the instructions necessary for building the Position indices and values datasets\u001b[0m\n",
      "\u001b[0;34m    spec_dims : Dimension or array-like of Dimension objects\u001b[0m\n",
      "\u001b[0;34m        Sequence of Dimension objects that provides all necessary instructions for constructing the indices and values\u001b[0m\n",
      "\u001b[0;34m        datasets\u001b[0m\n",
      "\u001b[0;34m        Object specifying the instructions necessary for building the Spectroscopic indices and values datasets\u001b[0m\n",
      "\u001b[0;34m    main_dset_attrs : dictionary, Optional\u001b[0m\n",
      "\u001b[0;34m        Dictionary of parameters that will be written to the main dataset. Do NOT include region references here.\u001b[0m\n",
      "\u001b[0;34m    h5_pos_inds : h5py.Dataset, Optional\u001b[0m\n",
      "\u001b[0;34m        Dataset that will be linked with the name \"Position_Indices\"\u001b[0m\n",
      "\u001b[0;34m    h5_pos_vals : h5py.Dataset, Optional\u001b[0m\n",
      "\u001b[0;34m        Dataset that will be linked with the name \"Position_Values\"\u001b[0m\n",
      "\u001b[0;34m    h5_spec_inds : h5py.Dataset, Optional\u001b[0m\n",
      "\u001b[0;34m        Dataset that will be linked with the name \"Spectroscopic_Indices\"\u001b[0m\n",
      "\u001b[0;34m    h5_spec_vals : h5py.Dataset, Optional\u001b[0m\n",
      "\u001b[0;34m        Dataset that will be linked with the name \"Spectroscopic_Values\"\u001b[0m\n",
      "\u001b[0;34m    aux_spec_prefix : str or unicode, Optional\u001b[0m\n",
      "\u001b[0;34m        Default prefix for Spectroscopic datasets. Default = \"Spectroscopic\"\u001b[0m\n",
      "\u001b[0;34m    aux_pos_prefix : str or unicode, Optional\u001b[0m\n",
      "\u001b[0;34m        Default prefix for Position datasets. Default = \"Position\"\u001b[0m\n",
      "\u001b[0;34m    verbose : bool, Optional, default=False\u001b[0m\n",
      "\u001b[0;34m        If set to true - prints debugging logs\u001b[0m\n",
      "\u001b[0;34m    slow_to_fast : bool, Optional. Default=False\u001b[0m\n",
      "\u001b[0;34m        Set to True if the dimensions are arranged from slowest varying to fastest varying.\u001b[0m\n",
      "\u001b[0;34m        Set to False otherwise.\u001b[0m\n",
      "\u001b[0;34m    kwargs will be passed onto the creation of the dataset. Please pass chunking, compression, dtype, and other\u001b[0m\n",
      "\u001b[0;34m        arguments this way\u001b[0m\n",
      "\u001b[0;34m\u001b[0m\n",
      "\u001b[0;34m    Returns\u001b[0m\n",
      "\u001b[0;34m    -------\u001b[0m\n",
      "\u001b[0;34m    h5_main : USIDataset\u001b[0m\n",
      "\u001b[0;34m        Reference to the main dataset\u001b[0m\n",
      "\u001b[0;34m\u001b[0m\n",
      "\u001b[0;34m    \"\"\"\u001b[0m\u001b[0;34m\u001b[0m\n",
      "\u001b[0;34m\u001b[0m    \u001b[0;32mdef\u001b[0m \u001b[0m__check_anc_before_creation\u001b[0m\u001b[0;34m(\u001b[0m\u001b[0maux_prefix\u001b[0m\u001b[0;34m,\u001b[0m \u001b[0mdim_type\u001b[0m\u001b[0;34m=\u001b[0m\u001b[0;34m'pos'\u001b[0m\u001b[0;34m)\u001b[0m\u001b[0;34m:\u001b[0m\u001b[0;34m\u001b[0m\n",
      "\u001b[0;34m\u001b[0m        \u001b[0maux_prefix\u001b[0m \u001b[0;34m=\u001b[0m \u001b[0mvalidate_single_string_arg\u001b[0m\u001b[0;34m(\u001b[0m\u001b[0maux_prefix\u001b[0m\u001b[0;34m,\u001b[0m \u001b[0;34m'aux_'\u001b[0m \u001b[0;34m+\u001b[0m \u001b[0mdim_type\u001b[0m \u001b[0;34m+\u001b[0m \u001b[0;34m'_prefix'\u001b[0m\u001b[0;34m)\u001b[0m\u001b[0;34m\u001b[0m\n",
      "\u001b[0;34m\u001b[0m        \u001b[0;32mif\u001b[0m \u001b[0;32mnot\u001b[0m \u001b[0maux_prefix\u001b[0m\u001b[0;34m.\u001b[0m\u001b[0mendswith\u001b[0m\u001b[0;34m(\u001b[0m\u001b[0;34m'_'\u001b[0m\u001b[0;34m)\u001b[0m\u001b[0;34m:\u001b[0m\u001b[0;34m\u001b[0m\n",
      "\u001b[0;34m\u001b[0m            \u001b[0maux_prefix\u001b[0m \u001b[0;34m+=\u001b[0m \u001b[0;34m'_'\u001b[0m\u001b[0;34m\u001b[0m\n",
      "\u001b[0;34m\u001b[0m        \u001b[0;32mif\u001b[0m \u001b[0;34m'-'\u001b[0m \u001b[0;32min\u001b[0m \u001b[0maux_prefix\u001b[0m\u001b[0;34m:\u001b[0m\u001b[0;34m\u001b[0m\n",
      "\u001b[0;34m\u001b[0m            \u001b[0mwarn\u001b[0m\u001b[0;34m(\u001b[0m\u001b[0;34m'aux_'\u001b[0m \u001b[0;34m+\u001b[0m \u001b[0mdim_type\u001b[0m \u001b[0;34m+\u001b[0m \u001b[0;34m' should not contain the \"-\" character. Reformatted name from:{} to '\u001b[0m\u001b[0;34m\u001b[0m\n",
      "\u001b[0;34m\u001b[0m                                     \u001b[0;34m'{}'\u001b[0m\u001b[0;34m.\u001b[0m\u001b[0mformat\u001b[0m\u001b[0;34m(\u001b[0m\u001b[0maux_prefix\u001b[0m\u001b[0;34m,\u001b[0m \u001b[0maux_prefix\u001b[0m\u001b[0;34m.\u001b[0m\u001b[0mreplace\u001b[0m\u001b[0;34m(\u001b[0m\u001b[0;34m'-'\u001b[0m\u001b[0;34m,\u001b[0m \u001b[0;34m'_'\u001b[0m\u001b[0;34m)\u001b[0m\u001b[0;34m)\u001b[0m\u001b[0;34m)\u001b[0m\u001b[0;34m\u001b[0m\n",
      "\u001b[0;34m\u001b[0m        \u001b[0maux_prefix\u001b[0m \u001b[0;34m=\u001b[0m \u001b[0maux_prefix\u001b[0m\u001b[0;34m.\u001b[0m\u001b[0mreplace\u001b[0m\u001b[0;34m(\u001b[0m\u001b[0;34m'-'\u001b[0m\u001b[0;34m,\u001b[0m \u001b[0;34m'_'\u001b[0m\u001b[0;34m)\u001b[0m\u001b[0;34m\u001b[0m\n",
      "\u001b[0;34m\u001b[0m        \u001b[0;32mfor\u001b[0m \u001b[0mdset_name\u001b[0m \u001b[0;32min\u001b[0m \u001b[0;34m[\u001b[0m\u001b[0maux_prefix\u001b[0m \u001b[0;34m+\u001b[0m \u001b[0;34m'Indices'\u001b[0m\u001b[0;34m,\u001b[0m \u001b[0maux_prefix\u001b[0m \u001b[0;34m+\u001b[0m \u001b[0;34m'Values'\u001b[0m\u001b[0;34m]\u001b[0m\u001b[0;34m:\u001b[0m\u001b[0;34m\u001b[0m\n",
      "\u001b[0;34m\u001b[0m            \u001b[0;32mif\u001b[0m \u001b[0mdset_name\u001b[0m \u001b[0;32min\u001b[0m \u001b[0mh5_parent_group\u001b[0m\u001b[0;34m.\u001b[0m\u001b[0mkeys\u001b[0m\u001b[0;34m(\u001b[0m\u001b[0;34m)\u001b[0m\u001b[0;34m:\u001b[0m\u001b[0;34m\u001b[0m\n",
      "\u001b[0;34m\u001b[0m                \u001b[0;31m# TODO: What if the contained data was correct?\u001b[0m\u001b[0;34m\u001b[0m\n",
      "\u001b[0;34m\u001b[0m                \u001b[0;32mraise\u001b[0m \u001b[0mKeyError\u001b[0m\u001b[0;34m(\u001b[0m\u001b[0;34m'Dataset named: '\u001b[0m \u001b[0;34m+\u001b[0m \u001b[0mdset_name\u001b[0m \u001b[0;34m+\u001b[0m \u001b[0;34m' already exists in group: '\u001b[0m\u001b[0;34m\u001b[0m\n",
      "\u001b[0;34m\u001b[0m                                                               \u001b[0;34m'{}. Consider passing these datasets using kwargs (if they are correct) instead of providing the pos_dims and spec_dims arguments'\u001b[0m\u001b[0;34m.\u001b[0m\u001b[0mformat\u001b[0m\u001b[0;34m(\u001b[0m\u001b[0mh5_parent_group\u001b[0m\u001b[0;34m.\u001b[0m\u001b[0mname\u001b[0m\u001b[0;34m)\u001b[0m\u001b[0;34m)\u001b[0m\u001b[0;34m\u001b[0m\n",
      "\u001b[0;34m\u001b[0m        \u001b[0;32mreturn\u001b[0m \u001b[0maux_prefix\u001b[0m\u001b[0;34m\u001b[0m\n",
      "\u001b[0;34m\u001b[0m\u001b[0;34m\u001b[0m\n",
      "\u001b[0;34m\u001b[0m    \u001b[0;32mdef\u001b[0m \u001b[0m__ensure_anc_in_correct_file\u001b[0m\u001b[0;34m(\u001b[0m\u001b[0mh5_inds\u001b[0m\u001b[0;34m,\u001b[0m \u001b[0mh5_vals\u001b[0m\u001b[0;34m,\u001b[0m \u001b[0mprefix\u001b[0m\u001b[0;34m)\u001b[0m\u001b[0;34m:\u001b[0m\u001b[0;34m\u001b[0m\n",
      "\u001b[0;34m\u001b[0m        \u001b[0;32mif\u001b[0m \u001b[0mh5_inds\u001b[0m\u001b[0;34m.\u001b[0m\u001b[0mfile\u001b[0m \u001b[0;34m!=\u001b[0m \u001b[0mh5_vals\u001b[0m\u001b[0;34m.\u001b[0m\u001b[0mfile\u001b[0m\u001b[0;34m:\u001b[0m\u001b[0;34m\u001b[0m\n",
      "\u001b[0;34m\u001b[0m            \u001b[0;32mraise\u001b[0m \u001b[0mValueError\u001b[0m\u001b[0;34m(\u001b[0m\u001b[0;34m'Provided '\u001b[0m \u001b[0;34m+\u001b[0m \u001b[0mprefix\u001b[0m \u001b[0;34m+\u001b[0m \u001b[0;34m' datasets are present in different HDF5 files!'\u001b[0m\u001b[0;34m)\u001b[0m\u001b[0;34m\u001b[0m\n",
      "\u001b[0;34m\u001b[0m\u001b[0;34m\u001b[0m\n",
      "\u001b[0;34m\u001b[0m        \u001b[0;32mif\u001b[0m \u001b[0mh5_inds\u001b[0m\u001b[0;34m.\u001b[0m\u001b[0mfile\u001b[0m \u001b[0;34m!=\u001b[0m \u001b[0mh5_parent_group\u001b[0m\u001b[0;34m.\u001b[0m\u001b[0mfile\u001b[0m\u001b[0;34m:\u001b[0m\u001b[0;34m\u001b[0m\n",
      "\u001b[0;34m\u001b[0m            \u001b[0;31m# Need to copy over the anc datasets to the new group\u001b[0m\u001b[0;34m\u001b[0m\n",
      "\u001b[0;34m\u001b[0m            \u001b[0;32mif\u001b[0m \u001b[0mverbose\u001b[0m\u001b[0;34m:\u001b[0m\u001b[0;34m\u001b[0m\n",
      "\u001b[0;34m\u001b[0m                \u001b[0mprint\u001b[0m\u001b[0;34m(\u001b[0m\u001b[0;34m'Need to copy over ancillary datasets: {} and {} to '\u001b[0m\u001b[0;34m\u001b[0m\n",
      "\u001b[0;34m\u001b[0m                      \u001b[0;34m'destination group: {} which is in a different HDF5 '\u001b[0m\u001b[0;34m\u001b[0m\n",
      "\u001b[0;34m\u001b[0m                      \u001b[0;34m'file'\u001b[0m\u001b[0;34m.\u001b[0m\u001b[0mformat\u001b[0m\u001b[0;34m(\u001b[0m\u001b[0mh5_inds\u001b[0m\u001b[0;34m,\u001b[0m \u001b[0mh5_vals\u001b[0m\u001b[0;34m,\u001b[0m \u001b[0mh5_parent_group\u001b[0m\u001b[0;34m)\u001b[0m\u001b[0;34m)\u001b[0m\u001b[0;34m\u001b[0m\n",
      "\u001b[0;34m\u001b[0m            \u001b[0mret_vals\u001b[0m \u001b[0;34m=\u001b[0m \u001b[0;34m[\u001b[0m\u001b[0mcopy_dataset\u001b[0m\u001b[0;34m(\u001b[0m\u001b[0mx\u001b[0m\u001b[0;34m,\u001b[0m \u001b[0mh5_parent_group\u001b[0m\u001b[0;34m,\u001b[0m \u001b[0mverbose\u001b[0m\u001b[0;34m=\u001b[0m\u001b[0mverbose\u001b[0m\u001b[0;34m)\u001b[0m \u001b[0;32mfor\u001b[0m \u001b[0mx\u001b[0m \u001b[0;32min\u001b[0m \u001b[0;34m[\u001b[0m\u001b[0mh5_inds\u001b[0m\u001b[0;34m,\u001b[0m \u001b[0mh5_vals\u001b[0m\u001b[0;34m]\u001b[0m\u001b[0;34m]\u001b[0m\u001b[0;34m\u001b[0m\n",
      "\u001b[0;34m\u001b[0m        \u001b[0;32melse\u001b[0m\u001b[0;34m:\u001b[0m\u001b[0;34m\u001b[0m\n",
      "\u001b[0;34m\u001b[0m            \u001b[0mret_vals\u001b[0m \u001b[0;34m=\u001b[0m \u001b[0;34m[\u001b[0m\u001b[0mh5_inds\u001b[0m\u001b[0;34m,\u001b[0m \u001b[0mh5_vals\u001b[0m\u001b[0;34m]\u001b[0m\u001b[0;34m\u001b[0m\n",
      "\u001b[0;34m\u001b[0m        \u001b[0;32mreturn\u001b[0m \u001b[0mtuple\u001b[0m\u001b[0;34m(\u001b[0m\u001b[0mret_vals\u001b[0m\u001b[0;34m)\u001b[0m\u001b[0;34m\u001b[0m\n",
      "\u001b[0;34m\u001b[0m\u001b[0;34m\u001b[0m\n",
      "\u001b[0;34m\u001b[0m    \u001b[0;32mif\u001b[0m \u001b[0;32mnot\u001b[0m \u001b[0misinstance\u001b[0m\u001b[0;34m(\u001b[0m\u001b[0mh5_parent_group\u001b[0m\u001b[0;34m,\u001b[0m \u001b[0;34m(\u001b[0m\u001b[0mh5py\u001b[0m\u001b[0;34m.\u001b[0m\u001b[0mGroup\u001b[0m\u001b[0;34m,\u001b[0m \u001b[0mh5py\u001b[0m\u001b[0;34m.\u001b[0m\u001b[0mFile\u001b[0m\u001b[0;34m)\u001b[0m\u001b[0;34m)\u001b[0m\u001b[0;34m:\u001b[0m\u001b[0;34m\u001b[0m\n",
      "\u001b[0;34m\u001b[0m        \u001b[0;32mraise\u001b[0m \u001b[0mTypeError\u001b[0m\u001b[0;34m(\u001b[0m\u001b[0;34m'h5_parent_group should be a h5py.File or h5py.Group object'\u001b[0m\u001b[0;34m)\u001b[0m\u001b[0;34m\u001b[0m\n",
      "\u001b[0;34m\u001b[0m    \u001b[0;32mif\u001b[0m \u001b[0;32mnot\u001b[0m \u001b[0mis_editable_h5\u001b[0m\u001b[0;34m(\u001b[0m\u001b[0mh5_parent_group\u001b[0m\u001b[0;34m)\u001b[0m\u001b[0;34m:\u001b[0m\u001b[0;34m\u001b[0m\n",
      "\u001b[0;34m\u001b[0m        \u001b[0;32mraise\u001b[0m \u001b[0mValueError\u001b[0m\u001b[0;34m(\u001b[0m\u001b[0;34m'The provided file is not editable'\u001b[0m\u001b[0;34m)\u001b[0m\u001b[0;34m\u001b[0m\n",
      "\u001b[0;34m\u001b[0m    \u001b[0;32mif\u001b[0m \u001b[0mverbose\u001b[0m\u001b[0;34m:\u001b[0m\u001b[0;34m\u001b[0m\n",
      "\u001b[0;34m\u001b[0m        \u001b[0mprint\u001b[0m\u001b[0;34m(\u001b[0m\u001b[0;34m'h5 group and file OK'\u001b[0m\u001b[0;34m)\u001b[0m\u001b[0;34m\u001b[0m\n",
      "\u001b[0;34m\u001b[0m\u001b[0;34m\u001b[0m\n",
      "\u001b[0;34m\u001b[0m    \u001b[0mquantity\u001b[0m\u001b[0;34m,\u001b[0m \u001b[0munits\u001b[0m\u001b[0;34m,\u001b[0m \u001b[0mmain_data_name\u001b[0m \u001b[0;34m=\u001b[0m \u001b[0mvalidate_string_args\u001b[0m\u001b[0;34m(\u001b[0m\u001b[0;34m[\u001b[0m\u001b[0mquantity\u001b[0m\u001b[0;34m,\u001b[0m \u001b[0munits\u001b[0m\u001b[0;34m,\u001b[0m \u001b[0mmain_data_name\u001b[0m\u001b[0;34m]\u001b[0m\u001b[0;34m,\u001b[0m\u001b[0;34m\u001b[0m\n",
      "\u001b[0;34m\u001b[0m                                                           \u001b[0;34m[\u001b[0m\u001b[0;34m'quantity'\u001b[0m\u001b[0;34m,\u001b[0m \u001b[0;34m'units'\u001b[0m\u001b[0;34m,\u001b[0m \u001b[0;34m'main_data_name'\u001b[0m\u001b[0;34m]\u001b[0m\u001b[0;34m)\u001b[0m\u001b[0;34m\u001b[0m\n",
      "\u001b[0;34m\u001b[0m    \u001b[0;32mif\u001b[0m \u001b[0mverbose\u001b[0m\u001b[0;34m:\u001b[0m\u001b[0;34m\u001b[0m\n",
      "\u001b[0;34m\u001b[0m        \u001b[0mprint\u001b[0m\u001b[0;34m(\u001b[0m\u001b[0;34m'quantity, units, main_data_name all OK'\u001b[0m\u001b[0;34m)\u001b[0m\u001b[0;34m\u001b[0m\n",
      "\u001b[0;34m\u001b[0m\u001b[0;34m\u001b[0m\n",
      "\u001b[0;34m\u001b[0m    \u001b[0mquantity\u001b[0m \u001b[0;34m=\u001b[0m \u001b[0mquantity\u001b[0m\u001b[0;34m.\u001b[0m\u001b[0mstrip\u001b[0m\u001b[0;34m(\u001b[0m\u001b[0;34m)\u001b[0m\u001b[0;34m\u001b[0m\n",
      "\u001b[0;34m\u001b[0m    \u001b[0munits\u001b[0m \u001b[0;34m=\u001b[0m \u001b[0munits\u001b[0m\u001b[0;34m.\u001b[0m\u001b[0mstrip\u001b[0m\u001b[0;34m(\u001b[0m\u001b[0;34m)\u001b[0m\u001b[0;34m\u001b[0m\n",
      "\u001b[0;34m\u001b[0m    \u001b[0mmain_data_name\u001b[0m \u001b[0;34m=\u001b[0m \u001b[0mmain_data_name\u001b[0m\u001b[0;34m.\u001b[0m\u001b[0mstrip\u001b[0m\u001b[0;34m(\u001b[0m\u001b[0;34m)\u001b[0m\u001b[0;34m\u001b[0m\n",
      "\u001b[0;34m\u001b[0m    \u001b[0;32mif\u001b[0m \u001b[0;34m'-'\u001b[0m \u001b[0;32min\u001b[0m \u001b[0mmain_data_name\u001b[0m\u001b[0;34m:\u001b[0m\u001b[0;34m\u001b[0m\n",
      "\u001b[0;34m\u001b[0m        \u001b[0mwarn\u001b[0m\u001b[0;34m(\u001b[0m\u001b[0;34m'main_data_name should not contain the \"-\" character. Reformatted name from:{} to '\u001b[0m\u001b[0;34m\u001b[0m\n",
      "\u001b[0;34m\u001b[0m             \u001b[0;34m'{}'\u001b[0m\u001b[0;34m.\u001b[0m\u001b[0mformat\u001b[0m\u001b[0;34m(\u001b[0m\u001b[0mmain_data_name\u001b[0m\u001b[0;34m,\u001b[0m \u001b[0mmain_data_name\u001b[0m\u001b[0;34m.\u001b[0m\u001b[0mreplace\u001b[0m\u001b[0;34m(\u001b[0m\u001b[0;34m'-'\u001b[0m\u001b[0;34m,\u001b[0m \u001b[0;34m'_'\u001b[0m\u001b[0;34m)\u001b[0m\u001b[0;34m)\u001b[0m\u001b[0;34m)\u001b[0m\u001b[0;34m\u001b[0m\n",
      "\u001b[0;34m\u001b[0m    \u001b[0mmain_data_name\u001b[0m \u001b[0;34m=\u001b[0m \u001b[0mmain_data_name\u001b[0m\u001b[0;34m.\u001b[0m\u001b[0mreplace\u001b[0m\u001b[0;34m(\u001b[0m\u001b[0;34m'-'\u001b[0m\u001b[0;34m,\u001b[0m \u001b[0;34m'_'\u001b[0m\u001b[0;34m)\u001b[0m\u001b[0;34m\u001b[0m\n",
      "\u001b[0;34m\u001b[0m\u001b[0;34m\u001b[0m\n",
      "\u001b[0;34m\u001b[0m    \u001b[0;32mif\u001b[0m \u001b[0misinstance\u001b[0m\u001b[0;34m(\u001b[0m\u001b[0mmain_data\u001b[0m\u001b[0;34m,\u001b[0m \u001b[0;34m(\u001b[0m\u001b[0mlist\u001b[0m\u001b[0;34m,\u001b[0m \u001b[0mtuple\u001b[0m\u001b[0;34m)\u001b[0m\u001b[0;34m)\u001b[0m\u001b[0;34m:\u001b[0m\u001b[0;34m\u001b[0m\n",
      "\u001b[0;34m\u001b[0m        \u001b[0;32mif\u001b[0m \u001b[0;32mnot\u001b[0m \u001b[0mcontains_integers\u001b[0m\u001b[0;34m(\u001b[0m\u001b[0mmain_data\u001b[0m\u001b[0;34m,\u001b[0m \u001b[0mmin_val\u001b[0m\u001b[0;34m=\u001b[0m\u001b[0;36m1\u001b[0m\u001b[0;34m)\u001b[0m\u001b[0;34m:\u001b[0m\u001b[0;34m\u001b[0m\n",
      "\u001b[0;34m\u001b[0m            \u001b[0;32mraise\u001b[0m \u001b[0mValueError\u001b[0m\u001b[0;34m(\u001b[0m\u001b[0;34m'main_data if specified as a shape should be a list / tuple of integers >= 1'\u001b[0m\u001b[0;34m)\u001b[0m\u001b[0;34m\u001b[0m\n",
      "\u001b[0;34m\u001b[0m        \u001b[0;32mif\u001b[0m \u001b[0mlen\u001b[0m\u001b[0;34m(\u001b[0m\u001b[0mmain_data\u001b[0m\u001b[0;34m)\u001b[0m \u001b[0;34m!=\u001b[0m \u001b[0;36m2\u001b[0m\u001b[0;34m:\u001b[0m\u001b[0;34m\u001b[0m\n",
      "\u001b[0;34m\u001b[0m            \u001b[0;32mraise\u001b[0m \u001b[0mValueError\u001b[0m\u001b[0;34m(\u001b[0m\u001b[0;34m'main_data if specified as a shape should contain 2 numbers'\u001b[0m\u001b[0;34m)\u001b[0m\u001b[0;34m\u001b[0m\n",
      "\u001b[0;34m\u001b[0m        \u001b[0;32mif\u001b[0m \u001b[0;34m'dtype'\u001b[0m \u001b[0;32mnot\u001b[0m \u001b[0;32min\u001b[0m \u001b[0mkwargs\u001b[0m\u001b[0;34m:\u001b[0m\u001b[0;34m\u001b[0m\n",
      "\u001b[0;34m\u001b[0m            \u001b[0;32mraise\u001b[0m \u001b[0mValueError\u001b[0m\u001b[0;34m(\u001b[0m\u001b[0;34m'dtype must be included as a kwarg when creating an empty dataset'\u001b[0m\u001b[0;34m)\u001b[0m\u001b[0;34m\u001b[0m\n",
      "\u001b[0;34m\u001b[0m        \u001b[0m_\u001b[0m \u001b[0;34m=\u001b[0m \u001b[0mvalidate_dtype\u001b[0m\u001b[0;34m(\u001b[0m\u001b[0mkwargs\u001b[0m\u001b[0;34m.\u001b[0m\u001b[0mget\u001b[0m\u001b[0;34m(\u001b[0m\u001b[0;34m'dtype'\u001b[0m\u001b[0;34m)\u001b[0m\u001b[0;34m)\u001b[0m\u001b[0;34m\u001b[0m\n",
      "\u001b[0;34m\u001b[0m        \u001b[0mmain_shape\u001b[0m \u001b[0;34m=\u001b[0m \u001b[0mmain_data\u001b[0m\u001b[0;34m\u001b[0m\n",
      "\u001b[0;34m\u001b[0m        \u001b[0;32mif\u001b[0m \u001b[0mverbose\u001b[0m\u001b[0;34m:\u001b[0m\u001b[0;34m\u001b[0m\n",
      "\u001b[0;34m\u001b[0m            \u001b[0mprint\u001b[0m\u001b[0;34m(\u001b[0m\u001b[0;34m'Selected empty dataset creation. OK so far'\u001b[0m\u001b[0;34m)\u001b[0m\u001b[0;34m\u001b[0m\n",
      "\u001b[0;34m\u001b[0m    \u001b[0;32melif\u001b[0m \u001b[0misinstance\u001b[0m\u001b[0;34m(\u001b[0m\u001b[0mmain_data\u001b[0m\u001b[0;34m,\u001b[0m \u001b[0;34m(\u001b[0m\u001b[0mnp\u001b[0m\u001b[0;34m.\u001b[0m\u001b[0mndarray\u001b[0m\u001b[0;34m,\u001b[0m \u001b[0mda\u001b[0m\u001b[0;34m.\u001b[0m\u001b[0mcore\u001b[0m\u001b[0;34m.\u001b[0m\u001b[0mArray\u001b[0m\u001b[0;34m)\u001b[0m\u001b[0;34m)\u001b[0m\u001b[0;34m:\u001b[0m\u001b[0;34m\u001b[0m\n",
      "\u001b[0;34m\u001b[0m        \u001b[0;32mif\u001b[0m \u001b[0mmain_data\u001b[0m\u001b[0;34m.\u001b[0m\u001b[0mndim\u001b[0m \u001b[0;34m!=\u001b[0m \u001b[0;36m2\u001b[0m\u001b[0;34m:\u001b[0m\u001b[0;34m\u001b[0m\n",
      "\u001b[0;34m\u001b[0m            \u001b[0;32mraise\u001b[0m \u001b[0mValueError\u001b[0m\u001b[0;34m(\u001b[0m\u001b[0;34m'main_data should be a 2D array'\u001b[0m\u001b[0;34m)\u001b[0m\u001b[0;34m\u001b[0m\n",
      "\u001b[0;34m\u001b[0m        \u001b[0mmain_shape\u001b[0m \u001b[0;34m=\u001b[0m \u001b[0mmain_data\u001b[0m\u001b[0;34m.\u001b[0m\u001b[0mshape\u001b[0m\u001b[0;34m\u001b[0m\n",
      "\u001b[0;34m\u001b[0m        \u001b[0;32mif\u001b[0m \u001b[0mverbose\u001b[0m\u001b[0;34m:\u001b[0m\u001b[0;34m\u001b[0m\n",
      "\u001b[0;34m\u001b[0m            \u001b[0mprint\u001b[0m\u001b[0;34m(\u001b[0m\u001b[0;34m'Provided numpy or Dask array for main_data OK so far'\u001b[0m\u001b[0;34m)\u001b[0m\u001b[0;34m\u001b[0m\n",
      "\u001b[0;34m\u001b[0m    \u001b[0;32melse\u001b[0m\u001b[0;34m:\u001b[0m\u001b[0;34m\u001b[0m\n",
      "\u001b[0;34m\u001b[0m        \u001b[0;32mraise\u001b[0m \u001b[0mTypeError\u001b[0m\u001b[0;34m(\u001b[0m\u001b[0;34m'main_data should either be a numpy array or a tuple / list with the shape of the data'\u001b[0m\u001b[0;34m)\u001b[0m\u001b[0;34m\u001b[0m\n",
      "\u001b[0;34m\u001b[0m\u001b[0;34m\u001b[0m\n",
      "\u001b[0;34m\u001b[0m    \u001b[0;32mif\u001b[0m \u001b[0mh5_pos_inds\u001b[0m \u001b[0;32mis\u001b[0m \u001b[0;32mnot\u001b[0m \u001b[0;32mNone\u001b[0m \u001b[0;32mand\u001b[0m \u001b[0mh5_pos_vals\u001b[0m \u001b[0;32mis\u001b[0m \u001b[0;32mnot\u001b[0m \u001b[0;32mNone\u001b[0m\u001b[0;34m:\u001b[0m\u001b[0;34m\u001b[0m\n",
      "\u001b[0;34m\u001b[0m        \u001b[0;31m# The provided datasets override fresh building instructions.\u001b[0m\u001b[0;34m\u001b[0m\n",
      "\u001b[0;34m\u001b[0m        \u001b[0mvalidate_anc_h5_dsets\u001b[0m\u001b[0;34m(\u001b[0m\u001b[0mh5_pos_inds\u001b[0m\u001b[0;34m,\u001b[0m \u001b[0mh5_pos_vals\u001b[0m\u001b[0;34m,\u001b[0m \u001b[0mmain_shape\u001b[0m\u001b[0;34m,\u001b[0m \u001b[0mis_spectroscopic\u001b[0m\u001b[0;34m=\u001b[0m\u001b[0;32mFalse\u001b[0m\u001b[0;34m)\u001b[0m\u001b[0;34m\u001b[0m\n",
      "\u001b[0;34m\u001b[0m        \u001b[0;32mif\u001b[0m \u001b[0mverbose\u001b[0m\u001b[0;34m:\u001b[0m\u001b[0;34m\u001b[0m\n",
      "\u001b[0;34m\u001b[0m            \u001b[0mprint\u001b[0m\u001b[0;34m(\u001b[0m\u001b[0;34m'The shapes of the provided h5 position indices and values are OK'\u001b[0m\u001b[0;34m)\u001b[0m\u001b[0;34m\u001b[0m\n",
      "\u001b[0;34m\u001b[0m        \u001b[0mh5_pos_inds\u001b[0m\u001b[0;34m,\u001b[0m \u001b[0mh5_pos_vals\u001b[0m \u001b[0;34m=\u001b[0m \u001b[0m__ensure_anc_in_correct_file\u001b[0m\u001b[0;34m(\u001b[0m\u001b[0mh5_pos_inds\u001b[0m\u001b[0;34m,\u001b[0m \u001b[0mh5_pos_vals\u001b[0m\u001b[0;34m,\u001b[0m \u001b[0;34m'Position'\u001b[0m\u001b[0;34m)\u001b[0m\u001b[0;34m\u001b[0m\n",
      "\u001b[0;34m\u001b[0m    \u001b[0;32melse\u001b[0m\u001b[0;34m:\u001b[0m\u001b[0;34m\u001b[0m\n",
      "\u001b[0;34m\u001b[0m        \u001b[0maux_pos_prefix\u001b[0m \u001b[0;34m=\u001b[0m \u001b[0m__check_anc_before_creation\u001b[0m\u001b[0;34m(\u001b[0m\u001b[0maux_pos_prefix\u001b[0m\u001b[0;34m,\u001b[0m \u001b[0mdim_type\u001b[0m\u001b[0;34m=\u001b[0m\u001b[0;34m'pos'\u001b[0m\u001b[0;34m)\u001b[0m\u001b[0;34m\u001b[0m\n",
      "\u001b[0;34m\u001b[0m        \u001b[0mpos_dims\u001b[0m \u001b[0;34m=\u001b[0m \u001b[0mvalidate_dimensions\u001b[0m\u001b[0;34m(\u001b[0m\u001b[0mpos_dims\u001b[0m\u001b[0;34m,\u001b[0m \u001b[0mdim_type\u001b[0m\u001b[0;34m=\u001b[0m\u001b[0;34m'Position'\u001b[0m\u001b[0;34m)\u001b[0m\u001b[0;34m\u001b[0m\n",
      "\u001b[0;34m\u001b[0m        \u001b[0mvalidate_dims_against_main\u001b[0m\u001b[0;34m(\u001b[0m\u001b[0mmain_shape\u001b[0m\u001b[0;34m,\u001b[0m \u001b[0mpos_dims\u001b[0m\u001b[0;34m,\u001b[0m \u001b[0mis_spectroscopic\u001b[0m\u001b[0;34m=\u001b[0m\u001b[0;32mFalse\u001b[0m\u001b[0;34m)\u001b[0m\u001b[0;34m\u001b[0m\n",
      "\u001b[0;34m\u001b[0m        \u001b[0;32mif\u001b[0m \u001b[0mverbose\u001b[0m\u001b[0;34m:\u001b[0m\u001b[0;34m\u001b[0m\n",
      "\u001b[0;34m\u001b[0m            \u001b[0mprint\u001b[0m\u001b[0;34m(\u001b[0m\u001b[0;34m'Passed all pre-tests for creating position datasets'\u001b[0m\u001b[0;34m)\u001b[0m\u001b[0;34m\u001b[0m\n",
      "\u001b[0;34m\u001b[0m        \u001b[0mh5_pos_inds\u001b[0m\u001b[0;34m,\u001b[0m \u001b[0mh5_pos_vals\u001b[0m \u001b[0;34m=\u001b[0m \u001b[0mwrite_ind_val_dsets\u001b[0m\u001b[0;34m(\u001b[0m\u001b[0mh5_parent_group\u001b[0m\u001b[0;34m,\u001b[0m \u001b[0mpos_dims\u001b[0m\u001b[0;34m,\u001b[0m \u001b[0mis_spectral\u001b[0m\u001b[0;34m=\u001b[0m\u001b[0;32mFalse\u001b[0m\u001b[0;34m,\u001b[0m \u001b[0mverbose\u001b[0m\u001b[0;34m=\u001b[0m\u001b[0mverbose\u001b[0m\u001b[0;34m,\u001b[0m\u001b[0;34m\u001b[0m\n",
      "\u001b[0;34m\u001b[0m                                                       \u001b[0mslow_to_fast\u001b[0m\u001b[0;34m=\u001b[0m\u001b[0mslow_to_fast\u001b[0m\u001b[0;34m,\u001b[0m \u001b[0mbase_name\u001b[0m\u001b[0;34m=\u001b[0m\u001b[0maux_pos_prefix\u001b[0m\u001b[0;34m)\u001b[0m\u001b[0;34m\u001b[0m\n",
      "\u001b[0;34m\u001b[0m        \u001b[0;32mif\u001b[0m \u001b[0mverbose\u001b[0m\u001b[0;34m:\u001b[0m\u001b[0;34m\u001b[0m\n",
      "\u001b[0;34m\u001b[0m            \u001b[0mprint\u001b[0m\u001b[0;34m(\u001b[0m\u001b[0;34m'Created position datasets!'\u001b[0m\u001b[0;34m)\u001b[0m\u001b[0;34m\u001b[0m\n",
      "\u001b[0;34m\u001b[0m\u001b[0;34m\u001b[0m\n",
      "\u001b[0;34m\u001b[0m    \u001b[0;32mif\u001b[0m \u001b[0mh5_spec_inds\u001b[0m \u001b[0;32mis\u001b[0m \u001b[0;32mnot\u001b[0m \u001b[0;32mNone\u001b[0m \u001b[0;32mand\u001b[0m \u001b[0mh5_spec_vals\u001b[0m \u001b[0;32mis\u001b[0m \u001b[0;32mnot\u001b[0m \u001b[0;32mNone\u001b[0m\u001b[0;34m:\u001b[0m\u001b[0;34m\u001b[0m\n",
      "\u001b[0;34m\u001b[0m        \u001b[0;31m# The provided datasets override fresh building instructions.\u001b[0m\u001b[0;34m\u001b[0m\n",
      "\u001b[0;34m\u001b[0m        \u001b[0mvalidate_anc_h5_dsets\u001b[0m\u001b[0;34m(\u001b[0m\u001b[0mh5_spec_inds\u001b[0m\u001b[0;34m,\u001b[0m \u001b[0mh5_spec_vals\u001b[0m\u001b[0;34m,\u001b[0m \u001b[0mmain_shape\u001b[0m\u001b[0;34m,\u001b[0m \u001b[0mis_spectroscopic\u001b[0m\u001b[0;34m=\u001b[0m\u001b[0;32mTrue\u001b[0m\u001b[0;34m)\u001b[0m\u001b[0;34m\u001b[0m\n",
      "\u001b[0;34m\u001b[0m        \u001b[0;32mif\u001b[0m \u001b[0mverbose\u001b[0m\u001b[0;34m:\u001b[0m\u001b[0;34m\u001b[0m\n",
      "\u001b[0;34m\u001b[0m            \u001b[0mprint\u001b[0m\u001b[0;34m(\u001b[0m\u001b[0;34m'The shapes of the provided h5 position indices and values '\u001b[0m\u001b[0;34m\u001b[0m\n",
      "\u001b[0;34m\u001b[0m                  \u001b[0;34m'are OK'\u001b[0m\u001b[0;34m)\u001b[0m\u001b[0;34m\u001b[0m\n",
      "\u001b[0;34m\u001b[0m        \u001b[0mh5_spec_inds\u001b[0m\u001b[0;34m,\u001b[0m \u001b[0mh5_spec_vals\u001b[0m \u001b[0;34m=\u001b[0m \u001b[0m__ensure_anc_in_correct_file\u001b[0m\u001b[0;34m(\u001b[0m\u001b[0mh5_spec_inds\u001b[0m\u001b[0;34m,\u001b[0m \u001b[0mh5_spec_vals\u001b[0m\u001b[0;34m,\u001b[0m\u001b[0;34m\u001b[0m\n",
      "\u001b[0;34m\u001b[0m                                         \u001b[0;34m'Spectroscopic'\u001b[0m\u001b[0;34m)\u001b[0m\u001b[0;34m\u001b[0m\n",
      "\u001b[0;34m\u001b[0m    \u001b[0;32melse\u001b[0m\u001b[0;34m:\u001b[0m\u001b[0;34m\u001b[0m\n",
      "\u001b[0;34m\u001b[0m        \u001b[0maux_spec_prefix\u001b[0m \u001b[0;34m=\u001b[0m \u001b[0m__check_anc_before_creation\u001b[0m\u001b[0;34m(\u001b[0m\u001b[0maux_spec_prefix\u001b[0m\u001b[0;34m,\u001b[0m \u001b[0mdim_type\u001b[0m\u001b[0;34m=\u001b[0m\u001b[0;34m'spec'\u001b[0m\u001b[0;34m)\u001b[0m\u001b[0;34m\u001b[0m\n",
      "\u001b[0;34m\u001b[0m        \u001b[0mspec_dims\u001b[0m \u001b[0;34m=\u001b[0m \u001b[0mvalidate_dimensions\u001b[0m\u001b[0;34m(\u001b[0m\u001b[0mspec_dims\u001b[0m\u001b[0;34m,\u001b[0m \u001b[0mdim_type\u001b[0m\u001b[0;34m=\u001b[0m\u001b[0;34m'Spectroscopic'\u001b[0m\u001b[0;34m)\u001b[0m\u001b[0;34m\u001b[0m\n",
      "\u001b[0;34m\u001b[0m        \u001b[0mvalidate_dims_against_main\u001b[0m\u001b[0;34m(\u001b[0m\u001b[0mmain_shape\u001b[0m\u001b[0;34m,\u001b[0m \u001b[0mspec_dims\u001b[0m\u001b[0;34m,\u001b[0m \u001b[0mis_spectroscopic\u001b[0m\u001b[0;34m=\u001b[0m\u001b[0;32mTrue\u001b[0m\u001b[0;34m)\u001b[0m\u001b[0;34m\u001b[0m\n",
      "\u001b[0;34m\u001b[0m        \u001b[0;32mif\u001b[0m \u001b[0mverbose\u001b[0m\u001b[0;34m:\u001b[0m\u001b[0;34m\u001b[0m\n",
      "\u001b[0;34m\u001b[0m            \u001b[0mprint\u001b[0m\u001b[0;34m(\u001b[0m\u001b[0;34m'Passed all pre-tests for creating spectroscopic datasets'\u001b[0m\u001b[0;34m)\u001b[0m\u001b[0;34m\u001b[0m\n",
      "\u001b[0;34m\u001b[0m        \u001b[0mh5_spec_inds\u001b[0m\u001b[0;34m,\u001b[0m \u001b[0mh5_spec_vals\u001b[0m \u001b[0;34m=\u001b[0m \u001b[0mwrite_ind_val_dsets\u001b[0m\u001b[0;34m(\u001b[0m\u001b[0mh5_parent_group\u001b[0m\u001b[0;34m,\u001b[0m \u001b[0mspec_dims\u001b[0m\u001b[0;34m,\u001b[0m \u001b[0mis_spectral\u001b[0m\u001b[0;34m=\u001b[0m\u001b[0;32mTrue\u001b[0m\u001b[0;34m,\u001b[0m \u001b[0mverbose\u001b[0m\u001b[0;34m=\u001b[0m\u001b[0mverbose\u001b[0m\u001b[0;34m,\u001b[0m\u001b[0;34m\u001b[0m\n",
      "\u001b[0;34m\u001b[0m                                                         \u001b[0mslow_to_fast\u001b[0m\u001b[0;34m=\u001b[0m\u001b[0mslow_to_fast\u001b[0m\u001b[0;34m,\u001b[0m \u001b[0mbase_name\u001b[0m\u001b[0;34m=\u001b[0m\u001b[0maux_spec_prefix\u001b[0m\u001b[0;34m)\u001b[0m\u001b[0;34m\u001b[0m\n",
      "\u001b[0;34m\u001b[0m        \u001b[0;32mif\u001b[0m \u001b[0mverbose\u001b[0m\u001b[0;34m:\u001b[0m\u001b[0;34m\u001b[0m\n",
      "\u001b[0;34m\u001b[0m            \u001b[0mprint\u001b[0m\u001b[0;34m(\u001b[0m\u001b[0;34m'Created Spectroscopic datasets'\u001b[0m\u001b[0;34m)\u001b[0m\u001b[0;34m\u001b[0m\n",
      "\u001b[0;34m\u001b[0m\u001b[0;34m\u001b[0m\n",
      "\u001b[0;34m\u001b[0m    \u001b[0;32mif\u001b[0m \u001b[0mh5_parent_group\u001b[0m\u001b[0;34m.\u001b[0m\u001b[0mfile\u001b[0m\u001b[0;34m.\u001b[0m\u001b[0mdriver\u001b[0m \u001b[0;34m==\u001b[0m \u001b[0;34m'mpio'\u001b[0m\u001b[0;34m:\u001b[0m\u001b[0;34m\u001b[0m\n",
      "\u001b[0;34m\u001b[0m        \u001b[0;32mif\u001b[0m \u001b[0mkwargs\u001b[0m\u001b[0;34m.\u001b[0m\u001b[0mpop\u001b[0m\u001b[0;34m(\u001b[0m\u001b[0;34m'compression'\u001b[0m\u001b[0;34m,\u001b[0m \u001b[0;32mNone\u001b[0m\u001b[0;34m)\u001b[0m \u001b[0;32mis\u001b[0m \u001b[0;32mnot\u001b[0m \u001b[0;32mNone\u001b[0m\u001b[0;34m:\u001b[0m\u001b[0;34m\u001b[0m\n",
      "\u001b[0;34m\u001b[0m            \u001b[0mwarn\u001b[0m\u001b[0;34m(\u001b[0m\u001b[0;34m'This HDF5 file has been opened wth the \"mpio\" communicator. '\u001b[0m\u001b[0;34m\u001b[0m\n",
      "\u001b[0;34m\u001b[0m                 \u001b[0;34m'mpi4py does not allow creation of compressed datasets. Compression kwarg has been removed'\u001b[0m\u001b[0;34m)\u001b[0m\u001b[0;34m\u001b[0m\n",
      "\u001b[0;34m\u001b[0m\u001b[0;34m\u001b[0m\n",
      "\u001b[0;34m\u001b[0m    \u001b[0;32mif\u001b[0m \u001b[0misinstance\u001b[0m\u001b[0;34m(\u001b[0m\u001b[0mmain_data\u001b[0m\u001b[0;34m,\u001b[0m \u001b[0mnp\u001b[0m\u001b[0;34m.\u001b[0m\u001b[0mndarray\u001b[0m\u001b[0;34m)\u001b[0m\u001b[0;34m:\u001b[0m\u001b[0;34m\u001b[0m\n",
      "\u001b[0;34m\u001b[0m        \u001b[0;31m# Case 1 - simple small dataset\u001b[0m\u001b[0;34m\u001b[0m\n",
      "\u001b[0;34m\u001b[0m        \u001b[0mh5_main\u001b[0m \u001b[0;34m=\u001b[0m \u001b[0mh5_parent_group\u001b[0m\u001b[0;34m.\u001b[0m\u001b[0mcreate_dataset\u001b[0m\u001b[0;34m(\u001b[0m\u001b[0mmain_data_name\u001b[0m\u001b[0;34m,\u001b[0m \u001b[0mdata\u001b[0m\u001b[0;34m=\u001b[0m\u001b[0mmain_data\u001b[0m\u001b[0;34m,\u001b[0m \u001b[0;34m**\u001b[0m\u001b[0mkwargs\u001b[0m\u001b[0;34m)\u001b[0m\u001b[0;34m\u001b[0m\n",
      "\u001b[0;34m\u001b[0m        \u001b[0;32mif\u001b[0m \u001b[0mverbose\u001b[0m\u001b[0;34m:\u001b[0m\u001b[0;34m\u001b[0m\n",
      "\u001b[0;34m\u001b[0m            \u001b[0mprint\u001b[0m\u001b[0;34m(\u001b[0m\u001b[0;34m'Created main dataset with provided data'\u001b[0m\u001b[0;34m)\u001b[0m\u001b[0;34m\u001b[0m\n",
      "\u001b[0;34m\u001b[0m    \u001b[0;32melif\u001b[0m \u001b[0misinstance\u001b[0m\u001b[0;34m(\u001b[0m\u001b[0mmain_data\u001b[0m\u001b[0;34m,\u001b[0m \u001b[0mda\u001b[0m\u001b[0;34m.\u001b[0m\u001b[0mcore\u001b[0m\u001b[0;34m.\u001b[0m\u001b[0mArray\u001b[0m\u001b[0;34m)\u001b[0m\u001b[0;34m:\u001b[0m\u001b[0;34m\u001b[0m\n",
      "\u001b[0;34m\u001b[0m        \u001b[0;31m# Case 2 - Dask dataset\u001b[0m\u001b[0;34m\u001b[0m\n",
      "\u001b[0;34m\u001b[0m        \u001b[0;31m# step 0 - get rid of any automated dtype specification:\u001b[0m\u001b[0;34m\u001b[0m\n",
      "\u001b[0;34m\u001b[0m        \u001b[0m_\u001b[0m \u001b[0;34m=\u001b[0m \u001b[0mkwargs\u001b[0m\u001b[0;34m.\u001b[0m\u001b[0mpop\u001b[0m\u001b[0;34m(\u001b[0m\u001b[0;34m'dtype'\u001b[0m\u001b[0;34m,\u001b[0m \u001b[0;32mNone\u001b[0m\u001b[0;34m)\u001b[0m\u001b[0;34m\u001b[0m\n",
      "\u001b[0;34m\u001b[0m        \u001b[0;31m# step 1 - create the empty dataset:\u001b[0m\u001b[0;34m\u001b[0m\n",
      "\u001b[0;34m\u001b[0m        \u001b[0mh5_main\u001b[0m \u001b[0;34m=\u001b[0m \u001b[0mh5_parent_group\u001b[0m\u001b[0;34m.\u001b[0m\u001b[0mcreate_dataset\u001b[0m\u001b[0;34m(\u001b[0m\u001b[0mmain_data_name\u001b[0m\u001b[0;34m,\u001b[0m \u001b[0mshape\u001b[0m\u001b[0;34m=\u001b[0m\u001b[0mmain_data\u001b[0m\u001b[0;34m.\u001b[0m\u001b[0mshape\u001b[0m\u001b[0;34m,\u001b[0m \u001b[0mdtype\u001b[0m\u001b[0;34m=\u001b[0m\u001b[0mmain_data\u001b[0m\u001b[0;34m.\u001b[0m\u001b[0mdtype\u001b[0m\u001b[0;34m,\u001b[0m\u001b[0;34m\u001b[0m\n",
      "\u001b[0;34m\u001b[0m                                                 \u001b[0;34m**\u001b[0m\u001b[0mkwargs\u001b[0m\u001b[0;34m)\u001b[0m\u001b[0;34m\u001b[0m\n",
      "\u001b[0;34m\u001b[0m        \u001b[0;32mif\u001b[0m \u001b[0mverbose\u001b[0m\u001b[0;34m:\u001b[0m\u001b[0;34m\u001b[0m\n",
      "\u001b[0;34m\u001b[0m            \u001b[0mprint\u001b[0m\u001b[0;34m(\u001b[0m\u001b[0;34m'Created empty dataset: {} for writing Dask dataset: {}'\u001b[0m\u001b[0;34m.\u001b[0m\u001b[0mformat\u001b[0m\u001b[0;34m(\u001b[0m\u001b[0mh5_main\u001b[0m\u001b[0;34m,\u001b[0m \u001b[0mmain_data\u001b[0m\u001b[0;34m)\u001b[0m\u001b[0;34m)\u001b[0m\u001b[0;34m\u001b[0m\n",
      "\u001b[0;34m\u001b[0m            \u001b[0mprint\u001b[0m\u001b[0;34m(\u001b[0m\u001b[0;34m'Dask array will be written to HDF5 dataset: \"{}\" in file: \"{}\"'\u001b[0m\u001b[0;34m.\u001b[0m\u001b[0mformat\u001b[0m\u001b[0;34m(\u001b[0m\u001b[0mh5_main\u001b[0m\u001b[0;34m.\u001b[0m\u001b[0mname\u001b[0m\u001b[0;34m,\u001b[0m\u001b[0;34m\u001b[0m\n",
      "\u001b[0;34m\u001b[0m                                                                                          \u001b[0mh5_main\u001b[0m\u001b[0;34m.\u001b[0m\u001b[0mfile\u001b[0m\u001b[0;34m.\u001b[0m\u001b[0mfilename\u001b[0m\u001b[0;34m)\u001b[0m\u001b[0;34m)\u001b[0m\u001b[0;34m\u001b[0m\n",
      "\u001b[0;34m\u001b[0m        \u001b[0;31m# Step 2 - now ask Dask to dump data to disk\u001b[0m\u001b[0;34m\u001b[0m\n",
      "\u001b[0;34m\u001b[0m        \u001b[0mda\u001b[0m\u001b[0;34m.\u001b[0m\u001b[0mto_hdf5\u001b[0m\u001b[0;34m(\u001b[0m\u001b[0mh5_main\u001b[0m\u001b[0;34m.\u001b[0m\u001b[0mfile\u001b[0m\u001b[0;34m.\u001b[0m\u001b[0mfilename\u001b[0m\u001b[0;34m,\u001b[0m \u001b[0;34m{\u001b[0m\u001b[0mh5_main\u001b[0m\u001b[0;34m.\u001b[0m\u001b[0mname\u001b[0m\u001b[0;34m:\u001b[0m \u001b[0mmain_data\u001b[0m\u001b[0;34m}\u001b[0m\u001b[0;34m)\u001b[0m\u001b[0;34m\u001b[0m\n",
      "\u001b[0;34m\u001b[0m        \u001b[0;31m# main_data.to_hdf5(h5_main.file.filename, h5_main.name)  # Does not work with python 2 for some reason\u001b[0m\u001b[0;34m\u001b[0m\n",
      "\u001b[0;34m\u001b[0m    \u001b[0;32melse\u001b[0m\u001b[0;34m:\u001b[0m\u001b[0;34m\u001b[0m\n",
      "\u001b[0;34m\u001b[0m        \u001b[0;31m# Case 3 - large empty dataset\u001b[0m\u001b[0;34m\u001b[0m\n",
      "\u001b[0;34m\u001b[0m        \u001b[0mh5_main\u001b[0m \u001b[0;34m=\u001b[0m \u001b[0mh5_parent_group\u001b[0m\u001b[0;34m.\u001b[0m\u001b[0mcreate_dataset\u001b[0m\u001b[0;34m(\u001b[0m\u001b[0mmain_data_name\u001b[0m\u001b[0;34m,\u001b[0m \u001b[0mmain_data\u001b[0m\u001b[0;34m,\u001b[0m \u001b[0;34m**\u001b[0m\u001b[0mkwargs\u001b[0m\u001b[0;34m)\u001b[0m\u001b[0;34m\u001b[0m\n",
      "\u001b[0;34m\u001b[0m        \u001b[0;32mif\u001b[0m \u001b[0mverbose\u001b[0m\u001b[0;34m:\u001b[0m\u001b[0;34m\u001b[0m\n",
      "\u001b[0;34m\u001b[0m            \u001b[0mprint\u001b[0m\u001b[0;34m(\u001b[0m\u001b[0;34m'Created empty dataset for Main'\u001b[0m\u001b[0;34m)\u001b[0m\u001b[0;34m\u001b[0m\n",
      "\u001b[0;34m\u001b[0m\u001b[0;34m\u001b[0m\n",
      "\u001b[0;34m\u001b[0m    \u001b[0mwrite_simple_attrs\u001b[0m\u001b[0;34m(\u001b[0m\u001b[0mh5_main\u001b[0m\u001b[0;34m,\u001b[0m \u001b[0;34m{\u001b[0m\u001b[0;34m'quantity'\u001b[0m\u001b[0;34m:\u001b[0m \u001b[0mquantity\u001b[0m\u001b[0;34m,\u001b[0m \u001b[0;34m'units'\u001b[0m\u001b[0;34m:\u001b[0m \u001b[0munits\u001b[0m\u001b[0;34m}\u001b[0m\u001b[0;34m)\u001b[0m\u001b[0;34m\u001b[0m\n",
      "\u001b[0;34m\u001b[0m    \u001b[0;32mif\u001b[0m \u001b[0mverbose\u001b[0m\u001b[0;34m:\u001b[0m\u001b[0;34m\u001b[0m\n",
      "\u001b[0;34m\u001b[0m        \u001b[0mprint\u001b[0m\u001b[0;34m(\u001b[0m\u001b[0;34m'Wrote quantity and units attributes to main dataset'\u001b[0m\u001b[0;34m)\u001b[0m\u001b[0;34m\u001b[0m\n",
      "\u001b[0;34m\u001b[0m\u001b[0;34m\u001b[0m\n",
      "\u001b[0;34m\u001b[0m    \u001b[0;32mif\u001b[0m \u001b[0misinstance\u001b[0m\u001b[0;34m(\u001b[0m\u001b[0mmain_dset_attrs\u001b[0m\u001b[0;34m,\u001b[0m \u001b[0mdict\u001b[0m\u001b[0;34m)\u001b[0m\u001b[0;34m:\u001b[0m\u001b[0;34m\u001b[0m\n",
      "\u001b[0;34m\u001b[0m        \u001b[0mwrite_simple_attrs\u001b[0m\u001b[0;34m(\u001b[0m\u001b[0mh5_main\u001b[0m\u001b[0;34m,\u001b[0m \u001b[0mmain_dset_attrs\u001b[0m\u001b[0;34m)\u001b[0m\u001b[0;34m\u001b[0m\n",
      "\u001b[0;34m\u001b[0m        \u001b[0;32mif\u001b[0m \u001b[0mverbose\u001b[0m\u001b[0;34m:\u001b[0m\u001b[0;34m\u001b[0m\n",
      "\u001b[0;34m\u001b[0m            \u001b[0mprint\u001b[0m\u001b[0;34m(\u001b[0m\u001b[0;34m'Wrote provided attributes to main dataset'\u001b[0m\u001b[0;34m)\u001b[0m\u001b[0;34m\u001b[0m\n",
      "\u001b[0;34m\u001b[0m\u001b[0;34m\u001b[0m\n",
      "\u001b[0;34m\u001b[0m    \u001b[0mwrite_book_keeping_attrs\u001b[0m\u001b[0;34m(\u001b[0m\u001b[0mh5_main\u001b[0m\u001b[0;34m)\u001b[0m\u001b[0;34m\u001b[0m\n",
      "\u001b[0;34m\u001b[0m\u001b[0;34m\u001b[0m\n",
      "\u001b[0;34m\u001b[0m    \u001b[0;31m# make it main\u001b[0m\u001b[0;34m\u001b[0m\n",
      "\u001b[0;34m\u001b[0m    \u001b[0mlink_as_main\u001b[0m\u001b[0;34m(\u001b[0m\u001b[0mh5_main\u001b[0m\u001b[0;34m,\u001b[0m \u001b[0mh5_pos_inds\u001b[0m\u001b[0;34m,\u001b[0m \u001b[0mh5_pos_vals\u001b[0m\u001b[0;34m,\u001b[0m \u001b[0mh5_spec_inds\u001b[0m\u001b[0;34m,\u001b[0m \u001b[0mh5_spec_vals\u001b[0m\u001b[0;34m)\u001b[0m\u001b[0;34m\u001b[0m\n",
      "\u001b[0;34m\u001b[0m    \u001b[0;32mif\u001b[0m \u001b[0mverbose\u001b[0m\u001b[0;34m:\u001b[0m\u001b[0;34m\u001b[0m\n",
      "\u001b[0;34m\u001b[0m        \u001b[0mprint\u001b[0m\u001b[0;34m(\u001b[0m\u001b[0;34m'Successfully linked datasets - dataset should be main now'\u001b[0m\u001b[0;34m)\u001b[0m\u001b[0;34m\u001b[0m\n",
      "\u001b[0;34m\u001b[0m\u001b[0;34m\u001b[0m\n",
      "\u001b[0;34m\u001b[0m    \u001b[0;32mfrom\u001b[0m \u001b[0;34m.\u001b[0m\u001b[0;34m.\u001b[0m\u001b[0musi_data\u001b[0m \u001b[0;32mimport\u001b[0m \u001b[0mUSIDataset\u001b[0m\u001b[0;34m\u001b[0m\n",
      "\u001b[0;34m\u001b[0m    \u001b[0;32mreturn\u001b[0m \u001b[0mUSIDataset\u001b[0m\u001b[0;34m(\u001b[0m\u001b[0mh5_main\u001b[0m\u001b[0;34m)\u001b[0m\u001b[0;34m\u001b[0m\u001b[0;34m\u001b[0m\u001b[0m\n",
      "\u001b[0;31mFile:\u001b[0m      ~/anaconda3/envs/rapidfitting/lib/python3.9/site-packages/pyUSID/io/hdf_utils/model.py\n",
      "\u001b[0;31mType:\u001b[0m      function\n"
     ]
    }
   ],
   "source": [
    "usid.hdf_utils.write_main_dataset??"
   ]
  },
  {
   "cell_type": "code",
   "execution_count": 116,
   "metadata": {},
   "outputs": [
    {
     "data": {
      "text/plain": [
       "<HDF5 dataset \"Noise_1\": shape (3600, 63360), type \"<c16\">"
      ]
     },
     "execution_count": 116,
     "metadata": {},
     "output_type": "execute_result"
    }
   ],
   "source": [
    "usid.io.hdf_utils.find_dataset(h5_f,\"Noise_1\")[0]"
   ]
  },
  {
   "cell_type": "code",
   "execution_count": 112,
   "metadata": {},
   "outputs": [
    {
     "data": {
      "text/plain": [
       "<HDF5 dataset \"Raw_Data\": shape (3600, 63360), type \"<c8\">"
      ]
     },
     "execution_count": 112,
     "metadata": {},
     "output_type": "execute_result"
    }
   ],
   "source": [
    "h5_f[f\"Noisy_Data\"][\"Noise_1\"][\"Raw_Data\"]"
   ]
  },
  {
   "cell_type": "code",
   "execution_count": 135,
   "metadata": {},
   "outputs": [
    {
     "name": "stdout",
     "output_type": "stream",
     "text": [
      "/\n",
      "├ Measurement_000\n",
      "  ---------------\n",
      "  ├ Channel_000\n",
      "    -----------\n",
      "    ├ Bin_FFT\n",
      "    ├ Bin_Frequencies\n",
      "    ├ Bin_Indices\n",
      "    ├ Bin_Step\n",
      "    ├ Bin_Wfm_Type\n",
      "    ├ Excitation_Waveform\n",
      "    ├ Noise_Floor\n",
      "    ├ Position_Indices\n",
      "    ├ Position_Values\n",
      "    ├ Raw_Data\n",
      "    ├ Raw_Data_Reshaped\n",
      "    ├ Spatially_Averaged_Plot_Group_000\n",
      "      ---------------------------------\n",
      "      ├ Bin_Frequencies\n",
      "      ├ Max_Response\n",
      "      ├ Mean_Spectrogram\n",
      "      ├ Min_Response\n",
      "      ├ Spectroscopic_Parameter\n",
      "      ├ Step_Averaged_Response\n",
      "    ├ Spatially_Averaged_Plot_Group_001\n",
      "      ---------------------------------\n",
      "      ├ Bin_Frequencies\n",
      "      ├ Max_Response\n",
      "      ├ Mean_Spectrogram\n",
      "      ├ Min_Response\n",
      "      ├ Spectroscopic_Parameter\n",
      "      ├ Step_Averaged_Response\n",
      "    ├ Spectroscopic_Indices\n",
      "    ├ Spectroscopic_Values\n",
      "    ├ UDVS\n",
      "    ├ UDVS_Indices\n",
      "    ├ raw_data_resampled\n",
      "  ├ Noise_1\n",
      "  ├ Noisy_Data_1\n",
      "    ------------\n",
      "├ Noisy_Data\n",
      "  ----------\n",
      "  ├ Noise_1\n",
      "    -------\n",
      "    ├ Bin_FFT\n",
      "    ├ Bin_Frequencies\n",
      "    ├ Bin_Indices\n",
      "    ├ Bin_Step\n",
      "    ├ Bin_Wfm_Type\n",
      "    ├ Excitation_Waveform\n",
      "    ├ Noise_Floor\n",
      "    ├ Position_Indices\n",
      "    ├ Position_Values\n",
      "    ├ Raw_Data\n",
      "    ├ Raw_Data_Reshaped\n",
      "    ├ Spatially_Averaged_Plot_Group_000\n",
      "      ---------------------------------\n",
      "      ├ Bin_Frequencies\n",
      "      ├ Max_Response\n",
      "      ├ Mean_Spectrogram\n",
      "      ├ Min_Response\n",
      "      ├ Spectroscopic_Parameter\n",
      "      ├ Step_Averaged_Response\n",
      "    ├ Spatially_Averaged_Plot_Group_001\n",
      "      ---------------------------------\n",
      "      ├ Bin_Frequencies\n",
      "      ├ Max_Response\n",
      "      ├ Mean_Spectrogram\n",
      "      ├ Min_Response\n",
      "      ├ Spectroscopic_Parameter\n",
      "      ├ Step_Averaged_Response\n",
      "    ├ Spectroscopic_Indices\n",
      "    ├ Spectroscopic_Values\n",
      "    ├ UDVS\n",
      "    ├ UDVS_Indices\n",
      "    ├ raw_data_resampled\n",
      "├ Raw_Data-SHO_Fit_000\n",
      "  --------------------\n",
      "  ├ Fit\n",
      "  ├ Guess\n",
      "  ├ SHO_LSQF\n",
      "  ├ Spectroscopic_Indices\n",
      "  ├ Spectroscopic_Values\n",
      "  ├ completed_fit_positions\n",
      "  ├ completed_guess_positions\n",
      "Datasets and datagroups within the file:\n",
      "------------------------------------\n",
      "/\n",
      "/Measurement_000\n",
      "/Measurement_000/Channel_000\n",
      "/Measurement_000/Channel_000/Bin_FFT\n",
      "/Measurement_000/Channel_000/Bin_Frequencies\n",
      "/Measurement_000/Channel_000/Bin_Indices\n",
      "/Measurement_000/Channel_000/Bin_Step\n",
      "/Measurement_000/Channel_000/Bin_Wfm_Type\n",
      "/Measurement_000/Channel_000/Excitation_Waveform\n",
      "/Measurement_000/Channel_000/Noise_Floor\n",
      "/Measurement_000/Channel_000/Position_Indices\n",
      "/Measurement_000/Channel_000/Position_Values\n",
      "/Measurement_000/Channel_000/Raw_Data\n",
      "/Measurement_000/Channel_000/Raw_Data_Reshaped\n",
      "/Measurement_000/Channel_000/Spatially_Averaged_Plot_Group_000\n",
      "/Measurement_000/Channel_000/Spatially_Averaged_Plot_Group_000/Bin_Frequencies\n",
      "/Measurement_000/Channel_000/Spatially_Averaged_Plot_Group_000/Max_Response\n",
      "/Measurement_000/Channel_000/Spatially_Averaged_Plot_Group_000/Mean_Spectrogram\n",
      "/Measurement_000/Channel_000/Spatially_Averaged_Plot_Group_000/Min_Response\n",
      "/Measurement_000/Channel_000/Spatially_Averaged_Plot_Group_000/Spectroscopic_Parameter\n",
      "/Measurement_000/Channel_000/Spatially_Averaged_Plot_Group_000/Step_Averaged_Response\n",
      "/Measurement_000/Channel_000/Spatially_Averaged_Plot_Group_001\n",
      "/Measurement_000/Channel_000/Spatially_Averaged_Plot_Group_001/Bin_Frequencies\n",
      "/Measurement_000/Channel_000/Spatially_Averaged_Plot_Group_001/Max_Response\n",
      "/Measurement_000/Channel_000/Spatially_Averaged_Plot_Group_001/Mean_Spectrogram\n",
      "/Measurement_000/Channel_000/Spatially_Averaged_Plot_Group_001/Min_Response\n",
      "/Measurement_000/Channel_000/Spatially_Averaged_Plot_Group_001/Spectroscopic_Parameter\n",
      "/Measurement_000/Channel_000/Spatially_Averaged_Plot_Group_001/Step_Averaged_Response\n",
      "/Measurement_000/Channel_000/Spectroscopic_Indices\n",
      "/Measurement_000/Channel_000/Spectroscopic_Values\n",
      "/Measurement_000/Channel_000/UDVS\n",
      "/Measurement_000/Channel_000/UDVS_Indices\n",
      "/Measurement_000/Channel_000/raw_data_resampled\n",
      "/Measurement_000/Noise_1\n",
      "/Measurement_000/Noisy_Data_1\n",
      "/Noisy_Data\n",
      "/Noisy_Data/Noise_1\n",
      "/Noisy_Data/Noise_1/Bin_FFT\n",
      "/Noisy_Data/Noise_1/Bin_Frequencies\n",
      "/Noisy_Data/Noise_1/Bin_Indices\n",
      "/Noisy_Data/Noise_1/Bin_Step\n",
      "/Noisy_Data/Noise_1/Bin_Wfm_Type\n",
      "/Noisy_Data/Noise_1/Excitation_Waveform\n",
      "/Noisy_Data/Noise_1/Noise_Floor\n",
      "/Noisy_Data/Noise_1/Position_Indices\n",
      "/Noisy_Data/Noise_1/Position_Values\n",
      "/Noisy_Data/Noise_1/Raw_Data\n",
      "/Noisy_Data/Noise_1/Raw_Data_Reshaped\n",
      "/Noisy_Data/Noise_1/Spatially_Averaged_Plot_Group_000\n",
      "/Noisy_Data/Noise_1/Spatially_Averaged_Plot_Group_000/Bin_Frequencies\n",
      "/Noisy_Data/Noise_1/Spatially_Averaged_Plot_Group_000/Max_Response\n",
      "/Noisy_Data/Noise_1/Spatially_Averaged_Plot_Group_000/Mean_Spectrogram\n",
      "/Noisy_Data/Noise_1/Spatially_Averaged_Plot_Group_000/Min_Response\n",
      "/Noisy_Data/Noise_1/Spatially_Averaged_Plot_Group_000/Spectroscopic_Parameter\n",
      "/Noisy_Data/Noise_1/Spatially_Averaged_Plot_Group_000/Step_Averaged_Response\n",
      "/Noisy_Data/Noise_1/Spatially_Averaged_Plot_Group_001\n",
      "/Noisy_Data/Noise_1/Spatially_Averaged_Plot_Group_001/Bin_Frequencies\n",
      "/Noisy_Data/Noise_1/Spatially_Averaged_Plot_Group_001/Max_Response\n",
      "/Noisy_Data/Noise_1/Spatially_Averaged_Plot_Group_001/Mean_Spectrogram\n",
      "/Noisy_Data/Noise_1/Spatially_Averaged_Plot_Group_001/Min_Response\n",
      "/Noisy_Data/Noise_1/Spatially_Averaged_Plot_Group_001/Spectroscopic_Parameter\n",
      "/Noisy_Data/Noise_1/Spatially_Averaged_Plot_Group_001/Step_Averaged_Response\n",
      "/Noisy_Data/Noise_1/Spectroscopic_Indices\n",
      "/Noisy_Data/Noise_1/Spectroscopic_Values\n",
      "/Noisy_Data/Noise_1/UDVS\n",
      "/Noisy_Data/Noise_1/UDVS_Indices\n",
      "/Noisy_Data/Noise_1/raw_data_resampled\n",
      "/Raw_Data-SHO_Fit_000\n",
      "/Raw_Data-SHO_Fit_000/Fit\n",
      "/Raw_Data-SHO_Fit_000/Guess\n",
      "/Raw_Data-SHO_Fit_000/SHO_LSQF\n",
      "/Raw_Data-SHO_Fit_000/Spectroscopic_Indices\n",
      "/Raw_Data-SHO_Fit_000/Spectroscopic_Values\n",
      "/Raw_Data-SHO_Fit_000/completed_fit_positions\n",
      "/Raw_Data-SHO_Fit_000/completed_guess_positions\n",
      "\n",
      "The main dataset:\n",
      "------------------------------------\n",
      "<HDF5 file \"data_raw copy.h5\" (mode r+)>\n",
      "\n",
      "The ancillary datasets:\n",
      "------------------------------------\n",
      "<HDF5 dataset \"Position_Indices\": shape (3600, 2), type \"<u4\">\n",
      "<HDF5 dataset \"Position_Values\": shape (3600, 2), type \"<f4\">\n",
      "<HDF5 dataset \"Spectroscopic_Indices\": shape (4, 63360), type \"<u4\">\n",
      "<HDF5 dataset \"Spectroscopic_Values\": shape (4, 63360), type \"<f4\">\n",
      "\n",
      "Metadata or attributes in a datagroup\n",
      "------------------------------------\n",
      "BE_actual_duration_[s] : 0.004\n",
      "BE_amplitude_[V] : 1\n",
      "BE_auto_smoothing : auto smoothing on\n",
      "BE_band_edge_smoothing_[s] : 4832.1\n",
      "BE_band_edge_trim : 0.094742\n",
      "BE_band_width_[Hz] : 200000\n",
      "BE_bins_per_band : 0\n",
      "BE_center_frequency_[Hz] : 1310000\n",
      "BE_desired_duration_[s] : 0.004\n",
      "BE_phase_content : chirp-sinc hybrid\n",
      "BE_phase_variation : 1\n",
      "BE_points_per_BE_wave : 0\n",
      "BE_repeats : 4\n",
      "FORC_V_high1_[V] : 1\n",
      "FORC_V_high2_[V] : 10\n",
      "FORC_V_low1_[V] : -1\n",
      "FORC_V_low2_[V] : -10\n",
      "FORC_num_of_FORC_cycles : 1\n",
      "FORC_num_of_FORC_repeats : 1\n",
      "File_MDAQ_version : MDAQ_VS_090915_01\n",
      "File_date_and_time : 18-Sep-2015 18:32:14\n",
      "File_file_name : SP128_NSO\n",
      "File_file_path : C:\\Users\\Asylum User\\Documents\\Users\\Agar\\SP128_NSO\\\n",
      "File_file_suffix : 99\n",
      "IO_AO_amplifier : 10\n",
      "IO_AO_range_[V] : +/- 10\n",
      "IO_Analog_Input_1 : +/- .1V, FFT\n",
      "IO_Analog_Input_2 : off\n",
      "IO_Analog_Input_3 : off\n",
      "IO_Analog_Input_4 : off\n",
      "IO_DAQ_platform : NI 6115\n",
      "IO_rate_[Hz] : 4000000\n",
      "VS_amplitude_[V] : 16\n",
      "VS_cycle_fraction : full\n",
      "VS_cycle_phase_shift : 0\n",
      "VS_measure_in_field_loops : in and out-of-field\n",
      "VS_mode : DC modulation mode\n",
      "VS_number_of_cycles : 2\n",
      "VS_offset_[V] : 0\n",
      "VS_read_voltage_[V] : 0\n",
      "VS_set_pulse_amplitude[V] : 0\n",
      "VS_set_pulse_duration[s] : 0.002\n",
      "VS_step_edge_smoothing_[s] : 0.001\n",
      "VS_steps_per_full_cycle : 96\n",
      "data_type : BEPSData\n",
      "grid_/single : grid\n",
      "grid_contact_set_point_[V] : 1\n",
      "grid_current_col : 1\n",
      "grid_current_row : 1\n",
      "grid_cycle_time_[s] : 10\n",
      "grid_measuring : 0\n",
      "grid_moving : 0\n",
      "grid_num_cols : 60\n",
      "grid_num_rows : 60\n",
      "grid_settle_time_[s] : 0.15\n",
      "grid_time_remaining_[h;m;s] : 10\n",
      "grid_total_time_[h;m;s] : 10\n",
      "grid_transit_set_point_[V] : 0.1\n",
      "grid_transit_time_[s] : 0.15\n",
      "num_bins : 165\n",
      "num_pix : 3600\n",
      "num_udvs_steps : 384\n"
     ]
    }
   ],
   "source": [
    "# print the contents of the file\n",
    "dataset.print_be_tree()"
   ]
  },
  {
   "cell_type": "code",
   "execution_count": null,
   "metadata": {},
   "outputs": [],
   "source": [
    "# # create a list for parameters\n",
    "# fit_results_list = SHO_fit_to_array(h5_f[\"Measurement_000\"][\"Channel_000\"][\"Raw_Data-SHO_Fit_000\"][\"Fit\"])\n",
    "\n",
    "# # flatten parameters list into numpy array\n",
    "# fit_results_list = np.array(fit_results_list).reshape(num_pix, voltage_steps, 5)\n",
    "\n",
    "# # exclude the R2 parameter\n",
    "# params = fit_results_list.reshape(-1, 5)[:, 0:4]\n",
    "\n",
    "# # scale the parameters (now takes only 4 parameters, excluding the R2)\n",
    "# params_scaler = StandardScaler()\n",
    "# scaled_params = params_scaler.fit_transform(fit_results_list.reshape(-1, 5)[:, 0:4])"
   ]
  },
  {
   "cell_type": "code",
   "execution_count": 28,
   "metadata": {},
   "outputs": [
    {
     "data": {
      "image/png": "[encoded data removed]",
      "text/plain": [
       "<Figure size 640x480 with 1 Axes>"
      ]
     },
     "metadata": {},
     "output_type": "display_data"
    }
   ],
   "source": [
    "import h5py\n",
    "import pyUSID as usid\n",
    "import sidpy\n",
    "import matplotlib.pyplot as plt\n",
    "\n",
    "with h5py.File(dataset.file, \"a\") as h5_f:\n",
    "    # h5_main = usid.hdf_utils.find_dataset(h5_f, \"Raw_Data\")[0]\n",
    "    plt.plot(h5_f[\"/Noisy_Data/Noise_1/Raw_Data\"][:].reshape(3600,384,165)[350,100])"
   ]
  },
  {
   "cell_type": "code",
   "execution_count": 29,
   "metadata": {},
   "outputs": [
    {
     "data": {
      "image/png": "[encoded data removed]",
      "text/plain": [
       "<Figure size 640x480 with 1 Axes>"
      ]
     },
     "metadata": {},
     "output_type": "display_data"
    }
   ],
   "source": [
    "import h5py\n",
    "import pyUSID as usid\n",
    "import sidpy\n",
    "import matplotlib.pyplot as plt\n",
    "\n",
    "with h5py.File(dataset.file, \"a\") as h5_f:\n",
    "    # h5_main = usid.hdf_utils.find_dataset(h5_f, \"Raw_Data\")[0]\n",
    "    plt.plot(h5_f[\"/Measurement_000/Channel_000/Raw_Data\"][:].reshape(3600,384,165)[350,100])"
   ]
  },
  {
   "cell_type": "code",
   "execution_count": 52,
   "metadata": {},
   "outputs": [
    {
     "ename": "AttributeError",
     "evalue": "'numpy.ndarray' object has no attribute 'h5_pos_inds'",
     "output_type": "error",
     "traceback": [
      "\u001b[0;31m---------------------------------------------------------------------------\u001b[0m",
      "\u001b[0;31mAttributeError\u001b[0m                            Traceback (most recent call last)",
      "\u001b[1;32m/home/ferroelectric/m3_learning/m3_learning/papers/2023_Rapid_Fitting/7_Pytorch_SHO_Fitter_Noisy.ipynb Cell 16\u001b[0m in \u001b[0;36m4\n\u001b[1;32m      <a href='vscode-notebook-cell://ssh-remote%2B10.248.36.21/home/ferroelectric/m3_learning/m3_learning/papers/2023_Rapid_Fitting/7_Pytorch_SHO_Fitter_Noisy.ipynb#X65sdnNjb2RlLXJlbW90ZQ%3D%3D?line=0'>1</a>\u001b[0m \u001b[39mwith\u001b[39;00m h5py\u001b[39m.\u001b[39mFile(dataset\u001b[39m.\u001b[39mfile, \u001b[39m\"\u001b[39m\u001b[39ma\u001b[39m\u001b[39m\"\u001b[39m) \u001b[39mas\u001b[39;00m h5_f:\n\u001b[1;32m      <a href='vscode-notebook-cell://ssh-remote%2B10.248.36.21/home/ferroelectric/m3_learning/m3_learning/papers/2023_Rapid_Fitting/7_Pytorch_SHO_Fitter_Noisy.ipynb#X65sdnNjb2RlLXJlbW90ZQ%3D%3D?line=1'>2</a>\u001b[0m     \u001b[39m#sidpy.hdf_utils.link_h5_objects_as_attrs(h5_f[\"/Measurement_000/Channel_000/Raw_Data\"], h5_f[\"/Noisy_Data/Noise_1/Raw_Data\"])\u001b[39;00m\n\u001b[1;32m      <a href='vscode-notebook-cell://ssh-remote%2B10.248.36.21/home/ferroelectric/m3_learning/m3_learning/papers/2023_Rapid_Fitting/7_Pytorch_SHO_Fitter_Noisy.ipynb#X65sdnNjb2RlLXJlbW90ZQ%3D%3D?line=2'>3</a>\u001b[0m     \u001b[39m# sidpy.hdf.hdf_utils.copy_attributes()\u001b[39;00m\n\u001b[0;32m----> <a href='vscode-notebook-cell://ssh-remote%2B10.248.36.21/home/ferroelectric/m3_learning/m3_learning/papers/2023_Rapid_Fitting/7_Pytorch_SHO_Fitter_Noisy.ipynb#X65sdnNjb2RlLXJlbW90ZQ%3D%3D?line=3'>4</a>\u001b[0m     h5_f[\u001b[39m\"\u001b[39;49m\u001b[39m/Measurement_000/Channel_000/Raw_Data\u001b[39;49m\u001b[39m\"\u001b[39;49m][\u001b[39m0\u001b[39;49m]\u001b[39m.\u001b[39;49mh5_pos_inds\n",
      "\u001b[0;31mAttributeError\u001b[0m: 'numpy.ndarray' object has no attribute 'h5_pos_inds'"
     ]
    }
   ],
   "source": [
    "\n",
    "with h5py.File(dataset.file, \"a\") as h5_f:\n",
    "    #sidpy.hdf_utils.link_h5_objects_as_attrs(h5_f[\"/Measurement_000/Channel_000/Raw_Data\"], h5_f[\"/Noisy_Data/Noise_1/Raw_Data\"])\n",
    "    # sidpy.hdf.hdf_utils.copy_attributes()\n",
    "    h5_f[\"/Measurement_000/Channel_000/Raw_Data\"][0].h5_pos_inds"
   ]
  },
  {
   "cell_type": "code",
   "execution_count": 48,
   "metadata": {},
   "outputs": [
    {
     "name": "stdout",
     "output_type": "stream",
     "text": [
      "\tBin_FFT : <HDF5 object reference (null)>\n",
      "\tBin_Frequencies : <HDF5 object reference (null)>\n",
      "\tBin_Indices : <HDF5 object reference (null)>\n",
      "\tBin_Step : <HDF5 object reference (null)>\n",
      "\tBin_Wfm_Type : <HDF5 object reference (null)>\n",
      "\tExcitation_Waveform : <HDF5 object reference (null)>\n",
      "\tNoise_Floor : <HDF5 object reference (null)>\n",
      "\tPosition_Indices : <HDF5 object reference (null)>\n",
      "\tPosition_Values : <HDF5 object reference (null)>\n",
      "\tSpectroscopic_Indices : <HDF5 object reference (null)>\n",
      "\tSpectroscopic_Values : <HDF5 object reference (null)>\n",
      "\tUDVS : <HDF5 object reference (null)>\n",
      "\tUDVS_Indices : <HDF5 object reference (null)>\n",
      "\tin_field_Plot_Group : <HDF5 region reference (null>\n",
      "\tout_of_field_Plot_Group : <HDF5 region reference (null>\n",
      "\tquantity : Piezoresponse\n",
      "\tunits : V\n"
     ]
    }
   ],
   "source": [
    "with h5py.File(dataset.file, \"a\") as h5_f:\n",
    "    for key, val in sidpy.hdf_utils.get_attributes(h5_f[\"/Noisy_Data/Noise_1/Raw_Data\"]).items():\n",
    "        print('\\t%s : %s' % (key, val))"
   ]
  },
  {
   "cell_type": "code",
   "execution_count": 59,
   "metadata": {},
   "outputs": [
    {
     "name": "stdout",
     "output_type": "stream",
     "text": [
      "<class 'h5py._hl.dataset.Dataset'>\n",
      "<class 'pyUSID.io.usi_data.USIDataset'>\n"
     ]
    }
   ],
   "source": [
    "with h5py.File(dataset.file, \"a\") as h5_file:\n",
    "    print(type(usid.hdf_utils.find_dataset(h5_file[\"/Noisy_Data/Noise_1\"], \"Raw_Data\")[0]))\n",
    "    print(type(usid.hdf_utils.find_dataset(h5_file, \"Raw_Data\")[0]))"
   ]
  },
  {
   "cell_type": "code",
   "execution_count": 152,
   "metadata": {},
   "outputs": [],
   "source": [
    "h5_main_old = usid.hdf_utils.find_dataset(h5_f, \"Raw_Data\")[0]\n",
    "h5_main_new = usid.hdf_utils.find_dataset(h5_f[\"/Noisy_Data/Noise_1\"], \"Raw_Data\")[0]"
   ]
  },
  {
   "cell_type": "code",
   "execution_count": 153,
   "metadata": {},
   "outputs": [
    {
     "data": {
      "text/plain": [
       "<HDF5 dataset \"Position_Indices\": shape (3600, 2), type \"<u4\">"
      ]
     },
     "execution_count": 153,
     "metadata": {},
     "output_type": "execute_result"
    }
   ],
   "source": [
    "h5_main_old.h5_pos_inds"
   ]
  },
  {
   "cell_type": "code",
   "execution_count": 163,
   "metadata": {},
   "outputs": [],
   "source": [
    "\n",
    "\n",
    "h5_main_new.h5_pos_inds =h5_main_old.h5_pos_inds\n",
    "h5_main_new.pos_dim_sizes =h5_main_old.pos_dim_sizes\n",
    "h5_main_new.pos_dim_labels =h5_main_old.pos_dim_labels\n",
    "\n",
    "usid.io.hdf_utils.simple.copy_main_attributes(h5_f[\"/Measurement_000/Channel_000/Raw_Data\"],h5_f[f\"Noisy_Data\"][\"Noise_1\"][\"Raw_Data\"])"
   ]
  },
  {
   "cell_type": "code",
   "execution_count": 165,
   "metadata": {},
   "outputs": [
    {
     "data": {
      "text/plain": [
       "<HDF5 group \"/\" (3 members)>"
      ]
     },
     "execution_count": 165,
     "metadata": {},
     "output_type": "execute_result"
    }
   ],
   "source": [
    "h5_main_new.parent.parent.parent"
   ]
  },
  {
   "cell_type": "code",
   "execution_count": 167,
   "metadata": {},
   "outputs": [
    {
     "name": "stdout",
     "output_type": "stream",
     "text": [
      "Working on:\n",
      "./../../../Data/2023_rapid_fitting/data_raw copy.h5\n",
      "['Y', 'X'] [60, 60]\n",
      "\n",
      "\n",
      "SHO Fits will be written to:\n",
      "./../../../Data/2023_rapid_fitting/data_raw copy.h5\n",
      "\n",
      "\n"
     ]
    },
    {
     "ename": "ValueError",
     "evalue": "Provided dataset is not a \"Main\" dataset with necessary ancillary datasets",
     "output_type": "error",
     "traceback": [
      "\u001b[0;31m---------------------------------------------------------------------------\u001b[0m",
      "\u001b[0;31mValueError\u001b[0m                                Traceback (most recent call last)",
      "\u001b[1;32m/home/ferroelectric/m3_learning/m3_learning/papers/2023_Rapid_Fitting/7_Pytorch_SHO_Fitter_Noisy.ipynb Cell 31\u001b[0m in \u001b[0;36m1\n\u001b[0;32m----> <a href='vscode-notebook-cell://ssh-remote%2B10.248.36.21/home/ferroelectric/m3_learning/m3_learning/papers/2023_Rapid_Fitting/7_Pytorch_SHO_Fitter_Noisy.ipynb#X30sdnNjb2RlLXJlbW90ZQ%3D%3D?line=0'>1</a>\u001b[0m dataset\u001b[39m.\u001b[39;49mSHO_Fitter(max_mem\u001b[39m=\u001b[39;49m\u001b[39m1024\u001b[39;49m\u001b[39m*\u001b[39;49m\u001b[39m64\u001b[39;49m, h5_main \u001b[39m=\u001b[39;49m h5_main_new, h5_sho_targ_grp \u001b[39m=\u001b[39;49m \u001b[39m\"\u001b[39;49m\u001b[39moriginal_data_1STD_SHO_Fit_000\u001b[39;49m\u001b[39m\"\u001b[39;49m)\n",
      "File \u001b[0;32m~/m3_learning/m3_learning/src/m3_learning/be/dataset.py:315\u001b[0m, in \u001b[0;36mBE_Dataset.SHO_Fitter\u001b[0;34m(self, force, max_cores, max_mem, dataset, h5_sho_targ_grp, h5_main)\u001b[0m\n\u001b[1;32m    311\u001b[0m \u001b[39melse\u001b[39;00m: \n\u001b[1;32m    312\u001b[0m     h5_sho_targ_grp \u001b[39m=\u001b[39m make_group(h5_file, h5_sho_targ_grp)\n\u001b[0;32m--> 315\u001b[0m sho_fitter \u001b[39m=\u001b[39m belib\u001b[39m.\u001b[39;49manalysis\u001b[39m.\u001b[39;49mBESHOfitter(\n\u001b[1;32m    316\u001b[0m     h5_main, cores\u001b[39m=\u001b[39;49mmax_cores, verbose\u001b[39m=\u001b[39;49m\u001b[39mFalse\u001b[39;49;00m, h5_target_group\u001b[39m=\u001b[39;49mh5_sho_targ_grp\n\u001b[1;32m    317\u001b[0m )\n\u001b[1;32m    318\u001b[0m sho_fitter\u001b[39m.\u001b[39mset_up_guess(\n\u001b[1;32m    319\u001b[0m     guess_func\u001b[39m=\u001b[39mbelib\u001b[39m.\u001b[39manalysis\u001b[39m.\u001b[39mbe_sho_fitter\u001b[39m.\u001b[39mSHOGuessFunc\u001b[39m.\u001b[39mcomplex_gaussian,\n\u001b[1;32m    320\u001b[0m     num_points\u001b[39m=\u001b[39msho_fit_points,\n\u001b[1;32m    321\u001b[0m )\n\u001b[1;32m    322\u001b[0m h5_sho_guess \u001b[39m=\u001b[39m sho_fitter\u001b[39m.\u001b[39mdo_guess(override\u001b[39m=\u001b[39msho_override)\n",
      "File \u001b[0;32m~/anaconda3/envs/rapidfitting/lib/python3.9/site-packages/BGlib/be/analysis/be_sho_fitter.py:63\u001b[0m, in \u001b[0;36mBESHOfitter.__init__\u001b[0;34m(self, h5_main, **kwargs)\u001b[0m\n\u001b[1;32m     46\u001b[0m \u001b[39mdef\u001b[39;00m \u001b[39m__init__\u001b[39m(\u001b[39mself\u001b[39m, h5_main, \u001b[39m*\u001b[39m\u001b[39m*\u001b[39mkwargs):\n\u001b[1;32m     47\u001b[0m     \u001b[39m\"\"\"\u001b[39;00m\n\u001b[1;32m     48\u001b[0m \u001b[39m    Creates an instance of the BESHOFitter class\u001b[39;00m\n\u001b[1;32m     49\u001b[0m \n\u001b[0;32m   (...)\u001b[0m\n\u001b[1;32m     61\u001b[0m \u001b[39m        passed onto :class:`~pyUSID.processing.process.Process`\u001b[39;00m\n\u001b[1;32m     62\u001b[0m \u001b[39m    \"\"\"\u001b[39;00m\n\u001b[0;32m---> 63\u001b[0m     \u001b[39msuper\u001b[39;49m(BESHOfitter, \u001b[39mself\u001b[39;49m)\u001b[39m.\u001b[39;49m\u001b[39m__init__\u001b[39;49m(h5_main, \u001b[39m\"\u001b[39;49m\u001b[39mSHO_Fit\u001b[39;49m\u001b[39m\"\u001b[39;49m,\n\u001b[1;32m     64\u001b[0m                                       variables\u001b[39m=\u001b[39;49m[\u001b[39m'\u001b[39;49m\u001b[39mFrequency\u001b[39;49m\u001b[39m'\u001b[39;49m], \u001b[39m*\u001b[39;49m\u001b[39m*\u001b[39;49mkwargs)\n\u001b[1;32m     66\u001b[0m     \u001b[39mself\u001b[39m\u001b[39m.\u001b[39mparms_dict \u001b[39m=\u001b[39m \u001b[39mNone\u001b[39;00m\n\u001b[1;32m     68\u001b[0m     \u001b[39mself\u001b[39m\u001b[39m.\u001b[39m_fit_dim_name \u001b[39m=\u001b[39m \u001b[39m'\u001b[39m\u001b[39mFrequency\u001b[39m\u001b[39m'\u001b[39m\n",
      "File \u001b[0;32m~/anaconda3/envs/rapidfitting/lib/python3.9/site-packages/BGlib/be/analysis/fitter.py:48\u001b[0m, in \u001b[0;36mFitter.__init__\u001b[0;34m(self, h5_main, proc_name, variables, **kwargs)\u001b[0m\n\u001b[1;32m     26\u001b[0m \u001b[39mdef\u001b[39;00m \u001b[39m__init__\u001b[39m(\u001b[39mself\u001b[39m, h5_main, proc_name, variables\u001b[39m=\u001b[39m\u001b[39mNone\u001b[39;00m, \u001b[39m*\u001b[39m\u001b[39m*\u001b[39mkwargs):\n\u001b[1;32m     27\u001b[0m     \u001b[39m\"\"\"\u001b[39;00m\n\u001b[1;32m     28\u001b[0m \u001b[39m    Creates a new instance of the abstract Fitter class\u001b[39;00m\n\u001b[1;32m     29\u001b[0m \n\u001b[0;32m   (...)\u001b[0m\n\u001b[1;32m     45\u001b[0m \u001b[39m        pyUSID.processing.process.Process\u001b[39;00m\n\u001b[1;32m     46\u001b[0m \u001b[39m    \"\"\"\u001b[39;00m\n\u001b[0;32m---> 48\u001b[0m     \u001b[39msuper\u001b[39;49m(Fitter, \u001b[39mself\u001b[39;49m)\u001b[39m.\u001b[39;49m\u001b[39m__init__\u001b[39;49m(h5_main, proc_name, \u001b[39m*\u001b[39;49m\u001b[39m*\u001b[39;49mkwargs)\n\u001b[1;32m     50\u001b[0m     \u001b[39m# Validate other arguments / kwargs here:\u001b[39;00m\n\u001b[1;32m     51\u001b[0m     \u001b[39mif\u001b[39;00m variables \u001b[39mis\u001b[39;00m \u001b[39mnot\u001b[39;00m \u001b[39mNone\u001b[39;00m:\n",
      "File \u001b[0;32m~/anaconda3/envs/rapidfitting/lib/python3.9/site-packages/pyUSID/processing/process.py:200\u001b[0m, in \u001b[0;36mProcess.__init__\u001b[0;34m(self, h5_main, process_name, parms_dict, cores, max_mem_mb, mem_multiplier, lazy, h5_target_group, verbose)\u001b[0m\n\u001b[1;32m    198\u001b[0m \u001b[39m# Checking if dataset is \"Main\"\u001b[39;00m\n\u001b[1;32m    199\u001b[0m \u001b[39mif\u001b[39;00m \u001b[39mnot\u001b[39;00m check_if_main(h5_main, verbose\u001b[39m=\u001b[39mverbose \u001b[39mand\u001b[39;00m \u001b[39mself\u001b[39m\u001b[39m.\u001b[39mmpi_rank \u001b[39m==\u001b[39m \u001b[39m0\u001b[39m):\n\u001b[0;32m--> 200\u001b[0m     \u001b[39mraise\u001b[39;00m \u001b[39mValueError\u001b[39;00m(\u001b[39m'\u001b[39m\u001b[39mProvided dataset is not a \u001b[39m\u001b[39m\"\u001b[39m\u001b[39mMain\u001b[39m\u001b[39m\"\u001b[39m\u001b[39m dataset with necessary ancillary datasets\u001b[39m\u001b[39m'\u001b[39m)\n\u001b[1;32m    202\u001b[0m \u001b[39mif\u001b[39;00m h5_target_group \u001b[39mis\u001b[39;00m \u001b[39mnot\u001b[39;00m \u001b[39mNone\u001b[39;00m:\n\u001b[1;32m    203\u001b[0m     \u001b[39mif\u001b[39;00m \u001b[39mnot\u001b[39;00m \u001b[39misinstance\u001b[39m(h5_target_group, (h5py\u001b[39m.\u001b[39mGroup, h5py\u001b[39m.\u001b[39mFile)):\n",
      "\u001b[0;31mValueError\u001b[0m: Provided dataset is not a \"Main\" dataset with necessary ancillary datasets"
     ]
    }
   ],
   "source": [
    "dataset.SHO_Fitter(max_mem=1024*64, h5_main = h5_main_new, h5_sho_targ_grp = \"original_data_1STD_SHO_Fit_000\")"
   ]
  },
  {
   "cell_type": "code",
   "execution_count": null,
   "metadata": {},
   "outputs": [],
   "source": []
  },
  {
   "cell_type": "code",
   "execution_count": null,
   "metadata": {},
   "outputs": [],
   "source": [
    "# all computations were pre-computed on A100 40GB NHI GPU\n",
    "# set to False if you want to recompute\n",
    "use_pre_computed_vars = False\n",
    "use_pre_trained_models = False"
   ]
  },
  {
   "cell_type": "code",
   "execution_count": 140,
   "metadata": {},
   "outputs": [
    {
     "ename": "NameError",
     "evalue": "name 'print_be_tree' is not defined",
     "output_type": "error",
     "traceback": [
      "\u001b[0;31m---------------------------------------------------------------------------\u001b[0m",
      "\u001b[0;31mNameError\u001b[0m                                 Traceback (most recent call last)",
      "\u001b[1;32m/home/ferroelectric/m3_learning/m3_learning/papers/2023_Rapid_Fitting/7_Pytorch_SHO_Fitter_Noisy.ipynb Cell 31\u001b[0m in \u001b[0;36m1\n\u001b[0;32m----> <a href='vscode-notebook-cell://ssh-remote%2B10.248.36.21/home/ferroelectric/m3_learning/m3_learning/papers/2023_Rapid_Fitting/7_Pytorch_SHO_Fitter_Noisy.ipynb#X33sdnNjb2RlLXJlbW90ZQ%3D%3D?line=0'>1</a>\u001b[0m print_be_tree(\u001b[39m'\u001b[39m\u001b[39m./data_file_noise_7.0.h5\u001b[39m\u001b[39m'\u001b[39m)\n",
      "\u001b[0;31mNameError\u001b[0m: name 'print_be_tree' is not defined"
     ]
    }
   ],
   "source": [
    "print_be_tree('./data_file_noise_7.0.h5')"
   ]
  },
  {
   "attachments": {},
   "cell_type": "markdown",
   "metadata": {},
   "source": [
    "### Copies initial dataset for the later use"
   ]
  },
  {
   "cell_type": "code",
   "execution_count": null,
   "metadata": {},
   "outputs": [],
   "source": [
    "if not use_pre_computed_vars:\n",
    "  # close the current file to perform a copy\n",
    "  h5_f.close()\n",
    "  for nl in noise_levels:\n",
    "    shutil.copy('data_file_raw.h5', f'data_file_noise_{nl}.h5')\n",
    "    time.sleep(3)"
   ]
  },
  {
   "cell_type": "code",
   "execution_count": null,
   "metadata": {},
   "outputs": [],
   "source": [
    "for noise_level in noise_levels:\n",
    "  \n",
    "  with h5py.File(f'data_file_noise_{noise_level}.h5', 'r+') as h5_f_noise:\n",
    "    data_pointer = h5_f_noise['Measurement_000']['Channel_000']['Raw_Data']\n",
    "    raw_data_noise = np.array(h5_f_noise['Measurement_000']['Channel_000']['Raw_Data'])\n",
    "    raw_data_noise = raw_data_noise + noise * float(noise_level) \n",
    "    data_pointer[...] = raw_data_noise\n",
    "    del h5_f_noise['Measurement_000']['Channel_000']['Raw_Data-SHO_Fit_000']"
   ]
  },
  {
   "attachments": {},
   "cell_type": "markdown",
   "metadata": {},
   "source": [
    "## Builds the PyTorch model"
   ]
  },
  {
   "cell_type": "code",
   "execution_count": null,
   "metadata": {},
   "outputs": [],
   "source": [
    "class SHO_Model(nn.Module):\n",
    "    def __init__(self):\n",
    "        super().__init__()\n",
    "\n",
    "        # Input block of 1d convolution\n",
    "        self.hidden_x1 = nn.Sequential(\n",
    "            nn.Conv1d(in_channels=2, out_channels=8, kernel_size=7),\n",
    "            nn.SELU(),\n",
    "            nn.Conv1d(in_channels=8, out_channels=6, kernel_size=7),\n",
    "            nn.SELU(),\n",
    "            nn.Conv1d(in_channels=6, out_channels=4, kernel_size=5),\n",
    "            nn.SELU(),\n",
    "        )\n",
    "\n",
    "        # fully connected block\n",
    "        self.hidden_xfc = nn.Sequential(\n",
    "            nn.Linear(256, 20),\n",
    "            nn.SELU(),\n",
    "            nn.Linear(20, 20),\n",
    "            nn.SELU(),\n",
    "        )\n",
    "\n",
    "        # 2nd block of 1d-conv layers\n",
    "        self.hidden_x2 = nn.Sequential(\n",
    "            nn.MaxPool1d(kernel_size=2),\n",
    "            nn.Conv1d(in_channels=2, out_channels=4, kernel_size=5),\n",
    "            nn.SELU(),\n",
    "            nn.Conv1d(in_channels=4, out_channels=4, kernel_size=5),\n",
    "            nn.SELU(),\n",
    "            nn.Conv1d(in_channels=4, out_channels=4, kernel_size=5),\n",
    "            nn.SELU(),\n",
    "            nn.Conv1d(in_channels=4, out_channels=4, kernel_size=5),\n",
    "            nn.SELU(),\n",
    "            nn.Conv1d(in_channels=4, out_channels=4, kernel_size=5),\n",
    "            nn.SELU(),\n",
    "            nn.Conv1d(in_channels=4, out_channels=4, kernel_size=5),\n",
    "            nn.SELU(),\n",
    "            nn.AvgPool1d(kernel_size=2),\n",
    "            nn.Conv1d(in_channels=4, out_channels=2, kernel_size=3),\n",
    "            nn.SELU(),\n",
    "            nn.AvgPool1d(kernel_size=2),\n",
    "            nn.Conv1d(in_channels=2, out_channels=2, kernel_size=3),\n",
    "            nn.SELU(),\n",
    "            nn.AvgPool1d(kernel_size=2),\n",
    "        )\n",
    "\n",
    "        # Flatten layer\n",
    "        self.flatten_layer = nn.Flatten()\n",
    "\n",
    "        # Final embedding block - Output 4 values - linear\n",
    "        self.hidden_embedding = nn.Sequential(\n",
    "            nn.Linear(26, 16),\n",
    "            nn.SELU(),\n",
    "            nn.Linear(16, 8),\n",
    "            nn.SELU(),\n",
    "            nn.Linear(8, 4),\n",
    "        )\n",
    "\n",
    "    def forward(self, x, n=-1):\n",
    "        x = torch.swapaxes(x, 1, 2)  # output shape - samples, (real, imag), frequency\n",
    "        x = self.hidden_x1(x)\n",
    "        xfc = torch.reshape(x, (n, 256))  # batch size, features\n",
    "        xfc = self.hidden_xfc(xfc)\n",
    "        x = torch.reshape(x, (n, 2, 128))  # batch size, (real, imag), timesteps\n",
    "        x = self.hidden_x2(x)\n",
    "        cnn_flat = self.flatten_layer(x)\n",
    "        encoded = torch.cat((cnn_flat, xfc), 1)  # merge dense and 1d conv.\n",
    "        embedding = self.hidden_embedding(encoded)  # output is 4 parameters\n",
    "\n",
    "        # corrects the scaling of the parameters\n",
    "        unscaled_param = (\n",
    "            embedding * torch.tensor(params_scaler.var_[0:4] ** 0.5).cuda()\n",
    "            + torch.tensor(params_scaler.mean_[0:4]).cuda()\n",
    "        )\n",
    "\n",
    "        # passes to the pytorch fitting function\n",
    "        fits = SHO_fit_func_torch(unscaled_param, wvec_freq, device=\"cuda\")\n",
    "\n",
    "        # extract and return real and imaginary\n",
    "        real = torch.real(fits)\n",
    "        real_scaled = (real - torch.tensor(scaler_real.mean).cuda()) / torch.tensor(\n",
    "            scaler_real.std\n",
    "        ).cuda()\n",
    "        imag = torch.imag(fits)\n",
    "        imag_scaled = (imag - torch.tensor(scaler_imag.mean).cuda()) / torch.tensor(\n",
    "            scaler_imag.std\n",
    "        ).cuda()\n",
    "        out = torch.stack((real_scaled, imag_scaled), 2)\n",
    "        return out"
   ]
  },
  {
   "attachments": {},
   "cell_type": "markdown",
   "metadata": {},
   "source": [
    "## Trains NN"
   ]
  },
  {
   "attachments": {},
   "cell_type": "markdown",
   "metadata": {},
   "source": [
    "### Train/Test Split"
   ]
  },
  {
   "cell_type": "code",
   "execution_count": null,
   "metadata": {},
   "outputs": [],
   "source": [
    "data_train, data_test, params_train, params_test = train_test_split(\n",
    "    scaled_data, scaled_params, test_size=0.7, random_state=42\n",
    ")\n",
    "\n",
    "params_test_unscaled = params_scaler.inverse_transform(params_test)"
   ]
  },
  {
   "attachments": {},
   "cell_type": "markdown",
   "metadata": {},
   "source": [
    "### Training"
   ]
  },
  {
   "cell_type": "code",
   "execution_count": null,
   "metadata": {},
   "outputs": [],
   "source": [
    "if not use_pre_trained_models:\n",
    "  max_num_of_updates = scaled_data.shape[0] // 16 * 10\n",
    "  output_tensor_dict = {}\n",
    "  seed = 0\n",
    "  noise_reshaped = resample(noise.reshape(-1, 165), 80, axis=1)\n",
    "  noise_2d = np.stack((np.real(noise_reshaped), np.imag(noise_reshaped)), axis=2)\n",
    "  noise_train, noise_test = train_test_split(noise_2d, test_size=0.7, random_state=42)"
   ]
  },
  {
   "cell_type": "code",
   "execution_count": null,
   "metadata": {},
   "outputs": [],
   "source": [
    "if not use_pre_trained_models:\n",
    "  for noise_factor in noise_levels:\n",
    "      noise_factor = float(noise_factor)\n",
    "      random_seed(seed=42)\n",
    "      torch.cuda.empty_cache()\n",
    "      model = SHO_Model().cuda()\n",
    "\n",
    "      loss_func = torch.nn.MSELoss()\n",
    "      batch_size = 128\n",
    "      data_noise = scaled_data + noise_2d * noise_factor\n",
    "      data_train_noise = data_train + noise_train * noise_factor\n",
    "      data_test_noise = data_test + noise_test * noise_factor\n",
    "\n",
    "      optimizer = torch.optim.Adam(model.parameters())\n",
    "      train_dataloader = DataLoader(data_train_noise, batch_size=batch_size)\n",
    "      epochs = max_num_of_updates * batch_size // scaled_data.shape[0] // 16\n",
    "      print(f\"Training with batch size = {batch_size}, noise factor = {noise_factor}\")\n",
    "      start_time_training = time.time()\n",
    "      for epoch in range(epochs):\n",
    "          start_time = time.time()\n",
    "          train_loss = 0.\n",
    "          total_num = 0\n",
    "\n",
    "          model.train()\n",
    "\n",
    "          for train_batch in train_dataloader:\n",
    "              pred = model(train_batch.double().cuda())\n",
    "              optimizer.zero_grad()\n",
    "              loss = loss_func(train_batch.double().cuda(), pred)\n",
    "              loss.backward(create_graph=True)\n",
    "              train_loss += loss.item() * pred.shape[0]\n",
    "              total_num += pred.shape[0]\n",
    "              optimizer.step()\n",
    "\n",
    "          train_loss /= total_num\n",
    "          torch.save(model.state_dict(), f'./Trained Models/SHO Fitter/model_noise_{noise_factor}_bs128.pt')\n",
    "\n",
    "          print(\"epoch : {}/{}, recon loss = {:.8f}\".format(epoch + 1, epochs, train_loss))\n",
    "          print(\"--- %s seconds ---\" % (time.time() - start_time))\n",
    "\n",
    "      print(f\"Training with batch size={batch_size} took {time.time() - start_time_training} seconds\\n\")\n",
    "\n",
    "      del train_dataloader\n",
    "      del data_noise\n",
    "      del data_train_noise\n",
    "      del data_test_noise\n",
    "      del model\n",
    "      gc.collect()\n",
    "      torch.cuda.empty_cache()"
   ]
  },
  {
   "attachments": {},
   "cell_type": "markdown",
   "metadata": {},
   "source": [
    "### Computes fits"
   ]
  },
  {
   "cell_type": "code",
   "execution_count": null,
   "metadata": {},
   "outputs": [],
   "source": [
    "for noise_level in noise_levels:\n",
    "    SHO_Fitter(f'data_file_noise_{noise_level}.h5', force=True)\n",
    "    print(f'Computation for noise level={noise_level} is done!')"
   ]
  },
  {
   "attachments": {},
   "cell_type": "markdown",
   "metadata": {},
   "source": [
    "### Uses Pre-computed Noisy SHO Fits"
   ]
  },
  {
   "cell_type": "code",
   "execution_count": null,
   "metadata": {},
   "outputs": [],
   "source": [
    "# TODO: download from Zenodo"
   ]
  },
  {
   "cell_type": "code",
   "execution_count": null,
   "metadata": {},
   "outputs": [],
   "source": [
    "if use_pre_computed_vars:\n",
    "  !unzip noisy_sho_fits.zip"
   ]
  }
 ],
 "metadata": {
  "kernelspec": {
   "display_name": "rapid_fitting",
   "language": "python",
   "name": "python3"
  },
  "language_info": {
   "codemirror_mode": {
    "name": "ipython",
    "version": 3
   },
   "file_extension": ".py",
   "mimetype": "text/x-python",
   "name": "python",
   "nbconvert_exporter": "python",
   "pygments_lexer": "ipython3",
   "version": "3.9.16"
  },
  "orig_nbformat": 4,
  "vscode": {
   "interpreter": {
    "hash": "c58f42fd11d8ae4df132d3c425059695e86ccc63a852aa66615442730ca8b1fc"
   }
  }
 },
 "nbformat": 4,
 "nbformat_minor": 2
}
