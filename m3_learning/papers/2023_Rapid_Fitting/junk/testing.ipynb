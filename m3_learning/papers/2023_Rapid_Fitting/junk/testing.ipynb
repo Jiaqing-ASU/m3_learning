{
 "cells": [
  {
   "cell_type": "code",
   "execution_count": 2,
   "metadata": {},
   "outputs": [],
   "source": [
    "import sidpy\n",
    "import h5py"
   ]
  },
  {
   "cell_type": "code",
   "execution_count": 3,
   "metadata": {},
   "outputs": [
    {
     "ename": "BlockingIOError",
     "evalue": "[Errno 11] Unable to synchronously open file (unable to lock file, errno = 11, error message = 'Resource temporarily unavailable')",
     "output_type": "error",
     "traceback": [
      "\u001b[0;31m---------------------------------------------------------------------------\u001b[0m",
      "\u001b[0;31mBlockingIOError\u001b[0m                           Traceback (most recent call last)",
      "\u001b[1;32m/home/ferroelectric/Documents/m3_learning/m3_learning/papers/2023_Rapid_Fitting/testing.ipynb Cell 2\u001b[0m line \u001b[0;36m1\n\u001b[0;32m----> <a href='vscode-notebook-cell://ssh-remote%2B10.248.36.21/home/ferroelectric/Documents/m3_learning/m3_learning/papers/2023_Rapid_Fitting/testing.ipynb#W1sdnNjb2RlLXJlbW90ZQ%3D%3D?line=0'>1</a>\u001b[0m h5_f \u001b[39m=\u001b[39m h5py\u001b[39m.\u001b[39;49mFile(\u001b[39m'\u001b[39;49m\u001b[39m./Data/data_raw_unmod.h5\u001b[39;49m\u001b[39m'\u001b[39;49m, \u001b[39m\"\u001b[39;49m\u001b[39mr+\u001b[39;49m\u001b[39m\"\u001b[39;49m)\n",
      "File \u001b[0;32m~/micromamba/envs/m3_test_delete/lib/python3.10/site-packages/h5py/_hl/files.py:562\u001b[0m, in \u001b[0;36mFile.__init__\u001b[0;34m(self, name, mode, driver, libver, userblock_size, swmr, rdcc_nslots, rdcc_nbytes, rdcc_w0, track_order, fs_strategy, fs_persist, fs_threshold, fs_page_size, page_buf_size, min_meta_keep, min_raw_keep, locking, alignment_threshold, alignment_interval, meta_block_size, **kwds)\u001b[0m\n\u001b[1;32m    553\u001b[0m     fapl \u001b[39m=\u001b[39m make_fapl(driver, libver, rdcc_nslots, rdcc_nbytes, rdcc_w0,\n\u001b[1;32m    554\u001b[0m                      locking, page_buf_size, min_meta_keep, min_raw_keep,\n\u001b[1;32m    555\u001b[0m                      alignment_threshold\u001b[39m=\u001b[39malignment_threshold,\n\u001b[1;32m    556\u001b[0m                      alignment_interval\u001b[39m=\u001b[39malignment_interval,\n\u001b[1;32m    557\u001b[0m                      meta_block_size\u001b[39m=\u001b[39mmeta_block_size,\n\u001b[1;32m    558\u001b[0m                      \u001b[39m*\u001b[39m\u001b[39m*\u001b[39mkwds)\n\u001b[1;32m    559\u001b[0m     fcpl \u001b[39m=\u001b[39m make_fcpl(track_order\u001b[39m=\u001b[39mtrack_order, fs_strategy\u001b[39m=\u001b[39mfs_strategy,\n\u001b[1;32m    560\u001b[0m                      fs_persist\u001b[39m=\u001b[39mfs_persist, fs_threshold\u001b[39m=\u001b[39mfs_threshold,\n\u001b[1;32m    561\u001b[0m                      fs_page_size\u001b[39m=\u001b[39mfs_page_size)\n\u001b[0;32m--> 562\u001b[0m     fid \u001b[39m=\u001b[39m make_fid(name, mode, userblock_size, fapl, fcpl, swmr\u001b[39m=\u001b[39;49mswmr)\n\u001b[1;32m    564\u001b[0m \u001b[39mif\u001b[39;00m \u001b[39misinstance\u001b[39m(libver, \u001b[39mtuple\u001b[39m):\n\u001b[1;32m    565\u001b[0m     \u001b[39mself\u001b[39m\u001b[39m.\u001b[39m_libver \u001b[39m=\u001b[39m libver\n",
      "File \u001b[0;32m~/micromamba/envs/m3_test_delete/lib/python3.10/site-packages/h5py/_hl/files.py:237\u001b[0m, in \u001b[0;36mmake_fid\u001b[0;34m(name, mode, userblock_size, fapl, fcpl, swmr)\u001b[0m\n\u001b[1;32m    235\u001b[0m     fid \u001b[39m=\u001b[39m h5f\u001b[39m.\u001b[39mopen(name, flags, fapl\u001b[39m=\u001b[39mfapl)\n\u001b[1;32m    236\u001b[0m \u001b[39melif\u001b[39;00m mode \u001b[39m==\u001b[39m \u001b[39m'\u001b[39m\u001b[39mr+\u001b[39m\u001b[39m'\u001b[39m:\n\u001b[0;32m--> 237\u001b[0m     fid \u001b[39m=\u001b[39m h5f\u001b[39m.\u001b[39;49mopen(name, h5f\u001b[39m.\u001b[39;49mACC_RDWR, fapl\u001b[39m=\u001b[39;49mfapl)\n\u001b[1;32m    238\u001b[0m \u001b[39melif\u001b[39;00m mode \u001b[39min\u001b[39;00m [\u001b[39m'\u001b[39m\u001b[39mw-\u001b[39m\u001b[39m'\u001b[39m, \u001b[39m'\u001b[39m\u001b[39mx\u001b[39m\u001b[39m'\u001b[39m]:\n\u001b[1;32m    239\u001b[0m     fid \u001b[39m=\u001b[39m h5f\u001b[39m.\u001b[39mcreate(name, h5f\u001b[39m.\u001b[39mACC_EXCL, fapl\u001b[39m=\u001b[39mfapl, fcpl\u001b[39m=\u001b[39mfcpl)\n",
      "File \u001b[0;32mh5py/_objects.pyx:54\u001b[0m, in \u001b[0;36mh5py._objects.with_phil.wrapper\u001b[0;34m()\u001b[0m\n",
      "File \u001b[0;32mh5py/_objects.pyx:55\u001b[0m, in \u001b[0;36mh5py._objects.with_phil.wrapper\u001b[0;34m()\u001b[0m\n",
      "File \u001b[0;32mh5py/h5f.pyx:102\u001b[0m, in \u001b[0;36mh5py.h5f.open\u001b[0;34m()\u001b[0m\n",
      "\u001b[0;31mBlockingIOError\u001b[0m: [Errno 11] Unable to synchronously open file (unable to lock file, errno = 11, error message = 'Resource temporarily unavailable')"
     ]
    }
   ],
   "source": [
    "h5_f = h5py.File('./Data/data_raw_unmod.h5', \"r+\")"
   ]
  },
  {
   "cell_type": "code",
   "execution_count": 9,
   "metadata": {},
   "outputs": [],
   "source": [
    "import h5py\n",
    "import pyUSID as usid\n",
    "\n",
    "h5_main = usid.hdf_utils.find_dataset(h5_f, \"Raw_Data\")"
   ]
  },
  {
   "cell_type": "code",
   "execution_count": 20,
   "metadata": {},
   "outputs": [
    {
     "data": {
      "text/plain": [
       "[165, 96, 2, 2]"
      ]
     },
     "execution_count": 20,
     "metadata": {},
     "output_type": "execute_result"
    }
   ],
   "source": [
    "h5_main[0].spec_dim_descriptors\n",
    "h5_main[0].spec_dim_labels\n",
    "h5_main[0].spec_dim_sizes\n",
    "\n",
    "pos_dims = [usid.Dimension(spec_dim_descriptor, spec_dim_labels, spec_dim_size)]"
   ]
  },
  {
   "cell_type": "code",
   "execution_count": 21,
   "metadata": {},
   "outputs": [],
   "source": [
    "import pyUSID as usid\n",
    "\n",
    "# Assuming h5_main is your main dataset from an HDF5 file\n",
    "# and has already been defined.\n",
    "\n",
    "# Extract the spec_dim_descriptors, spec_dim_labels, and spec_dim_sizes\n",
    "spec_dim_descriptors = h5_main[0].spec_dim_descriptors\n",
    "spec_dim_labels = h5_main[0].spec_dim_labels\n",
    "spec_dim_sizes = h5_main[0].spec_dim_sizes\n",
    "\n",
    "# Create the list of usid.Dimension objects\n",
    "spec_dim = [usid.Dimension(descriptor, label, size)\n",
    "            for descriptor, label, size in zip(spec_dim_descriptors, spec_dim_labels, spec_dim_sizes)]"
   ]
  },
  {
   "cell_type": "code",
   "execution_count": 23,
   "metadata": {},
   "outputs": [],
   "source": [
    "# Assuming h5_main is your main dataset from an HDF5 file\n",
    "# and has already been defined.\n",
    "\n",
    "# Extract the spec_dim_descriptors, spec_dim_labels, and spec_dim_sizes\n",
    "pos_dim_descriptors = h5_main[0].pos_dim_descriptors\n",
    "pos_dim_labels = h5_main[0].pos_dim_labels\n",
    "pos_dim_sizes = h5_main[0].pos_dim_sizes\n",
    "\n",
    "# Create the list of usid.Dimension objects\n",
    "pos_dim = [usid.Dimension(descriptor, label, size)\n",
    "            for descriptor, label, size in zip(pos_dim_descriptors, pos_dim_labels, pos_dim_sizes)]"
   ]
  },
  {
   "cell_type": "code",
   "execution_count": 25,
   "metadata": {},
   "outputs": [
    {
     "data": {
      "text/plain": [
       "[Y (um): generic (Y) mode:DimType.DEFAULT : [ 0.  1.  2.  3.  4.  5.  6.  7.  8.  9. 10. 11. 12. 13. 14. 15. 16. 17.\n",
       "  18. 19. 20. 21. 22. 23. 24. 25. 26. 27. 28. 29. 30. 31. 32. 33. 34. 35.\n",
       "  36. 37. 38. 39. 40. 41. 42. 43. 44. 45. 46. 47. 48. 49. 50. 51. 52. 53.\n",
       "  54. 55. 56. 57. 58. 59.],\n",
       " X (um): generic (X) mode:DimType.DEFAULT : [ 0.  1.  2.  3.  4.  5.  6.  7.  8.  9. 10. 11. 12. 13. 14. 15. 16. 17.\n",
       "  18. 19. 20. 21. 22. 23. 24. 25. 26. 27. 28. 29. 30. 31. 32. 33. 34. 35.\n",
       "  36. 37. 38. 39. 40. 41. 42. 43. 44. 45. 46. 47. 48. 49. 50. 51. 52. 53.\n",
       "  54. 55. 56. 57. 58. 59.]]"
      ]
     },
     "execution_count": 25,
     "metadata": {},
     "output_type": "execute_result"
    }
   ],
   "source": [
    "pos_dim"
   ]
  },
  {
   "cell_type": "code",
   "execution_count": 7,
   "metadata": {},
   "outputs": [
    {
     "name": "stdout",
     "output_type": "stream",
     "text": [
      "True\n",
      "<HDF5 dataset \"Raw_Data\": shape (3600, 63360), type \"<c8\">\n",
      "located at: \n",
      "\t/Measurement_000/Channel_000/Raw_Data \n",
      "Data contains: \n",
      "\tPiezoresponse (V) \n",
      "Data dimensions and original shape: \n",
      "Position Dimensions: \n",
      "\tY - size: 60 \n",
      "\tX - size: 60 \n",
      "Spectroscopic Dimensions: \n",
      "\tFrequency - size: 165 \n",
      "\tDC_Offset - size: 96 \n",
      "\tField - size: 2 \n",
      "\tCycle - size: 2\n",
      "Data Type:\n",
      "\tcomplex64\n"
     ]
    }
   ],
   "source": [
    "import h5py\n",
    "import pyUSID as usid\n",
    "\n",
    "with h5py.File('./Data/data_raw_unmod.h5', \"r+\") as h5_f:\n",
    "    h5_main = usid.hdf_utils.find_dataset(h5_f, \"Raw_Data\")[0]\n",
    "    print(usid.hdf_utils.check_if_main(h5_main))\n",
    "    print(h5_main)"
   ]
  },
  {
   "cell_type": "code",
   "execution_count": 28,
   "metadata": {},
   "outputs": [],
   "source": [
    "def get_original_data(file):\n",
    "    \"\"\"\n",
    "    get_original_data gets the raw BE data as a complex value\n",
    "\n",
    "    Returns:\n",
    "        np.array: BE data as a complex number\n",
    "    \"\"\"\n",
    "    with h5py.File(file, \"r+\") as h5_f:\n",
    "        return h5_f[\"Measurement_000\"][\"Channel_000\"][\"Raw_Data\"][:]"
   ]
  },
  {
   "cell_type": "code",
   "execution_count": 31,
   "metadata": {},
   "outputs": [],
   "source": [
    "import numpy as np\n",
    "\n",
    "def generate_noisy_data_records(file,\n",
    "                                noise_levels,\n",
    "                                basegroup='Measurement_000',\n",
    "                                verbose=False,\n",
    "                                noise_STD=None):\n",
    "\n",
    "    if verbose:\n",
    "        print(f\"The STD of the data is: {noise_STD}\")\n",
    "\n",
    "    with h5py.File(file, \"r+\") as h5_f:\n",
    "\n",
    "        # iterates through the noise levels provided\n",
    "        for noise_level in noise_levels:\n",
    "\n",
    "            if verbose:\n",
    "                print(f\"Adding noise level {noise_level}\")\n",
    "\n",
    "            # computes the noise level\n",
    "            noise_level_ = noise_STD * noise_level\n",
    "\n",
    "            # computes the real and imaginary components of the noise\n",
    "            noise_real = np.random.uniform(-1*noise_level_,\n",
    "                                            noise_level_, (3600, 165*4*96))\n",
    "            noise_imag = np.random.uniform(-1*noise_level_,\n",
    "                                           noise_level_, (3600, 165*4*96))\n",
    "\n",
    "            # adds the noise to the original data\n",
    "            noise = noise_real+noise_imag*1.0j\n",
    "            data = get_original_data(file) + noise\n",
    "\n",
    "            h5_main = usid.hdf_utils.find_dataset(h5_f, \"Raw_Data\")[0]\n",
    "\n",
    "            # writes the noise record to the pyUSID file\n",
    "            usid.hdf_utils.write_main_dataset(h5_f[basegroup],  # parent group\n",
    "                                                data,  # data to be written\n",
    "                                                # Name of the main dataset\n",
    "                                                f'Noisy_Data_{noise_level}',\n",
    "                                                'Piezoresponse',  # quantity\n",
    "                                                'V',  # units\n",
    "                                                pos_dim,  # position dimensions\n",
    "                                                spec_dim,  # spectroscopic dimensions\n",
    "                                                h5_pos_inds=h5_main.h5_pos_inds,\n",
    "                                                h5_pos_vals=h5_main.h5_pos_vals,\n",
    "                                                h5_spec_inds=h5_main.h5_spec_inds,\n",
    "                                                h5_spec_vals=h5_main.h5_spec_vals,\n",
    "                                                dtype=np.complex64,\n",
    "                                                compression='gzip')"
   ]
  },
  {
   "cell_type": "code",
   "execution_count": 32,
   "metadata": {},
   "outputs": [
    {
     "name": "stdout",
     "output_type": "stream",
     "text": [
      "The STD of the data is: 0.1\n",
      "Adding noise level 1\n",
      "Adding noise level 2\n",
      "Adding noise level 3\n",
      "Adding noise level 4\n"
     ]
    }
   ],
   "source": [
    "generate_noisy_data_records('./Data/data_raw_unmod.h5', noise_levels=np.arange(1, 9),\n",
    "                            verbose=True,\n",
    "                            noise_STD=.1)"
   ]
  },
  {
   "cell_type": "code",
   "execution_count": null,
   "metadata": {},
   "outputs": [],
   "source": []
  }
 ],
 "metadata": {
  "kernelspec": {
   "display_name": "paper",
   "language": "python",
   "name": "python3"
  },
  "language_info": {
   "codemirror_mode": {
    "name": "ipython",
    "version": 3
   },
   "file_extension": ".py",
   "mimetype": "text/x-python",
   "name": "python",
   "nbconvert_exporter": "python",
   "pygments_lexer": "ipython3",
   "version": "3.10.13"
  }
 },
 "nbformat": 4,
 "nbformat_minor": 2
}
