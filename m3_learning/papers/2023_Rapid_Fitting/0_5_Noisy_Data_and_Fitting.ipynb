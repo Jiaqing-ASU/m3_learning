{
 "cells": [
  {
   "cell_type": "markdown",
   "metadata": {},
   "source": [
    "# 0.5 Generate Noisy Data and Fitting\n",
    "\n",
    "This notebook is used to generate and fit all the data required for the paper. We will generate data for the following noise cases: \n",
    "\n",
    "1, 2, 3, 4, 5, 6, 7 STD"
   ]
  },
  {
   "cell_type": "markdown",
   "metadata": {},
   "source": [
    "## Imports"
   ]
  },
  {
   "cell_type": "code",
   "execution_count": 1,
   "metadata": {},
   "outputs": [],
   "source": [
    "import sys\n",
    "\n",
    "sys.path.append(\"../../\")\n",
    "sys.path.append(\"/home/ferroelectric/Documents/m3_learning/m3_learning/src\")"
   ]
  },
  {
   "cell_type": "code",
   "execution_count": 2,
   "metadata": {},
   "outputs": [
    {
     "name": "stderr",
     "output_type": "stream",
     "text": [
      "2023-11-24 16:46:50.215142: E external/local_xla/xla/stream_executor/cuda/cuda_dnn.cc:9261] Unable to register cuDNN factory: Attempting to register factory for plugin cuDNN when one has already been registered\n",
      "2023-11-24 16:46:50.215178: E external/local_xla/xla/stream_executor/cuda/cuda_fft.cc:607] Unable to register cuFFT factory: Attempting to register factory for plugin cuFFT when one has already been registered\n",
      "2023-11-24 16:46:50.215852: E external/local_xla/xla/stream_executor/cuda/cuda_blas.cc:1515] Unable to register cuBLAS factory: Attempting to register factory for plugin cuBLAS when one has already been registered\n",
      "2023-11-24 16:46:50.220285: I tensorflow/core/platform/cpu_feature_guard.cc:182] This TensorFlow binary is optimized to use available CPU instructions in performance-critical operations.\n",
      "To enable the following instructions: AVX2 FMA, in other operations, rebuild TensorFlow with the appropriate compiler flags.\n",
      "2023-11-24 16:46:50.813805: W tensorflow/compiler/tf2tensorrt/utils/py_utils.cc:38] TF-TRT Warning: Could not find TensorRT\n"
     ]
    }
   ],
   "source": [
    "%load_ext autoreload\n",
    "%autoreload 2\n",
    "\n",
    "import numpy as np\n",
    "from m3_learning.be.dataset import BE_Dataset\n",
    "from m3_learning.viz.printing import printer\n",
    "from m3_learning.be.nn import SHO_fit_func_nn, SHO_Model\n",
    "from m3_learning.util.file_IO import download_and_unzip\n"
   ]
  },
  {
   "cell_type": "markdown",
   "id": "29236116",
   "metadata": {
    "id": "Ol1F9fy7Mo1v"
   },
   "source": [
    "## Loading data for SHO fitting\n"
   ]
  },
  {
   "cell_type": "code",
   "execution_count": 5,
   "id": "e0f238cd",
   "metadata": {
    "colab": {
     "base_uri": "https://localhost:8080/",
     "height": 108
    },
    "id": "Or1SY2WdMrkA",
    "outputId": "796c070e-be63-43b5-96f0-e4c30b476c0c"
   },
   "outputs": [
    {
     "name": "stdout",
     "output_type": "stream",
     "text": [
      "Using files already downloaded\n"
     ]
    }
   ],
   "source": [
    "# Download the data file from Zenodo\n",
    "url = 'https://zenodo.org/record/7774788/files/PZT_2080_raw_data.h5?download=1'\n",
    "\n",
    "# Specify the filename and the path to save the file\n",
    "filename = '/data_raw_unmod copy.h5'\n",
    "save_path = './Data'\n",
    "\n",
    "# download the file\n",
    "download_and_unzip(filename, url, save_path)"
   ]
  },
  {
   "cell_type": "code",
   "execution_count": 6,
   "id": "d43b4c5d",
   "metadata": {},
   "outputs": [
    {
     "name": "stdout",
     "output_type": "stream",
     "text": [
      "/\n",
      "├ Measurement_000\n",
      "  ---------------\n",
      "  ├ Channel_000\n",
      "    -----------\n",
      "    ├ Bin_FFT\n",
      "    ├ Bin_Frequencies\n",
      "    ├ Bin_Indices\n",
      "    ├ Bin_Step\n",
      "    ├ Bin_Wfm_Type\n",
      "    ├ Excitation_Waveform\n",
      "    ├ Noise_Floor\n",
      "    ├ Position_Indices\n",
      "    ├ Position_Values\n",
      "    ├ Raw_Data\n",
      "    ├ Spatially_Averaged_Plot_Group_000\n",
      "      ---------------------------------\n",
      "      ├ Bin_Frequencies\n",
      "      ├ Max_Response\n",
      "      ├ Mean_Spectrogram\n",
      "      ├ Min_Response\n",
      "      ├ Spectroscopic_Parameter\n",
      "      ├ Step_Averaged_Response\n",
      "    ├ Spatially_Averaged_Plot_Group_001\n",
      "      ---------------------------------\n",
      "      ├ Bin_Frequencies\n",
      "      ├ Max_Response\n",
      "      ├ Mean_Spectrogram\n",
      "      ├ Min_Response\n",
      "      ├ Spectroscopic_Parameter\n",
      "      ├ Step_Averaged_Response\n",
      "    ├ Spectroscopic_Indices\n",
      "    ├ Spectroscopic_Values\n",
      "    ├ UDVS\n",
      "    ├ UDVS_Indices\n",
      "  ├ Noisy_Data_1\n",
      "  ├ Noisy_Data_2\n",
      "  ├ Noisy_Data_3\n",
      "  ├ Noisy_Data_4\n",
      "  ├ Noisy_Data_5\n",
      "  ├ Noisy_Data_6\n",
      "  ├ Noisy_Data_7\n",
      "  ├ Noisy_Data_8\n",
      "  ├ Position_Indices\n",
      "  ├ Position_Values\n",
      "├ Raw_Data-SHO_Fit_000\n",
      "  --------------------\n",
      "  ├ Fit\n",
      "  ├ Guess\n",
      "  ├ Spectroscopic_Indices\n",
      "  ├ Spectroscopic_Values\n",
      "  ├ completed_fit_positions\n",
      "  ├ completed_guess_positions\n",
      "Datasets and datagroups within the file:\n",
      "------------------------------------\n",
      "/\n",
      "/Measurement_000\n",
      "/Measurement_000/Channel_000\n",
      "/Measurement_000/Channel_000/Bin_FFT\n",
      "/Measurement_000/Channel_000/Bin_Frequencies\n",
      "/Measurement_000/Channel_000/Bin_Indices\n",
      "/Measurement_000/Channel_000/Bin_Step\n",
      "/Measurement_000/Channel_000/Bin_Wfm_Type\n",
      "/Measurement_000/Channel_000/Excitation_Waveform\n",
      "/Measurement_000/Channel_000/Noise_Floor\n",
      "/Measurement_000/Channel_000/Position_Indices\n",
      "/Measurement_000/Channel_000/Position_Values\n",
      "/Measurement_000/Channel_000/Raw_Data\n",
      "/Measurement_000/Channel_000/Spatially_Averaged_Plot_Group_000\n",
      "/Measurement_000/Channel_000/Spatially_Averaged_Plot_Group_000/Bin_Frequencies\n",
      "/Measurement_000/Channel_000/Spatially_Averaged_Plot_Group_000/Max_Response\n",
      "/Measurement_000/Channel_000/Spatially_Averaged_Plot_Group_000/Mean_Spectrogram\n",
      "/Measurement_000/Channel_000/Spatially_Averaged_Plot_Group_000/Min_Response\n",
      "/Measurement_000/Channel_000/Spatially_Averaged_Plot_Group_000/Spectroscopic_Parameter\n",
      "/Measurement_000/Channel_000/Spatially_Averaged_Plot_Group_000/Step_Averaged_Response\n",
      "/Measurement_000/Channel_000/Spatially_Averaged_Plot_Group_001\n",
      "/Measurement_000/Channel_000/Spatially_Averaged_Plot_Group_001/Bin_Frequencies\n",
      "/Measurement_000/Channel_000/Spatially_Averaged_Plot_Group_001/Max_Response\n",
      "/Measurement_000/Channel_000/Spatially_Averaged_Plot_Group_001/Mean_Spectrogram\n",
      "/Measurement_000/Channel_000/Spatially_Averaged_Plot_Group_001/Min_Response\n",
      "/Measurement_000/Channel_000/Spatially_Averaged_Plot_Group_001/Spectroscopic_Parameter\n",
      "/Measurement_000/Channel_000/Spatially_Averaged_Plot_Group_001/Step_Averaged_Response\n",
      "/Measurement_000/Channel_000/Spectroscopic_Indices\n",
      "/Measurement_000/Channel_000/Spectroscopic_Values\n",
      "/Measurement_000/Channel_000/UDVS\n",
      "/Measurement_000/Channel_000/UDVS_Indices\n",
      "/Measurement_000/Noisy_Data_1\n",
      "/Measurement_000/Noisy_Data_2\n",
      "/Measurement_000/Noisy_Data_3\n",
      "/Measurement_000/Noisy_Data_4\n",
      "/Measurement_000/Noisy_Data_5\n",
      "/Measurement_000/Noisy_Data_6\n",
      "/Measurement_000/Noisy_Data_7\n",
      "/Measurement_000/Noisy_Data_8\n",
      "/Measurement_000/Position_Indices\n",
      "/Measurement_000/Position_Values\n",
      "/Raw_Data-SHO_Fit_000\n",
      "/Raw_Data-SHO_Fit_000/Fit\n",
      "/Raw_Data-SHO_Fit_000/Guess\n",
      "/Raw_Data-SHO_Fit_000/Spectroscopic_Indices\n",
      "/Raw_Data-SHO_Fit_000/Spectroscopic_Values\n",
      "/Raw_Data-SHO_Fit_000/completed_fit_positions\n",
      "/Raw_Data-SHO_Fit_000/completed_guess_positions\n",
      "\n",
      "The main dataset:\n",
      "------------------------------------\n",
      "<HDF5 file \"data_raw_unmod copy.h5\" (mode r+)>\n",
      "\n",
      "The ancillary datasets:\n",
      "------------------------------------\n",
      "<HDF5 dataset \"Position_Indices\": shape (3600, 2), type \"<u4\">\n",
      "<HDF5 dataset \"Position_Values\": shape (3600, 2), type \"<f4\">\n",
      "<HDF5 dataset \"Spectroscopic_Indices\": shape (4, 63360), type \"<u4\">\n",
      "<HDF5 dataset \"Spectroscopic_Values\": shape (4, 63360), type \"<f4\">\n",
      "\n",
      "Metadata or attributes in a datagroup\n",
      "------------------------------------\n",
      "BE_actual_duration_[s] : 0.004\n",
      "BE_amplitude_[V] : 1\n",
      "BE_auto_smoothing : auto smoothing on\n",
      "BE_band_edge_smoothing_[s] : 4832.1\n",
      "BE_band_edge_trim : 0.094742\n",
      "BE_band_width_[Hz] : 200000\n",
      "BE_bins_per_band : 0\n",
      "BE_center_frequency_[Hz] : 1310000\n",
      "BE_desired_duration_[s] : 0.004\n",
      "BE_phase_content : chirp-sinc hybrid\n",
      "BE_phase_variation : 1\n",
      "BE_points_per_BE_wave : 0\n",
      "BE_repeats : 4\n",
      "FORC_V_high1_[V] : 1\n",
      "FORC_V_high2_[V] : 10\n",
      "FORC_V_low1_[V] : -1\n",
      "FORC_V_low2_[V] : -10\n",
      "FORC_num_of_FORC_cycles : 1\n",
      "FORC_num_of_FORC_repeats : 1\n",
      "File_MDAQ_version : MDAQ_VS_090915_01\n",
      "File_date_and_time : 18-Sep-2015 18:32:14\n",
      "File_file_name : SP128_NSO\n",
      "File_file_path : C:\\Users\\Asylum User\\Documents\\Users\\Agar\\SP128_NSO\\\n",
      "File_file_suffix : 99\n",
      "IO_AO_amplifier : 10\n",
      "IO_AO_range_[V] : +/- 10\n",
      "IO_Analog_Input_1 : +/- .1V, FFT\n",
      "IO_Analog_Input_2 : off\n",
      "IO_Analog_Input_3 : off\n",
      "IO_Analog_Input_4 : off\n",
      "IO_DAQ_platform : NI 6115\n",
      "IO_rate_[Hz] : 4000000\n",
      "VS_amplitude_[V] : 16\n",
      "VS_cycle_fraction : full\n",
      "VS_cycle_phase_shift : 0\n",
      "VS_measure_in_field_loops : in and out-of-field\n",
      "VS_mode : DC modulation mode\n",
      "VS_number_of_cycles : 2\n",
      "VS_offset_[V] : 0\n",
      "VS_read_voltage_[V] : 0\n",
      "VS_set_pulse_amplitude[V] : 0\n",
      "VS_set_pulse_duration[s] : 0.002\n",
      "VS_step_edge_smoothing_[s] : 0.001\n",
      "VS_steps_per_full_cycle : 96\n",
      "data_type : BEPSData\n",
      "grid_/single : grid\n",
      "grid_contact_set_point_[V] : 1\n",
      "grid_current_col : 1\n",
      "grid_current_row : 1\n",
      "grid_cycle_time_[s] : 10\n",
      "grid_measuring : 0\n",
      "grid_moving : 0\n",
      "grid_num_cols : 60\n",
      "grid_num_rows : 60\n",
      "grid_settle_time_[s] : 0.15\n",
      "grid_time_remaining_[h;m;s] : 10\n",
      "grid_total_time_[h;m;s] : 10\n",
      "grid_transit_set_point_[V] : 0.1\n",
      "grid_transit_time_[s] : 0.15\n",
      "num_bins : 165\n",
      "num_pix : 3600\n",
      "num_udvs_steps : 384\n"
     ]
    }
   ],
   "source": [
    "data_path = save_path + '/' + filename\n",
    "\n",
    "# instantiate the dataset object\n",
    "#TODO: add resample_bins=None as default\n",
    "#TODO: add to channel resample\n",
    "dataset = BE_Dataset(data_path)\n",
    "\n",
    "# print the contents of the file\n",
    "dataset.print_be_tree()"
   ]
  },
  {
   "cell_type": "code",
   "execution_count": 7,
   "metadata": {},
   "outputs": [
    {
     "name": "stderr",
     "output_type": "stream",
     "text": [
      "/home/ferroelectric/micromamba/envs/paper/lib/python3.10/site-packages/sidpy/sid/translator.py:42: FutureWarning: Consider using sidpy.Reader instead of sidpy.Translator if possible and contribute your reader to ScopeReaders\n",
      "  warn('Consider using sidpy.Reader instead of sidpy.Translator if '\n",
      "/home/ferroelectric/micromamba/envs/paper/lib/python3.10/site-packages/BGlib/be/translators/labview_h5_patcher.py:134: UserWarning: 'channel_type' was not found as an attribute of /Measurement_000/Channel_000.\n",
      "If this is BEPS or BELine data from the LabView aquisition software, please run the following piece of code.  Afterwards, run this function again.\n",
      "CODE: hdf.file['/Measurement_000/Channel_000'].attrs['channel_type'] = 'BE'\n",
      "  warn(warn_str)\n"
     ]
    },
    {
     "data": {
      "text/plain": [
       "'./Data//data_raw_unmod copy.h5'"
      ]
     },
     "execution_count": 7,
     "metadata": {},
     "output_type": "execute_result"
    }
   ],
   "source": [
    "from BGlib import be as belib\n",
    "tl = belib.translators.LabViewH5Patcher()\n",
    "tl.translate(dataset.file, force_patch=True)"
   ]
  },
  {
   "cell_type": "markdown",
   "metadata": {},
   "source": [
    "## Generates Noisy Data\n",
    "\n",
    "This function will generate noisy records and save them as an h5_main file in the USID format. This allows the data to be computed with the Pycroscopy SHO Fitter. "
   ]
  },
  {
   "cell_type": "code",
   "execution_count": 6,
   "metadata": {},
   "outputs": [],
   "source": [
    "noise_STD = np.std(dataset.get_original_data)"
   ]
  },
  {
   "cell_type": "code",
   "execution_count": 7,
   "metadata": {},
   "outputs": [
    {
     "name": "stdout",
     "output_type": "stream",
     "text": [
      "0.0038833667\n"
     ]
    }
   ],
   "source": [
    "print(noise_STD)"
   ]
  },
  {
   "cell_type": "code",
   "execution_count": 8,
   "metadata": {},
   "outputs": [
    {
     "name": "stdout",
     "output_type": "stream",
     "text": [
      "True\n",
      "<HDF5 dataset \"Position_Indices\": shape (3600, 2), type \"<u4\">\n"
     ]
    }
   ],
   "source": [
    "import h5py\n",
    "import pyUSID as usid\n",
    "\n",
    "with h5py.File(dataset.file, \"r+\") as h5_f:\n",
    "    h5_main = usid.hdf_utils.find_dataset(h5_f, \"Raw_Data\")[0]\n",
    "    print(usid.hdf_utils.check_if_main(h5_main))\n",
    "    print(h5_main.h5_pos_inds)\n",
    "\n"
   ]
  },
  {
   "cell_type": "code",
   "execution_count": 9,
   "metadata": {},
   "outputs": [
    {
     "name": "stdout",
     "output_type": "stream",
     "text": [
      "The STD of the data is: 0.0038833667058497667\n",
      "Adding noise level 1\n"
     ]
    },
    {
     "ename": "TypeError",
     "evalue": "Position dimensions should be array-like of Dimension objects",
     "output_type": "error",
     "traceback": [
      "\u001b[0;31m---------------------------------------------------------------------------\u001b[0m",
      "\u001b[0;31mTypeError\u001b[0m                                 Traceback (most recent call last)",
      "\u001b[1;32m/home/ferroelectric/Documents/m3_learning/m3_learning/papers/2023_Rapid_Fitting/0_5_Noisy_Data_and_Fitting.ipynb Cell 13\u001b[0m line \u001b[0;36m1\n\u001b[0;32m----> <a href='vscode-notebook-cell://ssh-remote%2B10.248.36.21/home/ferroelectric/Documents/m3_learning/m3_learning/papers/2023_Rapid_Fitting/0_5_Noisy_Data_and_Fitting.ipynb#X15sdnNjb2RlLXJlbW90ZQ%3D%3D?line=0'>1</a>\u001b[0m dataset\u001b[39m.\u001b[39;49mgenerate_noisy_data_records(noise_levels \u001b[39m=\u001b[39;49m np\u001b[39m.\u001b[39;49marange(\u001b[39m1\u001b[39;49m,\u001b[39m9\u001b[39;49m), \n\u001b[1;32m      <a href='vscode-notebook-cell://ssh-remote%2B10.248.36.21/home/ferroelectric/Documents/m3_learning/m3_learning/papers/2023_Rapid_Fitting/0_5_Noisy_Data_and_Fitting.ipynb#X15sdnNjb2RlLXJlbW90ZQ%3D%3D?line=1'>2</a>\u001b[0m                                     verbose\u001b[39m=\u001b[39;49m\u001b[39mTrue\u001b[39;49;00m, \n\u001b[1;32m      <a href='vscode-notebook-cell://ssh-remote%2B10.248.36.21/home/ferroelectric/Documents/m3_learning/m3_learning/papers/2023_Rapid_Fitting/0_5_Noisy_Data_and_Fitting.ipynb#X15sdnNjb2RlLXJlbW90ZQ%3D%3D?line=2'>3</a>\u001b[0m                                     noise_STD\u001b[39m=\u001b[39;49mnoise_STD)\n",
      "File \u001b[0;32m~/Documents/m3_learning/m3_learning/src/m3_learning/be/dataset.py:201\u001b[0m, in \u001b[0;36mBE_Dataset.generate_noisy_data_records\u001b[0;34m(self, noise_levels, basegroup, verbose, noise_STD)\u001b[0m\n\u001b[1;32m    198\u001b[0m h5_main \u001b[39m=\u001b[39m usid\u001b[39m.\u001b[39mhdf_utils\u001b[39m.\u001b[39mfind_dataset(h5_f, \u001b[39m\"\u001b[39m\u001b[39mRaw_Data\u001b[39m\u001b[39m\"\u001b[39m)[\u001b[39m0\u001b[39m]\n\u001b[1;32m    200\u001b[0m \u001b[39m# writes the noise record to the pyUSID file\u001b[39;00m\n\u001b[0;32m--> 201\u001b[0m usid\u001b[39m.\u001b[39;49mhdf_utils\u001b[39m.\u001b[39;49mwrite_main_dataset(h5_f[basegroup],  \u001b[39m# parent group\u001b[39;49;00m\n\u001b[1;32m    202\u001b[0m                                   data,  \u001b[39m# data to be written\u001b[39;49;00m\n\u001b[1;32m    203\u001b[0m                                   \u001b[39mf\u001b[39;49m\u001b[39m'\u001b[39;49m\u001b[39mNoisy_Data_\u001b[39;49m\u001b[39m{\u001b[39;49;00mnoise_level\u001b[39m}\u001b[39;49;00m\u001b[39m'\u001b[39;49m, \u001b[39m# Name of the main dataset\u001b[39;49;00m\n\u001b[1;32m    204\u001b[0m                                   \u001b[39m'\u001b[39;49m\u001b[39mPiezoresponse\u001b[39;49m\u001b[39m'\u001b[39;49m,  \u001b[39m# quantity\u001b[39;49;00m\n\u001b[1;32m    205\u001b[0m                                   \u001b[39m'\u001b[39;49m\u001b[39mV\u001b[39;49m\u001b[39m'\u001b[39;49m,  \u001b[39m# units\u001b[39;49;00m\n\u001b[1;32m    206\u001b[0m                                   \u001b[39mNone\u001b[39;49;00m,  \u001b[39m# position dimensions\u001b[39;49;00m\n\u001b[1;32m    207\u001b[0m                                   \u001b[39mNone\u001b[39;49;00m,  \u001b[39m# spectroscopic dimensions\u001b[39;49;00m\n\u001b[1;32m    208\u001b[0m                                   h5_pos_ind\u001b[39m=\u001b[39;49mh5_main\u001b[39m.\u001b[39;49mh5_pos_inds,\n\u001b[1;32m    209\u001b[0m                                   h5_pos_vals\u001b[39m=\u001b[39;49mh5_main\u001b[39m.\u001b[39;49mh5_pos_vals,\n\u001b[1;32m    210\u001b[0m                                   h5_spec_inds\u001b[39m=\u001b[39;49mh5_main\u001b[39m.\u001b[39;49mh5_spec_inds,\n\u001b[1;32m    211\u001b[0m                                   h5_spec_vals\u001b[39m=\u001b[39;49mh5_main\u001b[39m.\u001b[39;49mh5_spec_vals,\n\u001b[1;32m    212\u001b[0m                                   dtype\u001b[39m=\u001b[39;49mnp\u001b[39m.\u001b[39;49mcomplex64,\n\u001b[1;32m    213\u001b[0m                                   compression\u001b[39m=\u001b[39;49m\u001b[39m'\u001b[39;49m\u001b[39mgzip\u001b[39;49m\u001b[39m'\u001b[39;49m)\n",
      "File \u001b[0;32m~/micromamba/envs/paper/lib/python3.10/site-packages/pyUSID/io/hdf_utils/model.py:866\u001b[0m, in \u001b[0;36mwrite_main_dataset\u001b[0;34m(h5_parent_group, main_data, main_data_name, quantity, units, pos_dims, spec_dims, main_dset_attrs, h5_pos_inds, h5_pos_vals, h5_spec_inds, h5_spec_vals, aux_spec_prefix, aux_pos_prefix, verbose, slow_to_fast, **kwargs)\u001b[0m\n\u001b[1;32m    864\u001b[0m \u001b[39melse\u001b[39;00m:\n\u001b[1;32m    865\u001b[0m     aux_pos_prefix \u001b[39m=\u001b[39m __check_anc_before_creation(aux_pos_prefix, dim_type\u001b[39m=\u001b[39m\u001b[39m'\u001b[39m\u001b[39mpos\u001b[39m\u001b[39m'\u001b[39m)\n\u001b[0;32m--> 866\u001b[0m     pos_dims \u001b[39m=\u001b[39m validate_dimensions(pos_dims, dim_type\u001b[39m=\u001b[39;49m\u001b[39m'\u001b[39;49m\u001b[39mPosition\u001b[39;49m\u001b[39m'\u001b[39;49m)\n\u001b[1;32m    867\u001b[0m     validate_dims_against_main(main_shape, pos_dims, is_spectroscopic\u001b[39m=\u001b[39m\u001b[39mFalse\u001b[39;00m)\n\u001b[1;32m    868\u001b[0m     \u001b[39mif\u001b[39;00m verbose:\n",
      "File \u001b[0;32m~/micromamba/envs/paper/lib/python3.10/site-packages/pyUSID/io/dimension.py:150\u001b[0m, in \u001b[0;36mvalidate_dimensions\u001b[0;34m(dimensions, dim_type)\u001b[0m\n\u001b[1;32m    148\u001b[0m         warn(dim_type \u001b[39m+\u001b[39m \u001b[39m'\u001b[39m\u001b[39m dimensions should be specified by a 1D array-like. Raveled this numpy array for now\u001b[39m\u001b[39m'\u001b[39m)\n\u001b[1;32m    149\u001b[0m \u001b[39mif\u001b[39;00m \u001b[39mnot\u001b[39;00m \u001b[39misinstance\u001b[39m(dimensions, (\u001b[39mlist\u001b[39m, np\u001b[39m.\u001b[39mndarray, \u001b[39mtuple\u001b[39m)):\n\u001b[0;32m--> 150\u001b[0m     \u001b[39mraise\u001b[39;00m \u001b[39mTypeError\u001b[39;00m(dim_type \u001b[39m+\u001b[39m \u001b[39m'\u001b[39m\u001b[39m dimensions should be array-like of Dimension objects\u001b[39m\u001b[39m'\u001b[39m)\n\u001b[1;32m    151\u001b[0m \u001b[39mif\u001b[39;00m \u001b[39mnot\u001b[39;00m np\u001b[39m.\u001b[39mall([\u001b[39misinstance\u001b[39m(x, Dimension) \u001b[39mfor\u001b[39;00m x \u001b[39min\u001b[39;00m dimensions]):\n\u001b[1;32m    152\u001b[0m     \u001b[39mraise\u001b[39;00m \u001b[39mTypeError\u001b[39;00m(dim_type \u001b[39m+\u001b[39m \u001b[39m'\u001b[39m\u001b[39m dimensions should be a sequence of Dimension objects\u001b[39m\u001b[39m'\u001b[39m)\n",
      "\u001b[0;31mTypeError\u001b[0m: Position dimensions should be array-like of Dimension objects"
     ]
    }
   ],
   "source": [
    "dataset.generate_noisy_data_records(noise_levels = np.arange(1,9), \n",
    "                                    verbose=True, \n",
    "                                    noise_STD=noise_STD)"
   ]
  },
  {
   "cell_type": "markdown",
   "metadata": {},
   "source": [
    "## SHO fits on all the datasets\n",
    "\n",
    "This will take some time, Each fit takes about 10 minutes to complete. "
   ]
  },
  {
   "cell_type": "code",
   "execution_count": 8,
   "metadata": {},
   "outputs": [
    {
     "name": "stdout",
     "output_type": "stream",
     "text": [
      "Fitting Noisy_Data_1\n",
      "Working on:\n",
      "./Data//data_raw_unmod copy.h5\n",
      "['Y', 'X'] [60, 60]\n"
     ]
    },
    {
     "ename": "KeyError",
     "evalue": "\"'VS_mode' is not an attribute in '/'\"",
     "output_type": "error",
     "traceback": [
      "\u001b[0;31m---------------------------------------------------------------------------\u001b[0m",
      "\u001b[0;31mKeyError\u001b[0m                                  Traceback (most recent call last)",
      "\u001b[1;32m/home/ferroelectric/Documents/m3_learning/m3_learning/papers/2023_Rapid_Fitting/0_5_Noisy_Data_and_Fitting.ipynb Cell 15\u001b[0m line \u001b[0;36m6\n\u001b[1;32m      <a href='vscode-notebook-cell://ssh-remote%2B10.248.36.21/home/ferroelectric/Documents/m3_learning/m3_learning/papers/2023_Rapid_Fitting/0_5_Noisy_Data_and_Fitting.ipynb#X20sdnNjb2RlLXJlbW90ZQ%3D%3D?line=3'>4</a>\u001b[0m \u001b[39mfor\u001b[39;00m data \u001b[39min\u001b[39;00m out:\n\u001b[1;32m      <a href='vscode-notebook-cell://ssh-remote%2B10.248.36.21/home/ferroelectric/Documents/m3_learning/m3_learning/papers/2023_Rapid_Fitting/0_5_Noisy_Data_and_Fitting.ipynb#X20sdnNjb2RlLXJlbW90ZQ%3D%3D?line=4'>5</a>\u001b[0m     \u001b[39mprint\u001b[39m(\u001b[39mf\u001b[39m\u001b[39m\"\u001b[39m\u001b[39mFitting \u001b[39m\u001b[39m{\u001b[39;00mdata\u001b[39m}\u001b[39;00m\u001b[39m\"\u001b[39m)\n\u001b[0;32m----> <a href='vscode-notebook-cell://ssh-remote%2B10.248.36.21/home/ferroelectric/Documents/m3_learning/m3_learning/papers/2023_Rapid_Fitting/0_5_Noisy_Data_and_Fitting.ipynb#X20sdnNjb2RlLXJlbW90ZQ%3D%3D?line=5'>6</a>\u001b[0m     dataset\u001b[39m.\u001b[39;49mSHO_Fitter(dataset \u001b[39m=\u001b[39;49m data, h5_sho_targ_grp \u001b[39m=\u001b[39;49m \u001b[39mf\u001b[39;49m\u001b[39m\"\u001b[39;49m\u001b[39m{\u001b[39;49;00mdata\u001b[39m}\u001b[39;49;00m\u001b[39m_SHO_Fit\u001b[39;49m\u001b[39m\"\u001b[39;49m, max_mem\u001b[39m=\u001b[39;49m\u001b[39m1024\u001b[39;49m\u001b[39m*\u001b[39;49m\u001b[39m64\u001b[39;49m, max_cores\u001b[39m=\u001b[39;49m \u001b[39m20\u001b[39;49m)\n",
      "File \u001b[0;32m~/Documents/m3_learning/m3_learning/src/m3_learning/be/dataset.py:480\u001b[0m, in \u001b[0;36mBE_Dataset.SHO_Fitter\u001b[0;34m(self, force, max_cores, max_mem, dataset, h5_sho_targ_grp)\u001b[0m\n\u001b[1;32m    477\u001b[0m     num_fields \u001b[39m=\u001b[39m \u001b[39m2\u001b[39m\n\u001b[1;32m    479\u001b[0m \u001b[39mif\u001b[39;00m expt_type \u001b[39m!=\u001b[39m \u001b[39m\"\u001b[39m\u001b[39mBELineData\u001b[39m\u001b[39m\"\u001b[39m:\n\u001b[0;32m--> 480\u001b[0m     vs_mode \u001b[39m=\u001b[39m usid\u001b[39m.\u001b[39;49mhdf_utils\u001b[39m.\u001b[39;49mget_attr(h5_meas_grp, \u001b[39m\"\u001b[39;49m\u001b[39mVS_mode\u001b[39;49m\u001b[39m\"\u001b[39;49m)\n\u001b[1;32m    481\u001b[0m     \u001b[39mtry\u001b[39;00m:\n\u001b[1;32m    482\u001b[0m         field_mode \u001b[39m=\u001b[39m usid\u001b[39m.\u001b[39mhdf_utils\u001b[39m.\u001b[39mget_attr(\n\u001b[1;32m    483\u001b[0m             h5_meas_grp, \u001b[39m\"\u001b[39m\u001b[39mVS_measure_in_field_loops\u001b[39m\u001b[39m\"\u001b[39m)\n",
      "File \u001b[0;32m~/micromamba/envs/paper/lib/python3.10/site-packages/sidpy/hdf/hdf_utils.py:125\u001b[0m, in \u001b[0;36mget_attr\u001b[0;34m(h5_object, attr_name)\u001b[0m\n\u001b[1;32m    122\u001b[0m attr_name \u001b[39m=\u001b[39m validate_single_string_arg(attr_name, \u001b[39m'\u001b[39m\u001b[39mattr_name\u001b[39m\u001b[39m'\u001b[39m)\n\u001b[1;32m    124\u001b[0m \u001b[39mif\u001b[39;00m attr_name \u001b[39mnot\u001b[39;00m \u001b[39min\u001b[39;00m h5_object\u001b[39m.\u001b[39mattrs\u001b[39m.\u001b[39mkeys():\n\u001b[0;32m--> 125\u001b[0m     \u001b[39mraise\u001b[39;00m \u001b[39mKeyError\u001b[39;00m(\u001b[39m\"\u001b[39m\u001b[39m'\u001b[39m\u001b[39m{}\u001b[39;00m\u001b[39m'\u001b[39m\u001b[39m is not an attribute in \u001b[39m\u001b[39m'\u001b[39m\u001b[39m{}\u001b[39;00m\u001b[39m'\u001b[39m\u001b[39m\"\u001b[39m\u001b[39m.\u001b[39mformat(attr_name, h5_object\u001b[39m.\u001b[39mname))\n\u001b[1;32m    127\u001b[0m h5py_major \u001b[39m=\u001b[39m \u001b[39mint\u001b[39m(h5py\u001b[39m.\u001b[39m__version__\u001b[39m.\u001b[39msplit(\u001b[39m'\u001b[39m\u001b[39m.\u001b[39m\u001b[39m'\u001b[39m)[\u001b[39m0\u001b[39m])\n\u001b[1;32m    129\u001b[0m att_val \u001b[39m=\u001b[39m h5_object\u001b[39m.\u001b[39mattrs\u001b[39m.\u001b[39mget(attr_name)\n",
      "\u001b[0;31mKeyError\u001b[0m: \"'VS_mode' is not an attribute in '/'\""
     ]
    }
   ],
   "source": [
    "out = [f\"Noisy_Data_{i}\" for i in np.arange(1,9)]\n",
    "out.append(\"Raw_Data\")\n",
    "\n",
    "for data in out:\n",
    "    print(f\"Fitting {data}\")\n",
    "    dataset.SHO_Fitter(dataset = data, h5_sho_targ_grp = f\"{data}_SHO_Fit\", max_mem=1024*64, max_cores= 20)"
   ]
  },
  {
   "cell_type": "markdown",
   "metadata": {},
   "source": [
    "### Checks the results to make sure it was saved correctly"
   ]
  },
  {
   "cell_type": "code",
   "execution_count": null,
   "metadata": {},
   "outputs": [],
   "source": [
    "# print the contents of the file\n",
    "dataset.print_be_tree()"
   ]
  },
  {
   "cell_type": "code",
   "execution_count": null,
   "metadata": {},
   "outputs": [],
   "source": []
  }
 ],
 "metadata": {
  "kernelspec": {
   "display_name": "SHOfit",
   "language": "python",
   "name": "python3"
  },
  "language_info": {
   "codemirror_mode": {
    "name": "ipython",
    "version": 3
   },
   "file_extension": ".py",
   "mimetype": "text/x-python",
   "name": "python",
   "nbconvert_exporter": "python",
   "pygments_lexer": "ipython3",
   "version": "3.10.13"
  }
 },
 "nbformat": 4,
 "nbformat_minor": 2
}
