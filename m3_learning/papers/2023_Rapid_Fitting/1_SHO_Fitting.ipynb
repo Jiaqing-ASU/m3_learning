{
 "cells": [
  {
   "cell_type": "markdown",
   "id": "72de52f2",
   "metadata": {},
   "source": [
    "# SHO Fitting Data"
   ]
  },
  {
   "cell_type": "markdown",
   "id": "e7711a85",
   "metadata": {},
   "source": [
    "## Import Packages"
   ]
  },
  {
   "cell_type": "code",
   "execution_count": 2,
   "id": "f5c36aed",
   "metadata": {},
   "outputs": [],
   "source": [
    "import sys\n",
    "sys.path.append('../../')\n",
    "sys.path.append('C:\\codes\\m3_learning\\m3_learning\\src')"
   ]
  },
  {
   "cell_type": "code",
   "execution_count": 3,
   "id": "a6feb316",
   "metadata": {},
   "outputs": [
    {
     "name": "stdout",
     "output_type": "stream",
     "text": [
      "The autoreload extension is already loaded. To reload it, use:\n",
      "  %reload_ext autoreload\n",
      "printing set for seaborn\n",
      "Pytorch seed was set to 42\n",
      "Numpy seed was set to 42\n",
      "tensorflow seed was set to 42\n"
     ]
    }
   ],
   "source": [
    "# For the notebook to work you must have m3_learning installed\n",
    "# pip install m3_learning\n",
    "%load_ext autoreload\n",
    "%autoreload 2\n",
    "\n",
    "import numpy as np\n",
    "\n",
    "from m3_learning.nn.random import random_seed\n",
    "from m3_learning.viz.style import set_style\n",
    "from m3_learning.util.file_IO import download_and_unzip\n",
    "from m3_learning.viz.printing import printer\n",
    "from m3_learning.be.viz import Viz\n",
    "from m3_learning.be.dataset import BE_Dataset\n",
    "from IPython.display import Video\n",
    "\n",
    "\n",
    "# from m3_learning.be.dataset import BE_Dataset\n",
    "printing = printer(basepath = './Figures/')\n",
    "\n",
    "set_style(\"printing\")\n",
    "random_seed(seed=42)\n",
    "\n",
    "%matplotlib inline"
   ]
  },
  {
   "cell_type": "markdown",
   "id": "29236116",
   "metadata": {
    "id": "Ol1F9fy7Mo1v"
   },
   "source": [
    "## Loading data for SHO fitting\n"
   ]
  },
  {
   "cell_type": "code",
   "execution_count": 4,
   "id": "e0f238cd",
   "metadata": {
    "colab": {
     "base_uri": "https://localhost:8080/",
     "height": 108
    },
    "id": "Or1SY2WdMrkA",
    "outputId": "796c070e-be63-43b5-96f0-e4c30b476c0c"
   },
   "outputs": [
    {
     "name": "stdout",
     "output_type": "stream",
     "text": [
      "downloading data\n",
      "...100%, 1663 MB, 647 KB/s, 2632 seconds passed"
     ]
    }
   ],
   "source": [
    "# Download the data file from Zenodo\n",
    "url = 'https://zenodo.org/record/7774788/files/PZT_2080_raw_data.h5?download=1'\n",
    "\n",
    "# Specify the filename and the path to save the file\n",
    "filename = 'data_raw_unmod.h5'\n",
    "save_path = './Data'\n",
    "\n",
    "# download the file\n",
    "download_and_unzip(filename, url, save_path)"
   ]
  },
  {
   "cell_type": "code",
   "execution_count": 5,
   "id": "d43b4c5d",
   "metadata": {},
   "outputs": [
    {
     "name": "stdout",
     "output_type": "stream",
     "text": [
      "/\n",
      "├ Measurement_000\n",
      "  ---------------\n",
      "  ├ Channel_000\n",
      "    -----------\n",
      "    ├ Bin_FFT\n",
      "    ├ Bin_Frequencies\n",
      "    ├ Bin_Indices\n",
      "    ├ Bin_Step\n",
      "    ├ Bin_Wfm_Type\n",
      "    ├ Excitation_Waveform\n",
      "    ├ Noise_Floor\n",
      "    ├ Position_Indices\n",
      "    ├ Position_Values\n",
      "    ├ Raw_Data\n",
      "    ├ Spatially_Averaged_Plot_Group_000\n",
      "      ---------------------------------\n",
      "      ├ Bin_Frequencies\n",
      "      ├ Max_Response\n",
      "      ├ Mean_Spectrogram\n",
      "      ├ Min_Response\n",
      "      ├ Spectroscopic_Parameter\n",
      "      ├ Step_Averaged_Response\n",
      "    ├ Spatially_Averaged_Plot_Group_001\n",
      "      ---------------------------------\n",
      "      ├ Bin_Frequencies\n",
      "      ├ Max_Response\n",
      "      ├ Mean_Spectrogram\n",
      "      ├ Min_Response\n",
      "      ├ Spectroscopic_Parameter\n",
      "      ├ Step_Averaged_Response\n",
      "    ├ Spectroscopic_Indices\n",
      "    ├ Spectroscopic_Values\n",
      "    ├ UDVS\n",
      "    ├ UDVS_Indices\n",
      "Datasets and datagroups within the file:\n",
      "------------------------------------\n",
      "/\n",
      "/Measurement_000\n",
      "/Measurement_000/Channel_000\n",
      "/Measurement_000/Channel_000/Bin_FFT\n",
      "/Measurement_000/Channel_000/Bin_Frequencies\n",
      "/Measurement_000/Channel_000/Bin_Indices\n",
      "/Measurement_000/Channel_000/Bin_Step\n",
      "/Measurement_000/Channel_000/Bin_Wfm_Type\n",
      "/Measurement_000/Channel_000/Excitation_Waveform\n",
      "/Measurement_000/Channel_000/Noise_Floor\n",
      "/Measurement_000/Channel_000/Position_Indices\n",
      "/Measurement_000/Channel_000/Position_Values\n",
      "/Measurement_000/Channel_000/Raw_Data\n",
      "/Measurement_000/Channel_000/Spatially_Averaged_Plot_Group_000\n",
      "/Measurement_000/Channel_000/Spatially_Averaged_Plot_Group_000/Bin_Frequencies\n",
      "/Measurement_000/Channel_000/Spatially_Averaged_Plot_Group_000/Max_Response\n",
      "/Measurement_000/Channel_000/Spatially_Averaged_Plot_Group_000/Mean_Spectrogram\n",
      "/Measurement_000/Channel_000/Spatially_Averaged_Plot_Group_000/Min_Response\n",
      "/Measurement_000/Channel_000/Spatially_Averaged_Plot_Group_000/Spectroscopic_Parameter\n",
      "/Measurement_000/Channel_000/Spatially_Averaged_Plot_Group_000/Step_Averaged_Response\n",
      "/Measurement_000/Channel_000/Spatially_Averaged_Plot_Group_001\n",
      "/Measurement_000/Channel_000/Spatially_Averaged_Plot_Group_001/Bin_Frequencies\n",
      "/Measurement_000/Channel_000/Spatially_Averaged_Plot_Group_001/Max_Response\n",
      "/Measurement_000/Channel_000/Spatially_Averaged_Plot_Group_001/Mean_Spectrogram\n",
      "/Measurement_000/Channel_000/Spatially_Averaged_Plot_Group_001/Min_Response\n",
      "/Measurement_000/Channel_000/Spatially_Averaged_Plot_Group_001/Spectroscopic_Parameter\n",
      "/Measurement_000/Channel_000/Spatially_Averaged_Plot_Group_001/Step_Averaged_Response\n",
      "/Measurement_000/Channel_000/Spectroscopic_Indices\n",
      "/Measurement_000/Channel_000/Spectroscopic_Values\n",
      "/Measurement_000/Channel_000/UDVS\n",
      "/Measurement_000/Channel_000/UDVS_Indices\n",
      "\n",
      "The main dataset:\n",
      "------------------------------------\n",
      "<HDF5 file \"data_raw_unmod.h5\" (mode r+)>\n",
      "\n",
      "The ancillary datasets:\n",
      "------------------------------------\n",
      "<HDF5 dataset \"Position_Indices\": shape (3600, 2), type \"<u4\">\n",
      "<HDF5 dataset \"Position_Values\": shape (3600, 2), type \"<f4\">\n",
      "<HDF5 dataset \"Spectroscopic_Indices\": shape (4, 63360), type \"<u4\">\n",
      "<HDF5 dataset \"Spectroscopic_Values\": shape (4, 63360), type \"<f4\">\n",
      "\n",
      "Metadata or attributes in a datagroup\n",
      "------------------------------------\n",
      "BE_actual_duration_[s] : 0.004\n",
      "BE_amplitude_[V] : 1\n",
      "BE_auto_smoothing : auto smoothing on\n",
      "BE_band_edge_smoothing_[s] : 4832.1\n",
      "BE_band_edge_trim : 0.094742\n",
      "BE_band_width_[Hz] : 200000\n",
      "BE_bins_per_band : 0\n",
      "BE_center_frequency_[Hz] : 1310000\n",
      "BE_desired_duration_[s] : 0.004\n",
      "BE_phase_content : chirp-sinc hybrid\n",
      "BE_phase_variation : 1\n",
      "BE_points_per_BE_wave : 0\n",
      "BE_repeats : 4\n",
      "FORC_V_high1_[V] : 1\n",
      "FORC_V_high2_[V] : 10\n",
      "FORC_V_low1_[V] : -1\n",
      "FORC_V_low2_[V] : -10\n",
      "FORC_num_of_FORC_cycles : 1\n",
      "FORC_num_of_FORC_repeats : 1\n",
      "File_MDAQ_version : MDAQ_VS_090915_01\n",
      "File_date_and_time : 18-Sep-2015 18:32:14\n",
      "File_file_name : SP128_NSO\n",
      "File_file_path : C:\\Users\\Asylum User\\Documents\\Users\\Agar\\SP128_NSO\\\n",
      "File_file_suffix : 99\n",
      "IO_AO_amplifier : 10\n",
      "IO_AO_range_[V] : +/- 10\n",
      "IO_Analog_Input_1 : +/- .1V, FFT\n",
      "IO_Analog_Input_2 : off\n",
      "IO_Analog_Input_3 : off\n",
      "IO_Analog_Input_4 : off\n",
      "IO_DAQ_platform : NI 6115\n",
      "IO_rate_[Hz] : 4000000\n",
      "VS_amplitude_[V] : 16\n",
      "VS_cycle_fraction : full\n",
      "VS_cycle_phase_shift : 0\n",
      "VS_measure_in_field_loops : in and out-of-field\n",
      "VS_mode : DC modulation mode\n",
      "VS_number_of_cycles : 2\n",
      "VS_offset_[V] : 0\n",
      "VS_read_voltage_[V] : 0\n",
      "VS_set_pulse_amplitude[V] : 0\n",
      "VS_set_pulse_duration[s] : 0.002\n",
      "VS_step_edge_smoothing_[s] : 0.001\n",
      "VS_steps_per_full_cycle : 96\n",
      "data_type : BEPSData\n",
      "grid_/single : grid\n",
      "grid_contact_set_point_[V] : 1\n",
      "grid_current_col : 1\n",
      "grid_current_row : 1\n",
      "grid_cycle_time_[s] : 10\n",
      "grid_measuring : 0\n",
      "grid_moving : 0\n",
      "grid_num_cols : 60\n",
      "grid_num_rows : 60\n",
      "grid_settle_time_[s] : 0.15\n",
      "grid_time_remaining_[h;m;s] : 10\n",
      "grid_total_time_[h;m;s] : 10\n",
      "grid_transit_set_point_[V] : 0.1\n",
      "grid_transit_time_[s] : 0.15\n",
      "num_bins : 165\n",
      "num_pix : 3600\n",
      "num_udvs_steps : 384\n"
     ]
    }
   ],
   "source": [
    "data_path = save_path + '/' + filename\n",
    "\n",
    "# instantiate the dataset object\n",
    "dataset = BE_Dataset(data_path)\n",
    "\n",
    "# print the contents of the file\n",
    "dataset.print_be_tree()"
   ]
  },
  {
   "attachments": {},
   "cell_type": "markdown",
   "id": "b3b50cb6",
   "metadata": {},
   "source": [
    "## Visualize Raw Data\n",
    "\n",
    "### Raw Cantilever Response\n"
   ]
  },
  {
   "cell_type": "code",
   "execution_count": 6,
   "id": "47e1262a",
   "metadata": {},
   "outputs": [],
   "source": [
    "# insatiate the visualization object\n",
    "image_scalebar = [2000, 500, \"nm\", \"br\"]\n",
    "\n",
    "BE_viz = Viz(dataset, printing, verbose=True, \n",
    "             SHO_ranges = [(0,1.5e-4), (1.31e6, 1.33e6), (-300, 300), (-np.pi, np.pi)], \n",
    "             image_scalebar = image_scalebar)"
   ]
  },
  {
   "cell_type": "code",
   "execution_count": 9,
   "id": "4d077092",
   "metadata": {},
   "outputs": [
    {
     "name": "stdout",
     "output_type": "stream",
     "text": [
      "True \n",
      "\n",
      "\n",
      "    Dataset = Raw_Data\n",
      "    Resample = False\n",
      "    Raw Format = complex\n",
      "    fitter = LSQF\n",
      "    scaled = False\n",
      "    Output Shape = pixels\n",
      "    Measurement State = all\n",
      "    Resample Resampled = False\n",
      "    Resample Bins = 165\n",
      "    LSQF Phase Shift = None\n",
      "    NN Phase Shift = None\n",
      "    Noise Level = 0\n",
      "    loop interpolated = False\n",
      "                  \n",
      "./Figures/Figure_1_raw_cantilever_response.png\n",
      "./Figures/Figure_1_raw_cantilever_response.svg\n"
     ]
    },
    {
     "data": {
      "image/png": "[encoded data removed]",
      "text/plain": [
       "<Figure size 500x125 with 4 Axes>"
      ]
     },
     "metadata": {},
     "output_type": "display_data"
    }
   ],
   "source": [
    "prediction = {\"resampled\": False,\n",
    "              \"label\": \"Raw\"}\n",
    "\n",
    "BE_viz.raw_data_comparison(prediction, filename=\"Figure_1_raw_cantilever_response\")"
   ]
  },
  {
   "attachments": {},
   "cell_type": "markdown",
   "id": "6a933658",
   "metadata": {},
   "source": [
    "**Figure 1.** Raw cantilever response. a) Magnitude spectrum and Phase, b) real and imaginary parts of the complex spectrum."
   ]
  },
  {
   "attachments": {},
   "cell_type": "markdown",
   "id": "a309066a",
   "metadata": {},
   "source": [
    "\n",
    "### Band-Excitation Experiments"
   ]
  },
  {
   "cell_type": "code",
   "execution_count": 10,
   "id": "d616fe4c",
   "metadata": {},
   "outputs": [
    {
     "name": "stdout",
     "output_type": "stream",
     "text": [
      "./Figures/Figure_2_raw_be_experiment.png\n",
      "./Figures/Figure_2_raw_be_experiment.svg\n"
     ]
    },
    {
     "data": {
      "image/png": "[encoded data removed]",
      "text/plain": [
       "<Figure size 833.333x130 with 7 Axes>"
      ]
     },
     "metadata": {},
     "output_type": "display_data"
    }
   ],
   "source": [
    "BE_viz.raw_be(dataset, filename=\"Figure_2_raw_be_experiment\")"
   ]
  },
  {
   "attachments": {},
   "cell_type": "markdown",
   "id": "7e2de7fa",
   "metadata": {},
   "source": [
    "**Figure 2.** Band-Excitation Experiments. a) Raw drive amplitude applied to the tip, b) Energy of the waveform in the frequency domain, c) DC voltage applied to switch the sample, inset shows a zoomed in view of the switching waveform where measurements are made in the on and off state. d) raw cantilever response magnitude and phase, e) real and imaginary parts of the complex spectrum."
   ]
  },
  {
   "attachments": {},
   "cell_type": "markdown",
   "id": "1ad53586",
   "metadata": {},
   "source": [
    "## SHO Fitting\n",
    "**Note**: this code takes around 15 minutes to execute\n",
    "\n",
    "If you downloaded the SHO fit data, or ran notebook 0_5 you do not need to fit the data again. You can skip to the next section."
   ]
  },
  {
   "cell_type": "code",
   "execution_count": 12,
   "id": "3d9c41e7",
   "metadata": {},
   "outputs": [
    {
     "name": "stdout",
     "output_type": "stream",
     "text": [
      "Working on:\n",
      "./Data/data_raw_unmod.h5\n",
      "['Y', 'X'] [60, 60]\n",
      "\n",
      "\n",
      "SHO Fits will be written to:\n",
      "./Data\\data_raw_unmod.h5\n",
      "\n",
      "\n",
      "Consider calling test() to check results before calling compute() which computes on the entire dataset and writes results to the HDF5 file\n",
      "\tThis class (likely) supports interruption and resuming of computations!\n",
      "\tIf you are operating in a python console, press Ctrl+C or Cmd+C to abort\n",
      "\tIf you are in a Jupyter notebook, click on \"Kernel\">>\"Interrupt\"\n",
      "\tIf you are operating on a cluster and your job gets killed, re-run the job to resume\n",
      "\n",
      "Rank 0 - 100% complete. Time remaining: 0.0 msec\n",
      "Finished processing the entire dataset!\n",
      "\n",
      "Note: SHO_Fit has already been performed with the same parameters before. These results will be returned by compute() by default. Set override to True to force fresh computation\n",
      "\n",
      "[<HDF5 group \"/Raw_Data-SHO_Fit_000\" (4 members)>]\n"
     ]
    },
    {
     "name": "stderr",
     "output_type": "stream",
     "text": [
      "c:\\Users\\jca92\\.conda\\envs\\m3_learning\\lib\\site-packages\\BGlib\\be\\analysis\\fitter.py:140: UserWarning: status dataset not created yet\n",
      "  warn('status dataset not created yet')\n",
      "c:\\Users\\jca92\\.conda\\envs\\m3_learning\\lib\\site-packages\\BGlib\\be\\analysis\\fitter.py:140: UserWarning: status dataset not created yet\n",
      "  warn('status dataset not created yet')\n"
     ]
    },
    {
     "name": "stdout",
     "output_type": "stream",
     "text": [
      "Resuming computation. 0% completed already\n",
      "\tThis class (likely) supports interruption and resuming of computations!\n",
      "\tIf you are operating in a python console, press Ctrl+C or Cmd+C to abort\n",
      "\tIf you are in a Jupyter notebook, click on \"Kernel\">>\"Interrupt\"\n",
      "\tIf you are operating on a cluster and your job gets killed, re-run the job to resume\n",
      "\n",
      "Rank 0 - 100% complete. Time remaining: 0.0 msec\n",
      "Finished processing the entire dataset!\n",
      "LSQF method took 2056.5690014362335 seconds to compute parameters\n"
     ]
    }
   ],
   "source": [
    "Fit_SHO = False\n",
    "\n",
    "if Fit_SHO: \n",
    "\n",
    "    # # computes the SHO fit for the data in the file\n",
    "    dataset.SHO_Fitter(force = True)"
   ]
  },
  {
   "attachments": {},
   "cell_type": "markdown",
   "id": "6ff90836",
   "metadata": {},
   "source": [
    "### Views the Distribution of the Least Squares Fitting (LSQF) results\n",
    "\n",
    "It is good to view the distributions and standardize the phase shift. The phase shift is rotated around the unit circle such that the peaks are at $-\\pi/2$ and $\\pi/2$"
   ]
  },
  {
   "cell_type": "code",
   "execution_count": 14,
   "id": "11d02e9f",
   "metadata": {},
   "outputs": [
    {
     "name": "stdout",
     "output_type": "stream",
     "text": [
      "/\n",
      "├ Measurement_000\n",
      "  ---------------\n",
      "  ├ Channel_000\n",
      "    -----------\n",
      "    ├ Bin_FFT\n",
      "    ├ Bin_Frequencies\n",
      "    ├ Bin_Indices\n",
      "    ├ Bin_Step\n",
      "    ├ Bin_Wfm_Type\n",
      "    ├ Excitation_Waveform\n",
      "    ├ Noise_Floor\n",
      "    ├ Position_Indices\n",
      "    ├ Position_Values\n",
      "    ├ Raw_Data\n",
      "    ├ Spatially_Averaged_Plot_Group_000\n",
      "      ---------------------------------\n",
      "      ├ Bin_Frequencies\n",
      "      ├ Max_Response\n",
      "      ├ Mean_Spectrogram\n",
      "      ├ Min_Response\n",
      "      ├ Spectroscopic_Parameter\n",
      "      ├ Step_Averaged_Response\n",
      "    ├ Spatially_Averaged_Plot_Group_001\n",
      "      ---------------------------------\n",
      "      ├ Bin_Frequencies\n",
      "      ├ Max_Response\n",
      "      ├ Mean_Spectrogram\n",
      "      ├ Min_Response\n",
      "      ├ Spectroscopic_Parameter\n",
      "      ├ Step_Averaged_Response\n",
      "    ├ Spectroscopic_Indices\n",
      "    ├ Spectroscopic_Values\n",
      "    ├ UDVS\n",
      "    ├ UDVS_Indices\n",
      "├ Raw_Data-SHO_Fit_000\n",
      "  --------------------\n",
      "  ├ Fit\n",
      "  ├ Guess\n",
      "  ├ Spectroscopic_Indices\n",
      "  ├ Spectroscopic_Values\n",
      "  ├ completed_fit_positions\n",
      "  ├ completed_guess_positions\n",
      "Datasets and datagroups within the file:\n",
      "------------------------------------\n",
      "/\n",
      "/Measurement_000\n",
      "/Measurement_000/Channel_000\n",
      "/Measurement_000/Channel_000/Bin_FFT\n",
      "/Measurement_000/Channel_000/Bin_Frequencies\n",
      "/Measurement_000/Channel_000/Bin_Indices\n",
      "/Measurement_000/Channel_000/Bin_Step\n",
      "/Measurement_000/Channel_000/Bin_Wfm_Type\n",
      "/Measurement_000/Channel_000/Excitation_Waveform\n",
      "/Measurement_000/Channel_000/Noise_Floor\n",
      "/Measurement_000/Channel_000/Position_Indices\n",
      "/Measurement_000/Channel_000/Position_Values\n",
      "/Measurement_000/Channel_000/Raw_Data\n",
      "/Measurement_000/Channel_000/Spatially_Averaged_Plot_Group_000\n",
      "/Measurement_000/Channel_000/Spatially_Averaged_Plot_Group_000/Bin_Frequencies\n",
      "/Measurement_000/Channel_000/Spatially_Averaged_Plot_Group_000/Max_Response\n",
      "/Measurement_000/Channel_000/Spatially_Averaged_Plot_Group_000/Mean_Spectrogram\n",
      "/Measurement_000/Channel_000/Spatially_Averaged_Plot_Group_000/Min_Response\n",
      "/Measurement_000/Channel_000/Spatially_Averaged_Plot_Group_000/Spectroscopic_Parameter\n",
      "/Measurement_000/Channel_000/Spatially_Averaged_Plot_Group_000/Step_Averaged_Response\n",
      "/Measurement_000/Channel_000/Spatially_Averaged_Plot_Group_001\n",
      "/Measurement_000/Channel_000/Spatially_Averaged_Plot_Group_001/Bin_Frequencies\n",
      "/Measurement_000/Channel_000/Spatially_Averaged_Plot_Group_001/Max_Response\n",
      "/Measurement_000/Channel_000/Spatially_Averaged_Plot_Group_001/Mean_Spectrogram\n",
      "/Measurement_000/Channel_000/Spatially_Averaged_Plot_Group_001/Min_Response\n",
      "/Measurement_000/Channel_000/Spatially_Averaged_Plot_Group_001/Spectroscopic_Parameter\n",
      "/Measurement_000/Channel_000/Spatially_Averaged_Plot_Group_001/Step_Averaged_Response\n",
      "/Measurement_000/Channel_000/Spectroscopic_Indices\n",
      "/Measurement_000/Channel_000/Spectroscopic_Values\n",
      "/Measurement_000/Channel_000/UDVS\n",
      "/Measurement_000/Channel_000/UDVS_Indices\n",
      "/Raw_Data-SHO_Fit_000\n",
      "/Raw_Data-SHO_Fit_000/Fit\n",
      "/Raw_Data-SHO_Fit_000/Guess\n",
      "/Raw_Data-SHO_Fit_000/Spectroscopic_Indices\n",
      "/Raw_Data-SHO_Fit_000/Spectroscopic_Values\n",
      "/Raw_Data-SHO_Fit_000/completed_fit_positions\n",
      "/Raw_Data-SHO_Fit_000/completed_guess_positions\n",
      "\n",
      "The main dataset:\n",
      "------------------------------------\n",
      "<HDF5 file \"data_raw_unmod.h5\" (mode r+)>\n",
      "\n",
      "The ancillary datasets:\n",
      "------------------------------------\n",
      "<HDF5 dataset \"Position_Indices\": shape (3600, 2), type \"<u4\">\n",
      "<HDF5 dataset \"Position_Values\": shape (3600, 2), type \"<f4\">\n",
      "<HDF5 dataset \"Spectroscopic_Indices\": shape (4, 63360), type \"<u4\">\n",
      "<HDF5 dataset \"Spectroscopic_Values\": shape (4, 63360), type \"<f4\">\n",
      "\n",
      "Metadata or attributes in a datagroup\n",
      "------------------------------------\n",
      "BE_actual_duration_[s] : 0.004\n",
      "BE_amplitude_[V] : 1\n",
      "BE_auto_smoothing : auto smoothing on\n",
      "BE_band_edge_smoothing_[s] : 4832.1\n",
      "BE_band_edge_trim : 0.094742\n",
      "BE_band_width_[Hz] : 200000\n",
      "BE_bins_per_band : 0\n",
      "BE_center_frequency_[Hz] : 1310000\n",
      "BE_desired_duration_[s] : 0.004\n",
      "BE_phase_content : chirp-sinc hybrid\n",
      "BE_phase_variation : 1\n",
      "BE_points_per_BE_wave : 0\n",
      "BE_repeats : 4\n",
      "FORC_V_high1_[V] : 1\n",
      "FORC_V_high2_[V] : 10\n",
      "FORC_V_low1_[V] : -1\n",
      "FORC_V_low2_[V] : -10\n",
      "FORC_num_of_FORC_cycles : 1\n",
      "FORC_num_of_FORC_repeats : 1\n",
      "File_MDAQ_version : MDAQ_VS_090915_01\n",
      "File_date_and_time : 18-Sep-2015 18:32:14\n",
      "File_file_name : SP128_NSO\n",
      "File_file_path : C:\\Users\\Asylum User\\Documents\\Users\\Agar\\SP128_NSO\\\n",
      "File_file_suffix : 99\n",
      "IO_AO_amplifier : 10\n",
      "IO_AO_range_[V] : +/- 10\n",
      "IO_Analog_Input_1 : +/- .1V, FFT\n",
      "IO_Analog_Input_2 : off\n",
      "IO_Analog_Input_3 : off\n",
      "IO_Analog_Input_4 : off\n",
      "IO_DAQ_platform : NI 6115\n",
      "IO_rate_[Hz] : 4000000\n",
      "VS_amplitude_[V] : 16\n",
      "VS_cycle_fraction : full\n",
      "VS_cycle_phase_shift : 0\n",
      "VS_measure_in_field_loops : in and out-of-field\n",
      "VS_mode : DC modulation mode\n",
      "VS_number_of_cycles : 2\n",
      "VS_offset_[V] : 0\n",
      "VS_read_voltage_[V] : 0\n",
      "VS_set_pulse_amplitude[V] : 0\n",
      "VS_set_pulse_duration[s] : 0.002\n",
      "VS_step_edge_smoothing_[s] : 0.001\n",
      "VS_steps_per_full_cycle : 96\n",
      "data_type : BEPSData\n",
      "grid_/single : grid\n",
      "grid_contact_set_point_[V] : 1\n",
      "grid_current_col : 1\n",
      "grid_current_row : 1\n",
      "grid_cycle_time_[s] : 10\n",
      "grid_measuring : 0\n",
      "grid_moving : 0\n",
      "grid_num_cols : 60\n",
      "grid_num_rows : 60\n",
      "grid_settle_time_[s] : 0.15\n",
      "grid_time_remaining_[h;m;s] : 10\n",
      "grid_total_time_[h;m;s] : 10\n",
      "grid_transit_set_point_[V] : 0.1\n",
      "grid_transit_time_[s] : 0.15\n",
      "num_bins : 165\n",
      "num_pix : 3600\n",
      "num_udvs_steps : 384\n"
     ]
    }
   ],
   "source": [
    "# instantiate the dataset object\n",
    "dataset = BE_Dataset(data_path)\n",
    "\n",
    "# print the contents of the file\n",
    "dataset.print_be_tree()"
   ]
  },
  {
   "cell_type": "code",
   "execution_count": 15,
   "id": "b533eda4",
   "metadata": {},
   "outputs": [
    {
     "name": "stdout",
     "output_type": "stream",
     "text": [
      "\n",
      "    Dataset = Raw_Data\n",
      "    Resample = False\n",
      "    Raw Format = complex\n",
      "    fitter = LSQF\n",
      "    scaled = False\n",
      "    Output Shape = pixels\n",
      "    Measurement State = all\n",
      "    Resample Resampled = False\n",
      "    Resample Bins = 165\n",
      "    LSQF Phase Shift = 0\n",
      "    NN Phase Shift = None\n",
      "    Noise Level = 0\n",
      "    loop interpolated = False\n",
      "                  \n",
      "./Figures/Figure_3_Original_LSQF_Histograms.png\n",
      "./Figures/Figure_3_Original_LSQF_Histograms.svg\n"
     ]
    },
    {
     "data": {
      "image/png": "[encoded data removed]",
      "text/plain": [
       "<Figure size 525x125 with 4 Axes>"
      ]
     },
     "metadata": {},
     "output_type": "display_data"
    }
   ],
   "source": [
    "dataset.LSQF_phase_shift = 0\n",
    "\n",
    "BE_viz.SHO_hist(dataset.SHO_fit_results(),\n",
    "                      filename=\"Figure_3_Original_LSQF_Histograms\")\n"
   ]
  },
  {
   "attachments": {},
   "cell_type": "markdown",
   "id": "cc7cbc83",
   "metadata": {},
   "source": [
    "**Figure 3.** Distribution of the Least Squares Fitting (LSQF) results of the unmodified data. a) Distribution of the amplitude, b) Distribution of the resonance frequency, c) Distribution of the quality factor, d) Distribution of the resonance frequency."
   ]
  },
  {
   "cell_type": "code",
   "execution_count": 16,
   "id": "f5f4feec",
   "metadata": {},
   "outputs": [
    {
     "name": "stdout",
     "output_type": "stream",
     "text": [
      "\n",
      "    Dataset = Raw_Data\n",
      "    Resample = False\n",
      "    Raw Format = complex\n",
      "    fitter = LSQF\n",
      "    scaled = False\n",
      "    Output Shape = pixels\n",
      "    Measurement State = all\n",
      "    Resample Resampled = False\n",
      "    Resample Bins = 165\n",
      "    LSQF Phase Shift = 0\n",
      "    NN Phase Shift = None\n",
      "    Noise Level = 0\n",
      "    loop interpolated = False\n",
      "                  \n",
      "./Figures/Figure_4_Phase_Shifted_LSQF_Histograms.png\n",
      "./Figures/Figure_4_Phase_Shifted_LSQF_Histograms.svg\n"
     ]
    },
    {
     "data": {
      "image/png": "[encoded data removed]",
      "text/plain": [
       "<Figure size 525x125 with 4 Axes>"
      ]
     },
     "metadata": {},
     "output_type": "display_data"
    }
   ],
   "source": [
    "dataset.LSQF_phase_shift = np.pi/2\n",
    "\n",
    "BE_viz.SHO_hist(dataset.SHO_fit_results(),\n",
    "                      filename=\"Figure_4_Phase_Shifted_LSQF_Histograms\")"
   ]
  },
  {
   "attachments": {},
   "cell_type": "markdown",
   "id": "116a1533",
   "metadata": {},
   "source": [
    "**Figure 4.** Distribution of the Least Squares Fitting (LSQF) results of the unmodified data. a) Distribution of the amplitude, b) Distribution of the resonance frequency, c) Distribution of the quality factor, d) Distribution of the resonance frequency."
   ]
  },
  {
   "cell_type": "markdown",
   "id": "c3eb6c3d",
   "metadata": {},
   "source": [
    "### Plots the SHO Fit Results"
   ]
  },
  {
   "cell_type": "code",
   "execution_count": 17,
   "id": "dd4ea37e",
   "metadata": {},
   "outputs": [
    {
     "ename": "AttributeError",
     "evalue": "'BE_Dataset' object has no attribute 'SHO_LSQF_data'",
     "output_type": "error",
     "traceback": [
      "\u001b[1;31m---------------------------------------------------------------------------\u001b[0m",
      "\u001b[1;31mAttributeError\u001b[0m                            Traceback (most recent call last)",
      "\u001b[1;32mc:\\codes\\m3_learning\\m3_learning\\papers\\2023_Rapid_Fitting\\1_SHO_Fitting.ipynb Cell 24\u001b[0m line \u001b[0;36m3\n\u001b[0;32m      <a href='vscode-notebook-cell:/c%3A/codes/m3_learning/m3_learning/papers/2023_Rapid_Fitting/1_SHO_Fitting.ipynb#X31sZmlsZQ%3D%3D?line=0'>1</a>\u001b[0m dataset\u001b[39m.\u001b[39mmeasurement_state \u001b[39m=\u001b[39m\u001b[39m'\u001b[39m\u001b[39mon\u001b[39m\u001b[39m'\u001b[39m\n\u001b[1;32m----> <a href='vscode-notebook-cell:/c%3A/codes/m3_learning/m3_learning/papers/2023_Rapid_Fitting/1_SHO_Fitting.ipynb#X31sZmlsZQ%3D%3D?line=2'>3</a>\u001b[0m BE_viz\u001b[39m.\u001b[39;49mSHO_loops(filename\u001b[39m=\u001b[39;49m\u001b[39m\"\u001b[39;49m\u001b[39mFigure_5_Single_Pixel_Loops\u001b[39;49m\u001b[39m\"\u001b[39;49m)\n",
      "File \u001b[1;32mC:\\codes\\m3_learning\\m3_learning\\src\\m3_learning\\be\\viz.py:257\u001b[0m, in \u001b[0;36mViz.SHO_loops\u001b[1;34m(self, data, filename)\u001b[0m\n\u001b[0;32m    255\u001b[0m \u001b[39mif\u001b[39;00m data \u001b[39mis\u001b[39;00m \u001b[39mNone\u001b[39;00m:\n\u001b[0;32m    256\u001b[0m     pixel \u001b[39m=\u001b[39m np\u001b[39m.\u001b[39mrandom\u001b[39m.\u001b[39mrandint(\u001b[39m0\u001b[39m, \u001b[39mself\u001b[39m\u001b[39m.\u001b[39mdataset\u001b[39m.\u001b[39mnum_pix)\n\u001b[1;32m--> 257\u001b[0m     data \u001b[39m=\u001b[39m \u001b[39mself\u001b[39;49m\u001b[39m.\u001b[39;49mdataset\u001b[39m.\u001b[39;49mSHO_fit_results()[[pixel], :, :]\n\u001b[0;32m    259\u001b[0m \u001b[39m# plots the SHO fit results for the selected pixel\u001b[39;00m\n\u001b[0;32m    260\u001b[0m fig, axs \u001b[39m=\u001b[39m layout_fig(\u001b[39m4\u001b[39m, \u001b[39m4\u001b[39m, figsize\u001b[39m=\u001b[39m(\u001b[39m5.5\u001b[39m, \u001b[39m1.1\u001b[39m))\n",
      "File \u001b[1;32mC:\\codes\\m3_learning\\m3_learning\\src\\m3_learning\\be\\dataset.py:877\u001b[0m, in \u001b[0;36mBE_Dataset.SHO_fit_results\u001b[1;34m(self, state, model, phase_shift, X_data)\u001b[0m\n\u001b[0;32m    874\u001b[0m \u001b[39mif\u001b[39;00m state \u001b[39mis\u001b[39;00m \u001b[39mnot\u001b[39;00m \u001b[39mNone\u001b[39;00m:\n\u001b[0;32m    875\u001b[0m     \u001b[39mself\u001b[39m\u001b[39m.\u001b[39mset_attributes(\u001b[39m*\u001b[39m\u001b[39m*\u001b[39mstate)\n\u001b[1;32m--> 877\u001b[0m data \u001b[39m=\u001b[39m \u001b[39meval\u001b[39;49m(\u001b[39mf\u001b[39;49m\u001b[39m\"\u001b[39;49m\u001b[39mself.SHO_\u001b[39;49m\u001b[39m{\u001b[39;49;00m\u001b[39mself\u001b[39;49m\u001b[39m.\u001b[39;49mfitter\u001b[39m}\u001b[39;49;00m\u001b[39m()\u001b[39;49m\u001b[39m\"\u001b[39;49m)\n\u001b[0;32m    879\u001b[0m data_shape \u001b[39m=\u001b[39m data\u001b[39m.\u001b[39mshape\n\u001b[0;32m    881\u001b[0m data \u001b[39m=\u001b[39m data\u001b[39m.\u001b[39mreshape(\u001b[39m-\u001b[39m\u001b[39m1\u001b[39m, \u001b[39m4\u001b[39m)\n",
      "File \u001b[1;32m<string>:1\u001b[0m\n",
      "File \u001b[1;32mC:\\codes\\m3_learning\\m3_learning\\src\\m3_learning\\be\\dataset.py:708\u001b[0m, in \u001b[0;36mBE_Dataset.SHO_LSQF\u001b[1;34m(self, pixel, voltage_step)\u001b[0m\n\u001b[0;32m    705\u001b[0m \u001b[39mdef\u001b[39;00m \u001b[39mSHO_LSQF\u001b[39m(\u001b[39mself\u001b[39m, pixel\u001b[39m=\u001b[39m\u001b[39mNone\u001b[39;00m, voltage_step\u001b[39m=\u001b[39m\u001b[39mNone\u001b[39;00m):\n\u001b[0;32m    706\u001b[0m     \u001b[39mwith\u001b[39;00m h5py\u001b[39m.\u001b[39mFile(\u001b[39mself\u001b[39m\u001b[39m.\u001b[39mfile, \u001b[39m\"\u001b[39m\u001b[39mr+\u001b[39m\u001b[39m\"\u001b[39m) \u001b[39mas\u001b[39;00m h5_f:\n\u001b[1;32m--> 708\u001b[0m         dataset_ \u001b[39m=\u001b[39m \u001b[39mself\u001b[39;49m\u001b[39m.\u001b[39;49mSHO_LSQF_data[\u001b[39mf\u001b[39m\u001b[39m\"\u001b[39m\u001b[39m{\u001b[39;00m\u001b[39mself\u001b[39m\u001b[39m.\u001b[39mdataset\u001b[39m}\u001b[39;00m\u001b[39m-SHO_Fit_000\u001b[39m\u001b[39m\"\u001b[39m]\u001b[39m.\u001b[39mcopy()\n\u001b[0;32m    710\u001b[0m         \u001b[39mif\u001b[39;00m pixel \u001b[39mis\u001b[39;00m \u001b[39mnot\u001b[39;00m \u001b[39mNone\u001b[39;00m \u001b[39mand\u001b[39;00m voltage_step \u001b[39mis\u001b[39;00m \u001b[39mnot\u001b[39;00m \u001b[39mNone\u001b[39;00m:\n\u001b[0;32m    711\u001b[0m             \u001b[39mreturn\u001b[39;00m \u001b[39mself\u001b[39m\u001b[39m.\u001b[39mget_voltage_state(dataset_[[pixel], :, :])[:, [voltage_step], :]\n",
      "\u001b[1;31mAttributeError\u001b[0m: 'BE_Dataset' object has no attribute 'SHO_LSQF_data'"
     ]
    }
   ],
   "source": [
    "dataset.measurement_state ='on'\n",
    "\n",
    "BE_viz.SHO_loops(filename=\"Figure_5_Single_Pixel_Loops\")\n"
   ]
  },
  {
   "attachments": {},
   "cell_type": "markdown",
   "id": "da0a2e97",
   "metadata": {},
   "source": [
    "**Figure 5.** Example switching loops obtained for the amplitude, resonance frequency, quality factor, and phase."
   ]
  },
  {
   "attachments": {},
   "cell_type": "markdown",
   "id": "b693717c",
   "metadata": {},
   "source": [
    "## SHO Switching Movies"
   ]
  },
  {
   "cell_type": "code",
   "execution_count": 13,
   "id": "8fdd41f8",
   "metadata": {},
   "outputs": [
    {
     "name": "stdout",
     "output_type": "stream",
     "text": [
      "Movies/SHO_LSQF_Noise_0/SHO_LSQF_noise_0_0000.png\n",
      "Movies/SHO_LSQF_Noise_0/SHO_LSQF_noise_0_0001.png\n",
      "Movies/SHO_LSQF_Noise_0/SHO_LSQF_noise_0_0002.png\n",
      "Movies/SHO_LSQF_Noise_0/SHO_LSQF_noise_0_0003.png\n",
      "Movies/SHO_LSQF_Noise_0/SHO_LSQF_noise_0_0004.png\n",
      "Movies/SHO_LSQF_Noise_0/SHO_LSQF_noise_0_0005.png\n",
      "Movies/SHO_LSQF_Noise_0/SHO_LSQF_noise_0_0006.png\n",
      "Movies/SHO_LSQF_Noise_0/SHO_LSQF_noise_0_0007.png\n",
      "Movies/SHO_LSQF_Noise_0/SHO_LSQF_noise_0_0008.png\n",
      "Movies/SHO_LSQF_Noise_0/SHO_LSQF_noise_0_0009.png\n",
      "Movies/SHO_LSQF_Noise_0/SHO_LSQF_noise_0_0010.png\n",
      "Movies/SHO_LSQF_Noise_0/SHO_LSQF_noise_0_0011.png\n",
      "Movies/SHO_LSQF_Noise_0/SHO_LSQF_noise_0_0012.png\n",
      "Movies/SHO_LSQF_Noise_0/SHO_LSQF_noise_0_0013.png\n",
      "Movies/SHO_LSQF_Noise_0/SHO_LSQF_noise_0_0014.png\n",
      "Movies/SHO_LSQF_Noise_0/SHO_LSQF_noise_0_0015.png\n",
      "Movies/SHO_LSQF_Noise_0/SHO_LSQF_noise_0_0016.png\n",
      "Movies/SHO_LSQF_Noise_0/SHO_LSQF_noise_0_0017.png\n",
      "Movies/SHO_LSQF_Noise_0/SHO_LSQF_noise_0_0018.png\n",
      "Movies/SHO_LSQF_Noise_0/SHO_LSQF_noise_0_0019.png\n",
      "Movies/SHO_LSQF_Noise_0/SHO_LSQF_noise_0_0020.png\n",
      "Movies/SHO_LSQF_Noise_0/SHO_LSQF_noise_0_0021.png\n",
      "Movies/SHO_LSQF_Noise_0/SHO_LSQF_noise_0_0022.png\n",
      "Movies/SHO_LSQF_Noise_0/SHO_LSQF_noise_0_0023.png\n",
      "Movies/SHO_LSQF_Noise_0/SHO_LSQF_noise_0_0024.png\n",
      "Movies/SHO_LSQF_Noise_0/SHO_LSQF_noise_0_0025.png\n",
      "Movies/SHO_LSQF_Noise_0/SHO_LSQF_noise_0_0026.png\n",
      "Movies/SHO_LSQF_Noise_0/SHO_LSQF_noise_0_0027.png\n",
      "Movies/SHO_LSQF_Noise_0/SHO_LSQF_noise_0_0028.png\n",
      "Movies/SHO_LSQF_Noise_0/SHO_LSQF_noise_0_0029.png\n",
      "Movies/SHO_LSQF_Noise_0/SHO_LSQF_noise_0_0030.png\n",
      "Movies/SHO_LSQF_Noise_0/SHO_LSQF_noise_0_0031.png\n",
      "Movies/SHO_LSQF_Noise_0/SHO_LSQF_noise_0_0032.png\n",
      "Movies/SHO_LSQF_Noise_0/SHO_LSQF_noise_0_0033.png\n",
      "Movies/SHO_LSQF_Noise_0/SHO_LSQF_noise_0_0034.png\n",
      "Movies/SHO_LSQF_Noise_0/SHO_LSQF_noise_0_0035.png\n",
      "Movies/SHO_LSQF_Noise_0/SHO_LSQF_noise_0_0036.png\n",
      "Movies/SHO_LSQF_Noise_0/SHO_LSQF_noise_0_0037.png\n",
      "Movies/SHO_LSQF_Noise_0/SHO_LSQF_noise_0_0038.png\n",
      "Movies/SHO_LSQF_Noise_0/SHO_LSQF_noise_0_0039.png\n",
      "Movies/SHO_LSQF_Noise_0/SHO_LSQF_noise_0_0040.png\n",
      "Movies/SHO_LSQF_Noise_0/SHO_LSQF_noise_0_0041.png\n",
      "Movies/SHO_LSQF_Noise_0/SHO_LSQF_noise_0_0042.png\n",
      "Movies/SHO_LSQF_Noise_0/SHO_LSQF_noise_0_0043.png\n",
      "Movies/SHO_LSQF_Noise_0/SHO_LSQF_noise_0_0044.png\n",
      "Movies/SHO_LSQF_Noise_0/SHO_LSQF_noise_0_0045.png\n",
      "Movies/SHO_LSQF_Noise_0/SHO_LSQF_noise_0_0046.png\n",
      "Movies/SHO_LSQF_Noise_0/SHO_LSQF_noise_0_0047.png\n",
      "Movies/SHO_LSQF_Noise_0/SHO_LSQF_noise_0_0048.png\n",
      "Movies/SHO_LSQF_Noise_0/SHO_LSQF_noise_0_0049.png\n",
      "Movies/SHO_LSQF_Noise_0/SHO_LSQF_noise_0_0050.png\n",
      "Movies/SHO_LSQF_Noise_0/SHO_LSQF_noise_0_0051.png\n",
      "Movies/SHO_LSQF_Noise_0/SHO_LSQF_noise_0_0052.png\n",
      "Movies/SHO_LSQF_Noise_0/SHO_LSQF_noise_0_0053.png\n",
      "Movies/SHO_LSQF_Noise_0/SHO_LSQF_noise_0_0054.png\n",
      "Movies/SHO_LSQF_Noise_0/SHO_LSQF_noise_0_0055.png\n",
      "Movies/SHO_LSQF_Noise_0/SHO_LSQF_noise_0_0056.png\n",
      "Movies/SHO_LSQF_Noise_0/SHO_LSQF_noise_0_0057.png\n",
      "Movies/SHO_LSQF_Noise_0/SHO_LSQF_noise_0_0058.png\n",
      "Movies/SHO_LSQF_Noise_0/SHO_LSQF_noise_0_0059.png\n",
      "Movies/SHO_LSQF_Noise_0/SHO_LSQF_noise_0_0060.png\n",
      "Movies/SHO_LSQF_Noise_0/SHO_LSQF_noise_0_0061.png\n",
      "Movies/SHO_LSQF_Noise_0/SHO_LSQF_noise_0_0062.png\n",
      "Movies/SHO_LSQF_Noise_0/SHO_LSQF_noise_0_0063.png\n",
      "Movies/SHO_LSQF_Noise_0/SHO_LSQF_noise_0_0064.png\n",
      "Movies/SHO_LSQF_Noise_0/SHO_LSQF_noise_0_0065.png\n",
      "Movies/SHO_LSQF_Noise_0/SHO_LSQF_noise_0_0066.png\n",
      "Movies/SHO_LSQF_Noise_0/SHO_LSQF_noise_0_0067.png\n",
      "Movies/SHO_LSQF_Noise_0/SHO_LSQF_noise_0_0068.png\n",
      "Movies/SHO_LSQF_Noise_0/SHO_LSQF_noise_0_0069.png\n",
      "Movies/SHO_LSQF_Noise_0/SHO_LSQF_noise_0_0070.png\n",
      "Movies/SHO_LSQF_Noise_0/SHO_LSQF_noise_0_0071.png\n",
      "Movies/SHO_LSQF_Noise_0/SHO_LSQF_noise_0_0072.png\n",
      "Movies/SHO_LSQF_Noise_0/SHO_LSQF_noise_0_0073.png\n",
      "Movies/SHO_LSQF_Noise_0/SHO_LSQF_noise_0_0074.png\n",
      "Movies/SHO_LSQF_Noise_0/SHO_LSQF_noise_0_0075.png\n",
      "Movies/SHO_LSQF_Noise_0/SHO_LSQF_noise_0_0076.png\n",
      "Movies/SHO_LSQF_Noise_0/SHO_LSQF_noise_0_0077.png\n",
      "Movies/SHO_LSQF_Noise_0/SHO_LSQF_noise_0_0078.png\n",
      "Movies/SHO_LSQF_Noise_0/SHO_LSQF_noise_0_0079.png\n",
      "Movies/SHO_LSQF_Noise_0/SHO_LSQF_noise_0_0080.png\n",
      "Movies/SHO_LSQF_Noise_0/SHO_LSQF_noise_0_0081.png\n",
      "Movies/SHO_LSQF_Noise_0/SHO_LSQF_noise_0_0082.png\n",
      "Movies/SHO_LSQF_Noise_0/SHO_LSQF_noise_0_0083.png\n",
      "Movies/SHO_LSQF_Noise_0/SHO_LSQF_noise_0_0084.png\n",
      "Movies/SHO_LSQF_Noise_0/SHO_LSQF_noise_0_0085.png\n",
      "Movies/SHO_LSQF_Noise_0/SHO_LSQF_noise_0_0086.png\n",
      "Movies/SHO_LSQF_Noise_0/SHO_LSQF_noise_0_0087.png\n",
      "Movies/SHO_LSQF_Noise_0/SHO_LSQF_noise_0_0088.png\n",
      "Movies/SHO_LSQF_Noise_0/SHO_LSQF_noise_0_0089.png\n",
      "Movies/SHO_LSQF_Noise_0/SHO_LSQF_noise_0_0090.png\n",
      "Movies/SHO_LSQF_Noise_0/SHO_LSQF_noise_0_0091.png\n",
      "Movies/SHO_LSQF_Noise_0/SHO_LSQF_noise_0_0092.png\n",
      "Movies/SHO_LSQF_Noise_0/SHO_LSQF_noise_0_0093.png\n",
      "Movies/SHO_LSQF_Noise_0/SHO_LSQF_noise_0_0094.png\n",
      "Movies/SHO_LSQF_Noise_0/SHO_LSQF_noise_0_0095.png\n",
      "Movies/SHO_LSQF_Noise_0/SHO_LSQF_noise_0_0096.png\n",
      "Movies/SHO_LSQF_Noise_0/SHO_LSQF_noise_0_0097.png\n",
      "Movies/SHO_LSQF_Noise_0/SHO_LSQF_noise_0_0098.png\n",
      "Movies/SHO_LSQF_Noise_0/SHO_LSQF_noise_0_0099.png\n",
      "Movies/SHO_LSQF_Noise_0/SHO_LSQF_noise_0_0100.png\n",
      "Movies/SHO_LSQF_Noise_0/SHO_LSQF_noise_0_0101.png\n",
      "Movies/SHO_LSQF_Noise_0/SHO_LSQF_noise_0_0102.png\n",
      "Movies/SHO_LSQF_Noise_0/SHO_LSQF_noise_0_0103.png\n",
      "Movies/SHO_LSQF_Noise_0/SHO_LSQF_noise_0_0104.png\n",
      "Movies/SHO_LSQF_Noise_0/SHO_LSQF_noise_0_0105.png\n",
      "Movies/SHO_LSQF_Noise_0/SHO_LSQF_noise_0_0106.png\n",
      "Movies/SHO_LSQF_Noise_0/SHO_LSQF_noise_0_0107.png\n",
      "Movies/SHO_LSQF_Noise_0/SHO_LSQF_noise_0_0108.png\n",
      "Movies/SHO_LSQF_Noise_0/SHO_LSQF_noise_0_0109.png\n",
      "Movies/SHO_LSQF_Noise_0/SHO_LSQF_noise_0_0110.png\n",
      "Movies/SHO_LSQF_Noise_0/SHO_LSQF_noise_0_0111.png\n",
      "Movies/SHO_LSQF_Noise_0/SHO_LSQF_noise_0_0112.png\n",
      "Movies/SHO_LSQF_Noise_0/SHO_LSQF_noise_0_0113.png\n",
      "Movies/SHO_LSQF_Noise_0/SHO_LSQF_noise_0_0114.png\n",
      "Movies/SHO_LSQF_Noise_0/SHO_LSQF_noise_0_0115.png\n",
      "Movies/SHO_LSQF_Noise_0/SHO_LSQF_noise_0_0116.png\n",
      "Movies/SHO_LSQF_Noise_0/SHO_LSQF_noise_0_0117.png\n",
      "Movies/SHO_LSQF_Noise_0/SHO_LSQF_noise_0_0118.png\n",
      "Movies/SHO_LSQF_Noise_0/SHO_LSQF_noise_0_0119.png\n",
      "Movies/SHO_LSQF_Noise_0/SHO_LSQF_noise_0_0120.png\n",
      "Movies/SHO_LSQF_Noise_0/SHO_LSQF_noise_0_0121.png\n",
      "Movies/SHO_LSQF_Noise_0/SHO_LSQF_noise_0_0122.png\n",
      "Movies/SHO_LSQF_Noise_0/SHO_LSQF_noise_0_0123.png\n",
      "Movies/SHO_LSQF_Noise_0/SHO_LSQF_noise_0_0124.png\n",
      "Movies/SHO_LSQF_Noise_0/SHO_LSQF_noise_0_0125.png\n",
      "Movies/SHO_LSQF_Noise_0/SHO_LSQF_noise_0_0126.png\n",
      "Movies/SHO_LSQF_Noise_0/SHO_LSQF_noise_0_0127.png\n",
      "Movies/SHO_LSQF_Noise_0/SHO_LSQF_noise_0_0128.png\n",
      "Movies/SHO_LSQF_Noise_0/SHO_LSQF_noise_0_0129.png\n",
      "Movies/SHO_LSQF_Noise_0/SHO_LSQF_noise_0_0130.png\n",
      "Movies/SHO_LSQF_Noise_0/SHO_LSQF_noise_0_0131.png\n",
      "Movies/SHO_LSQF_Noise_0/SHO_LSQF_noise_0_0132.png\n",
      "Movies/SHO_LSQF_Noise_0/SHO_LSQF_noise_0_0133.png\n",
      "Movies/SHO_LSQF_Noise_0/SHO_LSQF_noise_0_0134.png\n",
      "Movies/SHO_LSQF_Noise_0/SHO_LSQF_noise_0_0135.png\n",
      "Movies/SHO_LSQF_Noise_0/SHO_LSQF_noise_0_0136.png\n",
      "Movies/SHO_LSQF_Noise_0/SHO_LSQF_noise_0_0137.png\n",
      "Movies/SHO_LSQF_Noise_0/SHO_LSQF_noise_0_0138.png\n",
      "Movies/SHO_LSQF_Noise_0/SHO_LSQF_noise_0_0139.png\n",
      "Movies/SHO_LSQF_Noise_0/SHO_LSQF_noise_0_0140.png\n",
      "Movies/SHO_LSQF_Noise_0/SHO_LSQF_noise_0_0141.png\n",
      "Movies/SHO_LSQF_Noise_0/SHO_LSQF_noise_0_0142.png\n",
      "Movies/SHO_LSQF_Noise_0/SHO_LSQF_noise_0_0143.png\n",
      "Movies/SHO_LSQF_Noise_0/SHO_LSQF_noise_0_0144.png\n",
      "Movies/SHO_LSQF_Noise_0/SHO_LSQF_noise_0_0145.png\n",
      "Movies/SHO_LSQF_Noise_0/SHO_LSQF_noise_0_0146.png\n",
      "Movies/SHO_LSQF_Noise_0/SHO_LSQF_noise_0_0147.png\n",
      "Movies/SHO_LSQF_Noise_0/SHO_LSQF_noise_0_0148.png\n",
      "Movies/SHO_LSQF_Noise_0/SHO_LSQF_noise_0_0149.png\n",
      "Movies/SHO_LSQF_Noise_0/SHO_LSQF_noise_0_0150.png\n",
      "Movies/SHO_LSQF_Noise_0/SHO_LSQF_noise_0_0151.png\n",
      "Movies/SHO_LSQF_Noise_0/SHO_LSQF_noise_0_0152.png\n",
      "Movies/SHO_LSQF_Noise_0/SHO_LSQF_noise_0_0153.png\n",
      "Movies/SHO_LSQF_Noise_0/SHO_LSQF_noise_0_0154.png\n",
      "Movies/SHO_LSQF_Noise_0/SHO_LSQF_noise_0_0155.png\n",
      "Movies/SHO_LSQF_Noise_0/SHO_LSQF_noise_0_0156.png\n",
      "Movies/SHO_LSQF_Noise_0/SHO_LSQF_noise_0_0157.png\n",
      "Movies/SHO_LSQF_Noise_0/SHO_LSQF_noise_0_0158.png\n",
      "Movies/SHO_LSQF_Noise_0/SHO_LSQF_noise_0_0159.png\n",
      "Movies/SHO_LSQF_Noise_0/SHO_LSQF_noise_0_0160.png\n",
      "Movies/SHO_LSQF_Noise_0/SHO_LSQF_noise_0_0161.png\n",
      "Movies/SHO_LSQF_Noise_0/SHO_LSQF_noise_0_0162.png\n",
      "Movies/SHO_LSQF_Noise_0/SHO_LSQF_noise_0_0163.png\n",
      "Movies/SHO_LSQF_Noise_0/SHO_LSQF_noise_0_0164.png\n",
      "Movies/SHO_LSQF_Noise_0/SHO_LSQF_noise_0_0165.png\n",
      "Movies/SHO_LSQF_Noise_0/SHO_LSQF_noise_0_0166.png\n",
      "Movies/SHO_LSQF_Noise_0/SHO_LSQF_noise_0_0167.png\n",
      "Movies/SHO_LSQF_Noise_0/SHO_LSQF_noise_0_0168.png\n",
      "Movies/SHO_LSQF_Noise_0/SHO_LSQF_noise_0_0169.png\n",
      "Movies/SHO_LSQF_Noise_0/SHO_LSQF_noise_0_0170.png\n",
      "Movies/SHO_LSQF_Noise_0/SHO_LSQF_noise_0_0171.png\n",
      "Movies/SHO_LSQF_Noise_0/SHO_LSQF_noise_0_0172.png\n",
      "Movies/SHO_LSQF_Noise_0/SHO_LSQF_noise_0_0173.png\n",
      "Movies/SHO_LSQF_Noise_0/SHO_LSQF_noise_0_0174.png\n",
      "Movies/SHO_LSQF_Noise_0/SHO_LSQF_noise_0_0175.png\n",
      "Movies/SHO_LSQF_Noise_0/SHO_LSQF_noise_0_0176.png\n",
      "Movies/SHO_LSQF_Noise_0/SHO_LSQF_noise_0_0177.png\n",
      "Movies/SHO_LSQF_Noise_0/SHO_LSQF_noise_0_0178.png\n",
      "Movies/SHO_LSQF_Noise_0/SHO_LSQF_noise_0_0179.png\n",
      "Movies/SHO_LSQF_Noise_0/SHO_LSQF_noise_0_0180.png\n",
      "Movies/SHO_LSQF_Noise_0/SHO_LSQF_noise_0_0181.png\n",
      "Movies/SHO_LSQF_Noise_0/SHO_LSQF_noise_0_0182.png\n",
      "Movies/SHO_LSQF_Noise_0/SHO_LSQF_noise_0_0183.png\n",
      "Movies/SHO_LSQF_Noise_0/SHO_LSQF_noise_0_0184.png\n",
      "Movies/SHO_LSQF_Noise_0/SHO_LSQF_noise_0_0185.png\n",
      "Movies/SHO_LSQF_Noise_0/SHO_LSQF_noise_0_0186.png\n",
      "Movies/SHO_LSQF_Noise_0/SHO_LSQF_noise_0_0187.png\n",
      "Movies/SHO_LSQF_Noise_0/SHO_LSQF_noise_0_0188.png\n",
      "Movies/SHO_LSQF_Noise_0/SHO_LSQF_noise_0_0189.png\n",
      "Movies/SHO_LSQF_Noise_0/SHO_LSQF_noise_0_0190.png\n",
      "Movies/SHO_LSQF_Noise_0/SHO_LSQF_noise_0_0191.png\n"
     ]
    }
   ],
   "source": [
    "BE_viz.SHO_fit_movie_images(noise = 0, \n",
    "                            scalebar_= True, \n",
    "                            basepath = \"Movies/SHO_LSQF_\",  \n",
    "                            filename=\"SHO_LSQF\",\n",
    "                            phase_shift = [np.pi/2])"
   ]
  },
  {
   "cell_type": "code",
   "execution_count": null,
   "id": "06f88a40",
   "metadata": {},
   "outputs": [],
   "source": []
  }
 ],
 "metadata": {
  "kernelspec": {
   "display_name": "rapid_fitting",
   "language": "python",
   "name": "python3"
  },
  "language_info": {
   "codemirror_mode": {
    "name": "ipython",
    "version": 3
   },
   "file_extension": ".py",
   "mimetype": "text/x-python",
   "name": "python",
   "nbconvert_exporter": "python",
   "pygments_lexer": "ipython3",
   "version": "3.10.6"
  },
  "varInspector": {
   "cols": {
    "lenName": 16,
    "lenType": 16,
    "lenVar": 40
   },
   "kernels_config": {
    "python": {
     "delete_cmd_postfix": "",
     "delete_cmd_prefix": "del ",
     "library": "var_list.py",
     "varRefreshCmd": "print(var_dic_list())"
    },
    "r": {
     "delete_cmd_postfix": ") ",
     "delete_cmd_prefix": "rm(",
     "library": "var_list.r",
     "varRefreshCmd": "cat(var_dic_list()) "
    }
   },
   "types_to_exclude": [
    "module",
    "function",
    "builtin_function_or_method",
    "instance",
    "_Feature"
   ],
   "window_display": false
  },
  "vscode": {
   "interpreter": {
    "hash": "c58f42fd11d8ae4df132d3c425059695e86ccc63a852aa66615442730ca8b1fc"
   }
  }
 },
 "nbformat": 4,
 "nbformat_minor": 5
}
