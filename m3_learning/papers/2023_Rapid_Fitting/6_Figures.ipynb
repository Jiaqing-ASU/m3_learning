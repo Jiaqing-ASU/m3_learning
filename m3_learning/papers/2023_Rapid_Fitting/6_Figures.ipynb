{
 "cells": [
  {
   "cell_type": "markdown",
   "id": "06636a43",
   "metadata": {},
   "source": [
    "# 6. Figures"
   ]
  },
  {
   "cell_type": "markdown",
   "id": "318af7f8",
   "metadata": {},
   "source": [
    "## Import Packages"
   ]
  },
  {
   "cell_type": "code",
   "execution_count": null,
   "id": "4378e0a3",
   "metadata": {},
   "outputs": [],
   "source": [
    "import sys\n",
    "\n",
    "sys.path.append(\"../../\")\n",
    "# sys.path.append(\"/home/ferroelectric/Documents/m3_learning/m3_learning/src\")\n",
    "sys.path.append('../../src')"
   ]
  },
  {
   "cell_type": "code",
   "execution_count": null,
   "id": "b34fe7fd",
   "metadata": {},
   "outputs": [],
   "source": []
  },
  {
   "cell_type": "markdown",
   "id": "c855b114",
   "metadata": {},
   "source": [
    "## Loads Data"
   ]
  },
  {
   "cell_type": "code",
   "execution_count": null,
   "id": "9c24be97",
   "metadata": {},
   "outputs": [],
   "source": [
    "# Specify the filename and the path to save the file\n",
    "filename = \"./data_raw_unmod.h5\"\n",
    "save_path = \"./Data\"\n",
    "\n",
    "\n",
    "data_path = save_path + \"/\" + filename\n",
    "\n",
    "# instantiate the dataset object\n",
    "dataset = BE_Dataset(data_path, SHO_fit_func_LSQF=SHO_fit_func_nn)\n",
    "\n",
    "# print the contents of the file\n",
    "dataset.print_be_tree()"
   ]
  },
  {
   "cell_type": "code",
   "execution_count": null,
   "id": "6a66d6b6",
   "metadata": {},
   "outputs": [],
   "source": [
    "# instantiates the visualization object\n",
    "BE_viz = Viz(dataset, printing, verbose=True)"
   ]
  },
  {
   "cell_type": "code",
   "execution_count": null,
   "id": "37a64afc",
   "metadata": {},
   "outputs": [],
   "source": []
  },
  {
   "cell_type": "code",
   "execution_count": null,
   "id": "a1e99472",
   "metadata": {},
   "outputs": [],
   "source": [
    "# you can view the test and training dataset by replacing X_data with X_test or X_train\n",
    "pred_data, scaled_param, parm = model.predict(X_data)\n",
    "\n",
    "BE_viz.SHO_switching_maps(parm, filename=\"Figure_15_NN_Switching_Maps\")"
   ]
  }
 ],
 "metadata": {
  "kernelspec": {
   "display_name": "alibek",
   "language": "python",
   "name": "alibek"
  },
  "language_info": {
   "codemirror_mode": {
    "name": "ipython",
    "version": 3
   },
   "file_extension": ".py",
   "mimetype": "text/x-python",
   "name": "python",
   "nbconvert_exporter": "python",
   "pygments_lexer": "ipython3",
   "version": "3.9.12"
  }
 },
 "nbformat": 4,
 "nbformat_minor": 5
}
