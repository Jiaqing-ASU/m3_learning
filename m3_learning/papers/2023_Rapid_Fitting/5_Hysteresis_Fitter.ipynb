{
 "cells": [
  {
   "attachments": {},
   "cell_type": "markdown",
   "metadata": {},
   "source": [
    "# Hysteresis Loops Fitting"
   ]
  },
  {
   "cell_type": "code",
   "execution_count": 1,
   "metadata": {},
   "outputs": [],
   "source": [
    "import sys\n",
    "sys.path.append('../../')\n",
    "sys.path.append(\"/home/ferroelectric/m3_learning/m3_learning/src\")"
   ]
  },
  {
   "cell_type": "code",
   "execution_count": 2,
   "metadata": {},
   "outputs": [
    {
     "name": "stderr",
     "output_type": "stream",
     "text": [
      "2023-09-18 09:37:11.158635: I tensorflow/core/platform/cpu_feature_guard.cc:182] This TensorFlow binary is optimized to use available CPU instructions in performance-critical operations.\n",
      "To enable the following instructions: AVX2 FMA, in other operations, rebuild TensorFlow with the appropriate compiler flags.\n",
      "2023-09-18 09:37:11.736323: W tensorflow/compiler/tf2tensorrt/utils/py_utils.cc:38] TF-TRT Warning: Could not find TensorRT\n"
     ]
    },
    {
     "name": "stdout",
     "output_type": "stream",
     "text": [
      "printing set for seaborn\n",
      "Pytorch seed was set to 42\n",
      "Numpy seed was set to 42\n",
      "tensorflow seed was set to 42\n"
     ]
    }
   ],
   "source": [
    "%load_ext autoreload\n",
    "%autoreload 2\n",
    "\n",
    "import h5py\n",
    "import pyUSID as usid\n",
    "\n",
    "from src.m3_learning.be.processing import fit_loop_function, loop_lsqf\n",
    "from m3_learning.be.loop_fitter import loop_fitting_function_torch\n",
    "from m3_learning.viz.layout import subfigures\n",
    "\n",
    "import numpy as np\n",
    "\n",
    "from m3_learning.nn.random import random_seed\n",
    "from m3_learning.viz.style import set_style\n",
    "from m3_learning.viz.printing import printer\n",
    "from m3_learning.be.viz import Viz\n",
    "from m3_learning.be.dataset import BE_Dataset\n",
    "from m3_learning.be.nn import SHO_fit_func_nn, SHO_Model\n",
    "from m3_learning.nn.Fitter1D.Fitter1D import Multiscale1DFitter, Model\n",
    "from m3_learning.be.filters import clean_interpolate\n",
    "\n",
    "printing = printer(basepath = './Figures/')\n",
    "\n",
    "\n",
    "set_style(\"printing\")\n",
    "random_seed(seed=42)\n",
    "\n",
    "%matplotlib inline"
   ]
  },
  {
   "attachments": {},
   "cell_type": "markdown",
   "metadata": {},
   "source": [
    "## Loads data"
   ]
  },
  {
   "cell_type": "code",
   "execution_count": 3,
   "metadata": {},
   "outputs": [
    {
     "name": "stdout",
     "output_type": "stream",
     "text": [
      "No spectroscopic datasets found as attributes of /Measurement_000/Channel_000/Position_Indices\n",
      "No position datasets found as attributes of /Raw_Data-SHO_Fit_000/Spectroscopic_Values\n",
      "/\n",
      "├ Measurement_000\n",
      "  ---------------\n",
      "  ├ Channel_000\n",
      "    -----------\n",
      "    ├ Bin_FFT\n",
      "    ├ Bin_Frequencies\n",
      "    ├ Bin_Indices\n",
      "    ├ Bin_Step\n",
      "    ├ Bin_Wfm_Type\n",
      "    ├ Excitation_Waveform\n",
      "    ├ Noise_Floor\n",
      "    ├ Position_Indices\n",
      "    ├ Position_Values\n",
      "    ├ Raw_Data\n",
      "    ├ Spatially_Averaged_Plot_Group_000\n",
      "      ---------------------------------\n",
      "      ├ Bin_Frequencies\n",
      "      ├ Max_Response\n",
      "      ├ Mean_Spectrogram\n",
      "      ├ Min_Response\n",
      "      ├ Spectroscopic_Parameter\n",
      "      ├ Step_Averaged_Response\n",
      "    ├ Spatially_Averaged_Plot_Group_001\n",
      "      ---------------------------------\n",
      "      ├ Bin_Frequencies\n",
      "      ├ Max_Response\n",
      "      ├ Mean_Spectrogram\n",
      "      ├ Min_Response\n",
      "      ├ Spectroscopic_Parameter\n",
      "      ├ Step_Averaged_Response\n",
      "    ├ Spectroscopic_Indices\n",
      "    ├ Spectroscopic_Values\n",
      "    ├ UDVS\n",
      "    ├ UDVS_Indices\n",
      "├ Raw_Data-SHO_Fit_000\n",
      "  --------------------\n",
      "  ├ Fit\n",
      "  ├ Fit-Loop_Fit_000\n",
      "    ----------------\n",
      "    ├ Fit\n",
      "    ├ Fit_Loop_Parameters\n",
      "    ├ Guess\n",
      "    ├ Guess_Loop_Parameters\n",
      "    ├ Loop_Metrics\n",
      "    ├ Loop_Metrics_Indices\n",
      "    ├ Loop_Metrics_Values\n",
      "    ├ Projected_Loops\n",
      "    ├ completed_fit_positions\n",
      "    ├ completed_guess_positions\n",
      "    ├ completed_positions\n",
      "  ├ Guess\n",
      "  ├ Spectroscopic_Indices\n",
      "  ├ Spectroscopic_Values\n",
      "  ├ completed_fit_positions\n",
      "  ├ completed_guess_positions\n",
      "Datasets and datagroups within the file:\n",
      "------------------------------------\n",
      "/\n",
      "/Measurement_000\n",
      "/Measurement_000/Channel_000\n",
      "/Measurement_000/Channel_000/Bin_FFT\n",
      "/Measurement_000/Channel_000/Bin_Frequencies\n",
      "/Measurement_000/Channel_000/Bin_Indices\n",
      "/Measurement_000/Channel_000/Bin_Step\n",
      "/Measurement_000/Channel_000/Bin_Wfm_Type\n",
      "/Measurement_000/Channel_000/Excitation_Waveform\n",
      "/Measurement_000/Channel_000/Noise_Floor\n",
      "/Measurement_000/Channel_000/Position_Indices\n",
      "/Measurement_000/Channel_000/Position_Values\n",
      "/Measurement_000/Channel_000/Raw_Data\n",
      "/Measurement_000/Channel_000/Spatially_Averaged_Plot_Group_000\n",
      "/Measurement_000/Channel_000/Spatially_Averaged_Plot_Group_000/Bin_Frequencies\n",
      "/Measurement_000/Channel_000/Spatially_Averaged_Plot_Group_000/Max_Response\n",
      "/Measurement_000/Channel_000/Spatially_Averaged_Plot_Group_000/Mean_Spectrogram\n",
      "/Measurement_000/Channel_000/Spatially_Averaged_Plot_Group_000/Min_Response\n",
      "/Measurement_000/Channel_000/Spatially_Averaged_Plot_Group_000/Spectroscopic_Parameter\n",
      "/Measurement_000/Channel_000/Spatially_Averaged_Plot_Group_000/Step_Averaged_Response\n",
      "/Measurement_000/Channel_000/Spatially_Averaged_Plot_Group_001\n",
      "/Measurement_000/Channel_000/Spatially_Averaged_Plot_Group_001/Bin_Frequencies\n",
      "/Measurement_000/Channel_000/Spatially_Averaged_Plot_Group_001/Max_Response\n",
      "/Measurement_000/Channel_000/Spatially_Averaged_Plot_Group_001/Mean_Spectrogram\n",
      "/Measurement_000/Channel_000/Spatially_Averaged_Plot_Group_001/Min_Response\n",
      "/Measurement_000/Channel_000/Spatially_Averaged_Plot_Group_001/Spectroscopic_Parameter\n",
      "/Measurement_000/Channel_000/Spatially_Averaged_Plot_Group_001/Step_Averaged_Response\n",
      "/Measurement_000/Channel_000/Spectroscopic_Indices\n",
      "/Measurement_000/Channel_000/Spectroscopic_Values\n",
      "/Measurement_000/Channel_000/UDVS\n",
      "/Measurement_000/Channel_000/UDVS_Indices\n",
      "/Raw_Data-SHO_Fit_000\n",
      "/Raw_Data-SHO_Fit_000/Fit\n",
      "/Raw_Data-SHO_Fit_000/Fit-Loop_Fit_000\n",
      "/Raw_Data-SHO_Fit_000/Fit-Loop_Fit_000/Fit\n",
      "/Raw_Data-SHO_Fit_000/Fit-Loop_Fit_000/Fit_Loop_Parameters\n",
      "/Raw_Data-SHO_Fit_000/Fit-Loop_Fit_000/Guess\n",
      "/Raw_Data-SHO_Fit_000/Fit-Loop_Fit_000/Guess_Loop_Parameters\n",
      "/Raw_Data-SHO_Fit_000/Fit-Loop_Fit_000/Loop_Metrics\n",
      "/Raw_Data-SHO_Fit_000/Fit-Loop_Fit_000/Loop_Metrics_Indices\n",
      "/Raw_Data-SHO_Fit_000/Fit-Loop_Fit_000/Loop_Metrics_Values\n",
      "/Raw_Data-SHO_Fit_000/Fit-Loop_Fit_000/Projected_Loops\n",
      "/Raw_Data-SHO_Fit_000/Fit-Loop_Fit_000/completed_fit_positions\n",
      "/Raw_Data-SHO_Fit_000/Fit-Loop_Fit_000/completed_guess_positions\n",
      "/Raw_Data-SHO_Fit_000/Fit-Loop_Fit_000/completed_positions\n",
      "/Raw_Data-SHO_Fit_000/Guess\n",
      "/Raw_Data-SHO_Fit_000/Spectroscopic_Indices\n",
      "/Raw_Data-SHO_Fit_000/Spectroscopic_Values\n",
      "/Raw_Data-SHO_Fit_000/completed_fit_positions\n",
      "/Raw_Data-SHO_Fit_000/completed_guess_positions\n",
      "\n",
      "The main dataset:\n",
      "------------------------------------\n",
      "<HDF5 file \"data_raw_unmod.h5\" (mode r+)>\n",
      "\n",
      "The ancillary datasets:\n",
      "------------------------------------\n",
      "<HDF5 dataset \"Position_Indices\": shape (3600, 2), type \"<u4\">\n",
      "<HDF5 dataset \"Position_Values\": shape (3600, 2), type \"<f4\">\n",
      "<HDF5 dataset \"Spectroscopic_Indices\": shape (4, 63360), type \"<u4\">\n",
      "<HDF5 dataset \"Spectroscopic_Values\": shape (4, 63360), type \"<f4\">\n",
      "\n",
      "Metadata or attributes in a datagroup\n",
      "------------------------------------\n",
      "BE_actual_duration_[s] : 0.004\n",
      "BE_amplitude_[V] : 1\n",
      "BE_auto_smoothing : auto smoothing on\n",
      "BE_band_edge_smoothing_[s] : 4832.1\n",
      "BE_band_edge_trim : 0.094742\n",
      "BE_band_width_[Hz] : 200000\n",
      "BE_bins_per_band : 0\n",
      "BE_center_frequency_[Hz] : 1310000\n",
      "BE_desired_duration_[s] : 0.004\n",
      "BE_phase_content : chirp-sinc hybrid\n",
      "BE_phase_variation : 1\n",
      "BE_points_per_BE_wave : 0\n",
      "BE_repeats : 4\n",
      "FORC_V_high1_[V] : 1\n",
      "FORC_V_high2_[V] : 10\n",
      "FORC_V_low1_[V] : -1\n",
      "FORC_V_low2_[V] : -10\n",
      "FORC_num_of_FORC_cycles : 1\n",
      "FORC_num_of_FORC_repeats : 1\n",
      "File_MDAQ_version : MDAQ_VS_090915_01\n",
      "File_date_and_time : 18-Sep-2015 18:32:14\n",
      "File_file_name : SP128_NSO\n",
      "File_file_path : C:\\Users\\Asylum User\\Documents\\Users\\Agar\\SP128_NSO\\\n",
      "File_file_suffix : 99\n",
      "IO_AO_amplifier : 10\n",
      "IO_AO_range_[V] : +/- 10\n",
      "IO_Analog_Input_1 : +/- .1V, FFT\n",
      "IO_Analog_Input_2 : off\n",
      "IO_Analog_Input_3 : off\n",
      "IO_Analog_Input_4 : off\n",
      "IO_DAQ_platform : NI 6115\n",
      "IO_rate_[Hz] : 4000000\n",
      "VS_amplitude_[V] : 16\n",
      "VS_cycle_fraction : full\n",
      "VS_cycle_phase_shift : 0\n",
      "VS_measure_in_field_loops : in and out-of-field\n",
      "VS_mode : DC modulation mode\n",
      "VS_number_of_cycles : 2\n",
      "VS_offset_[V] : 0\n",
      "VS_read_voltage_[V] : 0\n",
      "VS_set_pulse_amplitude[V] : 0\n",
      "VS_set_pulse_duration[s] : 0.002\n",
      "VS_step_edge_smoothing_[s] : 0.001\n",
      "VS_steps_per_full_cycle : 96\n",
      "data_type : BEPSData\n",
      "grid_/single : grid\n",
      "grid_contact_set_point_[V] : 1\n",
      "grid_current_col : 1\n",
      "grid_current_row : 1\n",
      "grid_cycle_time_[s] : 10\n",
      "grid_measuring : 0\n",
      "grid_moving : 0\n",
      "grid_num_cols : 60\n",
      "grid_num_rows : 60\n",
      "grid_settle_time_[s] : 0.15\n",
      "grid_time_remaining_[h;m;s] : 10\n",
      "grid_total_time_[h;m;s] : 10\n",
      "grid_transit_set_point_[V] : 0.1\n",
      "grid_transit_time_[s] : 0.15\n",
      "num_bins : 165\n",
      "num_pix : 3600\n",
      "num_udvs_steps : 384\n"
     ]
    }
   ],
   "source": [
    "# Specify the filename and the path to save the file\n",
    "filename = 'data_raw_unmod.h5'\n",
    "save_path = \"./Data\"\n",
    "\n",
    "data_path = save_path + \"/\" + filename\n",
    "\n",
    "# instantiate the dataset object\n",
    "dataset = BE_Dataset(data_path)\n",
    "\n",
    "# print the contents of the file\n",
    "dataset.print_be_tree()"
   ]
  },
  {
   "attachments": {},
   "cell_type": "markdown",
   "metadata": {},
   "source": [
    "## Performs SHO fits"
   ]
  },
  {
   "cell_type": "code",
   "execution_count": 4,
   "metadata": {},
   "outputs": [
    {
     "name": "stdout",
     "output_type": "stream",
     "text": [
      "Consider calling test() to check results before calling compute() which computes on the entire dataset and writes results to the HDF5 file\n",
      "\n",
      "Note: Loop_Fit has already been performed with the same parameters before. These results will be returned by compute() by default. Set override to True to force fresh computation\n",
      "\n",
      "[<HDF5 group \"/Raw_Data-SHO_Fit_000/Fit-Loop_Fit_000\" (11 members)>]\n",
      "\n",
      "Note: Loop_Fit has already been performed with the same parameters before. These results will be returned by compute() by default. Set override to True to force fresh computation\n",
      "\n",
      "[<HDF5 group \"/Raw_Data-SHO_Fit_000/Fit-Loop_Fit_000\" (11 members)>]\n",
      "Returned previously computed results at /Raw_Data-SHO_Fit_000/Fit-Loop_Fit_000\n",
      "\n",
      "Note: Loop_Fit has already been performed with the same parameters before. These results will be returned by compute() by default. Set override to True to force fresh computation\n",
      "\n",
      "[<HDF5 group \"/Raw_Data-SHO_Fit_000/Fit-Loop_Fit_000\" (11 members)>]\n",
      "Returned previously computed results at /Raw_Data-SHO_Fit_000/Fit-Loop_Fit_000\n"
     ]
    },
    {
     "name": "stderr",
     "output_type": "stream",
     "text": [
      "/home/ferroelectric/micromamba/envs/shofittting/lib/python3.10/site-packages/pyUSID/io/hdf_utils/simple.py:888: UserWarning: A dataset named: Guess_Loop_Parameters already exists in group: /Raw_Data-SHO_Fit_000/Fit-Loop_Fit_000\n",
      "  warn('A dataset named: {} already exists in group: {}'.format(dset_name, h5_group.name))\n",
      "/home/ferroelectric/micromamba/envs/shofittting/lib/python3.10/site-packages/pyUSID/io/hdf_utils/simple.py:888: UserWarning: A dataset named: Fit_Loop_Parameters already exists in group: /Raw_Data-SHO_Fit_000/Fit-Loop_Fit_000\n",
      "  warn('A dataset named: {} already exists in group: {}'.format(dset_name, h5_group.name))\n"
     ]
    }
   ],
   "source": [
    "h5_loop_fit, h5_loop_group = dataset.LSQF_Loop_Fit()"
   ]
  },
  {
   "cell_type": "markdown",
   "metadata": {},
   "source": [
    "## Visualize LSQF fit results"
   ]
  },
  {
   "cell_type": "code",
   "execution_count": 5,
   "metadata": {},
   "outputs": [
    {
     "name": "stdout",
     "output_type": "stream",
     "text": [
      "No spectroscopic datasets found as attributes of /Measurement_000/Channel_000/Position_Indices\n",
      "No position datasets found as attributes of /Raw_Data-SHO_Fit_000/Spectroscopic_Values\n"
     ]
    }
   ],
   "source": [
    "# insatiate the visualization object\n",
    "image_scalebar = [2000, 500, \"nm\", \"br\"]\n",
    "\n",
    "# instantiate the dataset object\n",
    "dataset = BE_Dataset(data_path)\n",
    "\n",
    "BE_viz = Viz(dataset, printing, verbose=True, \n",
    "             SHO_ranges = [(0,1.5e-4), (1.31e6, 1.33e6), (-300, 300), (-np.pi, np.pi)], \n",
    "             image_scalebar = image_scalebar)"
   ]
  },
  {
   "cell_type": "code",
   "execution_count": 6,
   "metadata": {},
   "outputs": [
    {
     "name": "stdout",
     "output_type": "stream",
     "text": [
      "No spectroscopic datasets found as attributes of /Measurement_000/Channel_000/Position_Indices\n",
      "No position datasets found as attributes of /Raw_Data-SHO_Fit_000/Spectroscopic_Values\n"
     ]
    },
    {
     "ename": "type",
     "evalue": "x and y must have same first dimension, but have shapes (96,) and (48, 96)",
     "output_type": "error",
     "traceback": [
      "\u001b[0;31m---------------------------------------------------------------------------\u001b[0m",
      "\u001b[0;31mValueError\u001b[0m                                Traceback (most recent call last)",
      "\u001b[1;32m/home/ferroelectric/m3_learning/m3_learning/papers/2023_Rapid_Fitting/5_Hysteresis_Fitter.ipynb Cell 10\u001b[0m line \u001b[0;36m1\n\u001b[0;32m----> <a href='vscode-notebook-cell://ssh-remote%2B10.248.36.21/home/ferroelectric/m3_learning/m3_learning/papers/2023_Rapid_Fitting/5_Hysteresis_Fitter.ipynb#X12sdnNjb2RlLXJlbW90ZQ%3D%3D?line=0'>1</a>\u001b[0m BE_viz\u001b[39m.\u001b[39;49mhysteresis_comparison(data \u001b[39m=\u001b[39;49m [\u001b[39m'\u001b[39;49m\u001b[39mLSQF\u001b[39;49m\u001b[39m'\u001b[39;49m])\n",
      "File \u001b[0;32m~/m3_learning/m3_learning/src/m3_learning/be/viz.py:2381\u001b[0m, in \u001b[0;36mViz.hysteresis_comparison\u001b[0;34m(self, data, row, col, cycle, size, measurement_state, filename)\u001b[0m\n\u001b[1;32m   2377\u001b[0m     parms \u001b[39m=\u001b[39m \u001b[39mself\u001b[39m\u001b[39m.\u001b[39mdataset\u001b[39m.\u001b[39mLSQF_hysteresis_params(\n\u001b[1;32m   2378\u001b[0m     )[row, col, cycle, :]\u001b[39m.\u001b[39mreshape(\u001b[39m-\u001b[39m\u001b[39m1\u001b[39m, \u001b[39m9\u001b[39m)\n\u001b[1;32m   2379\u001b[0m     loop \u001b[39m=\u001b[39m loop_fitting_function_torch(parms, voltage[:, [\u001b[39m0\u001b[39m]])\u001b[39m.\u001b[39mto(\n\u001b[1;32m   2380\u001b[0m         \u001b[39m'\u001b[39m\u001b[39mcpu\u001b[39m\u001b[39m'\u001b[39m)\u001b[39m.\u001b[39mdetach()\u001b[39m.\u001b[39mnumpy()\u001b[39m.\u001b[39msqueeze()\n\u001b[0;32m-> 2381\u001b[0m     ax[\u001b[39m0\u001b[39;49m]\u001b[39m.\u001b[39;49mplot(voltage[:, cycle]\u001b[39m.\u001b[39;49msqueeze(), loop, \u001b[39m'\u001b[39;49m\u001b[39mr\u001b[39;49m\u001b[39m'\u001b[39;49m, label\u001b[39m=\u001b[39;49m\u001b[39m'\u001b[39;49m\u001b[39mLSQF\u001b[39;49m\u001b[39m'\u001b[39;49m)\n\u001b[1;32m   2383\u001b[0m ax[\u001b[39m0\u001b[39m]\u001b[39m.\u001b[39mset_xlabel(\u001b[39m'\u001b[39m\u001b[39mVoltage (V)\u001b[39m\u001b[39m'\u001b[39m)\n\u001b[1;32m   2384\u001b[0m ax[\u001b[39m0\u001b[39m]\u001b[39m.\u001b[39mset_ylabel(\u001b[39m'\u001b[39m\u001b[39mAmplitude (Arb. U.)\u001b[39m\u001b[39m'\u001b[39m)\n",
      "File \u001b[0;32m~/micromamba/envs/shofittting/lib/python3.10/site-packages/matplotlib/axes/_axes.py:1688\u001b[0m, in \u001b[0;36mAxes.plot\u001b[0;34m(self, scalex, scaley, data, *args, **kwargs)\u001b[0m\n\u001b[1;32m   1445\u001b[0m \u001b[39m\u001b[39m\u001b[39m\"\"\"\u001b[39;00m\n\u001b[1;32m   1446\u001b[0m \u001b[39mPlot y versus x as lines and/or markers.\u001b[39;00m\n\u001b[1;32m   1447\u001b[0m \n\u001b[0;32m   (...)\u001b[0m\n\u001b[1;32m   1685\u001b[0m \u001b[39m(``'green'``) or hex strings (``'#008000'``).\u001b[39;00m\n\u001b[1;32m   1686\u001b[0m \u001b[39m\"\"\"\u001b[39;00m\n\u001b[1;32m   1687\u001b[0m kwargs \u001b[39m=\u001b[39m cbook\u001b[39m.\u001b[39mnormalize_kwargs(kwargs, mlines\u001b[39m.\u001b[39mLine2D)\n\u001b[0;32m-> 1688\u001b[0m lines \u001b[39m=\u001b[39m [\u001b[39m*\u001b[39m\u001b[39mself\u001b[39m\u001b[39m.\u001b[39m_get_lines(\u001b[39m*\u001b[39margs, data\u001b[39m=\u001b[39mdata, \u001b[39m*\u001b[39m\u001b[39m*\u001b[39mkwargs)]\n\u001b[1;32m   1689\u001b[0m \u001b[39mfor\u001b[39;00m line \u001b[39min\u001b[39;00m lines:\n\u001b[1;32m   1690\u001b[0m     \u001b[39mself\u001b[39m\u001b[39m.\u001b[39madd_line(line)\n",
      "File \u001b[0;32m~/micromamba/envs/shofittting/lib/python3.10/site-packages/matplotlib/axes/_base.py:311\u001b[0m, in \u001b[0;36m_process_plot_var_args.__call__\u001b[0;34m(self, data, *args, **kwargs)\u001b[0m\n\u001b[1;32m    309\u001b[0m     this \u001b[39m+\u001b[39m\u001b[39m=\u001b[39m args[\u001b[39m0\u001b[39m],\n\u001b[1;32m    310\u001b[0m     args \u001b[39m=\u001b[39m args[\u001b[39m1\u001b[39m:]\n\u001b[0;32m--> 311\u001b[0m \u001b[39myield from\u001b[39;00m \u001b[39mself\u001b[39;49m\u001b[39m.\u001b[39;49m_plot_args(\n\u001b[1;32m    312\u001b[0m     this, kwargs, ambiguous_fmt_datakey\u001b[39m=\u001b[39;49mambiguous_fmt_datakey)\n",
      "File \u001b[0;32m~/micromamba/envs/shofittting/lib/python3.10/site-packages/matplotlib/axes/_base.py:504\u001b[0m, in \u001b[0;36m_process_plot_var_args._plot_args\u001b[0;34m(self, tup, kwargs, return_kwargs, ambiguous_fmt_datakey)\u001b[0m\n\u001b[1;32m    501\u001b[0m     \u001b[39mself\u001b[39m\u001b[39m.\u001b[39maxes\u001b[39m.\u001b[39myaxis\u001b[39m.\u001b[39mupdate_units(y)\n\u001b[1;32m    503\u001b[0m \u001b[39mif\u001b[39;00m x\u001b[39m.\u001b[39mshape[\u001b[39m0\u001b[39m] \u001b[39m!=\u001b[39m y\u001b[39m.\u001b[39mshape[\u001b[39m0\u001b[39m]:\n\u001b[0;32m--> 504\u001b[0m     \u001b[39mraise\u001b[39;00m \u001b[39mValueError\u001b[39;00m(\u001b[39mf\u001b[39m\u001b[39m\"\u001b[39m\u001b[39mx and y must have same first dimension, but \u001b[39m\u001b[39m\"\u001b[39m\n\u001b[1;32m    505\u001b[0m                      \u001b[39mf\u001b[39m\u001b[39m\"\u001b[39m\u001b[39mhave shapes \u001b[39m\u001b[39m{\u001b[39;00mx\u001b[39m.\u001b[39mshape\u001b[39m}\u001b[39;00m\u001b[39m and \u001b[39m\u001b[39m{\u001b[39;00my\u001b[39m.\u001b[39mshape\u001b[39m}\u001b[39;00m\u001b[39m\"\u001b[39m)\n\u001b[1;32m    506\u001b[0m \u001b[39mif\u001b[39;00m x\u001b[39m.\u001b[39mndim \u001b[39m>\u001b[39m \u001b[39m2\u001b[39m \u001b[39mor\u001b[39;00m y\u001b[39m.\u001b[39mndim \u001b[39m>\u001b[39m \u001b[39m2\u001b[39m:\n\u001b[1;32m    507\u001b[0m     \u001b[39mraise\u001b[39;00m \u001b[39mValueError\u001b[39;00m(\u001b[39mf\u001b[39m\u001b[39m\"\u001b[39m\u001b[39mx and y can be no greater than 2D, but have \u001b[39m\u001b[39m\"\u001b[39m\n\u001b[1;32m    508\u001b[0m                      \u001b[39mf\u001b[39m\u001b[39m\"\u001b[39m\u001b[39mshapes \u001b[39m\u001b[39m{\u001b[39;00mx\u001b[39m.\u001b[39mshape\u001b[39m}\u001b[39;00m\u001b[39m and \u001b[39m\u001b[39m{\u001b[39;00my\u001b[39m.\u001b[39mshape\u001b[39m}\u001b[39;00m\u001b[39m\"\u001b[39m)\n",
      "\u001b[0;31mValueError\u001b[0m: x and y must have same first dimension, but have shapes (96,) and (48, 96)"
     ]
    },
    {
     "data": {
      "image/png": "[encoded data removed]",
      "text/plain": [
       "<Figure size 205x158 with 1 Axes>"
      ]
     },
     "metadata": {},
     "output_type": "display_data"
    }
   ],
   "source": [
    "BE_viz.hysteresis_comparison(data = ['LSQF'])"
   ]
  },
  {
   "cell_type": "markdown",
   "metadata": {},
   "source": [
    "## Neural Network Fits"
   ]
  },
  {
   "cell_type": "code",
   "execution_count": 12,
   "metadata": {},
   "outputs": [
    {
     "data": {
      "text/html": [
       "<style>#sk-container-id-1 {color: black;background-color: white;}#sk-container-id-1 pre{padding: 0;}#sk-container-id-1 div.sk-toggleable {background-color: white;}#sk-container-id-1 label.sk-toggleable__label {cursor: pointer;display: block;width: 100%;margin-bottom: 0;padding: 0.3em;box-sizing: border-box;text-align: center;}#sk-container-id-1 label.sk-toggleable__label-arrow:before {content: \"▸\";float: left;margin-right: 0.25em;color: #696969;}#sk-container-id-1 label.sk-toggleable__label-arrow:hover:before {color: black;}#sk-container-id-1 div.sk-estimator:hover label.sk-toggleable__label-arrow:before {color: black;}#sk-container-id-1 div.sk-toggleable__content {max-height: 0;max-width: 0;overflow: hidden;text-align: left;background-color: #f0f8ff;}#sk-container-id-1 div.sk-toggleable__content pre {margin: 0.2em;color: black;border-radius: 0.25em;background-color: #f0f8ff;}#sk-container-id-1 input.sk-toggleable__control:checked~div.sk-toggleable__content {max-height: 200px;max-width: 100%;overflow: auto;}#sk-container-id-1 input.sk-toggleable__control:checked~label.sk-toggleable__label-arrow:before {content: \"▾\";}#sk-container-id-1 div.sk-estimator input.sk-toggleable__control:checked~label.sk-toggleable__label {background-color: #d4ebff;}#sk-container-id-1 div.sk-label input.sk-toggleable__control:checked~label.sk-toggleable__label {background-color: #d4ebff;}#sk-container-id-1 input.sk-hidden--visually {border: 0;clip: rect(1px 1px 1px 1px);clip: rect(1px, 1px, 1px, 1px);height: 1px;margin: -1px;overflow: hidden;padding: 0;position: absolute;width: 1px;}#sk-container-id-1 div.sk-estimator {font-family: monospace;background-color: #f0f8ff;border: 1px dotted black;border-radius: 0.25em;box-sizing: border-box;margin-bottom: 0.5em;}#sk-container-id-1 div.sk-estimator:hover {background-color: #d4ebff;}#sk-container-id-1 div.sk-parallel-item::after {content: \"\";width: 100%;border-bottom: 1px solid gray;flex-grow: 1;}#sk-container-id-1 div.sk-label:hover label.sk-toggleable__label {background-color: #d4ebff;}#sk-container-id-1 div.sk-serial::before {content: \"\";position: absolute;border-left: 1px solid gray;box-sizing: border-box;top: 0;bottom: 0;left: 50%;z-index: 0;}#sk-container-id-1 div.sk-serial {display: flex;flex-direction: column;align-items: center;background-color: white;padding-right: 0.2em;padding-left: 0.2em;position: relative;}#sk-container-id-1 div.sk-item {position: relative;z-index: 1;}#sk-container-id-1 div.sk-parallel {display: flex;align-items: stretch;justify-content: center;background-color: white;position: relative;}#sk-container-id-1 div.sk-item::before, #sk-container-id-1 div.sk-parallel-item::before {content: \"\";position: absolute;border-left: 1px solid gray;box-sizing: border-box;top: 0;bottom: 0;left: 50%;z-index: -1;}#sk-container-id-1 div.sk-parallel-item {display: flex;flex-direction: column;z-index: 1;position: relative;background-color: white;}#sk-container-id-1 div.sk-parallel-item:first-child::after {align-self: flex-end;width: 50%;}#sk-container-id-1 div.sk-parallel-item:last-child::after {align-self: flex-start;width: 50%;}#sk-container-id-1 div.sk-parallel-item:only-child::after {width: 0;}#sk-container-id-1 div.sk-dashed-wrapped {border: 1px dashed gray;margin: 0 0.4em 0.5em 0.4em;box-sizing: border-box;padding-bottom: 0.4em;background-color: white;}#sk-container-id-1 div.sk-label label {font-family: monospace;font-weight: bold;display: inline-block;line-height: 1.2em;}#sk-container-id-1 div.sk-label-container {text-align: center;}#sk-container-id-1 div.sk-container {/* jupyter's `normalize.less` sets `[hidden] { display: none; }` but bootstrap.min.css set `[hidden] { display: none !important; }` so we also need the `!important` here to be able to override the default hidden behavior on the sphinx rendered scikit-learn.org. See: https://github.com/scikit-learn/scikit-learn/issues/21755 */display: inline-block !important;position: relative;}#sk-container-id-1 div.sk-text-repr-fallback {display: none;}</style><div id=\"sk-container-id-1\" class=\"sk-top-container\"><div class=\"sk-text-repr-fallback\"><pre>StandardScaler()</pre><b>In a Jupyter environment, please rerun this cell to show the HTML representation or trust the notebook. <br />On GitHub, the HTML representation is unable to render, please try loading this page with nbviewer.org.</b></div><div class=\"sk-container\" hidden><div class=\"sk-item\"><div class=\"sk-estimator sk-toggleable\"><input class=\"sk-toggleable__control sk-hidden--visually\" id=\"sk-estimator-id-1\" type=\"checkbox\" checked><label for=\"sk-estimator-id-1\" class=\"sk-toggleable__label sk-toggleable__label-arrow\">StandardScaler</label><div class=\"sk-toggleable__content\"><pre>StandardScaler()</pre></div></div></div></div></div>"
      ],
      "text/plain": [
       "StandardScaler()"
      ]
     },
     "execution_count": 12,
     "metadata": {},
     "output_type": "execute_result"
    }
   ],
   "source": [
    "dataset.loop_param_scaler"
   ]
  },
  {
   "cell_type": "code",
   "execution_count": 7,
   "metadata": {},
   "outputs": [
    {
     "name": "stdout",
     "output_type": "stream",
     "text": [
      "No spectroscopic datasets found as attributes of /Measurement_000/Channel_000/Position_Indices\n",
      "No position datasets found as attributes of /Raw_Data-SHO_Fit_000/Spectroscopic_Values\n",
      "Using GPU NVIDIA GeForce RTX 3090\n",
      "Pytorch seed was set to 42\n",
      "Numpy seed was set to 42\n",
      "tensorflow seed was set to 42\n"
     ]
    },
    {
     "name": "stderr",
     "output_type": "stream",
     "text": [
      "/home/ferroelectric/micromamba/envs/shofittting/lib/python3.10/site-packages/torch/autograd/__init__.py:200: UserWarning: Using backward() with create_graph=True will create a reference cycle between the parameter and its gradient which can cause a memory leak. We recommend using autograd.grad when creating the graph to avoid this. If you have to use this function, make sure to reset the .grad fields of your parameters to None after use to break the cycle and avoid the leak. (Triggered internally at ../torch/csrc/autograd/engine.cpp:1151.)\n",
      "  Variable._execution_engine.run_backward(  # Calls into the C++ engine to run the backward pass\n"
     ]
    },
    {
     "name": "stdout",
     "output_type": "stream",
     "text": [
      "Adam\n",
      "epoch : 1/200, recon loss = 1.00276713\n",
      "--- 0.7808313369750977 seconds ---\n",
      "Adam\n",
      "epoch : 2/200, recon loss = 1.00260499\n",
      "--- 0.18821144104003906 seconds ---\n",
      "Adam\n",
      "epoch : 3/200, recon loss = 1.00126108\n",
      "--- 0.19001388549804688 seconds ---\n",
      "Adam\n",
      "epoch : 4/200, recon loss = 0.98143562\n",
      "--- 0.18822669982910156 seconds ---\n",
      "Adam\n",
      "epoch : 5/200, recon loss = 0.86587948\n",
      "--- 0.18846917152404785 seconds ---\n",
      "Adam\n",
      "epoch : 6/200, recon loss = 0.76075434\n",
      "--- 0.17860889434814453 seconds ---\n",
      "Adam\n",
      "epoch : 7/200, recon loss = 0.70656085\n",
      "--- 0.17877888679504395 seconds ---\n",
      "Adam\n",
      "epoch : 8/200, recon loss = 0.66438686\n",
      "--- 0.17773890495300293 seconds ---\n",
      "Adam\n",
      "epoch : 9/200, recon loss = 0.64414320\n",
      "--- 0.17885971069335938 seconds ---\n",
      "Adam\n",
      "epoch : 10/200, recon loss = 0.59041630\n",
      "--- 0.17812108993530273 seconds ---\n",
      "Adam\n",
      "epoch : 11/200, recon loss = 0.52949466\n",
      "--- 0.1768951416015625 seconds ---\n",
      "Adam\n",
      "epoch : 12/200, recon loss = 0.52037156\n",
      "--- 0.17771315574645996 seconds ---\n",
      "Adam\n",
      "epoch : 13/200, recon loss = 0.50977792\n",
      "--- 0.17711806297302246 seconds ---\n",
      "Adam\n",
      "epoch : 14/200, recon loss = 0.50264522\n",
      "--- 0.1760118007659912 seconds ---\n",
      "Adam\n",
      "epoch : 15/200, recon loss = 0.50041527\n",
      "--- 0.1781153678894043 seconds ---\n",
      "Adam\n",
      "epoch : 16/200, recon loss = 0.49902588\n",
      "--- 0.17531633377075195 seconds ---\n",
      "Adam\n",
      "epoch : 17/200, recon loss = 0.49736446\n",
      "--- 0.17828631401062012 seconds ---\n",
      "Adam\n",
      "epoch : 18/200, recon loss = 0.49565972\n",
      "--- 0.17807507514953613 seconds ---\n",
      "Adam\n",
      "epoch : 19/200, recon loss = 0.49393165\n",
      "--- 0.17914581298828125 seconds ---\n",
      "Adam\n",
      "epoch : 20/200, recon loss = 0.49263707\n",
      "--- 0.178483247756958 seconds ---\n",
      "Adam\n",
      "epoch : 21/200, recon loss = 0.49150970\n",
      "--- 0.178541898727417 seconds ---\n",
      "Adam\n",
      "epoch : 22/200, recon loss = 0.49032116\n",
      "--- 0.1786365509033203 seconds ---\n",
      "Adam\n",
      "epoch : 23/200, recon loss = 0.48945584\n",
      "--- 0.17849326133728027 seconds ---\n",
      "Adam\n",
      "epoch : 24/200, recon loss = 0.48871266\n",
      "--- 0.17815208435058594 seconds ---\n",
      "Adam\n",
      "epoch : 25/200, recon loss = 0.48821815\n",
      "--- 0.17835116386413574 seconds ---\n",
      "Adam\n",
      "epoch : 26/200, recon loss = 0.48772522\n",
      "--- 0.1784834861755371 seconds ---\n",
      "Adam\n",
      "epoch : 27/200, recon loss = 0.48739863\n",
      "--- 0.17855381965637207 seconds ---\n",
      "Adam\n",
      "epoch : 28/200, recon loss = 0.48721608\n",
      "--- 0.17757296562194824 seconds ---\n",
      "Adam\n",
      "epoch : 29/200, recon loss = 0.48687876\n",
      "--- 0.17546892166137695 seconds ---\n",
      "Adam\n",
      "epoch : 30/200, recon loss = 0.48669115\n",
      "--- 0.17863678932189941 seconds ---\n",
      "Adam\n",
      "epoch : 31/200, recon loss = 0.48651087\n",
      "--- 0.17848539352416992 seconds ---\n",
      "Adam\n",
      "epoch : 32/200, recon loss = 0.48636850\n",
      "--- 0.17872905731201172 seconds ---\n",
      "Adam\n",
      "epoch : 33/200, recon loss = 0.48620112\n",
      "--- 0.1787712574005127 seconds ---\n",
      "Adam\n",
      "epoch : 34/200, recon loss = 0.48614646\n",
      "--- 0.1785268783569336 seconds ---\n",
      "Adam\n",
      "epoch : 35/200, recon loss = 0.48601039\n",
      "--- 0.17856860160827637 seconds ---\n",
      "Adam\n",
      "epoch : 36/200, recon loss = 0.48583674\n",
      "--- 0.17863059043884277 seconds ---\n",
      "Adam\n",
      "epoch : 37/200, recon loss = 0.48574643\n",
      "--- 0.17889761924743652 seconds ---\n",
      "Adam\n",
      "epoch : 38/200, recon loss = 0.48565532\n",
      "--- 0.1782071590423584 seconds ---\n",
      "Adam\n",
      "epoch : 39/200, recon loss = 0.48554223\n",
      "--- 0.17855501174926758 seconds ---\n",
      "Adam\n",
      "epoch : 40/200, recon loss = 0.48547921\n",
      "--- 0.17859172821044922 seconds ---\n",
      "Adam\n",
      "epoch : 41/200, recon loss = 0.48529635\n",
      "--- 0.17909479141235352 seconds ---\n",
      "Adam\n",
      "epoch : 42/200, recon loss = 0.48518074\n",
      "--- 0.17749238014221191 seconds ---\n",
      "Adam\n",
      "epoch : 43/200, recon loss = 0.48504340\n",
      "--- 0.176466703414917 seconds ---\n",
      "Adam\n",
      "epoch : 44/200, recon loss = 0.48494196\n",
      "--- 0.17772936820983887 seconds ---\n",
      "Adam\n",
      "epoch : 45/200, recon loss = 0.48475132\n",
      "--- 0.17841815948486328 seconds ---\n",
      "Adam\n",
      "epoch : 46/200, recon loss = 0.48456032\n",
      "--- 0.17849040031433105 seconds ---\n",
      "Adam\n",
      "epoch : 47/200, recon loss = 0.48434734\n",
      "--- 0.1760873794555664 seconds ---\n",
      "Adam\n",
      "epoch : 48/200, recon loss = 0.48410098\n",
      "--- 0.17826342582702637 seconds ---\n",
      "Adam\n",
      "epoch : 49/200, recon loss = 0.48382860\n",
      "--- 0.17830157279968262 seconds ---\n",
      "Adam\n",
      "epoch : 50/200, recon loss = 0.48348107\n",
      "--- 0.17828702926635742 seconds ---\n",
      "Adam\n",
      "epoch : 51/200, recon loss = 0.48309476\n",
      "--- 0.17803406715393066 seconds ---\n",
      "Adam\n",
      "epoch : 52/200, recon loss = 0.48268196\n",
      "--- 0.17845988273620605 seconds ---\n",
      "Adam\n",
      "epoch : 53/200, recon loss = 0.48221976\n",
      "--- 0.17827630043029785 seconds ---\n",
      "Adam\n",
      "epoch : 54/200, recon loss = 0.48176350\n",
      "--- 0.17484068870544434 seconds ---\n",
      "Adam\n",
      "epoch : 55/200, recon loss = 0.48122811\n",
      "--- 0.17838311195373535 seconds ---\n",
      "Adam\n",
      "epoch : 56/200, recon loss = 0.48073528\n",
      "--- 0.17623066902160645 seconds ---\n",
      "Adam\n",
      "epoch : 57/200, recon loss = 0.48026542\n",
      "--- 0.17910194396972656 seconds ---\n",
      "Adam\n",
      "epoch : 58/200, recon loss = 0.48008608\n",
      "--- 0.17806386947631836 seconds ---\n",
      "Adam\n",
      "epoch : 59/200, recon loss = 0.47949889\n",
      "--- 0.17812848091125488 seconds ---\n",
      "Adam\n",
      "epoch : 60/200, recon loss = 0.47930286\n",
      "--- 0.17822575569152832 seconds ---\n",
      "Adam\n",
      "epoch : 61/200, recon loss = 0.47885656\n",
      "--- 0.17818570137023926 seconds ---\n",
      "Adam\n",
      "epoch : 62/200, recon loss = 0.47867642\n",
      "--- 0.17802190780639648 seconds ---\n",
      "Adam\n",
      "epoch : 63/200, recon loss = 0.47842298\n",
      "--- 0.17807459831237793 seconds ---\n",
      "Adam\n",
      "epoch : 64/200, recon loss = 0.47821926\n",
      "--- 0.1781177520751953 seconds ---\n",
      "Adam\n",
      "epoch : 65/200, recon loss = 0.47813486\n",
      "--- 0.17828822135925293 seconds ---\n",
      "Adam\n",
      "epoch : 66/200, recon loss = 0.47804599\n",
      "--- 0.1780695915222168 seconds ---\n",
      "Adam\n",
      "epoch : 67/200, recon loss = 0.47790863\n",
      "--- 0.17807388305664062 seconds ---\n",
      "Adam\n",
      "epoch : 68/200, recon loss = 0.47786031\n",
      "--- 0.17809677124023438 seconds ---\n",
      "Adam\n",
      "epoch : 69/200, recon loss = 0.47784735\n",
      "--- 0.17826509475708008 seconds ---\n",
      "Adam\n",
      "epoch : 70/200, recon loss = 0.47773556\n",
      "--- 0.17822766304016113 seconds ---\n",
      "Adam\n",
      "epoch : 71/200, recon loss = 0.47770374\n",
      "--- 0.176863431930542 seconds ---\n",
      "Adam\n",
      "epoch : 72/200, recon loss = 0.47790126\n",
      "--- 0.17829298973083496 seconds ---\n",
      "Adam\n",
      "epoch : 73/200, recon loss = 0.47780761\n",
      "--- 0.1790015697479248 seconds ---\n",
      "Adam\n",
      "epoch : 74/200, recon loss = 0.47770486\n",
      "--- 0.17829227447509766 seconds ---\n",
      "Adam\n",
      "epoch : 75/200, recon loss = 0.47761215\n",
      "--- 0.17627716064453125 seconds ---\n",
      "Adam\n",
      "epoch : 76/200, recon loss = 0.47754181\n",
      "--- 0.17617201805114746 seconds ---\n",
      "Adam\n",
      "epoch : 77/200, recon loss = 0.47762691\n",
      "--- 0.1770341396331787 seconds ---\n",
      "Adam\n",
      "epoch : 78/200, recon loss = 0.47754684\n",
      "--- 0.1781930923461914 seconds ---\n",
      "Adam\n",
      "epoch : 79/200, recon loss = 0.47747132\n",
      "--- 0.17837047576904297 seconds ---\n",
      "Adam\n",
      "epoch : 80/200, recon loss = 0.47743028\n",
      "--- 0.17830300331115723 seconds ---\n",
      "Adam\n",
      "epoch : 81/200, recon loss = 0.47743043\n",
      "--- 0.17822957038879395 seconds ---\n",
      "Adam\n",
      "epoch : 82/200, recon loss = 0.47740646\n",
      "--- 0.17752528190612793 seconds ---\n",
      "Adam\n",
      "epoch : 83/200, recon loss = 0.47740969\n",
      "--- 0.17830443382263184 seconds ---\n",
      "Adam\n",
      "epoch : 84/200, recon loss = 0.47741224\n",
      "--- 0.17716670036315918 seconds ---\n",
      "Adam\n",
      "epoch : 85/200, recon loss = 0.47741430\n",
      "--- 0.17841148376464844 seconds ---\n",
      "Adam\n",
      "epoch : 86/200, recon loss = 0.47733128\n",
      "--- 0.1777803897857666 seconds ---\n",
      "Adam\n",
      "epoch : 87/200, recon loss = 0.47732609\n",
      "--- 0.17749333381652832 seconds ---\n",
      "Adam\n",
      "epoch : 88/200, recon loss = 0.47731976\n",
      "--- 0.1782674789428711 seconds ---\n",
      "Adam\n",
      "epoch : 89/200, recon loss = 0.47733650\n",
      "--- 0.17840862274169922 seconds ---\n",
      "Adam\n",
      "epoch : 90/200, recon loss = 0.47730187\n",
      "--- 0.1770467758178711 seconds ---\n",
      "Adam\n",
      "epoch : 91/200, recon loss = 0.47724845\n",
      "--- 0.1784665584564209 seconds ---\n",
      "Adam\n",
      "epoch : 92/200, recon loss = 0.47726325\n",
      "--- 0.17848801612854004 seconds ---\n",
      "Adam\n",
      "epoch : 93/200, recon loss = 0.47726134\n",
      "--- 0.1781461238861084 seconds ---\n",
      "Adam\n",
      "epoch : 94/200, recon loss = 0.47722801\n",
      "--- 0.178297758102417 seconds ---\n",
      "Adam\n",
      "epoch : 95/200, recon loss = 0.47724536\n",
      "--- 0.17839741706848145 seconds ---\n",
      "Adam\n",
      "epoch : 96/200, recon loss = 0.47727271\n",
      "--- 0.17827653884887695 seconds ---\n",
      "Adam\n",
      "epoch : 97/200, recon loss = 0.47719172\n",
      "--- 0.1783733367919922 seconds ---\n",
      "Adam\n",
      "epoch : 98/200, recon loss = 0.47721573\n",
      "--- 0.17839598655700684 seconds ---\n",
      "Adam\n",
      "epoch : 99/200, recon loss = 0.47718980\n",
      "--- 0.1773543357849121 seconds ---\n",
      "Adam\n",
      "epoch : 100/200, recon loss = 0.47717712\n",
      "--- 0.17841625213623047 seconds ---\n",
      "Adam\n",
      "epoch : 101/200, recon loss = 0.47716078\n",
      "--- 0.1774606704711914 seconds ---\n",
      "Adam\n",
      "epoch : 102/200, recon loss = 0.47713684\n",
      "--- 0.17814874649047852 seconds ---\n",
      "Adam\n",
      "epoch : 103/200, recon loss = 0.47714363\n",
      "--- 0.17717552185058594 seconds ---\n",
      "Adam\n",
      "epoch : 104/200, recon loss = 0.47720529\n",
      "--- 0.17827701568603516 seconds ---\n",
      "Adam\n",
      "epoch : 105/200, recon loss = 0.47710955\n",
      "--- 0.1782670021057129 seconds ---\n",
      "Adam\n",
      "epoch : 106/200, recon loss = 0.47710212\n",
      "--- 0.17833995819091797 seconds ---\n",
      "Adam\n",
      "epoch : 107/200, recon loss = 0.47713348\n",
      "--- 0.1784510612487793 seconds ---\n",
      "Adam\n",
      "epoch : 108/200, recon loss = 0.47710081\n",
      "--- 0.1806497573852539 seconds ---\n",
      "Adam\n",
      "epoch : 109/200, recon loss = 0.47707650\n",
      "--- 0.18402647972106934 seconds ---\n",
      "Adam\n",
      "epoch : 110/200, recon loss = 0.47707151\n",
      "--- 0.1764833927154541 seconds ---\n",
      "Adam\n",
      "epoch : 111/200, recon loss = 0.47707482\n",
      "--- 0.17776703834533691 seconds ---\n",
      "Adam\n",
      "epoch : 112/200, recon loss = 0.47719454\n",
      "--- 0.17818999290466309 seconds ---\n",
      "Adam\n",
      "epoch : 113/200, recon loss = 0.47703900\n",
      "--- 0.17823410034179688 seconds ---\n",
      "Adam\n",
      "epoch : 114/200, recon loss = 0.47706408\n",
      "--- 0.176835298538208 seconds ---\n",
      "Adam\n",
      "epoch : 115/200, recon loss = 0.47703059\n",
      "--- 0.17816925048828125 seconds ---\n",
      "Adam\n",
      "epoch : 116/200, recon loss = 0.47704139\n",
      "--- 0.17893290519714355 seconds ---\n",
      "Adam\n",
      "epoch : 117/200, recon loss = 0.47712719\n",
      "--- 0.17696619033813477 seconds ---\n",
      "Adam\n",
      "epoch : 118/200, recon loss = 0.47703887\n",
      "--- 0.17838549613952637 seconds ---\n",
      "Adam\n",
      "epoch : 119/200, recon loss = 0.47700624\n",
      "--- 0.17737817764282227 seconds ---\n",
      "Adam\n",
      "epoch : 120/200, recon loss = 0.47703301\n",
      "--- 0.17685246467590332 seconds ---\n",
      "Adam\n",
      "epoch : 121/200, recon loss = 0.47701568\n",
      "--- 0.17751145362854004 seconds ---\n",
      "Adam\n",
      "epoch : 122/200, recon loss = 0.47700079\n",
      "--- 0.17837786674499512 seconds ---\n",
      "Adam\n",
      "epoch : 123/200, recon loss = 0.47701046\n",
      "--- 0.1788036823272705 seconds ---\n",
      "Adam\n",
      "epoch : 124/200, recon loss = 0.47699211\n",
      "--- 0.17841315269470215 seconds ---\n",
      "Adam\n",
      "epoch : 125/200, recon loss = 0.47699870\n",
      "--- 0.17824149131774902 seconds ---\n",
      "Adam\n",
      "epoch : 126/200, recon loss = 0.47700229\n",
      "--- 0.17696070671081543 seconds ---\n",
      "Adam\n",
      "epoch : 127/200, recon loss = 0.47698399\n",
      "--- 0.1786344051361084 seconds ---\n",
      "Adam\n",
      "epoch : 128/200, recon loss = 0.47697605\n",
      "--- 0.17825031280517578 seconds ---\n",
      "Adam\n",
      "epoch : 129/200, recon loss = 0.47696936\n",
      "--- 0.17846918106079102 seconds ---\n",
      "Adam\n",
      "epoch : 130/200, recon loss = 0.47704004\n",
      "--- 0.1782994270324707 seconds ---\n",
      "Adam\n",
      "epoch : 131/200, recon loss = 0.47697189\n",
      "--- 0.19061064720153809 seconds ---\n",
      "Adam\n",
      "epoch : 132/200, recon loss = 0.47700005\n",
      "--- 0.18821072578430176 seconds ---\n",
      "Adam\n",
      "epoch : 133/200, recon loss = 0.47703282\n",
      "--- 0.18925023078918457 seconds ---\n",
      "Adam\n",
      "epoch : 134/200, recon loss = 0.47697026\n",
      "--- 0.18926382064819336 seconds ---\n",
      "Adam\n",
      "epoch : 135/200, recon loss = 0.47697974\n",
      "--- 0.19077348709106445 seconds ---\n",
      "Adam\n",
      "epoch : 136/200, recon loss = 0.47694051\n",
      "--- 0.19111275672912598 seconds ---\n",
      "Adam\n",
      "epoch : 137/200, recon loss = 0.47693096\n",
      "--- 0.190887451171875 seconds ---\n",
      "Adam\n",
      "epoch : 138/200, recon loss = 0.47696131\n",
      "--- 0.1881418228149414 seconds ---\n",
      "Adam\n",
      "epoch : 139/200, recon loss = 0.47697076\n",
      "--- 0.18006563186645508 seconds ---\n",
      "Adam\n",
      "epoch : 140/200, recon loss = 0.47692511\n",
      "--- 0.1766340732574463 seconds ---\n",
      "Adam\n",
      "epoch : 141/200, recon loss = 0.47694533\n",
      "--- 0.17853283882141113 seconds ---\n",
      "Adam\n",
      "epoch : 142/200, recon loss = 0.47691606\n",
      "--- 0.17705965042114258 seconds ---\n",
      "Adam\n",
      "epoch : 143/200, recon loss = 0.47691474\n",
      "--- 0.18685555458068848 seconds ---\n",
      "Adam\n",
      "epoch : 144/200, recon loss = 0.47696232\n",
      "--- 0.1879284381866455 seconds ---\n",
      "Adam\n",
      "epoch : 145/200, recon loss = 0.47692931\n",
      "--- 0.18796849250793457 seconds ---\n",
      "Adam\n",
      "epoch : 146/200, recon loss = 0.47697172\n",
      "--- 0.18818902969360352 seconds ---\n",
      "Adam\n",
      "epoch : 147/200, recon loss = 0.47692248\n",
      "--- 0.18822240829467773 seconds ---\n",
      "Adam\n",
      "epoch : 148/200, recon loss = 0.47693245\n",
      "--- 0.18642687797546387 seconds ---\n",
      "Adam\n",
      "epoch : 149/200, recon loss = 0.47690539\n",
      "--- 0.1810297966003418 seconds ---\n",
      "Adam\n",
      "epoch : 150/200, recon loss = 0.47689952\n",
      "--- 0.17847704887390137 seconds ---\n",
      "Adam\n",
      "epoch : 151/200, recon loss = 0.47691198\n",
      "--- 0.1765291690826416 seconds ---\n",
      "Adam\n",
      "epoch : 152/200, recon loss = 0.47699043\n",
      "--- 0.17831754684448242 seconds ---\n",
      "Adam\n",
      "epoch : 153/200, recon loss = 0.47706598\n",
      "--- 0.17842459678649902 seconds ---\n",
      "Adam\n",
      "epoch : 154/200, recon loss = 0.47698345\n",
      "--- 0.17862200736999512 seconds ---\n",
      "Adam\n",
      "epoch : 155/200, recon loss = 0.47689002\n",
      "--- 0.17853140830993652 seconds ---\n",
      "Adam\n",
      "epoch : 156/200, recon loss = 0.47688702\n",
      "--- 0.1783285140991211 seconds ---\n",
      "Adam\n",
      "epoch : 157/200, recon loss = 0.47690811\n",
      "--- 0.1786346435546875 seconds ---\n",
      "Adam\n",
      "epoch : 158/200, recon loss = 0.47687537\n",
      "--- 0.17878460884094238 seconds ---\n",
      "Adam\n",
      "epoch : 159/200, recon loss = 0.47687887\n",
      "--- 0.1799602508544922 seconds ---\n",
      "Adam\n",
      "epoch : 160/200, recon loss = 0.47691910\n",
      "--- 0.1786513328552246 seconds ---\n",
      "Adam\n",
      "epoch : 161/200, recon loss = 0.47693997\n",
      "--- 0.1786024570465088 seconds ---\n",
      "Adam\n",
      "epoch : 162/200, recon loss = 0.47686489\n",
      "--- 0.17865538597106934 seconds ---\n",
      "Adam\n",
      "epoch : 163/200, recon loss = 0.47687166\n",
      "--- 0.1778106689453125 seconds ---\n",
      "Adam\n",
      "epoch : 164/200, recon loss = 0.47688579\n",
      "--- 0.1787734031677246 seconds ---\n",
      "Adam\n",
      "epoch : 165/200, recon loss = 0.47688582\n",
      "--- 0.1777796745300293 seconds ---\n",
      "Adam\n",
      "epoch : 166/200, recon loss = 0.47769565\n",
      "--- 0.17850112915039062 seconds ---\n",
      "Adam\n",
      "epoch : 167/200, recon loss = 0.47710958\n",
      "--- 0.1784219741821289 seconds ---\n",
      "Adam\n",
      "epoch : 168/200, recon loss = 0.47751819\n",
      "--- 0.17596793174743652 seconds ---\n",
      "Adam\n",
      "epoch : 169/200, recon loss = 0.47698959\n",
      "--- 0.17840957641601562 seconds ---\n",
      "Adam\n",
      "epoch : 170/200, recon loss = 0.47686678\n",
      "--- 0.17663860321044922 seconds ---\n",
      "Adam\n",
      "epoch : 171/200, recon loss = 0.47686965\n",
      "--- 0.17703795433044434 seconds ---\n",
      "Adam\n",
      "epoch : 172/200, recon loss = 0.47683013\n",
      "--- 0.17768216133117676 seconds ---\n",
      "Adam\n",
      "epoch : 173/200, recon loss = 0.47685040\n",
      "--- 0.1751081943511963 seconds ---\n",
      "Adam\n",
      "epoch : 174/200, recon loss = 0.47682599\n",
      "--- 0.17882561683654785 seconds ---\n",
      "Adam\n",
      "epoch : 175/200, recon loss = 0.47683806\n",
      "--- 0.1786644458770752 seconds ---\n",
      "Adam\n",
      "epoch : 176/200, recon loss = 0.47683265\n",
      "--- 0.17697453498840332 seconds ---\n",
      "Adam\n",
      "epoch : 177/200, recon loss = 0.47682706\n",
      "--- 0.17829227447509766 seconds ---\n",
      "Adam\n",
      "epoch : 178/200, recon loss = 0.47681719\n",
      "--- 0.17855596542358398 seconds ---\n",
      "Adam\n",
      "epoch : 179/200, recon loss = 0.47681312\n",
      "--- 0.1774299144744873 seconds ---\n",
      "Adam\n",
      "epoch : 180/200, recon loss = 0.47683235\n",
      "--- 0.17629718780517578 seconds ---\n",
      "Adam\n",
      "epoch : 181/200, recon loss = 0.47684818\n",
      "--- 0.1758134365081787 seconds ---\n",
      "Adam\n",
      "epoch : 182/200, recon loss = 0.47681377\n",
      "--- 0.17714881896972656 seconds ---\n",
      "Adam\n",
      "epoch : 183/200, recon loss = 0.47680936\n",
      "--- 0.17824745178222656 seconds ---\n",
      "Adam\n",
      "epoch : 184/200, recon loss = 0.47684525\n",
      "--- 0.17813730239868164 seconds ---\n",
      "Adam\n",
      "epoch : 185/200, recon loss = 0.47681590\n",
      "--- 0.17618083953857422 seconds ---\n",
      "Adam\n",
      "epoch : 186/200, recon loss = 0.47680670\n",
      "--- 0.17831754684448242 seconds ---\n",
      "Adam\n",
      "epoch : 187/200, recon loss = 0.47683126\n",
      "--- 0.17843198776245117 seconds ---\n",
      "Adam\n",
      "epoch : 188/200, recon loss = 0.47680665\n",
      "--- 0.17529511451721191 seconds ---\n",
      "Adam\n",
      "epoch : 189/200, recon loss = 0.47680483\n",
      "--- 0.17693519592285156 seconds ---\n",
      "Adam\n",
      "epoch : 190/200, recon loss = 0.47683545\n",
      "--- 0.17811059951782227 seconds ---\n",
      "Adam\n",
      "epoch : 191/200, recon loss = 0.47682328\n",
      "--- 0.17739272117614746 seconds ---\n",
      "Adam\n",
      "epoch : 192/200, recon loss = 0.47685290\n",
      "--- 0.17716240882873535 seconds ---\n",
      "Adam\n",
      "epoch : 193/200, recon loss = 0.47682509\n",
      "--- 0.17721033096313477 seconds ---\n",
      "Adam\n",
      "epoch : 194/200, recon loss = 0.47679477\n",
      "--- 0.17856884002685547 seconds ---\n",
      "Adam\n",
      "epoch : 195/200, recon loss = 0.47679004\n",
      "--- 0.1776292324066162 seconds ---\n",
      "Adam\n",
      "epoch : 196/200, recon loss = 0.47679139\n",
      "--- 0.17886662483215332 seconds ---\n",
      "Adam\n",
      "epoch : 197/200, recon loss = 0.47679704\n",
      "--- 0.17702627182006836 seconds ---\n",
      "Adam\n",
      "epoch : 198/200, recon loss = 0.47687457\n",
      "--- 0.1783921718597412 seconds ---\n",
      "Adam\n",
      "epoch : 199/200, recon loss = 0.47680813\n",
      "--- 0.1782987117767334 seconds ---\n",
      "Adam\n",
      "epoch : 200/200, recon loss = 0.47677932\n",
      "--- 0.17821478843688965 seconds ---\n"
     ]
    }
   ],
   "source": [
    "from m3_learning.be.loop_fitter import loop_fitting_function_torch\n",
    "\n",
    "\n",
    "data, voltage = dataset.get_hysteresis(scaled=True, loop_interpolated = True)\n",
    "\n",
    "\n",
    "model_ = Multiscale1DFitter(loop_fitting_function_torch, # function \n",
    "                            voltage[:,0].squeeze(), # x data\n",
    "                            1, # input channels\n",
    "                            9, # output parameters\n",
    "                            dataset.loop_param_scaler)\n",
    "\n",
    "# instantiate the model\n",
    "model = Model(model_, dataset, training=True, model_basename=\"SHO_Fitter_original_data\")\n",
    "\n",
    "from sklearn.model_selection import train_test_split\n",
    "\n",
    "\n",
    "X_train, X_test = train_test_split(data.reshape(-1,96), test_size=0.2, random_state=42)\n",
    "\n",
    "X_train = np.atleast_3d(X_train)\n",
    "\n",
    "\n",
    "train = True\n",
    "\n",
    "if train:\n",
    "    # fits the model\n",
    "    model.fit(\n",
    "        X_train,\n",
    "        500,\n",
    "        optimizer=\"Adam\",\n",
    "        epochs = 200,\n",
    "    )\n",
    "else:\n",
    "    model.load(\n",
    "        \"/home/ferroelectric/m3_learning/m3_learning/papers/2023_Rapid_Fitting/Trained Models/SHO Fitter/SHO_Fitter_original_data_model_epoch_5_train_loss_0.0449272525189978.pth\"\n",
    "    )"
   ]
  },
  {
   "cell_type": "code",
   "execution_count": 25,
   "metadata": {},
   "outputs": [
    {
     "data": {
      "text/plain": [
       "(11520, 96, 1)"
      ]
     },
     "execution_count": 25,
     "metadata": {},
     "output_type": "execute_result"
    }
   ],
   "source": []
  },
  {
   "cell_type": "code",
   "execution_count": 27,
   "metadata": {},
   "outputs": [
    {
     "ename": "type",
     "evalue": "'BE_Dataset' object has no attribute 'x_data'",
     "output_type": "error",
     "traceback": [
      "\u001b[0;31m---------------------------------------------------------------------------\u001b[0m",
      "\u001b[0;31mAttributeError\u001b[0m                            Traceback (most recent call last)",
      "\u001b[1;32m/home/ferroelectric/m3_learning/m3_learning/papers/2023_Rapid_Fitting/5_Hysteresis_Fitter.ipynb Cell 15\u001b[0m line \u001b[0;36m1\n\u001b[0;32m----> <a href='vscode-notebook-cell://ssh-remote%2B7b22686f73744e616d65223a2231302e3234382e33362e3231222c2275736572223a22666572726f656c656374726963227d/home/ferroelectric/m3_learning/m3_learning/papers/2023_Rapid_Fitting/5_Hysteresis_Fitter.ipynb#Y120sdnNjb2RlLXJlbW90ZQ%3D%3D?line=0'>1</a>\u001b[0m dataset\u001b[39m.\u001b[39;49mx_data\n",
      "\u001b[0;31mAttributeError\u001b[0m: 'BE_Dataset' object has no attribute 'x_data'"
     ]
    }
   ],
   "source": []
  },
  {
   "cell_type": "code",
   "execution_count": 19,
   "metadata": {},
   "outputs": [
    {
     "data": {
      "text/plain": [
       "[<matplotlib.lines.Line2D at 0x7fb0d1860fa0>,\n",
       " <matplotlib.lines.Line2D at 0x7fb0d1861000>,\n",
       " <matplotlib.lines.Line2D at 0x7fb0d1861030>,\n",
       " <matplotlib.lines.Line2D at 0x7fb0d1861120>]"
      ]
     },
     "execution_count": 19,
     "metadata": {},
     "output_type": "execute_result"
    },
    {
     "data": {
      "image/png": "[encoded data removed]",
      "text/plain": [
       "<Figure size 640x480 with 1 Axes>"
      ]
     },
     "metadata": {},
     "output_type": "display_data"
    }
   ],
   "source": [
    "import matplotlib.pyplot as plt\n",
    "plt.plot(voltage, X_train[1000])"
   ]
  },
  {
   "cell_type": "markdown",
   "metadata": {},
   "source": [
    "## Plot a Random Example of the fit"
   ]
  },
  {
   "cell_type": "code",
   "execution_count": null,
   "metadata": {},
   "outputs": [],
   "source": [
    "# insatiate the visualization object\n",
    "image_scalebar = [2000, 500, \"nm\", \"br\"]\n",
    "\n",
    "BE_viz = Viz(dataset, printing, verbose=True, \n",
    "             SHO_ranges = [(0,1.5e-4), (1.31e6, 1.33e6), (-300, 300), (-np.pi, np.pi)], \n",
    "             image_scalebar = image_scalebar)\n",
    "\n",
    "self = BE_viz"
   ]
  },
  {
   "cell_type": "code",
   "execution_count": null,
   "metadata": {},
   "outputs": [],
   "source": [
    "dataset.get_state"
   ]
  },
  {
   "cell_type": "code",
   "execution_count": 9,
   "metadata": {},
   "outputs": [
    {
     "name": "stdout",
     "output_type": "stream",
     "text": [
      "No spectroscopic datasets found as attributes of /Measurement_000/Channel_000/Position_Indices\n",
      "No position datasets found as attributes of /Raw_Data-SHO_Fit_000/Spectroscopic_Values\n"
     ]
    }
   ],
   "source": [
    "out, voltage = dataset.get_hysteresis(scaled=True, loop_interpolated = True)"
   ]
  },
  {
   "cell_type": "code",
   "execution_count": 114,
   "metadata": {},
   "outputs": [
    {
     "data": {
      "text/plain": [
       "[<matplotlib.lines.Line2D at 0x7f91d1823fd0>]"
      ]
     },
     "execution_count": 114,
     "metadata": {},
     "output_type": "execute_result"
    },
    {
     "data": {
      "image/png": "[encoded data removed]",
      "text/plain": [
       "<Figure size 640x480 with 1 Axes>"
      ]
     },
     "metadata": {},
     "output_type": "display_data"
    }
   ],
   "source": [
    "plt.plot(dataset.dc_voltage)"
   ]
  },
  {
   "cell_type": "code",
   "execution_count": 10,
   "metadata": {},
   "outputs": [
    {
     "data": {
      "text/plain": [
       "[<matplotlib.lines.Line2D at 0x7f1d2f63e230>]"
      ]
     },
     "execution_count": 10,
     "metadata": {},
     "output_type": "execute_result"
    },
    {
     "data": {
      "image/png": "[encoded data removed]",
      "text/plain": [
       "<Figure size 640x480 with 1 Axes>"
      ]
     },
     "metadata": {},
     "output_type": "display_data"
    }
   ],
   "source": [
    "import matplotlib.pyplot as plt\n",
    "\n",
    "a = np.random.randint(0,60,(1))\n",
    "b = np.random.randint(0,60,(1))\n",
    "\n",
    "\n",
    "plt.plot(voltage[:,0].squeeze(), out[a,b,0].squeeze())"
   ]
  },
  {
   "cell_type": "code",
   "execution_count": 11,
   "metadata": {},
   "outputs": [
    {
     "name": "stdout",
     "output_type": "stream",
     "text": [
      "No spectroscopic datasets found as attributes of /Measurement_000/Channel_000/Position_Indices\n",
      "No position datasets found as attributes of /Raw_Data-SHO_Fit_000/Spectroscopic_Values\n"
     ]
    }
   ],
   "source": [
    "hys, bias = dataset.get_hysteresis()\n",
    "\n",
    "hys_2 = clean_interpolate(hys, axis=3)"
   ]
  },
  {
   "cell_type": "code",
   "execution_count": null,
   "metadata": {},
   "outputs": [],
   "source": [
    "def find_non_finite_indices(arr):\n",
    "    non_finite_mask = ~np.isfinite(arr)\n",
    "    indices = np.argwhere(non_finite_mask)\n",
    "    return indices"
   ]
  },
  {
   "cell_type": "code",
   "execution_count": null,
   "metadata": {},
   "outputs": [],
   "source": [
    "hys.shape"
   ]
  },
  {
   "cell_type": "code",
   "execution_count": null,
   "metadata": {},
   "outputs": [],
   "source": [
    "find_non_finite_indices(hys)"
   ]
  },
  {
   "cell_type": "code",
   "execution_count": null,
   "metadata": {},
   "outputs": [],
   "source": [
    "a"
   ]
  },
  {
   "cell_type": "code",
   "execution_count": null,
   "metadata": {},
   "outputs": [],
   "source": [
    "import matplotlib.pyplot as plt\n",
    "\n",
    "a = np.random.randint(0,60,(1))\n",
    "b = np.random.randint(0,60,(1))\n",
    "\n",
    "\n",
    "plt.plot(hys[a[0],b[0],0])\n",
    "plt.plot(hys_2[a[0],b[0],0])"
   ]
  },
  {
   "cell_type": "code",
   "execution_count": 12,
   "metadata": {},
   "outputs": [
    {
     "ename": "type",
     "evalue": "incomplete input (3744456558.py, line 22)",
     "output_type": "error",
     "traceback": [
      "\u001b[0;31m---------------------------------------------------------------------------\u001b[0m",
      "\u001b[0;31mSyntaxError\u001b[0m                               Traceback (most recent call last)",
      "File \u001b[0;32m~/micromamba/envs/shofittting/lib/python3.10/site-packages/IPython/core/compilerop.py:86\u001b[0m, in \u001b[0;36mCachingCompiler.ast_parse\u001b[0;34m(self, source, filename, symbol)\u001b[0m\n\u001b[1;32m     81\u001b[0m \u001b[39mdef\u001b[39;00m \u001b[39mast_parse\u001b[39m(\u001b[39mself\u001b[39m, source, filename\u001b[39m=\u001b[39m\u001b[39m'\u001b[39m\u001b[39m<unknown>\u001b[39m\u001b[39m'\u001b[39m, symbol\u001b[39m=\u001b[39m\u001b[39m'\u001b[39m\u001b[39mexec\u001b[39m\u001b[39m'\u001b[39m):\n\u001b[1;32m     82\u001b[0m \u001b[39m    \u001b[39m\u001b[39m\"\"\"Parse code to an AST with the current compiler flags active.\u001b[39;00m\n\u001b[1;32m     83\u001b[0m \n\u001b[1;32m     84\u001b[0m \u001b[39m    Arguments are exactly the same as ast.parse (in the standard library),\u001b[39;00m\n\u001b[1;32m     85\u001b[0m \u001b[39m    and are passed to the built-in compile function.\"\"\"\u001b[39;00m\n\u001b[0;32m---> 86\u001b[0m     \u001b[39mreturn\u001b[39;00m \u001b[39mcompile\u001b[39;49m(source, filename, symbol, \u001b[39mself\u001b[39;49m\u001b[39m.\u001b[39;49mflags \u001b[39m|\u001b[39;49m PyCF_ONLY_AST, \u001b[39m1\u001b[39;49m)\n",
      "\u001b[0;31mSyntaxError\u001b[0m: incomplete input (3744456558.py, line 22)"
     ]
    }
   ],
   "source": [
    "def hysteresis_fit(self, \n",
    "                   voltage, \n",
    "                   datasets, \n",
    "                   original = True,\n",
    "                   row = None, \n",
    "                   col = None,\n",
    "                   cycle = None):\n",
    "    \n",
    "    if row is None:\n",
    "        row = np.random.randint(0, self.dataset.num_rows, 1)\n",
    "        \n",
    "    if col is None:\n",
    "        col = np.random.randint(0, self.dataset.num_cols, 1)\n",
    "        \n",
    "    if cycle is None:\n",
    "        cycle = np.random.randint(0, self.dataset.num_cycles, 1)\n",
    "    \n",
    "    fig, ax = subfigures(1,1, size = (1.25,1.25))\n",
    "    \n",
    "\n",
    "        "
   ]
  },
  {
   "cell_type": "code",
   "execution_count": 38,
   "metadata": {},
   "outputs": [
    {
     "ename": "type",
     "evalue": "'list' object has no attribute 'plot'",
     "output_type": "error",
     "traceback": [
      "\u001b[0;31m---------------------------------------------------------------------------\u001b[0m",
      "\u001b[0;31mAttributeError\u001b[0m                            Traceback (most recent call last)",
      "\u001b[1;32m/home/ferroelectric/m3_learning/m3_learning/papers/2023_Rapid_Fitting/5_Hysteresis_Fitter.ipynb Cell 37\u001b[0m line \u001b[0;36m6\n\u001b[1;32m      <a href='vscode-notebook-cell://ssh-remote%2B10.248.36.21/home/ferroelectric/m3_learning/m3_learning/papers/2023_Rapid_Fitting/5_Hysteresis_Fitter.ipynb#X36sdnNjb2RlLXJlbW90ZQ%3D%3D?line=0'>1</a>\u001b[0m \u001b[39mfrom\u001b[39;00m \u001b[39mm3_learning\u001b[39;00m\u001b[39m.\u001b[39;00m\u001b[39mviz\u001b[39;00m\u001b[39m.\u001b[39;00m\u001b[39mlayout\u001b[39;00m \u001b[39mimport\u001b[39;00m layout_fig, inset_connector, add_box, subfigures, add_text_to_figure, get_axis_pos_inches, imagemap,  FigDimConverter, labelfigs, imagemap, scalebar\n\u001b[1;32m      <a href='vscode-notebook-cell://ssh-remote%2B10.248.36.21/home/ferroelectric/m3_learning/m3_learning/papers/2023_Rapid_Fitting/5_Hysteresis_Fitter.ipynb#X36sdnNjb2RlLXJlbW90ZQ%3D%3D?line=2'>3</a>\u001b[0m fig, axs \u001b[39m=\u001b[39m subfigures(\u001b[39m1\u001b[39m,\u001b[39m1\u001b[39m, size \u001b[39m=\u001b[39m (\u001b[39m1.25\u001b[39m,\u001b[39m1.25\u001b[39m))\n\u001b[0;32m----> <a href='vscode-notebook-cell://ssh-remote%2B10.248.36.21/home/ferroelectric/m3_learning/m3_learning/papers/2023_Rapid_Fitting/5_Hysteresis_Fitter.ipynb#X36sdnNjb2RlLXJlbW90ZQ%3D%3D?line=5'>6</a>\u001b[0m axs\u001b[39m.\u001b[39;49mplot(V, proj_nd_shifted_transposed[i[\u001b[39m0\u001b[39m], i[\u001b[39m1\u001b[39m], :, \u001b[39m3\u001b[39m],\u001b[39m'\u001b[39m\u001b[39mog\u001b[39m\u001b[39m'\u001b[39m,\n\u001b[1;32m      <a href='vscode-notebook-cell://ssh-remote%2B10.248.36.21/home/ferroelectric/m3_learning/m3_learning/papers/2023_Rapid_Fitting/5_Hysteresis_Fitter.ipynb#X36sdnNjb2RlLXJlbW90ZQ%3D%3D?line=6'>7</a>\u001b[0m          label\u001b[39m=\u001b[39m\u001b[39m'\u001b[39m\u001b[39minitial loops\u001b[39m\u001b[39m'\u001b[39m)\n\u001b[1;32m      <a href='vscode-notebook-cell://ssh-remote%2B10.248.36.21/home/ferroelectric/m3_learning/m3_learning/papers/2023_Rapid_Fitting/5_Hysteresis_Fitter.ipynb#X36sdnNjb2RlLXJlbW90ZQ%3D%3D?line=7'>8</a>\u001b[0m axs\u001b[39m.\u001b[39mplot(V, loop_fit_results[:, i[\u001b[39m0\u001b[39m], i[\u001b[39m1\u001b[39m]], \u001b[39m'\u001b[39m\u001b[39mblue\u001b[39m\u001b[39m'\u001b[39m, label\u001b[39m=\u001b[39m\u001b[39m'\u001b[39m\u001b[39mfit results (NumPy)\u001b[39m\u001b[39m'\u001b[39m)\n\u001b[1;32m      <a href='vscode-notebook-cell://ssh-remote%2B10.248.36.21/home/ferroelectric/m3_learning/m3_learning/papers/2023_Rapid_Fitting/5_Hysteresis_Fitter.ipynb#X36sdnNjb2RlLXJlbW90ZQ%3D%3D?line=8'>9</a>\u001b[0m axs\u001b[39m.\u001b[39mplot(V, np\u001b[39m.\u001b[39mreshape(loop_fitting_function_tf(func_type, V, params), \n\u001b[1;32m     <a href='vscode-notebook-cell://ssh-remote%2B10.248.36.21/home/ferroelectric/m3_learning/m3_learning/papers/2023_Rapid_Fitting/5_Hysteresis_Fitter.ipynb#X36sdnNjb2RlLXJlbW90ZQ%3D%3D?line=9'>10</a>\u001b[0m                        (num_pix_1d, num_pix_1d, \u001b[39m96\u001b[39m))[i[\u001b[39m0\u001b[39m], i[\u001b[39m1\u001b[39m], :], \u001b[39m'\u001b[39m\u001b[39mblack\u001b[39m\u001b[39m'\u001b[39m, \n\u001b[1;32m     <a href='vscode-notebook-cell://ssh-remote%2B10.248.36.21/home/ferroelectric/m3_learning/m3_learning/papers/2023_Rapid_Fitting/5_Hysteresis_Fitter.ipynb#X36sdnNjb2RlLXJlbW90ZQ%3D%3D?line=10'>11</a>\u001b[0m          label\u001b[39m=\u001b[39m\u001b[39m'\u001b[39m\u001b[39mfit results (Tensorflow)\u001b[39m\u001b[39m'\u001b[39m)\n",
      "\u001b[0;31mAttributeError\u001b[0m: 'list' object has no attribute 'plot'"
     ]
    },
    {
     "data": {
      "image/png": "[encoded data removed]",
      "text/plain": [
       "<Figure size 205x158 with 1 Axes>"
      ]
     },
     "metadata": {},
     "output_type": "display_data"
    }
   ],
   "source": [
    "from m3_learning.viz.layout import layout_fig, inset_connector, add_box, subfigures, add_text_to_figure, get_axis_pos_inches, imagemap,  FigDimConverter, labelfigs, imagemap, scalebar\n",
    "\n",
    "fig, axs = subfigures(1,1, size = (1.25,1.25))\n",
    "\n",
    "\n",
    "axs.plot(V, proj_nd_shifted_transposed[i[0], i[1], :, 3],'og',\n",
    "         label='initial loops')\n",
    "axs.plot(V, loop_fit_results[:, i[0], i[1]], 'blue', label='fit results (NumPy)')\n",
    "axs.plot(V, np.reshape(loop_fitting_function_tf(func_type, V, params), \n",
    "                       (num_pix_1d, num_pix_1d, 96))[i[0], i[1], :], 'black', \n",
    "         label='fit results (Tensorflow)')\n",
    "axs.legend()\n",
    "axs.ticklabel_format(axis=\"y\", style=\"sci\", scilimits=(0,0))\n",
    "axs.set(xlabel='Voltage (V)', ylabel='Amplitude (Arb. U.)')\n",
    "axs.label_outer()"
   ]
  },
  {
   "cell_type": "code",
   "execution_count": 73,
   "metadata": {},
   "outputs": [
    {
     "data": {
      "text/plain": [
       "(60, 60, 4, 9)"
      ]
     },
     "execution_count": 73,
     "metadata": {},
     "output_type": "execute_result"
    }
   ],
   "source": []
  },
  {
   "cell_type": "code",
   "execution_count": null,
   "metadata": {},
   "outputs": [],
   "source": []
  },
  {
   "cell_type": "code",
   "execution_count": null,
   "metadata": {},
   "outputs": [],
   "source": [
    "with h5py.File(dataset.file, \"r+\") as h5_f:\n",
    "    \n",
    "    out = h5_f['/Raw_Data_SHO_Fit/Raw_Data-SHO_Fit_000/Fit-Loop_Fit_000/Fit'][:]"
   ]
  },
  {
   "cell_type": "code",
   "execution_count": 78,
   "metadata": {},
   "outputs": [],
   "source": []
  },
  {
   "cell_type": "code",
   "execution_count": null,
   "metadata": {},
   "outputs": [],
   "source": [
    "dataset.num_cols"
   ]
  },
  {
   "cell_type": "code",
   "execution_count": null,
   "metadata": {},
   "outputs": [],
   "source": [
    "parm = dataset.LSQF_hysteresis_params(output_shape = \"index\")"
   ]
  },
  {
   "cell_type": "code",
   "execution_count": null,
   "metadata": {},
   "outputs": [],
   "source": [
    "parm.shape\n"
   ]
  },
  {
   "cell_type": "code",
   "execution_count": null,
   "metadata": {},
   "outputs": [],
   "source": [
    "out, bias = dataset.get_hysteresis(\"/Raw_Data_SHO_Fit/Raw_Data-SHO_Fit_000/Fit-Loop_Fit_000\", plotting_values=True)\n",
    "out.shape"
   ]
  },
  {
   "cell_type": "code",
   "execution_count": 76,
   "metadata": {},
   "outputs": [
    {
     "ename": "type",
     "evalue": "name 'loop_fitting_function_torch' is not defined",
     "output_type": "error",
     "traceback": [
      "\u001b[0;31m---------------------------------------------------------------------------\u001b[0m",
      "\u001b[0;31mNameError\u001b[0m                                 Traceback (most recent call last)",
      "\u001b[1;32m/home/ferroelectric/m3_learning/m3_learning/papers/2023_Rapid_Fitting/5_Hysteresis_Fitter.ipynb Cell 58\u001b[0m line \u001b[0;36m1\n\u001b[1;32m      <a href='vscode-notebook-cell://ssh-remote%2B10.248.36.21/home/ferroelectric/m3_learning/m3_learning/papers/2023_Rapid_Fitting/5_Hysteresis_Fitter.ipynb#X63sdnNjb2RlLXJlbW90ZQ%3D%3D?line=6'>7</a>\u001b[0m row \u001b[39m=\u001b[39m \u001b[39m20\u001b[39m\n\u001b[1;32m      <a href='vscode-notebook-cell://ssh-remote%2B10.248.36.21/home/ferroelectric/m3_learning/m3_learning/papers/2023_Rapid_Fitting/5_Hysteresis_Fitter.ipynb#X63sdnNjb2RlLXJlbW90ZQ%3D%3D?line=8'>9</a>\u001b[0m parm \u001b[39m=\u001b[39m dataset\u001b[39m.\u001b[39mLSQF_hysteresis_params()[row, col, cycle]\u001b[39m.\u001b[39mview(\u001b[39m'\u001b[39m\u001b[39m<f4\u001b[39m\u001b[39m'\u001b[39m)\n\u001b[0;32m---> <a href='vscode-notebook-cell://ssh-remote%2B10.248.36.21/home/ferroelectric/m3_learning/m3_learning/papers/2023_Rapid_Fitting/5_Hysteresis_Fitter.ipynb#X63sdnNjb2RlLXJlbW90ZQ%3D%3D?line=9'>10</a>\u001b[0m loop \u001b[39m=\u001b[39m loop_fitting_function_torch(bias[:, cycle], parm, \u001b[39mtype\u001b[39m\u001b[39m=\u001b[39m\u001b[39m'\u001b[39m\u001b[39m9 parameters\u001b[39m\u001b[39m'\u001b[39m)\n\u001b[1;32m     <a href='vscode-notebook-cell://ssh-remote%2B10.248.36.21/home/ferroelectric/m3_learning/m3_learning/papers/2023_Rapid_Fitting/5_Hysteresis_Fitter.ipynb#X63sdnNjb2RlLXJlbW90ZQ%3D%3D?line=10'>11</a>\u001b[0m out, bias \u001b[39m=\u001b[39m dataset\u001b[39m.\u001b[39mget_hysteresis(\u001b[39m\"\u001b[39m\u001b[39m/Raw_Data_SHO_Fit/Raw_Data-SHO_Fit_000/Fit-Loop_Fit_000\u001b[39m\u001b[39m\"\u001b[39m, plotting_values\u001b[39m=\u001b[39m\u001b[39mTrue\u001b[39;00m)\n\u001b[1;32m     <a href='vscode-notebook-cell://ssh-remote%2B10.248.36.21/home/ferroelectric/m3_learning/m3_learning/papers/2023_Rapid_Fitting/5_Hysteresis_Fitter.ipynb#X63sdnNjb2RlLXJlbW90ZQ%3D%3D?line=14'>15</a>\u001b[0m plt\u001b[39m.\u001b[39mplot(bias[:, cycle]\u001b[39m.\u001b[39msqueeze(), loop\u001b[39m.\u001b[39mcpu()\u001b[39m.\u001b[39msqueeze(), \u001b[39m'\u001b[39m\u001b[39mr\u001b[39m\u001b[39m'\u001b[39m)\n",
      "\u001b[0;31mNameError\u001b[0m: name 'loop_fitting_function_torch' is not defined"
     ]
    }
   ],
   "source": [
    "import matplotlib.pyplot as plt\n",
    "\n",
    "self = dataset\n",
    "\n",
    "col = np.random.randint(0, self.num_cols, 1)\n",
    "cycle = pos = np.random.randint(0, 4, 1)\n",
    "row = 20\n",
    "\n",
    "parm = dataset.LSQF_hysteresis_params()[row, col, cycle].view('<f4')\n",
    "loop = loop_fitting_function_torch(bias[:, cycle], parm, type='9 parameters')\n",
    "out, bias = dataset.get_hysteresis(\"/Raw_Data_SHO_Fit/Raw_Data-SHO_Fit_000/Fit-Loop_Fit_000\", plotting_values=True)\n",
    "\n",
    "\n",
    "\n",
    "plt.plot(bias[:, cycle].squeeze(), loop.cpu().squeeze(), 'r')\n",
    "plt.plot(bias[:, cycle].squeeze(), out[row, col, :, cycle].squeeze(), 'b')"
   ]
  },
  {
   "cell_type": "code",
   "execution_count": null,
   "metadata": {},
   "outputs": [],
   "source": [
    "from scipy.special import erf, erfinv\n",
    "import warnings\n",
    "\n",
    "def loop_fit_function(vdc, coef_vec):\n",
    "    \"\"\"\n",
    "    9 parameter fit function\n",
    "    \n",
    "    Parameters\n",
    "    -----------\n",
    "    vdc : 1D numpy array or list\n",
    "        DC voltages\n",
    "    coef_vec : 1D numpy array or list\n",
    "        9 parameter coefficient vector\n",
    "        \n",
    "    Returns\n",
    "    ---------\n",
    "    loop_eval : 1D numpy array\n",
    "        Loop values\n",
    "    \"\"\"\n",
    "\n",
    "    a = coef_vec[:5]\n",
    "    b = coef_vec[5:]\n",
    "    d = 1000\n",
    "\n",
    "    v1 = np.asarray(vdc[:int(len(vdc) / 2)])\n",
    "    v2 = np.asarray(vdc[int(len(vdc) / 2):])\n",
    "\n",
    "    g1 = (b[1] - b[0]) / 2 * (erf((v1 - a[2]) * d) + 1) + b[0]\n",
    "    g2 = (b[3] - b[2]) / 2 * (erf((v2 - a[3]) * d) + 1) + b[2]\n",
    "\n",
    "    y1 = (g1 * erf((v1 - a[2]) / g1) + b[0]) / (b[0] + b[1])\n",
    "    y2 = (g2 * erf((v2 - a[3]) / g2) + b[2]) / (b[2] + b[3])\n",
    "\n",
    "    f1 = a[0] + a[1] * y1 + a[4] * v1\n",
    "    f2 = a[0] + a[1] * y2 + a[4] * v2\n",
    "\n",
    "    loop_eval = np.hstack((f1, f2))\n",
    "    return loop_eval"
   ]
  },
  {
   "cell_type": "code",
   "execution_count": null,
   "metadata": {},
   "outputs": [],
   "source": [
    "plt.plot(bias[:,0])"
   ]
  },
  {
   "cell_type": "code",
   "execution_count": null,
   "metadata": {},
   "outputs": [],
   "source": [
    "loop_eval = loop_fit_function(bias[:,0], parm)"
   ]
  },
  {
   "cell_type": "code",
   "execution_count": null,
   "metadata": {},
   "outputs": [],
   "source": [
    "plt.plot(bias[:,cycle].squeeze(), loop_eval)"
   ]
  },
  {
   "cell_type": "code",
   "execution_count": null,
   "metadata": {},
   "outputs": [],
   "source": [
    "dataset.LSQF_hysteresis_params()[0,0]"
   ]
  },
  {
   "cell_type": "code",
   "execution_count": null,
   "metadata": {},
   "outputs": [],
   "source": [
    "from m3_learning.be.loop_fitter import loop_fitting_function_torch"
   ]
  },
  {
   "cell_type": "code",
   "execution_count": null,
   "metadata": {},
   "outputs": [],
   "source": [
    "with h5py.File(\"/home/ferroelectric/m3_learning/m3_learning/papers/2023_Rapid_Fitting/Data/data_raw_SHO.h5\", \"r+\") as h5_f:\n",
    "    # number of pixels in the image\n",
    "    num_pix = h5_f[\"Measurement_000\"].attrs[\"num_pix\"]\n",
    "    \n",
    "    # voltage vector\n",
    "    V = np.swapaxes(np.atleast_2d(h5_f['Measurement_000']['Channel_000']['UDVS'][::2][:, 1][24:120]), 0, 1).astype(np.float64)\n",
    "    \n",
    "    params = np.array(h5_f['Fit_Loop_Parameters'][:])\n",
    "    "
   ]
  },
  {
   "cell_type": "code",
   "execution_count": null,
   "metadata": {},
   "outputs": [],
   "source": [
    "dataset.dataset"
   ]
  },
  {
   "cell_type": "code",
   "execution_count": null,
   "metadata": {},
   "outputs": [],
   "source": [
    "import matplotlib.pyplot as plt\n",
    "\n",
    "plt.plot(dataset.hysteresis_waveform)\n"
   ]
  },
  {
   "cell_type": "code",
   "execution_count": null,
   "metadata": {},
   "outputs": [],
   "source": [
    "# # Sets path to file\n",
    "# path = r\"./\"\n",
    "\n",
    "# # Opens the data file2\n",
    "# h5_f = h5py.File(path + \"data_file.h5\", \"r+\")\n",
    "\n",
    "\n",
    "# # number of pixels in the image\n",
    "# num_pix = h5_f[\"Measurement_000\"].attrs[\"num_pix\"]\n",
    "# #dataset.num_pix\n",
    "\n",
    "# num_pix_1d = int(np.sqrt(num_pix))\n",
    "# #dataset.num_pix\n",
    "\n",
    "\n",
    "# # number of DC voltage steps\n",
    "# voltage_steps = h5_f[\"Measurement_000\"].attrs[\"num_udvs_steps\"]\n",
    "\n",
    "# proj_nd_shifted = loop_lsqf(h5_f)\n",
    "# proj_nd_shifted_transposed = np.transpose(proj_nd_shifted,(1,0,2,3))\n",
    "\n",
    "# getting parameters for the hysteresis loops\n",
    "params = np.array(h5_f['params_hysteresis'][:])\n",
    "params_names = ['a_0', 'a_1', 'a_2', 'a_3', 'a_4', 'b_0', 'b_1', 'b_2', 'b_3']\n",
    "\n",
    "# voltage vector\n",
    "V = np.swapaxes(np.atleast_2d(h5_f['Measurement_000']['Channel_000']['UDVS'][::2][:, 1][24:120]), 0, 1).astype(np.float64)\n",
    "\n",
    "# to set up a type of loop_fitting function to use. Possible options: ['9 parameters', '13 parameters']\n",
    "func_type = '9 parameters'\n",
    "\n",
    "# retrieve results\n",
    "real_loops = np.array(h5_f['real_loops_hysteresis'][:])\n",
    "unscaled_param_trust = np.array(h5_f['predictions_hysteresis_trustregcg'][:])\n",
    "unscaled_param_adam = np.array(h5_f['predictions_hysteresis_adam'][:])"
   ]
  }
 ],
 "metadata": {
  "kernelspec": {
   "display_name": "rapid_fitting",
   "language": "python",
   "name": "python3"
  },
  "language_info": {
   "codemirror_mode": {
    "name": "ipython",
    "version": 3
   },
   "file_extension": ".py",
   "mimetype": "text/x-python",
   "name": "python",
   "nbconvert_exporter": "python",
   "pygments_lexer": "ipython3",
   "version": "3.10.11"
  },
  "orig_nbformat": 4,
  "vscode": {
   "interpreter": {
    "hash": "c58f42fd11d8ae4df132d3c425059695e86ccc63a852aa66615442730ca8b1fc"
   }
  }
 },
 "nbformat": 4,
 "nbformat_minor": 2
}
