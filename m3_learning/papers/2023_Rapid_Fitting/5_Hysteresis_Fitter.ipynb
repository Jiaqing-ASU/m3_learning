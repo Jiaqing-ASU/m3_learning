{
 "cells": [
  {
   "cell_type": "markdown",
   "metadata": {},
   "source": [
    "# Hysteresis Loops Fitting"
   ]
  },
  {
   "cell_type": "code",
   "execution_count": 1,
   "metadata": {},
   "outputs": [],
   "source": [
    "import sys\n",
    "sys.path.append('../../')\n",
    "# sys.path.append(\"/home/ferroelectric/m3_learning/m3_learning/src\")\n",
    "sys.path.append('../../src')"
   ]
  },
  {
   "cell_type": "code",
   "execution_count": 2,
   "metadata": {},
   "outputs": [
    {
     "name": "stdout",
     "output_type": "stream",
     "text": [
      "printing set for seaborn\n",
      "Pytorch seed was set to 42\n",
      "Numpy seed was set to 42\n",
      "tensorflow seed was set to 42\n"
     ]
    }
   ],
   "source": [
    "%load_ext autoreload\n",
    "%autoreload 2\n",
    "\n",
    "import h5py\n",
    "import pyUSID as usid\n",
    "\n",
    "from src.m3_learning.be.processing import fit_loop_function, loop_lsqf\n",
    "from m3_learning.be.loop_fitter import loop_fitting_function_torch\n",
    "from m3_learning.viz.layout import subfigures\n",
    "\n",
    "import numpy as np\n",
    "\n",
    "from m3_learning.nn.random import random_seed\n",
    "from m3_learning.viz.style import set_style\n",
    "from m3_learning.viz.printing import printer\n",
    "from m3_learning.be.viz import Viz\n",
    "from m3_learning.be.dataset import BE_Dataset\n",
    "from m3_learning.be.nn import SHO_fit_func_nn, SHO_Model\n",
    "from m3_learning.nn.Fitter1D.Fitter1D import Multiscale1DFitter, Model\n",
    "# from m3_learning.nn.Fitter1D.Fitter1D_new import Multiscale1DFitter, Model\n",
    "from m3_learning.be.filters import clean_interpolate\n",
    "\n",
    "printing = printer(basepath = './Figures/')\n",
    "\n",
    "\n",
    "set_style(\"printing\")\n",
    "random_seed(seed=42)\n",
    "\n",
    "%matplotlib inline"
   ]
  },
  {
   "cell_type": "markdown",
   "metadata": {},
   "source": [
    "## Loads data"
   ]
  },
  {
   "cell_type": "code",
   "execution_count": 3,
   "metadata": {},
   "outputs": [
    {
     "name": "stdout",
     "output_type": "stream",
     "text": [
      "No spectroscopic datasets found as attributes of /Measurement_000/Channel_000/Position_Indices\n",
      "No position datasets found as attributes of /Raw_Data-SHO_Fit_000/Spectroscopic_Values\n",
      "/\n",
      "├ Measurement_000\n",
      "  ---------------\n",
      "  ├ Channel_000\n",
      "    -----------\n",
      "    ├ Bin_FFT\n",
      "    ├ Bin_Frequencies\n",
      "    ├ Bin_Indices\n",
      "    ├ Bin_Step\n",
      "    ├ Bin_Wfm_Type\n",
      "    ├ Excitation_Waveform\n",
      "    ├ Noise_Floor\n",
      "    ├ Position_Indices\n",
      "    ├ Position_Values\n",
      "    ├ Raw_Data\n",
      "    ├ Spatially_Averaged_Plot_Group_000\n",
      "      ---------------------------------\n",
      "      ├ Bin_Frequencies\n",
      "      ├ Max_Response\n",
      "      ├ Mean_Spectrogram\n",
      "      ├ Min_Response\n",
      "      ├ Spectroscopic_Parameter\n",
      "      ├ Step_Averaged_Response\n",
      "    ├ Spatially_Averaged_Plot_Group_001\n",
      "      ---------------------------------\n",
      "      ├ Bin_Frequencies\n",
      "      ├ Max_Response\n",
      "      ├ Mean_Spectrogram\n",
      "      ├ Min_Response\n",
      "      ├ Spectroscopic_Parameter\n",
      "      ├ Step_Averaged_Response\n",
      "    ├ Spectroscopic_Indices\n",
      "    ├ Spectroscopic_Values\n",
      "    ├ UDVS\n",
      "    ├ UDVS_Indices\n",
      "├ Raw_Data-SHO_Fit_000\n",
      "  --------------------\n",
      "  ├ Fit\n",
      "  ├ Fit-Loop_Fit_000\n",
      "    ----------------\n",
      "    ├ Fit\n",
      "    ├ Fit_Loop_Parameters\n",
      "    ├ Guess\n",
      "    ├ Guess_Loop_Parameters\n",
      "    ├ Loop_Metrics\n",
      "    ├ Loop_Metrics_Indices\n",
      "    ├ Loop_Metrics_Values\n",
      "    ├ Projected_Loops\n",
      "    ├ completed_fit_positions\n",
      "    ├ completed_guess_positions\n",
      "    ├ completed_positions\n",
      "  ├ Guess\n",
      "  ├ Spectroscopic_Indices\n",
      "  ├ Spectroscopic_Values\n",
      "  ├ completed_fit_positions\n",
      "  ├ completed_guess_positions\n",
      "Datasets and datagroups within the file:\n",
      "------------------------------------\n",
      "/\n",
      "/Measurement_000\n",
      "/Measurement_000/Channel_000\n",
      "/Measurement_000/Channel_000/Bin_FFT\n",
      "/Measurement_000/Channel_000/Bin_Frequencies\n",
      "/Measurement_000/Channel_000/Bin_Indices\n",
      "/Measurement_000/Channel_000/Bin_Step\n",
      "/Measurement_000/Channel_000/Bin_Wfm_Type\n",
      "/Measurement_000/Channel_000/Excitation_Waveform\n",
      "/Measurement_000/Channel_000/Noise_Floor\n",
      "/Measurement_000/Channel_000/Position_Indices\n",
      "/Measurement_000/Channel_000/Position_Values\n",
      "/Measurement_000/Channel_000/Raw_Data\n",
      "/Measurement_000/Channel_000/Spatially_Averaged_Plot_Group_000\n",
      "/Measurement_000/Channel_000/Spatially_Averaged_Plot_Group_000/Bin_Frequencies\n",
      "/Measurement_000/Channel_000/Spatially_Averaged_Plot_Group_000/Max_Response\n",
      "/Measurement_000/Channel_000/Spatially_Averaged_Plot_Group_000/Mean_Spectrogram\n",
      "/Measurement_000/Channel_000/Spatially_Averaged_Plot_Group_000/Min_Response\n",
      "/Measurement_000/Channel_000/Spatially_Averaged_Plot_Group_000/Spectroscopic_Parameter\n",
      "/Measurement_000/Channel_000/Spatially_Averaged_Plot_Group_000/Step_Averaged_Response\n",
      "/Measurement_000/Channel_000/Spatially_Averaged_Plot_Group_001\n",
      "/Measurement_000/Channel_000/Spatially_Averaged_Plot_Group_001/Bin_Frequencies\n",
      "/Measurement_000/Channel_000/Spatially_Averaged_Plot_Group_001/Max_Response\n",
      "/Measurement_000/Channel_000/Spatially_Averaged_Plot_Group_001/Mean_Spectrogram\n",
      "/Measurement_000/Channel_000/Spatially_Averaged_Plot_Group_001/Min_Response\n",
      "/Measurement_000/Channel_000/Spatially_Averaged_Plot_Group_001/Spectroscopic_Parameter\n",
      "/Measurement_000/Channel_000/Spatially_Averaged_Plot_Group_001/Step_Averaged_Response\n",
      "/Measurement_000/Channel_000/Spectroscopic_Indices\n",
      "/Measurement_000/Channel_000/Spectroscopic_Values\n",
      "/Measurement_000/Channel_000/UDVS\n",
      "/Measurement_000/Channel_000/UDVS_Indices\n",
      "/Raw_Data-SHO_Fit_000\n",
      "/Raw_Data-SHO_Fit_000/Fit\n",
      "/Raw_Data-SHO_Fit_000/Fit-Loop_Fit_000\n",
      "/Raw_Data-SHO_Fit_000/Fit-Loop_Fit_000/Fit\n",
      "/Raw_Data-SHO_Fit_000/Fit-Loop_Fit_000/Fit_Loop_Parameters\n",
      "/Raw_Data-SHO_Fit_000/Fit-Loop_Fit_000/Guess\n",
      "/Raw_Data-SHO_Fit_000/Fit-Loop_Fit_000/Guess_Loop_Parameters\n",
      "/Raw_Data-SHO_Fit_000/Fit-Loop_Fit_000/Loop_Metrics\n",
      "/Raw_Data-SHO_Fit_000/Fit-Loop_Fit_000/Loop_Metrics_Indices\n",
      "/Raw_Data-SHO_Fit_000/Fit-Loop_Fit_000/Loop_Metrics_Values\n",
      "/Raw_Data-SHO_Fit_000/Fit-Loop_Fit_000/Projected_Loops\n",
      "/Raw_Data-SHO_Fit_000/Fit-Loop_Fit_000/completed_fit_positions\n",
      "/Raw_Data-SHO_Fit_000/Fit-Loop_Fit_000/completed_guess_positions\n",
      "/Raw_Data-SHO_Fit_000/Fit-Loop_Fit_000/completed_positions\n",
      "/Raw_Data-SHO_Fit_000/Guess\n",
      "/Raw_Data-SHO_Fit_000/Spectroscopic_Indices\n",
      "/Raw_Data-SHO_Fit_000/Spectroscopic_Values\n",
      "/Raw_Data-SHO_Fit_000/completed_fit_positions\n",
      "/Raw_Data-SHO_Fit_000/completed_guess_positions\n",
      "\n",
      "The main dataset:\n",
      "------------------------------------\n",
      "<HDF5 file \"data_raw_unmod.h5\" (mode r+)>\n",
      "\n",
      "The ancillary datasets:\n",
      "------------------------------------\n",
      "<HDF5 dataset \"Position_Indices\": shape (3600, 2), type \"<u4\">\n",
      "<HDF5 dataset \"Position_Values\": shape (3600, 2), type \"<f4\">\n",
      "<HDF5 dataset \"Spectroscopic_Indices\": shape (4, 63360), type \"<u4\">\n",
      "<HDF5 dataset \"Spectroscopic_Values\": shape (4, 63360), type \"<f4\">\n",
      "\n",
      "Metadata or attributes in a datagroup\n",
      "------------------------------------\n",
      "BE_actual_duration_[s] : 0.004\n",
      "BE_amplitude_[V] : 1\n",
      "BE_auto_smoothing : auto smoothing on\n",
      "BE_band_edge_smoothing_[s] : 4832.1\n",
      "BE_band_edge_trim : 0.094742\n",
      "BE_band_width_[Hz] : 200000\n",
      "BE_bins_per_band : 0\n",
      "BE_center_frequency_[Hz] : 1310000\n",
      "BE_desired_duration_[s] : 0.004\n",
      "BE_phase_content : chirp-sinc hybrid\n",
      "BE_phase_variation : 1\n",
      "BE_points_per_BE_wave : 0\n",
      "BE_repeats : 4\n",
      "FORC_V_high1_[V] : 1\n",
      "FORC_V_high2_[V] : 10\n",
      "FORC_V_low1_[V] : -1\n",
      "FORC_V_low2_[V] : -10\n",
      "FORC_num_of_FORC_cycles : 1\n",
      "FORC_num_of_FORC_repeats : 1\n",
      "File_MDAQ_version : MDAQ_VS_090915_01\n",
      "File_date_and_time : 18-Sep-2015 18:32:14\n",
      "File_file_name : SP128_NSO\n",
      "File_file_path : C:\\Users\\Asylum User\\Documents\\Users\\Agar\\SP128_NSO\\\n",
      "File_file_suffix : 99\n",
      "IO_AO_amplifier : 10\n",
      "IO_AO_range_[V] : +/- 10\n",
      "IO_Analog_Input_1 : +/- .1V, FFT\n",
      "IO_Analog_Input_2 : off\n",
      "IO_Analog_Input_3 : off\n",
      "IO_Analog_Input_4 : off\n",
      "IO_DAQ_platform : NI 6115\n",
      "IO_rate_[Hz] : 4000000\n",
      "VS_amplitude_[V] : 16\n",
      "VS_cycle_fraction : full\n",
      "VS_cycle_phase_shift : 0\n",
      "VS_measure_in_field_loops : in and out-of-field\n",
      "VS_mode : DC modulation mode\n",
      "VS_number_of_cycles : 2\n",
      "VS_offset_[V] : 0\n",
      "VS_read_voltage_[V] : 0\n",
      "VS_set_pulse_amplitude[V] : 0\n",
      "VS_set_pulse_duration[s] : 0.002\n",
      "VS_step_edge_smoothing_[s] : 0.001\n",
      "VS_steps_per_full_cycle : 96\n",
      "data_type : BEPSData\n",
      "grid_/single : grid\n",
      "grid_contact_set_point_[V] : 1\n",
      "grid_current_col : 1\n",
      "grid_current_row : 1\n",
      "grid_cycle_time_[s] : 10\n",
      "grid_measuring : 0\n",
      "grid_moving : 0\n",
      "grid_num_cols : 60\n",
      "grid_num_rows : 60\n",
      "grid_settle_time_[s] : 0.15\n",
      "grid_time_remaining_[h;m;s] : 10\n",
      "grid_total_time_[h;m;s] : 10\n",
      "grid_transit_set_point_[V] : 0.1\n",
      "grid_transit_time_[s] : 0.15\n",
      "num_bins : 165\n",
      "num_pix : 3600\n",
      "num_udvs_steps : 384\n"
     ]
    }
   ],
   "source": [
    "# Specify the filename and the path to save the file\n",
    "filename = 'data_raw_unmod.h5'\n",
    "save_path = \"./Data\"\n",
    "\n",
    "data_path = save_path + \"/\" + filename\n",
    "\n",
    "# instantiate the dataset object\n",
    "dataset = BE_Dataset(data_path)\n",
    "\n",
    "# print the contents of the file\n",
    "dataset.print_be_tree()"
   ]
  },
  {
   "cell_type": "markdown",
   "metadata": {},
   "source": [
    "## Performs SHO fits"
   ]
  },
  {
   "cell_type": "code",
   "execution_count": 4,
   "metadata": {},
   "outputs": [
    {
     "name": "stdout",
     "output_type": "stream",
     "text": [
      "Consider calling test() to check results before calling compute() which computes on the entire dataset and writes results to the HDF5 file\n",
      "\n",
      "Note: Loop_Fit has already been performed with the same parameters before. These results will be returned by compute() by default. Set override to True to force fresh computation\n",
      "\n",
      "[<HDF5 group \"/Raw_Data-SHO_Fit_000/Fit-Loop_Fit_000\" (11 members)>]\n",
      "\n",
      "Note: Loop_Fit has already been performed with the same parameters before. These results will be returned by compute() by default. Set override to True to force fresh computation\n",
      "\n",
      "[<HDF5 group \"/Raw_Data-SHO_Fit_000/Fit-Loop_Fit_000\" (11 members)>]\n",
      "Returned previously computed results at /Raw_Data-SHO_Fit_000/Fit-Loop_Fit_000\n",
      "\n",
      "Note: Loop_Fit has already been performed with the same parameters before. These results will be returned by compute() by default. Set override to True to force fresh computation\n",
      "\n",
      "[<HDF5 group \"/Raw_Data-SHO_Fit_000/Fit-Loop_Fit_000\" (11 members)>]\n",
      "Returned previously computed results at /Raw_Data-SHO_Fit_000/Fit-Loop_Fit_000\n"
     ]
    },
    {
     "name": "stderr",
     "output_type": "stream",
     "text": [
      "/home/alk224/miniconda3/envs/alibek/lib/python3.9/site-packages/pyUSID/io/hdf_utils/simple.py:888: UserWarning: A dataset named: Guess_Loop_Parameters already exists in group: /Raw_Data-SHO_Fit_000/Fit-Loop_Fit_000\n",
      "  warn('A dataset named: {} already exists in group: {}'.format(dset_name, h5_group.name))\n",
      "/home/alk224/miniconda3/envs/alibek/lib/python3.9/site-packages/pyUSID/io/hdf_utils/simple.py:888: UserWarning: A dataset named: Fit_Loop_Parameters already exists in group: /Raw_Data-SHO_Fit_000/Fit-Loop_Fit_000\n",
      "  warn('A dataset named: {} already exists in group: {}'.format(dset_name, h5_group.name))\n"
     ]
    }
   ],
   "source": [
    "h5_loop_fit, h5_loop_group = dataset.LSQF_Loop_Fit()"
   ]
  },
  {
   "cell_type": "markdown",
   "metadata": {},
   "source": [
    "## Visualize LSQF fit results"
   ]
  },
  {
   "cell_type": "code",
   "execution_count": 5,
   "metadata": {},
   "outputs": [
    {
     "name": "stdout",
     "output_type": "stream",
     "text": [
      "No spectroscopic datasets found as attributes of /Measurement_000/Channel_000/Position_Indices\n",
      "No position datasets found as attributes of /Raw_Data-SHO_Fit_000/Spectroscopic_Values\n"
     ]
    }
   ],
   "source": [
    "# insatiate the visualization object\n",
    "image_scalebar = [2000, 500, \"nm\", \"br\"]\n",
    "\n",
    "# instantiate the dataset object\n",
    "dataset = BE_Dataset(data_path)\n",
    "\n",
    "BE_viz = Viz(dataset, printing, verbose=True, \n",
    "             SHO_ranges = [(0,1.5e-4), (1.31e6, 1.33e6), (-300, 300), (-np.pi, np.pi)], \n",
    "             image_scalebar = image_scalebar)"
   ]
  },
  {
   "cell_type": "code",
   "execution_count": 6,
   "metadata": {},
   "outputs": [],
   "source": [
    "# BE_viz.hysteresis_comparison(data = ['LSQF'])"
   ]
  },
  {
   "cell_type": "markdown",
   "metadata": {},
   "source": [
    "## Neural Network Fits"
   ]
  },
  {
   "cell_type": "code",
   "execution_count": 7,
   "metadata": {},
   "outputs": [
    {
     "data": {
      "text/html": [
       "<style>#sk-container-id-1 {color: black;background-color: white;}#sk-container-id-1 pre{padding: 0;}#sk-container-id-1 div.sk-toggleable {background-color: white;}#sk-container-id-1 label.sk-toggleable__label {cursor: pointer;display: block;width: 100%;margin-bottom: 0;padding: 0.3em;box-sizing: border-box;text-align: center;}#sk-container-id-1 label.sk-toggleable__label-arrow:before {content: \"▸\";float: left;margin-right: 0.25em;color: #696969;}#sk-container-id-1 label.sk-toggleable__label-arrow:hover:before {color: black;}#sk-container-id-1 div.sk-estimator:hover label.sk-toggleable__label-arrow:before {color: black;}#sk-container-id-1 div.sk-toggleable__content {max-height: 0;max-width: 0;overflow: hidden;text-align: left;background-color: #f0f8ff;}#sk-container-id-1 div.sk-toggleable__content pre {margin: 0.2em;color: black;border-radius: 0.25em;background-color: #f0f8ff;}#sk-container-id-1 input.sk-toggleable__control:checked~div.sk-toggleable__content {max-height: 200px;max-width: 100%;overflow: auto;}#sk-container-id-1 input.sk-toggleable__control:checked~label.sk-toggleable__label-arrow:before {content: \"▾\";}#sk-container-id-1 div.sk-estimator input.sk-toggleable__control:checked~label.sk-toggleable__label {background-color: #d4ebff;}#sk-container-id-1 div.sk-label input.sk-toggleable__control:checked~label.sk-toggleable__label {background-color: #d4ebff;}#sk-container-id-1 input.sk-hidden--visually {border: 0;clip: rect(1px 1px 1px 1px);clip: rect(1px, 1px, 1px, 1px);height: 1px;margin: -1px;overflow: hidden;padding: 0;position: absolute;width: 1px;}#sk-container-id-1 div.sk-estimator {font-family: monospace;background-color: #f0f8ff;border: 1px dotted black;border-radius: 0.25em;box-sizing: border-box;margin-bottom: 0.5em;}#sk-container-id-1 div.sk-estimator:hover {background-color: #d4ebff;}#sk-container-id-1 div.sk-parallel-item::after {content: \"\";width: 100%;border-bottom: 1px solid gray;flex-grow: 1;}#sk-container-id-1 div.sk-label:hover label.sk-toggleable__label {background-color: #d4ebff;}#sk-container-id-1 div.sk-serial::before {content: \"\";position: absolute;border-left: 1px solid gray;box-sizing: border-box;top: 0;bottom: 0;left: 50%;z-index: 0;}#sk-container-id-1 div.sk-serial {display: flex;flex-direction: column;align-items: center;background-color: white;padding-right: 0.2em;padding-left: 0.2em;position: relative;}#sk-container-id-1 div.sk-item {position: relative;z-index: 1;}#sk-container-id-1 div.sk-parallel {display: flex;align-items: stretch;justify-content: center;background-color: white;position: relative;}#sk-container-id-1 div.sk-item::before, #sk-container-id-1 div.sk-parallel-item::before {content: \"\";position: absolute;border-left: 1px solid gray;box-sizing: border-box;top: 0;bottom: 0;left: 50%;z-index: -1;}#sk-container-id-1 div.sk-parallel-item {display: flex;flex-direction: column;z-index: 1;position: relative;background-color: white;}#sk-container-id-1 div.sk-parallel-item:first-child::after {align-self: flex-end;width: 50%;}#sk-container-id-1 div.sk-parallel-item:last-child::after {align-self: flex-start;width: 50%;}#sk-container-id-1 div.sk-parallel-item:only-child::after {width: 0;}#sk-container-id-1 div.sk-dashed-wrapped {border: 1px dashed gray;margin: 0 0.4em 0.5em 0.4em;box-sizing: border-box;padding-bottom: 0.4em;background-color: white;}#sk-container-id-1 div.sk-label label {font-family: monospace;font-weight: bold;display: inline-block;line-height: 1.2em;}#sk-container-id-1 div.sk-label-container {text-align: center;}#sk-container-id-1 div.sk-container {/* jupyter's `normalize.less` sets `[hidden] { display: none; }` but bootstrap.min.css set `[hidden] { display: none !important; }` so we also need the `!important` here to be able to override the default hidden behavior on the sphinx rendered scikit-learn.org. See: https://github.com/scikit-learn/scikit-learn/issues/21755 */display: inline-block !important;position: relative;}#sk-container-id-1 div.sk-text-repr-fallback {display: none;}</style><div id=\"sk-container-id-1\" class=\"sk-top-container\"><div class=\"sk-text-repr-fallback\"><pre>StandardScaler()</pre><b>In a Jupyter environment, please rerun this cell to show the HTML representation or trust the notebook. <br />On GitHub, the HTML representation is unable to render, please try loading this page with nbviewer.org.</b></div><div class=\"sk-container\" hidden><div class=\"sk-item\"><div class=\"sk-estimator sk-toggleable\"><input class=\"sk-toggleable__control sk-hidden--visually\" id=\"sk-estimator-id-1\" type=\"checkbox\" checked><label for=\"sk-estimator-id-1\" class=\"sk-toggleable__label sk-toggleable__label-arrow\">StandardScaler</label><div class=\"sk-toggleable__content\"><pre>StandardScaler()</pre></div></div></div></div></div>"
      ],
      "text/plain": [
       "StandardScaler()"
      ]
     },
     "execution_count": 7,
     "metadata": {},
     "output_type": "execute_result"
    }
   ],
   "source": [
    "dataset.loop_param_scaler"
   ]
  },
  {
   "cell_type": "code",
   "execution_count": 8,
   "metadata": {},
   "outputs": [
    {
     "name": "stdout",
     "output_type": "stream",
     "text": [
      "No spectroscopic datasets found as attributes of /Measurement_000/Channel_000/Position_Indices\n",
      "No position datasets found as attributes of /Raw_Data-SHO_Fit_000/Spectroscopic_Values\n"
     ]
    }
   ],
   "source": [
    "data, voltage = dataset.get_hysteresis(scaled=True, loop_interpolated = True)"
   ]
  },
  {
   "cell_type": "code",
   "execution_count": 9,
   "metadata": {},
   "outputs": [
    {
     "data": {
      "text/plain": [
       "<m3_learning.util.preprocessing.global_scaler at 0x7f95ef0c76a0>"
      ]
     },
     "execution_count": 9,
     "metadata": {},
     "output_type": "execute_result"
    }
   ],
   "source": [
    "dataset.hysteresis_scaler"
   ]
  },
  {
   "cell_type": "code",
   "execution_count": 10,
   "metadata": {},
   "outputs": [
    {
     "data": {
      "text/plain": [
       "-1.0685155e-05"
      ]
     },
     "execution_count": 10,
     "metadata": {},
     "output_type": "execute_result"
    }
   ],
   "source": [
    "dataset.hysteresis_scaler.mean"
   ]
  },
  {
   "cell_type": "code",
   "execution_count": 11,
   "metadata": {},
   "outputs": [
    {
     "data": {
      "text/plain": [
       "4.582935e-08"
      ]
     },
     "execution_count": 11,
     "metadata": {},
     "output_type": "execute_result"
    }
   ],
   "source": [
    "np.mean(data)"
   ]
  },
  {
   "cell_type": "code",
   "execution_count": 12,
   "metadata": {},
   "outputs": [
    {
     "data": {
      "text/plain": [
       "7.083071e-05"
      ]
     },
     "execution_count": 12,
     "metadata": {},
     "output_type": "execute_result"
    }
   ],
   "source": [
    "dataset.hysteresis_scaler.std"
   ]
  },
  {
   "cell_type": "code",
   "execution_count": 13,
   "metadata": {},
   "outputs": [
    {
     "data": {
      "text/plain": [
       "(96, 4)"
      ]
     },
     "execution_count": 13,
     "metadata": {},
     "output_type": "execute_result"
    }
   ],
   "source": [
    "voltage.shape"
   ]
  },
  {
   "cell_type": "code",
   "execution_count": 15,
   "metadata": {},
   "outputs": [
    {
     "data": {
      "text/plain": [
       "(60, 60, 96)"
      ]
     },
     "execution_count": 15,
     "metadata": {},
     "output_type": "execute_result"
    }
   ],
   "source": [
    "data[:,:,0,:].shape"
   ]
  },
  {
   "cell_type": "code",
   "execution_count": 17,
   "metadata": {
    "scrolled": true
   },
   "outputs": [
    {
     "name": "stdout",
     "output_type": "stream",
     "text": [
      "No spectroscopic datasets found as attributes of /Measurement_000/Channel_000/Position_Indices\n",
      "No position datasets found as attributes of /Raw_Data-SHO_Fit_000/Spectroscopic_Values\n",
      "Using GPU A100-SXM4-40GB\n",
      "Pytorch seed was set to 42\n",
      "Numpy seed was set to 42\n",
      "tensorflow seed was set to 42\n"
     ]
    },
    {
     "name": "stderr",
     "output_type": "stream",
     "text": [
      "/home/alk224/miniconda3/envs/alibek/lib/python3.9/site-packages/torch/autograd/__init__.py:200: UserWarning: Using backward() with create_graph=True will create a reference cycle between the parameter and its gradient which can cause a memory leak. We recommend using autograd.grad when creating the graph to avoid this. If you have to use this function, make sure to reset the .grad fields of your parameters to None after use to break the cycle and avoid the leak. (Triggered internally at ../torch/csrc/autograd/engine.cpp:1151.)\n",
      "  Variable._execution_engine.run_backward(  # Calls into the C++ engine to run the backward pass\n"
     ]
    },
    {
     "name": "stdout",
     "output_type": "stream",
     "text": [
      "Adam\n",
      "epoch : 1/200, recon loss = 1.75758058\n",
      "--- 1.475682020187378 seconds ---\n",
      "Epoch 1, Learning Rate: 0.003\n",
      "Adam\n",
      "epoch : 2/200, recon loss = 1.17007620\n",
      "--- 0.0678567886352539 seconds ---\n",
      "Epoch 2, Learning Rate: 0.003\n",
      "Adam\n",
      "epoch : 3/200, recon loss = 0.86504295\n",
      "--- 0.5830576419830322 seconds ---\n",
      "Epoch 3, Learning Rate: 0.003\n",
      "Adam\n",
      "epoch : 4/200, recon loss = 0.66959043\n",
      "--- 0.08510017395019531 seconds ---\n",
      "Epoch 4, Learning Rate: 0.003\n",
      "Adam\n",
      "epoch : 5/200, recon loss = 0.50061267\n",
      "--- 0.06328511238098145 seconds ---\n",
      "Epoch 5, Learning Rate: 0.003\n",
      "Adam\n",
      "epoch : 6/200, recon loss = 0.35337813\n",
      "--- 0.06044816970825195 seconds ---\n",
      "Epoch 6, Learning Rate: 0.003\n",
      "Adam\n",
      "epoch : 7/200, recon loss = 0.42598609\n",
      "--- 0.06057906150817871 seconds ---\n",
      "Epoch 7, Learning Rate: 0.003\n",
      "Adam\n",
      "epoch : 8/200, recon loss = 0.33915983\n",
      "--- 0.05836844444274902 seconds ---\n",
      "Epoch 8, Learning Rate: 0.003\n",
      "Adam\n",
      "epoch : 9/200, recon loss = 0.30433433\n",
      "--- 0.07340049743652344 seconds ---\n",
      "Epoch 9, Learning Rate: 0.003\n",
      "Adam\n",
      "epoch : 10/200, recon loss = 0.27265196\n",
      "--- 0.06045722961425781 seconds ---\n",
      "Epoch 10, Learning Rate: 0.003\n",
      "Adam\n",
      "epoch : 11/200, recon loss = 0.27459696\n",
      "--- 0.06404399871826172 seconds ---\n",
      "Epoch 11, Learning Rate: 0.003\n",
      "Adam\n",
      "epoch : 12/200, recon loss = 0.26735653\n",
      "--- 0.06438899040222168 seconds ---\n",
      "Epoch 12, Learning Rate: 0.003\n",
      "Adam\n",
      "epoch : 13/200, recon loss = 0.25607799\n",
      "--- 0.06374406814575195 seconds ---\n",
      "Epoch 13, Learning Rate: 0.003\n",
      "Adam\n",
      "epoch : 14/200, recon loss = 0.24627179\n",
      "--- 0.0643007755279541 seconds ---\n",
      "Epoch 14, Learning Rate: 0.003\n",
      "Adam\n",
      "epoch : 15/200, recon loss = 0.23370460\n",
      "--- 0.05585622787475586 seconds ---\n",
      "Epoch 15, Learning Rate: 0.003\n",
      "Adam\n",
      "epoch : 16/200, recon loss = 0.22229627\n",
      "--- 0.05461430549621582 seconds ---\n",
      "Epoch 16, Learning Rate: 0.003\n",
      "Adam\n",
      "epoch : 17/200, recon loss = 0.21020061\n",
      "--- 0.054724931716918945 seconds ---\n",
      "Epoch 17, Learning Rate: 0.003\n",
      "Adam\n",
      "epoch : 18/200, recon loss = 0.19882335\n",
      "--- 0.057214975357055664 seconds ---\n",
      "Epoch 18, Learning Rate: 0.003\n",
      "Adam\n",
      "epoch : 19/200, recon loss = 0.18656264\n",
      "--- 0.06196475028991699 seconds ---\n",
      "Epoch 19, Learning Rate: 0.003\n",
      "Adam\n",
      "epoch : 20/200, recon loss = 0.17569584\n",
      "--- 0.057735443115234375 seconds ---\n",
      "Epoch 20, Learning Rate: 0.003\n",
      "Adam\n",
      "epoch : 21/200, recon loss = 0.16710310\n",
      "--- 0.05579876899719238 seconds ---\n",
      "Epoch 21, Learning Rate: 0.003\n",
      "Adam\n",
      "epoch : 22/200, recon loss = 0.16103937\n",
      "--- 0.05725741386413574 seconds ---\n",
      "Epoch 22, Learning Rate: 0.003\n",
      "Adam\n",
      "epoch : 23/200, recon loss = 0.15658424\n",
      "--- 0.05995917320251465 seconds ---\n",
      "Epoch 23, Learning Rate: 0.003\n",
      "Adam\n",
      "epoch : 24/200, recon loss = 0.15182589\n",
      "--- 0.05749797821044922 seconds ---\n",
      "Epoch 24, Learning Rate: 0.003\n",
      "Adam\n",
      "epoch : 25/200, recon loss = 0.14732503\n",
      "--- 0.05413389205932617 seconds ---\n",
      "Epoch 25, Learning Rate: 0.003\n",
      "Adam\n",
      "epoch : 26/200, recon loss = 0.14333992\n",
      "--- 0.052918195724487305 seconds ---\n",
      "Epoch 26, Learning Rate: 0.003\n",
      "Adam\n",
      "epoch : 27/200, recon loss = 0.13941568\n",
      "--- 0.054788827896118164 seconds ---\n",
      "Epoch 27, Learning Rate: 0.003\n",
      "Adam\n",
      "epoch : 28/200, recon loss = 0.13577095\n",
      "--- 0.05328655242919922 seconds ---\n",
      "Epoch 28, Learning Rate: 0.003\n",
      "Adam\n",
      "epoch : 29/200, recon loss = 0.13212334\n",
      "--- 0.06102395057678223 seconds ---\n",
      "Epoch 29, Learning Rate: 0.003\n",
      "Adam\n",
      "epoch : 30/200, recon loss = 0.12846460\n",
      "--- 0.05629706382751465 seconds ---\n",
      "Epoch 30, Learning Rate: 0.003\n",
      "Adam\n",
      "epoch : 31/200, recon loss = 0.12476427\n",
      "--- 0.05457949638366699 seconds ---\n",
      "Epoch 31, Learning Rate: 0.003\n",
      "Adam\n",
      "epoch : 32/200, recon loss = 0.12121312\n",
      "--- 0.05302023887634277 seconds ---\n",
      "Epoch 32, Learning Rate: 0.003\n",
      "Adam\n",
      "epoch : 33/200, recon loss = 0.11800306\n",
      "--- 0.05704760551452637 seconds ---\n",
      "Epoch 33, Learning Rate: 0.003\n",
      "Adam\n",
      "epoch : 34/200, recon loss = 0.11478265\n",
      "--- 0.05895209312438965 seconds ---\n",
      "Epoch 34, Learning Rate: 0.003\n",
      "Adam\n",
      "epoch : 35/200, recon loss = 0.11170629\n",
      "--- 0.056038618087768555 seconds ---\n",
      "Epoch 35, Learning Rate: 0.003\n",
      "Adam\n",
      "epoch : 36/200, recon loss = 0.10876147\n",
      "--- 0.06713390350341797 seconds ---\n",
      "Epoch 36, Learning Rate: 0.003\n",
      "Adam\n",
      "epoch : 37/200, recon loss = 0.10569403\n",
      "--- 0.054047584533691406 seconds ---\n",
      "Epoch 37, Learning Rate: 0.003\n",
      "Adam\n",
      "epoch : 38/200, recon loss = 0.10294089\n",
      "--- 0.053656578063964844 seconds ---\n",
      "Epoch 38, Learning Rate: 0.003\n",
      "Adam\n",
      "epoch : 39/200, recon loss = 0.10031592\n",
      "--- 0.0540471076965332 seconds ---\n",
      "Epoch 39, Learning Rate: 0.003\n",
      "Adam\n",
      "epoch : 40/200, recon loss = 0.09790061\n",
      "--- 0.05487775802612305 seconds ---\n",
      "Epoch 40, Learning Rate: 0.003\n",
      "Adam\n",
      "epoch : 41/200, recon loss = 0.09564436\n",
      "--- 0.05586981773376465 seconds ---\n",
      "Epoch 41, Learning Rate: 0.003\n",
      "Adam\n",
      "epoch : 42/200, recon loss = 0.09341660\n",
      "--- 0.05956864356994629 seconds ---\n",
      "Epoch 42, Learning Rate: 0.003\n",
      "Adam\n",
      "epoch : 43/200, recon loss = 0.09125239\n",
      "--- 0.06075739860534668 seconds ---\n",
      "Epoch 43, Learning Rate: 0.003\n",
      "Adam\n",
      "epoch : 44/200, recon loss = 0.08920043\n",
      "--- 0.06026005744934082 seconds ---\n",
      "Epoch 44, Learning Rate: 0.003\n",
      "Adam\n",
      "epoch : 45/200, recon loss = 0.08723046\n",
      "--- 0.05852317810058594 seconds ---\n",
      "Epoch 45, Learning Rate: 0.003\n",
      "Adam\n",
      "epoch : 46/200, recon loss = 0.08534824\n",
      "--- 0.06625771522521973 seconds ---\n",
      "Epoch 46, Learning Rate: 0.003\n",
      "Adam\n",
      "epoch : 47/200, recon loss = 0.08352168\n",
      "--- 0.06875395774841309 seconds ---\n",
      "Epoch 47, Learning Rate: 0.003\n",
      "Adam\n",
      "epoch : 48/200, recon loss = 0.08172107\n",
      "--- 0.05627250671386719 seconds ---\n",
      "Epoch 48, Learning Rate: 0.003\n",
      "Adam\n",
      "epoch : 49/200, recon loss = 0.08003228\n",
      "--- 0.06671357154846191 seconds ---\n",
      "Epoch 49, Learning Rate: 0.003\n",
      "Adam\n",
      "epoch : 50/200, recon loss = 0.07830629\n",
      "--- 0.058648109436035156 seconds ---\n",
      "Epoch 50, Learning Rate: 0.003\n",
      "Adam\n",
      "epoch : 51/200, recon loss = 0.07674305\n",
      "--- 0.05549263954162598 seconds ---\n",
      "Epoch 51, Learning Rate: 0.003\n",
      "Adam\n",
      "epoch : 52/200, recon loss = 0.07527457\n",
      "--- 0.05798602104187012 seconds ---\n",
      "Epoch 52, Learning Rate: 0.003\n",
      "Adam\n",
      "epoch : 53/200, recon loss = 0.07388477\n",
      "--- 0.056961774826049805 seconds ---\n",
      "Epoch 53, Learning Rate: 0.003\n",
      "Adam\n",
      "epoch : 54/200, recon loss = 0.07254598\n",
      "--- 0.05837392807006836 seconds ---\n",
      "Epoch 54, Learning Rate: 0.003\n",
      "Adam\n",
      "epoch : 55/200, recon loss = 0.07122672\n",
      "--- 0.05955076217651367 seconds ---\n",
      "Epoch 55, Learning Rate: 0.003\n",
      "Adam\n",
      "epoch : 56/200, recon loss = 0.07006247\n",
      "--- 0.05978536605834961 seconds ---\n",
      "Epoch 56, Learning Rate: 0.003\n",
      "Adam\n",
      "epoch : 57/200, recon loss = 0.06892439\n",
      "--- 0.05614829063415527 seconds ---\n",
      "Epoch 57, Learning Rate: 0.003\n",
      "Adam\n",
      "epoch : 58/200, recon loss = 0.06761906\n",
      "--- 0.06615591049194336 seconds ---\n",
      "Epoch 58, Learning Rate: 0.003\n",
      "Adam\n",
      "epoch : 59/200, recon loss = 0.06673099\n",
      "--- 0.06668806076049805 seconds ---\n",
      "Epoch 59, Learning Rate: 0.003\n",
      "Adam\n",
      "epoch : 60/200, recon loss = 0.06579504\n",
      "--- 0.06862330436706543 seconds ---\n",
      "Epoch 60, Learning Rate: 0.003\n",
      "Adam\n",
      "epoch : 61/200, recon loss = 0.06450060\n",
      "--- 0.05586981773376465 seconds ---\n",
      "Epoch 61, Learning Rate: 0.003\n",
      "Adam\n",
      "epoch : 62/200, recon loss = 0.06355605\n",
      "--- 0.05500197410583496 seconds ---\n",
      "Epoch 62, Learning Rate: 0.003\n",
      "Adam\n",
      "epoch : 63/200, recon loss = 0.06270882\n",
      "--- 0.05458235740661621 seconds ---\n",
      "Epoch 63, Learning Rate: 0.003\n",
      "Adam\n",
      "epoch : 64/200, recon loss = 0.06179573\n",
      "--- 0.05908703804016113 seconds ---\n",
      "Epoch 64, Learning Rate: 0.003\n",
      "Adam\n",
      "epoch : 65/200, recon loss = 0.06108352\n",
      "--- 0.05437111854553223 seconds ---\n",
      "Epoch 65, Learning Rate: 0.003\n",
      "Adam\n",
      "epoch : 66/200, recon loss = 0.06154261\n",
      "--- 0.05534243583679199 seconds ---\n",
      "Epoch 66, Learning Rate: 0.003\n",
      "Adam\n",
      "epoch : 67/200, recon loss = 0.06050222\n",
      "--- 0.054874420166015625 seconds ---\n",
      "Epoch 67, Learning Rate: 0.003\n",
      "Adam\n",
      "epoch : 68/200, recon loss = 0.05980927\n",
      "--- 0.05486702919006348 seconds ---\n",
      "Epoch 68, Learning Rate: 0.003\n",
      "Adam\n",
      "epoch : 69/200, recon loss = 0.05905613\n",
      "--- 0.05744123458862305 seconds ---\n",
      "Epoch 69, Learning Rate: 0.003\n",
      "Adam\n",
      "epoch : 70/200, recon loss = 0.05822380\n",
      "--- 0.055121660232543945 seconds ---\n",
      "Epoch 70, Learning Rate: 0.003\n",
      "Adam\n",
      "epoch : 71/200, recon loss = 0.05772474\n",
      "--- 0.05643892288208008 seconds ---\n",
      "Epoch 71, Learning Rate: 0.003\n",
      "Adam\n",
      "epoch : 72/200, recon loss = 0.05739596\n",
      "--- 0.05789804458618164 seconds ---\n",
      "Epoch 72, Learning Rate: 0.003\n",
      "Adam\n",
      "epoch : 73/200, recon loss = 0.05683138\n",
      "--- 0.05375552177429199 seconds ---\n",
      "Epoch 73, Learning Rate: 0.003\n",
      "Adam\n",
      "epoch : 74/200, recon loss = 0.05645039\n",
      "--- 0.05723428726196289 seconds ---\n",
      "Epoch 74, Learning Rate: 0.003\n",
      "Adam\n",
      "epoch : 75/200, recon loss = 0.05599685\n",
      "--- 0.05438423156738281 seconds ---\n",
      "Epoch 75, Learning Rate: 0.003\n"
     ]
    },
    {
     "name": "stdout",
     "output_type": "stream",
     "text": [
      "Adam\n",
      "epoch : 76/200, recon loss = 0.05566594\n",
      "--- 0.0534968376159668 seconds ---\n",
      "Epoch 76, Learning Rate: 0.003\n",
      "Adam\n",
      "epoch : 77/200, recon loss = 0.05541550\n",
      "--- 0.05340766906738281 seconds ---\n",
      "Epoch 77, Learning Rate: 0.003\n",
      "Adam\n",
      "epoch : 78/200, recon loss = 0.05546971\n",
      "--- 0.06661057472229004 seconds ---\n",
      "Epoch 78, Learning Rate: 0.003\n",
      "Adam\n",
      "epoch : 79/200, recon loss = 0.05581208\n",
      "--- 0.056108951568603516 seconds ---\n",
      "Epoch 79, Learning Rate: 0.003\n",
      "Adam\n",
      "epoch : 80/200, recon loss = 0.05495334\n",
      "--- 0.05954599380493164 seconds ---\n",
      "Epoch 80, Learning Rate: 0.003\n",
      "Adam\n",
      "epoch : 81/200, recon loss = 0.05449436\n",
      "--- 0.054105281829833984 seconds ---\n",
      "Epoch 81, Learning Rate: 0.003\n",
      "Adam\n",
      "epoch : 82/200, recon loss = 0.05435557\n",
      "--- 0.054433584213256836 seconds ---\n",
      "Epoch 82, Learning Rate: 0.003\n",
      "Adam\n",
      "epoch : 83/200, recon loss = 0.05398965\n",
      "--- 0.06641745567321777 seconds ---\n",
      "Epoch 83, Learning Rate: 0.003\n",
      "Adam\n",
      "epoch : 84/200, recon loss = 0.05380880\n",
      "--- 0.05710339546203613 seconds ---\n",
      "Epoch 84, Learning Rate: 0.003\n",
      "Adam\n",
      "epoch : 85/200, recon loss = 0.05363581\n",
      "--- 0.059823036193847656 seconds ---\n",
      "Epoch 85, Learning Rate: 0.003\n",
      "Adam\n",
      "epoch : 86/200, recon loss = 0.05357299\n",
      "--- 0.05623936653137207 seconds ---\n",
      "Epoch 86, Learning Rate: 0.003\n",
      "Adam\n",
      "epoch : 87/200, recon loss = 0.05436683\n",
      "--- 0.05684852600097656 seconds ---\n",
      "Epoch 87, Learning Rate: 0.003\n",
      "Adam\n",
      "epoch : 88/200, recon loss = 0.05431917\n",
      "--- 0.05696439743041992 seconds ---\n",
      "Epoch 88, Learning Rate: 0.003\n",
      "Adam\n",
      "epoch : 89/200, recon loss = 0.05337086\n",
      "--- 0.06308913230895996 seconds ---\n",
      "Epoch 89, Learning Rate: 0.003\n",
      "Adam\n",
      "epoch : 90/200, recon loss = 0.05343207\n",
      "--- 0.059531450271606445 seconds ---\n",
      "Epoch 90, Learning Rate: 0.003\n",
      "Adam\n",
      "epoch : 91/200, recon loss = 0.05293513\n",
      "--- 0.0532534122467041 seconds ---\n",
      "Epoch 91, Learning Rate: 0.003\n",
      "Adam\n",
      "epoch : 92/200, recon loss = 0.05291507\n",
      "--- 0.06090402603149414 seconds ---\n",
      "Epoch 92, Learning Rate: 0.003\n",
      "Adam\n",
      "epoch : 93/200, recon loss = 0.05271028\n",
      "--- 0.06418561935424805 seconds ---\n",
      "Epoch 93, Learning Rate: 0.003\n",
      "Adam\n",
      "epoch : 94/200, recon loss = 0.05242457\n",
      "--- 0.05304837226867676 seconds ---\n",
      "Epoch 94, Learning Rate: 0.003\n",
      "Adam\n",
      "epoch : 95/200, recon loss = 0.05239808\n",
      "--- 0.05327868461608887 seconds ---\n",
      "Epoch 95, Learning Rate: 0.003\n",
      "Adam\n",
      "epoch : 96/200, recon loss = 0.05216256\n",
      "--- 0.06916093826293945 seconds ---\n",
      "Epoch 96, Learning Rate: 0.003\n",
      "Adam\n",
      "epoch : 97/200, recon loss = 0.05203513\n",
      "--- 0.053652048110961914 seconds ---\n",
      "Epoch 97, Learning Rate: 0.003\n",
      "Adam\n",
      "epoch : 98/200, recon loss = 0.05193736\n",
      "--- 0.05324149131774902 seconds ---\n",
      "Epoch 98, Learning Rate: 0.003\n",
      "Adam\n",
      "epoch : 99/200, recon loss = 0.05180465\n",
      "--- 0.05409812927246094 seconds ---\n",
      "Epoch 99, Learning Rate: 0.003\n",
      "Adam\n",
      "epoch : 100/200, recon loss = 0.05180191\n",
      "--- 0.053649187088012695 seconds ---\n",
      "Epoch 100, Learning Rate: 0.003\n",
      "Adam\n",
      "epoch : 101/200, recon loss = 0.05179135\n",
      "--- 0.054703474044799805 seconds ---\n",
      "Epoch 101, Learning Rate: 0.003\n",
      "Adam\n",
      "epoch : 102/200, recon loss = 0.05182255\n",
      "--- 0.056700944900512695 seconds ---\n",
      "Epoch 102, Learning Rate: 0.003\n",
      "Adam\n",
      "epoch : 103/200, recon loss = 0.05206672\n",
      "--- 0.05310845375061035 seconds ---\n",
      "Epoch 103, Learning Rate: 0.003\n",
      "Adam\n",
      "epoch : 104/200, recon loss = 0.05222470\n",
      "--- 0.053449392318725586 seconds ---\n",
      "Epoch 104, Learning Rate: 0.003\n",
      "Adam\n",
      "epoch : 105/200, recon loss = 0.05139470\n",
      "--- 0.05300426483154297 seconds ---\n",
      "Epoch 105, Learning Rate: 0.003\n",
      "Adam\n",
      "epoch : 106/200, recon loss = 0.05119302\n",
      "--- 0.05296492576599121 seconds ---\n",
      "Epoch 106, Learning Rate: 0.003\n",
      "Adam\n",
      "epoch : 107/200, recon loss = 0.05184531\n",
      "--- 0.05902695655822754 seconds ---\n",
      "Epoch 107, Learning Rate: 0.003\n",
      "Adam\n",
      "epoch : 108/200, recon loss = 0.05163389\n",
      "--- 0.05615520477294922 seconds ---\n",
      "Epoch 108, Learning Rate: 0.003\n",
      "Adam\n",
      "epoch : 109/200, recon loss = 0.05090906\n",
      "--- 0.05374336242675781 seconds ---\n",
      "Epoch 109, Learning Rate: 0.003\n",
      "Adam\n",
      "epoch : 110/200, recon loss = 0.05094447\n",
      "--- 0.05330038070678711 seconds ---\n",
      "Epoch 110, Learning Rate: 0.003\n",
      "Adam\n",
      "epoch : 111/200, recon loss = 0.05072769\n",
      "--- 0.054352521896362305 seconds ---\n",
      "Epoch 111, Learning Rate: 0.003\n",
      "Adam\n",
      "epoch : 112/200, recon loss = 0.05059938\n",
      "--- 0.054213762283325195 seconds ---\n",
      "Epoch 112, Learning Rate: 0.003\n",
      "Adam\n",
      "epoch : 113/200, recon loss = 0.05075371\n",
      "--- 0.056474924087524414 seconds ---\n",
      "Epoch 113, Learning Rate: 0.003\n",
      "Adam\n",
      "epoch : 114/200, recon loss = 0.05100661\n",
      "--- 0.05320310592651367 seconds ---\n",
      "Epoch 114, Learning Rate: 0.003\n",
      "Adam\n",
      "epoch : 115/200, recon loss = 0.05098786\n",
      "--- 0.053632259368896484 seconds ---\n",
      "Epoch 115, Learning Rate: 0.003\n",
      "Adam\n",
      "epoch : 116/200, recon loss = 0.05054346\n",
      "--- 0.05448651313781738 seconds ---\n",
      "Epoch 116, Learning Rate: 0.003\n",
      "Adam\n",
      "epoch : 117/200, recon loss = 0.05029574\n",
      "--- 0.05561113357543945 seconds ---\n",
      "Epoch 117, Learning Rate: 0.003\n",
      "Adam\n",
      "epoch : 118/200, recon loss = 0.05020442\n",
      "--- 0.06341791152954102 seconds ---\n",
      "Epoch 118, Learning Rate: 0.003\n",
      "Adam\n",
      "epoch : 119/200, recon loss = 0.05027393\n",
      "--- 0.061836957931518555 seconds ---\n",
      "Epoch 119, Learning Rate: 0.003\n",
      "Adam\n",
      "epoch : 120/200, recon loss = 0.05093172\n",
      "--- 0.08568286895751953 seconds ---\n",
      "Epoch 120, Learning Rate: 0.003\n",
      "Adam\n",
      "epoch : 121/200, recon loss = 0.05180693\n",
      "--- 0.05954146385192871 seconds ---\n",
      "Epoch 121, Learning Rate: 0.003\n",
      "Adam\n",
      "epoch : 122/200, recon loss = 0.05014491\n",
      "--- 0.08232927322387695 seconds ---\n",
      "Epoch 122, Learning Rate: 0.003\n",
      "Adam\n",
      "epoch : 123/200, recon loss = 0.05031149\n",
      "--- 0.059538841247558594 seconds ---\n",
      "Epoch 123, Learning Rate: 0.003\n",
      "Adam\n",
      "epoch : 124/200, recon loss = 0.05044031\n",
      "--- 0.07216215133666992 seconds ---\n",
      "Epoch 124, Learning Rate: 0.003\n",
      "Adam\n",
      "epoch : 125/200, recon loss = 0.04972246\n",
      "--- 0.05904507637023926 seconds ---\n",
      "Epoch 125, Learning Rate: 0.003\n",
      "Adam\n",
      "epoch : 126/200, recon loss = 0.05003621\n",
      "--- 0.05935525894165039 seconds ---\n",
      "Epoch 126, Learning Rate: 0.003\n",
      "Adam\n",
      "epoch : 127/200, recon loss = 0.04968195\n",
      "--- 0.05353999137878418 seconds ---\n",
      "Epoch 127, Learning Rate: 0.003\n",
      "Adam\n",
      "epoch : 128/200, recon loss = 0.04957404\n",
      "--- 0.05333709716796875 seconds ---\n",
      "Epoch 128, Learning Rate: 0.003\n",
      "Adam\n",
      "epoch : 129/200, recon loss = 0.04975537\n",
      "--- 0.05309176445007324 seconds ---\n",
      "Epoch 129, Learning Rate: 0.003\n",
      "Adam\n",
      "epoch : 130/200, recon loss = 0.04953219\n",
      "--- 0.05424761772155762 seconds ---\n",
      "Epoch 130, Learning Rate: 0.003\n",
      "Adam\n",
      "epoch : 131/200, recon loss = 0.04930063\n",
      "--- 0.05330514907836914 seconds ---\n",
      "Epoch 131, Learning Rate: 0.003\n",
      "Adam\n",
      "epoch : 132/200, recon loss = 0.04919770\n",
      "--- 0.05609774589538574 seconds ---\n",
      "Epoch 132, Learning Rate: 0.003\n",
      "Adam\n",
      "epoch : 133/200, recon loss = 0.04913200\n",
      "--- 0.0623927116394043 seconds ---\n",
      "Epoch 133, Learning Rate: 0.003\n",
      "Adam\n",
      "epoch : 134/200, recon loss = 0.04907248\n",
      "--- 0.05361437797546387 seconds ---\n",
      "Epoch 134, Learning Rate: 0.003\n",
      "Adam\n",
      "epoch : 135/200, recon loss = 0.04902348\n",
      "--- 0.05295443534851074 seconds ---\n",
      "Epoch 135, Learning Rate: 0.003\n",
      "Adam\n",
      "epoch : 136/200, recon loss = 0.04920499\n",
      "--- 0.052646636962890625 seconds ---\n",
      "Epoch 136, Learning Rate: 0.003\n",
      "Adam\n",
      "epoch : 137/200, recon loss = 0.05245169\n",
      "--- 0.05303692817687988 seconds ---\n",
      "Epoch 137, Learning Rate: 0.003\n",
      "Adam\n",
      "epoch : 138/200, recon loss = 0.05182728\n",
      "--- 0.053203582763671875 seconds ---\n",
      "Epoch 138, Learning Rate: 0.003\n",
      "Adam\n",
      "epoch : 139/200, recon loss = 0.05279245\n",
      "--- 0.05368757247924805 seconds ---\n",
      "Epoch 139, Learning Rate: 0.003\n",
      "Adam\n",
      "epoch : 140/200, recon loss = 0.05320496\n",
      "--- 0.05286073684692383 seconds ---\n",
      "Epoch 140, Learning Rate: 0.003\n",
      "Adam\n",
      "epoch : 141/200, recon loss = 0.05249544\n",
      "--- 0.05314493179321289 seconds ---\n",
      "Epoch 141, Learning Rate: 0.003\n",
      "Adam\n",
      "epoch : 142/200, recon loss = 0.05110178\n",
      "--- 0.05403280258178711 seconds ---\n",
      "Epoch 142, Learning Rate: 0.003\n",
      "Adam\n",
      "epoch : 143/200, recon loss = 0.05033758\n",
      "--- 0.05292391777038574 seconds ---\n",
      "Epoch 143, Learning Rate: 0.003\n",
      "Adam\n",
      "epoch : 144/200, recon loss = 0.05022306\n",
      "--- 0.05276608467102051 seconds ---\n",
      "Epoch 144, Learning Rate: 0.003\n",
      "Adam\n",
      "epoch : 145/200, recon loss = 0.04966154\n",
      "--- 0.05993962287902832 seconds ---\n",
      "Epoch 145, Learning Rate: 0.003\n",
      "Adam\n",
      "epoch : 146/200, recon loss = 0.04955785\n",
      "--- 0.05275440216064453 seconds ---\n",
      "Epoch 146, Learning Rate: 0.003\n",
      "Adam\n",
      "epoch : 147/200, recon loss = 0.04919883\n",
      "--- 0.06491899490356445 seconds ---\n",
      "Epoch 147, Learning Rate: 0.003\n",
      "Adam\n",
      "epoch : 148/200, recon loss = 0.04896060\n",
      "--- 0.053223609924316406 seconds ---\n",
      "Epoch 148, Learning Rate: 0.003\n",
      "Adam\n",
      "epoch : 149/200, recon loss = 0.04879723\n",
      "--- 0.0543825626373291 seconds ---\n",
      "Epoch 149, Learning Rate: 0.003\n"
     ]
    },
    {
     "name": "stdout",
     "output_type": "stream",
     "text": [
      "Adam\n",
      "epoch : 150/200, recon loss = 0.04861735\n",
      "--- 0.05588245391845703 seconds ---\n",
      "Epoch 150, Learning Rate: 0.003\n",
      "Adam\n",
      "epoch : 151/200, recon loss = 0.04850466\n",
      "--- 0.05794835090637207 seconds ---\n",
      "Epoch 151, Learning Rate: 0.003\n",
      "Adam\n",
      "epoch : 152/200, recon loss = 0.04842507\n",
      "--- 0.05583024024963379 seconds ---\n",
      "Epoch 152, Learning Rate: 0.003\n",
      "Adam\n",
      "epoch : 153/200, recon loss = 0.04836009\n",
      "--- 0.055442094802856445 seconds ---\n",
      "Epoch 153, Learning Rate: 0.003\n",
      "Adam\n",
      "epoch : 154/200, recon loss = 0.04828366\n",
      "--- 0.05296158790588379 seconds ---\n",
      "Epoch 154, Learning Rate: 0.003\n",
      "Adam\n",
      "epoch : 155/200, recon loss = 0.04821618\n",
      "--- 0.05274343490600586 seconds ---\n",
      "Epoch 155, Learning Rate: 0.003\n",
      "Adam\n",
      "epoch : 156/200, recon loss = 0.04818933\n",
      "--- 0.05583357810974121 seconds ---\n",
      "Epoch 156, Learning Rate: 0.003\n",
      "Adam\n",
      "epoch : 157/200, recon loss = 0.04810340\n",
      "--- 0.05546212196350098 seconds ---\n",
      "Epoch 157, Learning Rate: 0.003\n",
      "Adam\n",
      "epoch : 158/200, recon loss = 0.04804454\n",
      "--- 0.05253410339355469 seconds ---\n",
      "Epoch 158, Learning Rate: 0.003\n",
      "Adam\n",
      "epoch : 159/200, recon loss = 0.04800502\n",
      "--- 0.05437159538269043 seconds ---\n",
      "Epoch 159, Learning Rate: 0.003\n",
      "Adam\n",
      "epoch : 160/200, recon loss = 0.04796373\n",
      "--- 0.06129717826843262 seconds ---\n",
      "Epoch 160, Learning Rate: 0.003\n",
      "Adam\n",
      "epoch : 161/200, recon loss = 0.04791287\n",
      "--- 0.060814619064331055 seconds ---\n",
      "Epoch 161, Learning Rate: 0.003\n",
      "Adam\n",
      "epoch : 162/200, recon loss = 0.04789848\n",
      "--- 0.06071925163269043 seconds ---\n",
      "Epoch 162, Learning Rate: 0.003\n",
      "Adam\n",
      "epoch : 163/200, recon loss = 0.04782123\n",
      "--- 0.05399274826049805 seconds ---\n",
      "Epoch 163, Learning Rate: 0.003\n",
      "Adam\n",
      "epoch : 164/200, recon loss = 0.04778978\n",
      "--- 0.0529789924621582 seconds ---\n",
      "Epoch 164, Learning Rate: 0.003\n",
      "Adam\n",
      "epoch : 165/200, recon loss = 0.04775716\n",
      "--- 0.053258657455444336 seconds ---\n",
      "Epoch 165, Learning Rate: 0.003\n",
      "Adam\n",
      "epoch : 166/200, recon loss = 0.04770535\n",
      "--- 0.0541539192199707 seconds ---\n",
      "Epoch 166, Learning Rate: 0.003\n",
      "Adam\n",
      "epoch : 167/200, recon loss = 0.04767204\n",
      "--- 0.06351542472839355 seconds ---\n",
      "Epoch 167, Learning Rate: 0.003\n",
      "Adam\n",
      "epoch : 168/200, recon loss = 0.04762917\n",
      "--- 0.05319809913635254 seconds ---\n",
      "Epoch 168, Learning Rate: 0.003\n",
      "Adam\n",
      "epoch : 169/200, recon loss = 0.04760220\n",
      "--- 0.07079148292541504 seconds ---\n",
      "Epoch 169, Learning Rate: 0.003\n",
      "Adam\n",
      "epoch : 170/200, recon loss = 0.04761283\n",
      "--- 0.052908897399902344 seconds ---\n",
      "Epoch 170, Learning Rate: 0.003\n",
      "Adam\n",
      "epoch : 171/200, recon loss = 0.04753412\n",
      "--- 0.058058738708496094 seconds ---\n",
      "Epoch 171, Learning Rate: 0.003\n",
      "Adam\n",
      "epoch : 172/200, recon loss = 0.04748601\n",
      "--- 0.053180694580078125 seconds ---\n",
      "Epoch 172, Learning Rate: 0.003\n",
      "Adam\n",
      "epoch : 173/200, recon loss = 0.04745366\n",
      "--- 0.05441546440124512 seconds ---\n",
      "Epoch 173, Learning Rate: 0.003\n",
      "Adam\n",
      "epoch : 174/200, recon loss = 0.04742104\n",
      "--- 0.05378007888793945 seconds ---\n",
      "Epoch 174, Learning Rate: 0.003\n",
      "Adam\n",
      "epoch : 175/200, recon loss = 0.04740784\n",
      "--- 0.06424593925476074 seconds ---\n",
      "Epoch 175, Learning Rate: 0.003\n",
      "Adam\n",
      "epoch : 176/200, recon loss = 0.04746730\n",
      "--- 0.0706167221069336 seconds ---\n",
      "Epoch 176, Learning Rate: 0.003\n",
      "Adam\n",
      "epoch : 177/200, recon loss = 0.04766736\n",
      "--- 0.05567169189453125 seconds ---\n",
      "Epoch 177, Learning Rate: 0.003\n",
      "Adam\n",
      "epoch : 178/200, recon loss = 0.04820791\n",
      "--- 0.06548881530761719 seconds ---\n",
      "Epoch 178, Learning Rate: 0.003\n",
      "Adam\n",
      "epoch : 179/200, recon loss = 0.04820171\n",
      "--- 0.05711531639099121 seconds ---\n",
      "Epoch 179, Learning Rate: 0.003\n",
      "Adam\n",
      "epoch : 180/200, recon loss = 0.04738880\n",
      "--- 0.06865859031677246 seconds ---\n",
      "Epoch 180, Learning Rate: 0.003\n",
      "Adam\n",
      "epoch : 181/200, recon loss = 0.04739252\n",
      "--- 0.059943437576293945 seconds ---\n",
      "Epoch 181, Learning Rate: 0.003\n",
      "Adam\n",
      "epoch : 182/200, recon loss = 0.04738085\n",
      "--- 0.059708356857299805 seconds ---\n",
      "Epoch 182, Learning Rate: 0.003\n",
      "Adam\n",
      "epoch : 183/200, recon loss = 0.04716105\n",
      "--- 0.0546567440032959 seconds ---\n",
      "Epoch 183, Learning Rate: 0.003\n",
      "Adam\n",
      "epoch : 184/200, recon loss = 0.04723586\n",
      "--- 0.07383394241333008 seconds ---\n",
      "Epoch 184, Learning Rate: 0.003\n",
      "Adam\n",
      "epoch : 185/200, recon loss = 0.04736837\n",
      "--- 0.053487539291381836 seconds ---\n",
      "Epoch 185, Learning Rate: 0.003\n",
      "Adam\n",
      "epoch : 186/200, recon loss = 0.04715683\n",
      "--- 0.05366683006286621 seconds ---\n",
      "Epoch 186, Learning Rate: 0.003\n",
      "Adam\n",
      "epoch : 187/200, recon loss = 0.04702796\n",
      "--- 0.059272050857543945 seconds ---\n",
      "Epoch 187, Learning Rate: 0.003\n",
      "Adam\n",
      "epoch : 188/200, recon loss = 0.04705296\n",
      "--- 0.058431148529052734 seconds ---\n",
      "Epoch 188, Learning Rate: 0.003\n",
      "Adam\n",
      "epoch : 189/200, recon loss = 0.04708591\n",
      "--- 0.060709238052368164 seconds ---\n",
      "Epoch 189, Learning Rate: 0.003\n",
      "Adam\n",
      "epoch : 190/200, recon loss = 0.04713898\n",
      "--- 0.05490922927856445 seconds ---\n",
      "Epoch 190, Learning Rate: 0.003\n",
      "Adam\n",
      "epoch : 191/200, recon loss = 0.04749085\n",
      "--- 0.058896541595458984 seconds ---\n",
      "Epoch 191, Learning Rate: 0.003\n",
      "Adam\n",
      "epoch : 192/200, recon loss = 0.04839158\n",
      "--- 0.05971336364746094 seconds ---\n",
      "Epoch 192, Learning Rate: 0.003\n",
      "Adam\n",
      "epoch : 193/200, recon loss = 0.04769068\n",
      "--- 0.06033444404602051 seconds ---\n",
      "Epoch 193, Learning Rate: 0.003\n",
      "Adam\n",
      "epoch : 194/200, recon loss = 0.04699214\n",
      "--- 0.05433797836303711 seconds ---\n",
      "Epoch 194, Learning Rate: 0.003\n",
      "Adam\n",
      "epoch : 195/200, recon loss = 0.04759809\n",
      "--- 0.05425381660461426 seconds ---\n",
      "Epoch 195, Learning Rate: 0.003\n",
      "Adam\n",
      "epoch : 196/200, recon loss = 0.04693483\n",
      "--- 0.05372285842895508 seconds ---\n",
      "Epoch 196, Learning Rate: 0.003\n",
      "Adam\n",
      "epoch : 197/200, recon loss = 0.04702463\n",
      "--- 0.05394291877746582 seconds ---\n",
      "Epoch 197, Learning Rate: 0.003\n",
      "Adam\n",
      "epoch : 198/200, recon loss = 0.04684969\n",
      "--- 0.055237531661987305 seconds ---\n",
      "Epoch 198, Learning Rate: 0.003\n",
      "Adam\n",
      "epoch : 199/200, recon loss = 0.04673837\n",
      "--- 0.053786516189575195 seconds ---\n",
      "Epoch 199, Learning Rate: 0.003\n",
      "Adam\n",
      "epoch : 200/200, recon loss = 0.04684549\n",
      "--- 0.05487847328186035 seconds ---\n",
      "Epoch 200, Learning Rate: 0.003\n"
     ]
    }
   ],
   "source": [
    "from m3_learning.be.loop_fitter import loop_fitting_function_torch\n",
    "from m3_learning.optimizers.TrustRegion import TRCG\n",
    "import torch.optim as optim\n",
    "\n",
    "\n",
    "data, voltage = dataset.get_hysteresis(scaled=True, loop_interpolated = True)\n",
    "V = np.swapaxes(np.atleast_2d(dataset.get_voltage), 0, 1).astype(np.float64)\n",
    "\n",
    "\n",
    "model_ = Multiscale1DFitter(loop_fitting_function_torch, # function \n",
    "#                             voltage[:,0].squeeze(), # x data\n",
    "                            V.squeeze(),\n",
    "                            1, # input channels\n",
    "                            9, # output parameters\n",
    "                            dataset.loop_param_scaler,\n",
    "                            loops_scaler=dataset.hysteresis_scaler)\n",
    "\n",
    "# instantiate the model\n",
    "model = Model(model_, dataset, training=True, model_basename=\"SHO_Fitter_original_data\")\n",
    "\n",
    "from sklearn.model_selection import train_test_split\n",
    "\n",
    "\n",
    "X_train, X_test = train_test_split(data.reshape(-1,96), test_size=0.2, random_state=42, shuffle=True)\n",
    "\n",
    "X_train = np.atleast_3d(X_train)\n",
    "\n",
    "optimizer = {\n",
    "    \"name\": \"TRCG\", \n",
    "    \"optimizer\": TRCG,\n",
    "    \"closure_size\": 1,\n",
    "    \"cgopttol\": 1e-3,\n",
    "    \"c0tr\": 0.2,\n",
    "    \"c1tr\": 0.25,\n",
    "    \"c2tr\": 0.75,\n",
    "    \"t1tr\": 0.75,\n",
    "    \"t2tr\": 2.0,\n",
    "    \"radius_max\": 5.0,  \n",
    "    \"radius_initial\": 1.0,\n",
    "    \"radius\" : 1.0,\n",
    "    \"device\": \"cuda\",\n",
    "    \"ADAM_epochs\": 20}\n",
    "\n",
    "\n",
    "train = True\n",
    "\n",
    "if train:\n",
    "    # fits the model\n",
    "    model.fit(\n",
    "        X_train,\n",
    "        4096,\n",
    "        optimizer='Adam',\n",
    "        epochs = 200,\n",
    "    )\n",
    "else:\n",
    "    model.load(\n",
    "        \"/home/ferroelectric/m3_learning/m3_learning/papers/2023_Rapid_Fitting/Trained Models/SHO Fitter/SHO_Fitter_original_data_model_epoch_5_train_loss_0.0449272525189978.pth\"\n",
    "    )"
   ]
  },
  {
   "cell_type": "code",
   "execution_count": 18,
   "metadata": {},
   "outputs": [],
   "source": [
    "import torch\n",
    "X_train = torch.atleast_3d(torch.tensor(X_train))\n",
    "\n",
    "\n",
    "train_pred_recon, train_pred_params_scaled, train_pred_params = model.predict(\n",
    "    X_train,\n",
    "    1024,\n",
    "    translate_params=False\n",
    ")"
   ]
  },
  {
   "cell_type": "code",
   "execution_count": 19,
   "metadata": {},
   "outputs": [
    {
     "data": {
      "text/plain": [
       "torch.Size([11520, 9])"
      ]
     },
     "execution_count": 19,
     "metadata": {},
     "output_type": "execute_result"
    }
   ],
   "source": [
    "train_pred_recon.shape\n",
    "train_pred_params_scaled.shape\n",
    "train_pred_params.shape"
   ]
  },
  {
   "cell_type": "code",
   "execution_count": 20,
   "metadata": {},
   "outputs": [
    {
     "data": {
      "text/plain": [
       "torch.Size([96, 1])"
      ]
     },
     "execution_count": 20,
     "metadata": {},
     "output_type": "execute_result"
    }
   ],
   "source": [
    "X_train[1000].shape"
   ]
  },
  {
   "cell_type": "code",
   "execution_count": 21,
   "metadata": {},
   "outputs": [
    {
     "data": {
      "text/plain": [
       "(96, 4)"
      ]
     },
     "execution_count": 21,
     "metadata": {},
     "output_type": "execute_result"
    }
   ],
   "source": [
    "voltage.shape"
   ]
  },
  {
   "cell_type": "code",
   "execution_count": 24,
   "metadata": {},
   "outputs": [
    {
     "data": {
      "text/plain": [
       "[<matplotlib.lines.Line2D at 0x7f95ee01ea30>,\n",
       " <matplotlib.lines.Line2D at 0x7f95ee01ea60>,\n",
       " <matplotlib.lines.Line2D at 0x7f95ee01eb50>,\n",
       " <matplotlib.lines.Line2D at 0x7f95ee01ec40>]"
      ]
     },
     "execution_count": 24,
     "metadata": {},
     "output_type": "execute_result"
    },
    {
     "data": {
      "image/png": "[encoded data removed]",
      "text/plain": [
       "<Figure size 432x288 with 1 Axes>"
      ]
     },
     "metadata": {
      "needs_background": "light"
     },
     "output_type": "display_data"
    }
   ],
   "source": [
    "i = np.random.randint(0, X_train.shape[0])\n",
    "\n",
    "import matplotlib.pyplot as plt\n",
    "plt.plot(voltage, X_train[i])\n",
    "plt.plot(voltage, np.atleast_2d(train_pred_recon[i]))"
   ]
  },
  {
   "cell_type": "markdown",
   "metadata": {},
   "source": [
    "## Plot a Random Example of the fit"
   ]
  },
  {
   "cell_type": "code",
   "execution_count": 58,
   "metadata": {},
   "outputs": [],
   "source": [
    "# insatiate the visualization object\n",
    "image_scalebar = [2000, 500, \"nm\", \"br\"]\n",
    "\n",
    "BE_viz = Viz(dataset, printing, verbose=True, \n",
    "             SHO_ranges = [(0,1.5e-4), (1.31e6, 1.33e6), (-300, 300), (-np.pi, np.pi)], \n",
    "             image_scalebar = image_scalebar)\n",
    "\n",
    "self = BE_viz"
   ]
  },
  {
   "cell_type": "code",
   "execution_count": 59,
   "metadata": {},
   "outputs": [
    {
     "data": {
      "text/plain": [
       "{'resampled': False,\n",
       " 'raw_format': 'complex',\n",
       " 'fitter': 'LSQF',\n",
       " 'scaled': False,\n",
       " 'output_shape': 'pixels',\n",
       " 'measurement_state': 'all',\n",
       " 'resampled_bins': 165,\n",
       " 'LSQF_phase_shift': None,\n",
       " 'NN_phase_shift': None,\n",
       " 'noise': 0,\n",
       " 'loop_interpolated': False}"
      ]
     },
     "execution_count": 59,
     "metadata": {},
     "output_type": "execute_result"
    }
   ],
   "source": [
    "dataset.get_state"
   ]
  },
  {
   "cell_type": "code",
   "execution_count": 60,
   "metadata": {},
   "outputs": [
    {
     "name": "stdout",
     "output_type": "stream",
     "text": [
      "No spectroscopic datasets found as attributes of /Measurement_000/Channel_000/Position_Indices\n",
      "No position datasets found as attributes of /Raw_Data-SHO_Fit_000/Spectroscopic_Values\n"
     ]
    }
   ],
   "source": [
    "out, voltage = dataset.get_hysteresis(scaled=True, loop_interpolated = True)"
   ]
  },
  {
   "cell_type": "code",
   "execution_count": 61,
   "metadata": {},
   "outputs": [
    {
     "data": {
      "text/plain": [
       "[<matplotlib.lines.Line2D at 0x7f74830ce550>]"
      ]
     },
     "execution_count": 61,
     "metadata": {},
     "output_type": "execute_result"
    },
    {
     "data": {
      "image/png": "[encoded data removed]",
      "text/plain": [
       "<Figure size 432x288 with 1 Axes>"
      ]
     },
     "metadata": {
      "needs_background": "light"
     },
     "output_type": "display_data"
    }
   ],
   "source": [
    "plt.plot(dataset.dc_voltage)"
   ]
  },
  {
   "cell_type": "code",
   "execution_count": 62,
   "metadata": {},
   "outputs": [
    {
     "data": {
      "text/plain": [
       "[<matplotlib.lines.Line2D at 0x7f7483058280>]"
      ]
     },
     "execution_count": 62,
     "metadata": {},
     "output_type": "execute_result"
    },
    {
     "data": {
      "image/png": "[encoded data removed]",
      "text/plain": [
       "<Figure size 432x288 with 1 Axes>"
      ]
     },
     "metadata": {
      "needs_background": "light"
     },
     "output_type": "display_data"
    }
   ],
   "source": [
    "import matplotlib.pyplot as plt\n",
    "\n",
    "a = np.random.randint(0,60,(1))\n",
    "b = np.random.randint(0,60,(1))\n",
    "\n",
    "\n",
    "plt.plot(voltage[:,0].squeeze(), out[a,b,0].squeeze())"
   ]
  },
  {
   "cell_type": "code",
   "execution_count": 63,
   "metadata": {},
   "outputs": [
    {
     "name": "stdout",
     "output_type": "stream",
     "text": [
      "No spectroscopic datasets found as attributes of /Measurement_000/Channel_000/Position_Indices\n",
      "No position datasets found as attributes of /Raw_Data-SHO_Fit_000/Spectroscopic_Values\n"
     ]
    }
   ],
   "source": [
    "hys, bias = dataset.get_hysteresis()\n",
    "\n",
    "hys_2 = clean_interpolate(hys, axis=3)"
   ]
  },
  {
   "cell_type": "code",
   "execution_count": null,
   "metadata": {},
   "outputs": [],
   "source": [
    "def find_non_finite_indices(arr):\n",
    "    non_finite_mask = ~np.isfinite(arr)\n",
    "    indices = np.argwhere(non_finite_mask)\n",
    "    return indices"
   ]
  },
  {
   "cell_type": "code",
   "execution_count": null,
   "metadata": {},
   "outputs": [],
   "source": [
    "hys.shape"
   ]
  },
  {
   "cell_type": "code",
   "execution_count": null,
   "metadata": {},
   "outputs": [],
   "source": [
    "find_non_finite_indices(hys)"
   ]
  },
  {
   "cell_type": "code",
   "execution_count": null,
   "metadata": {},
   "outputs": [],
   "source": [
    "a"
   ]
  },
  {
   "cell_type": "code",
   "execution_count": null,
   "metadata": {},
   "outputs": [],
   "source": [
    "import matplotlib.pyplot as plt\n",
    "\n",
    "a = np.random.randint(0,60,(1))\n",
    "b = np.random.randint(0,60,(1))\n",
    "\n",
    "\n",
    "plt.plot(hys[a[0],b[0],0])\n",
    "plt.plot(hys_2[a[0],b[0],0])"
   ]
  },
  {
   "cell_type": "code",
   "execution_count": 12,
   "metadata": {},
   "outputs": [
    {
     "ename": "type",
     "evalue": "incomplete input (3744456558.py, line 22)",
     "output_type": "error",
     "traceback": [
      "\u001b[0;31m---------------------------------------------------------------------------\u001b[0m",
      "\u001b[0;31mSyntaxError\u001b[0m                               Traceback (most recent call last)",
      "File \u001b[0;32m~/micromamba/envs/shofittting/lib/python3.10/site-packages/IPython/core/compilerop.py:86\u001b[0m, in \u001b[0;36mCachingCompiler.ast_parse\u001b[0;34m(self, source, filename, symbol)\u001b[0m\n\u001b[1;32m     81\u001b[0m \u001b[39mdef\u001b[39;00m \u001b[39mast_parse\u001b[39m(\u001b[39mself\u001b[39m, source, filename\u001b[39m=\u001b[39m\u001b[39m'\u001b[39m\u001b[39m<unknown>\u001b[39m\u001b[39m'\u001b[39m, symbol\u001b[39m=\u001b[39m\u001b[39m'\u001b[39m\u001b[39mexec\u001b[39m\u001b[39m'\u001b[39m):\n\u001b[1;32m     82\u001b[0m \u001b[39m    \u001b[39m\u001b[39m\"\"\"Parse code to an AST with the current compiler flags active.\u001b[39;00m\n\u001b[1;32m     83\u001b[0m \n\u001b[1;32m     84\u001b[0m \u001b[39m    Arguments are exactly the same as ast.parse (in the standard library),\u001b[39;00m\n\u001b[1;32m     85\u001b[0m \u001b[39m    and are passed to the built-in compile function.\"\"\"\u001b[39;00m\n\u001b[0;32m---> 86\u001b[0m     \u001b[39mreturn\u001b[39;00m \u001b[39mcompile\u001b[39;49m(source, filename, symbol, \u001b[39mself\u001b[39;49m\u001b[39m.\u001b[39;49mflags \u001b[39m|\u001b[39;49m PyCF_ONLY_AST, \u001b[39m1\u001b[39;49m)\n",
      "\u001b[0;31mSyntaxError\u001b[0m: incomplete input (3744456558.py, line 22)"
     ]
    }
   ],
   "source": [
    "def hysteresis_fit(self, \n",
    "                   voltage, \n",
    "                   datasets, \n",
    "                   original = True,\n",
    "                   row = None, \n",
    "                   col = None,\n",
    "                   cycle = None):\n",
    "    \n",
    "    if row is None:\n",
    "        row = np.random.randint(0, self.dataset.num_rows, 1)\n",
    "        \n",
    "    if col is None:\n",
    "        col = np.random.randint(0, self.dataset.num_cols, 1)\n",
    "        \n",
    "    if cycle is None:\n",
    "        cycle = np.random.randint(0, self.dataset.num_cycles, 1)\n",
    "    \n",
    "    fig, ax = subfigures(1,1, size = (1.25,1.25))\n",
    "    \n",
    "\n",
    "        "
   ]
  },
  {
   "cell_type": "code",
   "execution_count": 38,
   "metadata": {},
   "outputs": [
    {
     "ename": "type",
     "evalue": "'list' object has no attribute 'plot'",
     "output_type": "error",
     "traceback": [
      "\u001b[0;31m---------------------------------------------------------------------------\u001b[0m",
      "\u001b[0;31mAttributeError\u001b[0m                            Traceback (most recent call last)",
      "\u001b[1;32m/home/ferroelectric/m3_learning/m3_learning/papers/2023_Rapid_Fitting/5_Hysteresis_Fitter.ipynb Cell 37\u001b[0m line \u001b[0;36m6\n\u001b[1;32m      <a href='vscode-notebook-cell://ssh-remote%2B10.248.36.21/home/ferroelectric/m3_learning/m3_learning/papers/2023_Rapid_Fitting/5_Hysteresis_Fitter.ipynb#X36sdnNjb2RlLXJlbW90ZQ%3D%3D?line=0'>1</a>\u001b[0m \u001b[39mfrom\u001b[39;00m \u001b[39mm3_learning\u001b[39;00m\u001b[39m.\u001b[39;00m\u001b[39mviz\u001b[39;00m\u001b[39m.\u001b[39;00m\u001b[39mlayout\u001b[39;00m \u001b[39mimport\u001b[39;00m layout_fig, inset_connector, add_box, subfigures, add_text_to_figure, get_axis_pos_inches, imagemap,  FigDimConverter, labelfigs, imagemap, scalebar\n\u001b[1;32m      <a href='vscode-notebook-cell://ssh-remote%2B10.248.36.21/home/ferroelectric/m3_learning/m3_learning/papers/2023_Rapid_Fitting/5_Hysteresis_Fitter.ipynb#X36sdnNjb2RlLXJlbW90ZQ%3D%3D?line=2'>3</a>\u001b[0m fig, axs \u001b[39m=\u001b[39m subfigures(\u001b[39m1\u001b[39m,\u001b[39m1\u001b[39m, size \u001b[39m=\u001b[39m (\u001b[39m1.25\u001b[39m,\u001b[39m1.25\u001b[39m))\n\u001b[0;32m----> <a href='vscode-notebook-cell://ssh-remote%2B10.248.36.21/home/ferroelectric/m3_learning/m3_learning/papers/2023_Rapid_Fitting/5_Hysteresis_Fitter.ipynb#X36sdnNjb2RlLXJlbW90ZQ%3D%3D?line=5'>6</a>\u001b[0m axs\u001b[39m.\u001b[39;49mplot(V, proj_nd_shifted_transposed[i[\u001b[39m0\u001b[39m], i[\u001b[39m1\u001b[39m], :, \u001b[39m3\u001b[39m],\u001b[39m'\u001b[39m\u001b[39mog\u001b[39m\u001b[39m'\u001b[39m,\n\u001b[1;32m      <a href='vscode-notebook-cell://ssh-remote%2B10.248.36.21/home/ferroelectric/m3_learning/m3_learning/papers/2023_Rapid_Fitting/5_Hysteresis_Fitter.ipynb#X36sdnNjb2RlLXJlbW90ZQ%3D%3D?line=6'>7</a>\u001b[0m          label\u001b[39m=\u001b[39m\u001b[39m'\u001b[39m\u001b[39minitial loops\u001b[39m\u001b[39m'\u001b[39m)\n\u001b[1;32m      <a href='vscode-notebook-cell://ssh-remote%2B10.248.36.21/home/ferroelectric/m3_learning/m3_learning/papers/2023_Rapid_Fitting/5_Hysteresis_Fitter.ipynb#X36sdnNjb2RlLXJlbW90ZQ%3D%3D?line=7'>8</a>\u001b[0m axs\u001b[39m.\u001b[39mplot(V, loop_fit_results[:, i[\u001b[39m0\u001b[39m], i[\u001b[39m1\u001b[39m]], \u001b[39m'\u001b[39m\u001b[39mblue\u001b[39m\u001b[39m'\u001b[39m, label\u001b[39m=\u001b[39m\u001b[39m'\u001b[39m\u001b[39mfit results (NumPy)\u001b[39m\u001b[39m'\u001b[39m)\n\u001b[1;32m      <a href='vscode-notebook-cell://ssh-remote%2B10.248.36.21/home/ferroelectric/m3_learning/m3_learning/papers/2023_Rapid_Fitting/5_Hysteresis_Fitter.ipynb#X36sdnNjb2RlLXJlbW90ZQ%3D%3D?line=8'>9</a>\u001b[0m axs\u001b[39m.\u001b[39mplot(V, np\u001b[39m.\u001b[39mreshape(loop_fitting_function_tf(func_type, V, params), \n\u001b[1;32m     <a href='vscode-notebook-cell://ssh-remote%2B10.248.36.21/home/ferroelectric/m3_learning/m3_learning/papers/2023_Rapid_Fitting/5_Hysteresis_Fitter.ipynb#X36sdnNjb2RlLXJlbW90ZQ%3D%3D?line=9'>10</a>\u001b[0m                        (num_pix_1d, num_pix_1d, \u001b[39m96\u001b[39m))[i[\u001b[39m0\u001b[39m], i[\u001b[39m1\u001b[39m], :], \u001b[39m'\u001b[39m\u001b[39mblack\u001b[39m\u001b[39m'\u001b[39m, \n\u001b[1;32m     <a href='vscode-notebook-cell://ssh-remote%2B10.248.36.21/home/ferroelectric/m3_learning/m3_learning/papers/2023_Rapid_Fitting/5_Hysteresis_Fitter.ipynb#X36sdnNjb2RlLXJlbW90ZQ%3D%3D?line=10'>11</a>\u001b[0m          label\u001b[39m=\u001b[39m\u001b[39m'\u001b[39m\u001b[39mfit results (Tensorflow)\u001b[39m\u001b[39m'\u001b[39m)\n",
      "\u001b[0;31mAttributeError\u001b[0m: 'list' object has no attribute 'plot'"
     ]
    },
    {
     "data": {
      "image/png": "[encoded data removed]",
      "text/plain": [
       "<Figure size 205x158 with 1 Axes>"
      ]
     },
     "metadata": {},
     "output_type": "display_data"
    }
   ],
   "source": [
    "from m3_learning.viz.layout import layout_fig, inset_connector, add_box, subfigures, add_text_to_figure, get_axis_pos_inches, imagemap,  FigDimConverter, labelfigs, imagemap, scalebar\n",
    "\n",
    "fig, axs = subfigures(1,1, size = (1.25,1.25))\n",
    "\n",
    "\n",
    "axs.plot(V, proj_nd_shifted_transposed[i[0], i[1], :, 3],'og',\n",
    "         label='initial loops')\n",
    "axs.plot(V, loop_fit_results[:, i[0], i[1]], 'blue', label='fit results (NumPy)')\n",
    "axs.plot(V, np.reshape(loop_fitting_function_tf(func_type, V, params), \n",
    "                       (num_pix_1d, num_pix_1d, 96))[i[0], i[1], :], 'black', \n",
    "         label='fit results (Tensorflow)')\n",
    "axs.legend()\n",
    "axs.ticklabel_format(axis=\"y\", style=\"sci\", scilimits=(0,0))\n",
    "axs.set(xlabel='Voltage (V)', ylabel='Amplitude (Arb. U.)')\n",
    "axs.label_outer()"
   ]
  },
  {
   "cell_type": "code",
   "execution_count": 73,
   "metadata": {},
   "outputs": [
    {
     "data": {
      "text/plain": [
       "(60, 60, 4, 9)"
      ]
     },
     "execution_count": 73,
     "metadata": {},
     "output_type": "execute_result"
    }
   ],
   "source": []
  },
  {
   "cell_type": "code",
   "execution_count": null,
   "metadata": {},
   "outputs": [],
   "source": []
  },
  {
   "cell_type": "code",
   "execution_count": null,
   "metadata": {},
   "outputs": [],
   "source": [
    "with h5py.File(dataset.file, \"r+\") as h5_f:\n",
    "    \n",
    "    out = h5_f['/Raw_Data_SHO_Fit/Raw_Data-SHO_Fit_000/Fit-Loop_Fit_000/Fit'][:]"
   ]
  },
  {
   "cell_type": "code",
   "execution_count": 78,
   "metadata": {},
   "outputs": [],
   "source": []
  },
  {
   "cell_type": "code",
   "execution_count": null,
   "metadata": {},
   "outputs": [],
   "source": [
    "dataset.num_cols"
   ]
  },
  {
   "cell_type": "code",
   "execution_count": null,
   "metadata": {},
   "outputs": [],
   "source": [
    "parm = dataset.LSQF_hysteresis_params(output_shape = \"index\")"
   ]
  },
  {
   "cell_type": "code",
   "execution_count": null,
   "metadata": {},
   "outputs": [],
   "source": [
    "parm.shape\n"
   ]
  },
  {
   "cell_type": "code",
   "execution_count": null,
   "metadata": {},
   "outputs": [],
   "source": [
    "out, bias = dataset.get_hysteresis(\"/Raw_Data_SHO_Fit/Raw_Data-SHO_Fit_000/Fit-Loop_Fit_000\", plotting_values=True)\n",
    "out.shape"
   ]
  },
  {
   "cell_type": "code",
   "execution_count": 76,
   "metadata": {},
   "outputs": [
    {
     "ename": "type",
     "evalue": "name 'loop_fitting_function_torch' is not defined",
     "output_type": "error",
     "traceback": [
      "\u001b[0;31m---------------------------------------------------------------------------\u001b[0m",
      "\u001b[0;31mNameError\u001b[0m                                 Traceback (most recent call last)",
      "\u001b[1;32m/home/ferroelectric/m3_learning/m3_learning/papers/2023_Rapid_Fitting/5_Hysteresis_Fitter.ipynb Cell 58\u001b[0m line \u001b[0;36m1\n\u001b[1;32m      <a href='vscode-notebook-cell://ssh-remote%2B10.248.36.21/home/ferroelectric/m3_learning/m3_learning/papers/2023_Rapid_Fitting/5_Hysteresis_Fitter.ipynb#X63sdnNjb2RlLXJlbW90ZQ%3D%3D?line=6'>7</a>\u001b[0m row \u001b[39m=\u001b[39m \u001b[39m20\u001b[39m\n\u001b[1;32m      <a href='vscode-notebook-cell://ssh-remote%2B10.248.36.21/home/ferroelectric/m3_learning/m3_learning/papers/2023_Rapid_Fitting/5_Hysteresis_Fitter.ipynb#X63sdnNjb2RlLXJlbW90ZQ%3D%3D?line=8'>9</a>\u001b[0m parm \u001b[39m=\u001b[39m dataset\u001b[39m.\u001b[39mLSQF_hysteresis_params()[row, col, cycle]\u001b[39m.\u001b[39mview(\u001b[39m'\u001b[39m\u001b[39m<f4\u001b[39m\u001b[39m'\u001b[39m)\n\u001b[0;32m---> <a href='vscode-notebook-cell://ssh-remote%2B10.248.36.21/home/ferroelectric/m3_learning/m3_learning/papers/2023_Rapid_Fitting/5_Hysteresis_Fitter.ipynb#X63sdnNjb2RlLXJlbW90ZQ%3D%3D?line=9'>10</a>\u001b[0m loop \u001b[39m=\u001b[39m loop_fitting_function_torch(bias[:, cycle], parm, \u001b[39mtype\u001b[39m\u001b[39m=\u001b[39m\u001b[39m'\u001b[39m\u001b[39m9 parameters\u001b[39m\u001b[39m'\u001b[39m)\n\u001b[1;32m     <a href='vscode-notebook-cell://ssh-remote%2B10.248.36.21/home/ferroelectric/m3_learning/m3_learning/papers/2023_Rapid_Fitting/5_Hysteresis_Fitter.ipynb#X63sdnNjb2RlLXJlbW90ZQ%3D%3D?line=10'>11</a>\u001b[0m out, bias \u001b[39m=\u001b[39m dataset\u001b[39m.\u001b[39mget_hysteresis(\u001b[39m\"\u001b[39m\u001b[39m/Raw_Data_SHO_Fit/Raw_Data-SHO_Fit_000/Fit-Loop_Fit_000\u001b[39m\u001b[39m\"\u001b[39m, plotting_values\u001b[39m=\u001b[39m\u001b[39mTrue\u001b[39;00m)\n\u001b[1;32m     <a href='vscode-notebook-cell://ssh-remote%2B10.248.36.21/home/ferroelectric/m3_learning/m3_learning/papers/2023_Rapid_Fitting/5_Hysteresis_Fitter.ipynb#X63sdnNjb2RlLXJlbW90ZQ%3D%3D?line=14'>15</a>\u001b[0m plt\u001b[39m.\u001b[39mplot(bias[:, cycle]\u001b[39m.\u001b[39msqueeze(), loop\u001b[39m.\u001b[39mcpu()\u001b[39m.\u001b[39msqueeze(), \u001b[39m'\u001b[39m\u001b[39mr\u001b[39m\u001b[39m'\u001b[39m)\n",
      "\u001b[0;31mNameError\u001b[0m: name 'loop_fitting_function_torch' is not defined"
     ]
    }
   ],
   "source": [
    "import matplotlib.pyplot as plt\n",
    "\n",
    "self = dataset\n",
    "\n",
    "col = np.random.randint(0, self.num_cols, 1)\n",
    "cycle = pos = np.random.randint(0, 4, 1)\n",
    "row = 20\n",
    "\n",
    "parm = dataset.LSQF_hysteresis_params()[row, col, cycle].view('<f4')\n",
    "loop = loop_fitting_function_torch(bias[:, cycle], parm, type='9 parameters')\n",
    "out, bias = dataset.get_hysteresis(\"/Raw_Data_SHO_Fit/Raw_Data-SHO_Fit_000/Fit-Loop_Fit_000\", plotting_values=True)\n",
    "\n",
    "\n",
    "\n",
    "plt.plot(bias[:, cycle].squeeze(), loop.cpu().squeeze(), 'r')\n",
    "plt.plot(bias[:, cycle].squeeze(), out[row, col, :, cycle].squeeze(), 'b')"
   ]
  },
  {
   "cell_type": "code",
   "execution_count": null,
   "metadata": {},
   "outputs": [],
   "source": [
    "from scipy.special import erf, erfinv\n",
    "import warnings\n",
    "\n",
    "def loop_fit_function(vdc, coef_vec):\n",
    "    \"\"\"\n",
    "    9 parameter fit function\n",
    "    \n",
    "    Parameters\n",
    "    -----------\n",
    "    vdc : 1D numpy array or list\n",
    "        DC voltages\n",
    "    coef_vec : 1D numpy array or list\n",
    "        9 parameter coefficient vector\n",
    "        \n",
    "    Returns\n",
    "    ---------\n",
    "    loop_eval : 1D numpy array\n",
    "        Loop values\n",
    "    \"\"\"\n",
    "\n",
    "    a = coef_vec[:5]\n",
    "    b = coef_vec[5:]\n",
    "    d = 1000\n",
    "\n",
    "    v1 = np.asarray(vdc[:int(len(vdc) / 2)])\n",
    "    v2 = np.asarray(vdc[int(len(vdc) / 2):])\n",
    "\n",
    "    g1 = (b[1] - b[0]) / 2 * (erf((v1 - a[2]) * d) + 1) + b[0]\n",
    "    g2 = (b[3] - b[2]) / 2 * (erf((v2 - a[3]) * d) + 1) + b[2]\n",
    "\n",
    "    y1 = (g1 * erf((v1 - a[2]) / g1) + b[0]) / (b[0] + b[1])\n",
    "    y2 = (g2 * erf((v2 - a[3]) / g2) + b[2]) / (b[2] + b[3])\n",
    "\n",
    "    f1 = a[0] + a[1] * y1 + a[4] * v1\n",
    "    f2 = a[0] + a[1] * y2 + a[4] * v2\n",
    "\n",
    "    loop_eval = np.hstack((f1, f2))\n",
    "    return loop_eval"
   ]
  },
  {
   "cell_type": "code",
   "execution_count": null,
   "metadata": {},
   "outputs": [],
   "source": [
    "plt.plot(bias[:,0])"
   ]
  },
  {
   "cell_type": "code",
   "execution_count": null,
   "metadata": {},
   "outputs": [],
   "source": [
    "loop_eval = loop_fit_function(bias[:,0], parm)"
   ]
  },
  {
   "cell_type": "code",
   "execution_count": null,
   "metadata": {},
   "outputs": [],
   "source": [
    "plt.plot(bias[:,cycle].squeeze(), loop_eval)"
   ]
  },
  {
   "cell_type": "code",
   "execution_count": null,
   "metadata": {},
   "outputs": [],
   "source": [
    "dataset.LSQF_hysteresis_params()[0,0]"
   ]
  },
  {
   "cell_type": "code",
   "execution_count": null,
   "metadata": {},
   "outputs": [],
   "source": [
    "from m3_learning.be.loop_fitter import loop_fitting_function_torch"
   ]
  },
  {
   "cell_type": "code",
   "execution_count": null,
   "metadata": {},
   "outputs": [],
   "source": [
    "with h5py.File(\"/home/ferroelectric/m3_learning/m3_learning/papers/2023_Rapid_Fitting/Data/data_raw_SHO.h5\", \"r+\") as h5_f:\n",
    "    # number of pixels in the image\n",
    "    num_pix = h5_f[\"Measurement_000\"].attrs[\"num_pix\"]\n",
    "    \n",
    "    # voltage vector\n",
    "    V = np.swapaxes(np.atleast_2d(h5_f['Measurement_000']['Channel_000']['UDVS'][::2][:, 1][24:120]), 0, 1).astype(np.float64)\n",
    "    \n",
    "    params = np.array(h5_f['Fit_Loop_Parameters'][:])\n",
    "    "
   ]
  },
  {
   "cell_type": "code",
   "execution_count": null,
   "metadata": {},
   "outputs": [],
   "source": [
    "dataset.dataset"
   ]
  },
  {
   "cell_type": "code",
   "execution_count": null,
   "metadata": {},
   "outputs": [],
   "source": [
    "import matplotlib.pyplot as plt\n",
    "\n",
    "plt.plot(dataset.hysteresis_waveform)\n"
   ]
  },
  {
   "cell_type": "code",
   "execution_count": null,
   "metadata": {},
   "outputs": [],
   "source": [
    "# # Sets path to file\n",
    "# path = r\"./\"\n",
    "\n",
    "# # Opens the data file2\n",
    "# h5_f = h5py.File(path + \"data_file.h5\", \"r+\")\n",
    "\n",
    "\n",
    "# # number of pixels in the image\n",
    "# num_pix = h5_f[\"Measurement_000\"].attrs[\"num_pix\"]\n",
    "# #dataset.num_pix\n",
    "\n",
    "# num_pix_1d = int(np.sqrt(num_pix))\n",
    "# #dataset.num_pix\n",
    "\n",
    "\n",
    "# # number of DC voltage steps\n",
    "# voltage_steps = h5_f[\"Measurement_000\"].attrs[\"num_udvs_steps\"]\n",
    "\n",
    "# proj_nd_shifted = loop_lsqf(h5_f)\n",
    "# proj_nd_shifted_transposed = np.transpose(proj_nd_shifted,(1,0,2,3))\n",
    "\n",
    "# getting parameters for the hysteresis loops\n",
    "params = np.array(h5_f['params_hysteresis'][:])\n",
    "params_names = ['a_0', 'a_1', 'a_2', 'a_3', 'a_4', 'b_0', 'b_1', 'b_2', 'b_3']\n",
    "\n",
    "# voltage vector\n",
    "V = np.swapaxes(np.atleast_2d(h5_f['Measurement_000']['Channel_000']['UDVS'][::2][:, 1][24:120]), 0, 1).astype(np.float64)\n",
    "\n",
    "# to set up a type of loop_fitting function to use. Possible options: ['9 parameters', '13 parameters']\n",
    "func_type = '9 parameters'\n",
    "\n",
    "# retrieve results\n",
    "real_loops = np.array(h5_f['real_loops_hysteresis'][:])\n",
    "unscaled_param_trust = np.array(h5_f['predictions_hysteresis_trustregcg'][:])\n",
    "unscaled_param_adam = np.array(h5_f['predictions_hysteresis_adam'][:])"
   ]
  }
 ],
 "metadata": {
  "kernelspec": {
   "display_name": "alibek",
   "language": "python",
   "name": "alibek"
  },
  "language_info": {
   "codemirror_mode": {
    "name": "ipython",
    "version": 3
   },
   "file_extension": ".py",
   "mimetype": "text/x-python",
   "name": "python",
   "nbconvert_exporter": "python",
   "pygments_lexer": "ipython3",
   "version": "3.9.12"
  },
  "vscode": {
   "interpreter": {
    "hash": "c58f42fd11d8ae4df132d3c425059695e86ccc63a852aa66615442730ca8b1fc"
   }
  }
 },
 "nbformat": 4,
 "nbformat_minor": 2
}
