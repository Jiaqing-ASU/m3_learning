{
 "cells": [
  {
   "attachments": {},
   "cell_type": "markdown",
   "metadata": {},
   "source": [
    "# Hysteresis Loops Fitting"
   ]
  },
  {
   "cell_type": "code",
   "execution_count": 1,
   "metadata": {},
   "outputs": [],
   "source": [
    "import sys\n",
    "sys.path.append('../../')\n",
    "sys.path.append(\"/home/ferroelectric/m3_learning/m3_learning/src\")"
   ]
  },
  {
   "cell_type": "code",
   "execution_count": 2,
   "metadata": {},
   "outputs": [
    {
     "name": "stderr",
     "output_type": "stream",
     "text": [
      "2023-09-17 22:00:02.703595: I tensorflow/core/platform/cpu_feature_guard.cc:182] This TensorFlow binary is optimized to use available CPU instructions in performance-critical operations.\n",
      "To enable the following instructions: AVX2 FMA, in other operations, rebuild TensorFlow with the appropriate compiler flags.\n",
      "2023-09-17 22:00:03.298492: W tensorflow/compiler/tf2tensorrt/utils/py_utils.cc:38] TF-TRT Warning: Could not find TensorRT\n"
     ]
    },
    {
     "name": "stdout",
     "output_type": "stream",
     "text": [
      "printing set for seaborn\n",
      "Pytorch seed was set to 42\n",
      "Numpy seed was set to 42\n",
      "tensorflow seed was set to 42\n"
     ]
    }
   ],
   "source": [
    "%load_ext autoreload\n",
    "%autoreload 2\n",
    "\n",
    "import h5py\n",
    "import pyUSID as usid\n",
    "\n",
    "from src.m3_learning.be.processing import fit_loop_function, loop_lsqf\n",
    "from m3_learning.be.loop_fitter import loop_fitting_function_torch\n",
    "from m3_learning.viz.layout import subfigures\n",
    "\n",
    "import numpy as np\n",
    "\n",
    "from m3_learning.nn.random import random_seed\n",
    "from m3_learning.viz.style import set_style\n",
    "from m3_learning.viz.printing import printer\n",
    "from m3_learning.be.viz import Viz\n",
    "from m3_learning.be.dataset import BE_Dataset\n",
    "from m3_learning.be.nn import SHO_fit_func_nn, SHO_Model\n",
    "from m3_learning.nn.Fitter1D.Fitter1D import Multiscale1DFitter, Model\n",
    "from m3_learning.be.filters import clean_interpolate\n",
    "\n",
    "printing = printer(basepath = './Figures/')\n",
    "\n",
    "\n",
    "set_style(\"printing\")\n",
    "random_seed(seed=42)\n",
    "\n",
    "%matplotlib inline"
   ]
  },
  {
   "attachments": {},
   "cell_type": "markdown",
   "metadata": {},
   "source": [
    "## Loads data"
   ]
  },
  {
   "cell_type": "code",
   "execution_count": 3,
   "metadata": {},
   "outputs": [
    {
     "name": "stdout",
     "output_type": "stream",
     "text": [
      "No spectroscopic datasets found as attributes of /Measurement_000/Channel_000/Position_Indices\n",
      "No position datasets found as attributes of /Raw_Data-SHO_Fit_000/Spectroscopic_Values\n",
      "/\n",
      "├ Measurement_000\n",
      "  ---------------\n",
      "  ├ Channel_000\n",
      "    -----------\n",
      "    ├ Bin_FFT\n",
      "    ├ Bin_Frequencies\n",
      "    ├ Bin_Indices\n",
      "    ├ Bin_Step\n",
      "    ├ Bin_Wfm_Type\n",
      "    ├ Excitation_Waveform\n",
      "    ├ Noise_Floor\n",
      "    ├ Position_Indices\n",
      "    ├ Position_Values\n",
      "    ├ Raw_Data\n",
      "    ├ Spatially_Averaged_Plot_Group_000\n",
      "      ---------------------------------\n",
      "      ├ Bin_Frequencies\n",
      "      ├ Max_Response\n",
      "      ├ Mean_Spectrogram\n",
      "      ├ Min_Response\n",
      "      ├ Spectroscopic_Parameter\n",
      "      ├ Step_Averaged_Response\n",
      "    ├ Spatially_Averaged_Plot_Group_001\n",
      "      ---------------------------------\n",
      "      ├ Bin_Frequencies\n",
      "      ├ Max_Response\n",
      "      ├ Mean_Spectrogram\n",
      "      ├ Min_Response\n",
      "      ├ Spectroscopic_Parameter\n",
      "      ├ Step_Averaged_Response\n",
      "    ├ Spectroscopic_Indices\n",
      "    ├ Spectroscopic_Values\n",
      "    ├ UDVS\n",
      "    ├ UDVS_Indices\n",
      "├ Raw_Data-SHO_Fit_000\n",
      "  --------------------\n",
      "  ├ Fit\n",
      "  ├ Fit-Loop_Fit_000\n",
      "    ----------------\n",
      "    ├ Fit\n",
      "    ├ Fit_Loop_Parameters\n",
      "    ├ Guess\n",
      "    ├ Guess_Loop_Parameters\n",
      "    ├ Loop_Metrics\n",
      "    ├ Loop_Metrics_Indices\n",
      "    ├ Loop_Metrics_Values\n",
      "    ├ Projected_Loops\n",
      "    ├ completed_fit_positions\n",
      "    ├ completed_guess_positions\n",
      "    ├ completed_positions\n",
      "  ├ Guess\n",
      "  ├ Spectroscopic_Indices\n",
      "  ├ Spectroscopic_Values\n",
      "  ├ completed_fit_positions\n",
      "  ├ completed_guess_positions\n",
      "Datasets and datagroups within the file:\n",
      "------------------------------------\n",
      "/\n",
      "/Measurement_000\n",
      "/Measurement_000/Channel_000\n",
      "/Measurement_000/Channel_000/Bin_FFT\n",
      "/Measurement_000/Channel_000/Bin_Frequencies\n",
      "/Measurement_000/Channel_000/Bin_Indices\n",
      "/Measurement_000/Channel_000/Bin_Step\n",
      "/Measurement_000/Channel_000/Bin_Wfm_Type\n",
      "/Measurement_000/Channel_000/Excitation_Waveform\n",
      "/Measurement_000/Channel_000/Noise_Floor\n",
      "/Measurement_000/Channel_000/Position_Indices\n",
      "/Measurement_000/Channel_000/Position_Values\n",
      "/Measurement_000/Channel_000/Raw_Data\n",
      "/Measurement_000/Channel_000/Spatially_Averaged_Plot_Group_000\n",
      "/Measurement_000/Channel_000/Spatially_Averaged_Plot_Group_000/Bin_Frequencies\n",
      "/Measurement_000/Channel_000/Spatially_Averaged_Plot_Group_000/Max_Response\n",
      "/Measurement_000/Channel_000/Spatially_Averaged_Plot_Group_000/Mean_Spectrogram\n",
      "/Measurement_000/Channel_000/Spatially_Averaged_Plot_Group_000/Min_Response\n",
      "/Measurement_000/Channel_000/Spatially_Averaged_Plot_Group_000/Spectroscopic_Parameter\n",
      "/Measurement_000/Channel_000/Spatially_Averaged_Plot_Group_000/Step_Averaged_Response\n",
      "/Measurement_000/Channel_000/Spatially_Averaged_Plot_Group_001\n",
      "/Measurement_000/Channel_000/Spatially_Averaged_Plot_Group_001/Bin_Frequencies\n",
      "/Measurement_000/Channel_000/Spatially_Averaged_Plot_Group_001/Max_Response\n",
      "/Measurement_000/Channel_000/Spatially_Averaged_Plot_Group_001/Mean_Spectrogram\n",
      "/Measurement_000/Channel_000/Spatially_Averaged_Plot_Group_001/Min_Response\n",
      "/Measurement_000/Channel_000/Spatially_Averaged_Plot_Group_001/Spectroscopic_Parameter\n",
      "/Measurement_000/Channel_000/Spatially_Averaged_Plot_Group_001/Step_Averaged_Response\n",
      "/Measurement_000/Channel_000/Spectroscopic_Indices\n",
      "/Measurement_000/Channel_000/Spectroscopic_Values\n",
      "/Measurement_000/Channel_000/UDVS\n",
      "/Measurement_000/Channel_000/UDVS_Indices\n",
      "/Raw_Data-SHO_Fit_000\n",
      "/Raw_Data-SHO_Fit_000/Fit\n",
      "/Raw_Data-SHO_Fit_000/Fit-Loop_Fit_000\n",
      "/Raw_Data-SHO_Fit_000/Fit-Loop_Fit_000/Fit\n",
      "/Raw_Data-SHO_Fit_000/Fit-Loop_Fit_000/Fit_Loop_Parameters\n",
      "/Raw_Data-SHO_Fit_000/Fit-Loop_Fit_000/Guess\n",
      "/Raw_Data-SHO_Fit_000/Fit-Loop_Fit_000/Guess_Loop_Parameters\n",
      "/Raw_Data-SHO_Fit_000/Fit-Loop_Fit_000/Loop_Metrics\n",
      "/Raw_Data-SHO_Fit_000/Fit-Loop_Fit_000/Loop_Metrics_Indices\n",
      "/Raw_Data-SHO_Fit_000/Fit-Loop_Fit_000/Loop_Metrics_Values\n",
      "/Raw_Data-SHO_Fit_000/Fit-Loop_Fit_000/Projected_Loops\n",
      "/Raw_Data-SHO_Fit_000/Fit-Loop_Fit_000/completed_fit_positions\n",
      "/Raw_Data-SHO_Fit_000/Fit-Loop_Fit_000/completed_guess_positions\n",
      "/Raw_Data-SHO_Fit_000/Fit-Loop_Fit_000/completed_positions\n",
      "/Raw_Data-SHO_Fit_000/Guess\n",
      "/Raw_Data-SHO_Fit_000/Spectroscopic_Indices\n",
      "/Raw_Data-SHO_Fit_000/Spectroscopic_Values\n",
      "/Raw_Data-SHO_Fit_000/completed_fit_positions\n",
      "/Raw_Data-SHO_Fit_000/completed_guess_positions\n",
      "\n",
      "The main dataset:\n",
      "------------------------------------\n",
      "<HDF5 file \"data_raw_unmod.h5\" (mode r+)>\n",
      "\n",
      "The ancillary datasets:\n",
      "------------------------------------\n",
      "<HDF5 dataset \"Position_Indices\": shape (3600, 2), type \"<u4\">\n",
      "<HDF5 dataset \"Position_Values\": shape (3600, 2), type \"<f4\">\n",
      "<HDF5 dataset \"Spectroscopic_Indices\": shape (4, 63360), type \"<u4\">\n",
      "<HDF5 dataset \"Spectroscopic_Values\": shape (4, 63360), type \"<f4\">\n",
      "\n",
      "Metadata or attributes in a datagroup\n",
      "------------------------------------\n",
      "BE_actual_duration_[s] : 0.004\n",
      "BE_amplitude_[V] : 1\n",
      "BE_auto_smoothing : auto smoothing on\n",
      "BE_band_edge_smoothing_[s] : 4832.1\n",
      "BE_band_edge_trim : 0.094742\n",
      "BE_band_width_[Hz] : 200000\n",
      "BE_bins_per_band : 0\n",
      "BE_center_frequency_[Hz] : 1310000\n",
      "BE_desired_duration_[s] : 0.004\n",
      "BE_phase_content : chirp-sinc hybrid\n",
      "BE_phase_variation : 1\n",
      "BE_points_per_BE_wave : 0\n",
      "BE_repeats : 4\n",
      "FORC_V_high1_[V] : 1\n",
      "FORC_V_high2_[V] : 10\n",
      "FORC_V_low1_[V] : -1\n",
      "FORC_V_low2_[V] : -10\n",
      "FORC_num_of_FORC_cycles : 1\n",
      "FORC_num_of_FORC_repeats : 1\n",
      "File_MDAQ_version : MDAQ_VS_090915_01\n",
      "File_date_and_time : 18-Sep-2015 18:32:14\n",
      "File_file_name : SP128_NSO\n",
      "File_file_path : C:\\Users\\Asylum User\\Documents\\Users\\Agar\\SP128_NSO\\\n",
      "File_file_suffix : 99\n",
      "IO_AO_amplifier : 10\n",
      "IO_AO_range_[V] : +/- 10\n",
      "IO_Analog_Input_1 : +/- .1V, FFT\n",
      "IO_Analog_Input_2 : off\n",
      "IO_Analog_Input_3 : off\n",
      "IO_Analog_Input_4 : off\n",
      "IO_DAQ_platform : NI 6115\n",
      "IO_rate_[Hz] : 4000000\n",
      "VS_amplitude_[V] : 16\n",
      "VS_cycle_fraction : full\n",
      "VS_cycle_phase_shift : 0\n",
      "VS_measure_in_field_loops : in and out-of-field\n",
      "VS_mode : DC modulation mode\n",
      "VS_number_of_cycles : 2\n",
      "VS_offset_[V] : 0\n",
      "VS_read_voltage_[V] : 0\n",
      "VS_set_pulse_amplitude[V] : 0\n",
      "VS_set_pulse_duration[s] : 0.002\n",
      "VS_step_edge_smoothing_[s] : 0.001\n",
      "VS_steps_per_full_cycle : 96\n",
      "data_type : BEPSData\n",
      "grid_/single : grid\n",
      "grid_contact_set_point_[V] : 1\n",
      "grid_current_col : 1\n",
      "grid_current_row : 1\n",
      "grid_cycle_time_[s] : 10\n",
      "grid_measuring : 0\n",
      "grid_moving : 0\n",
      "grid_num_cols : 60\n",
      "grid_num_rows : 60\n",
      "grid_settle_time_[s] : 0.15\n",
      "grid_time_remaining_[h;m;s] : 10\n",
      "grid_total_time_[h;m;s] : 10\n",
      "grid_transit_set_point_[V] : 0.1\n",
      "grid_transit_time_[s] : 0.15\n",
      "num_bins : 165\n",
      "num_pix : 3600\n",
      "num_udvs_steps : 384\n"
     ]
    }
   ],
   "source": [
    "# Specify the filename and the path to save the file\n",
    "filename = 'data_raw_unmod.h5'\n",
    "save_path = \"./Data\"\n",
    "\n",
    "data_path = save_path + \"/\" + filename\n",
    "\n",
    "# instantiate the dataset object\n",
    "dataset = BE_Dataset(data_path)\n",
    "\n",
    "# print the contents of the file\n",
    "dataset.print_be_tree()"
   ]
  },
  {
   "attachments": {},
   "cell_type": "markdown",
   "metadata": {},
   "source": [
    "## Performs SHO fits"
   ]
  },
  {
   "cell_type": "code",
   "execution_count": 4,
   "metadata": {},
   "outputs": [
    {
     "name": "stdout",
     "output_type": "stream",
     "text": [
      "Consider calling test() to check results before calling compute() which computes on the entire dataset and writes results to the HDF5 file\n",
      "\n",
      "Note: Loop_Fit has already been performed with the same parameters before. These results will be returned by compute() by default. Set override to True to force fresh computation\n",
      "\n",
      "[<HDF5 group \"/Raw_Data-SHO_Fit_000/Fit-Loop_Fit_000\" (11 members)>]\n",
      "\n",
      "Note: Loop_Fit has already been performed with the same parameters before. These results will be returned by compute() by default. Set override to True to force fresh computation\n",
      "\n",
      "[<HDF5 group \"/Raw_Data-SHO_Fit_000/Fit-Loop_Fit_000\" (11 members)>]\n",
      "Returned previously computed results at /Raw_Data-SHO_Fit_000/Fit-Loop_Fit_000\n",
      "\n",
      "Note: Loop_Fit has already been performed with the same parameters before. These results will be returned by compute() by default. Set override to True to force fresh computation\n",
      "\n",
      "[<HDF5 group \"/Raw_Data-SHO_Fit_000/Fit-Loop_Fit_000\" (11 members)>]\n",
      "Returned previously computed results at /Raw_Data-SHO_Fit_000/Fit-Loop_Fit_000\n"
     ]
    },
    {
     "name": "stderr",
     "output_type": "stream",
     "text": [
      "/home/ferroelectric/micromamba/envs/shofittting/lib/python3.10/site-packages/pyUSID/io/hdf_utils/simple.py:888: UserWarning: A dataset named: Guess_Loop_Parameters already exists in group: /Raw_Data-SHO_Fit_000/Fit-Loop_Fit_000\n",
      "  warn('A dataset named: {} already exists in group: {}'.format(dset_name, h5_group.name))\n",
      "/home/ferroelectric/micromamba/envs/shofittting/lib/python3.10/site-packages/pyUSID/io/hdf_utils/simple.py:888: UserWarning: A dataset named: Fit_Loop_Parameters already exists in group: /Raw_Data-SHO_Fit_000/Fit-Loop_Fit_000\n",
      "  warn('A dataset named: {} already exists in group: {}'.format(dset_name, h5_group.name))\n"
     ]
    }
   ],
   "source": [
    "h5_loop_fit, h5_loop_group = dataset.LSQF_Loop_Fit()"
   ]
  },
  {
   "cell_type": "markdown",
   "metadata": {},
   "source": [
    "## Visualize LSQF fit results"
   ]
  },
  {
   "cell_type": "code",
   "execution_count": 5,
   "metadata": {},
   "outputs": [
    {
     "name": "stdout",
     "output_type": "stream",
     "text": [
      "No spectroscopic datasets found as attributes of /Measurement_000/Channel_000/Position_Indices\n",
      "No position datasets found as attributes of /Raw_Data-SHO_Fit_000/Spectroscopic_Values\n"
     ]
    }
   ],
   "source": [
    "# insatiate the visualization object\n",
    "image_scalebar = [2000, 500, \"nm\", \"br\"]\n",
    "\n",
    "# instantiate the dataset object\n",
    "dataset = BE_Dataset(data_path)\n",
    "\n",
    "BE_viz = Viz(dataset, printing, verbose=True, \n",
    "             SHO_ranges = [(0,1.5e-4), (1.31e6, 1.33e6), (-300, 300), (-np.pi, np.pi)], \n",
    "             image_scalebar = image_scalebar)"
   ]
  },
  {
   "cell_type": "code",
   "execution_count": 6,
   "metadata": {},
   "outputs": [
    {
     "name": "stdout",
     "output_type": "stream",
     "text": [
      "No spectroscopic datasets found as attributes of /Measurement_000/Channel_000/Position_Indices\n",
      "No position datasets found as attributes of /Raw_Data-SHO_Fit_000/Spectroscopic_Values\n",
      "./Figures/hysteresis_comparison.png\n",
      "./Figures/hysteresis_comparison.svg\n"
     ]
    },
    {
     "data": {
      "image/png": "[encoded data removed]",
      "text/plain": [
       "<Figure size 205x158 with 1 Axes>"
      ]
     },
     "metadata": {},
     "output_type": "display_data"
    }
   ],
   "source": [
    "BE_viz.hysteresis_comparison(data = ['LSQF'])"
   ]
  },
  {
   "cell_type": "markdown",
   "metadata": {},
   "source": [
    "## Neural Network Fits"
   ]
  },
  {
   "cell_type": "code",
   "execution_count": 7,
   "metadata": {},
   "outputs": [
    {
     "data": {
      "text/html": [
       "<style>#sk-container-id-1 {color: black;background-color: white;}#sk-container-id-1 pre{padding: 0;}#sk-container-id-1 div.sk-toggleable {background-color: white;}#sk-container-id-1 label.sk-toggleable__label {cursor: pointer;display: block;width: 100%;margin-bottom: 0;padding: 0.3em;box-sizing: border-box;text-align: center;}#sk-container-id-1 label.sk-toggleable__label-arrow:before {content: \"▸\";float: left;margin-right: 0.25em;color: #696969;}#sk-container-id-1 label.sk-toggleable__label-arrow:hover:before {color: black;}#sk-container-id-1 div.sk-estimator:hover label.sk-toggleable__label-arrow:before {color: black;}#sk-container-id-1 div.sk-toggleable__content {max-height: 0;max-width: 0;overflow: hidden;text-align: left;background-color: #f0f8ff;}#sk-container-id-1 div.sk-toggleable__content pre {margin: 0.2em;color: black;border-radius: 0.25em;background-color: #f0f8ff;}#sk-container-id-1 input.sk-toggleable__control:checked~div.sk-toggleable__content {max-height: 200px;max-width: 100%;overflow: auto;}#sk-container-id-1 input.sk-toggleable__control:checked~label.sk-toggleable__label-arrow:before {content: \"▾\";}#sk-container-id-1 div.sk-estimator input.sk-toggleable__control:checked~label.sk-toggleable__label {background-color: #d4ebff;}#sk-container-id-1 div.sk-label input.sk-toggleable__control:checked~label.sk-toggleable__label {background-color: #d4ebff;}#sk-container-id-1 input.sk-hidden--visually {border: 0;clip: rect(1px 1px 1px 1px);clip: rect(1px, 1px, 1px, 1px);height: 1px;margin: -1px;overflow: hidden;padding: 0;position: absolute;width: 1px;}#sk-container-id-1 div.sk-estimator {font-family: monospace;background-color: #f0f8ff;border: 1px dotted black;border-radius: 0.25em;box-sizing: border-box;margin-bottom: 0.5em;}#sk-container-id-1 div.sk-estimator:hover {background-color: #d4ebff;}#sk-container-id-1 div.sk-parallel-item::after {content: \"\";width: 100%;border-bottom: 1px solid gray;flex-grow: 1;}#sk-container-id-1 div.sk-label:hover label.sk-toggleable__label {background-color: #d4ebff;}#sk-container-id-1 div.sk-serial::before {content: \"\";position: absolute;border-left: 1px solid gray;box-sizing: border-box;top: 0;bottom: 0;left: 50%;z-index: 0;}#sk-container-id-1 div.sk-serial {display: flex;flex-direction: column;align-items: center;background-color: white;padding-right: 0.2em;padding-left: 0.2em;position: relative;}#sk-container-id-1 div.sk-item {position: relative;z-index: 1;}#sk-container-id-1 div.sk-parallel {display: flex;align-items: stretch;justify-content: center;background-color: white;position: relative;}#sk-container-id-1 div.sk-item::before, #sk-container-id-1 div.sk-parallel-item::before {content: \"\";position: absolute;border-left: 1px solid gray;box-sizing: border-box;top: 0;bottom: 0;left: 50%;z-index: -1;}#sk-container-id-1 div.sk-parallel-item {display: flex;flex-direction: column;z-index: 1;position: relative;background-color: white;}#sk-container-id-1 div.sk-parallel-item:first-child::after {align-self: flex-end;width: 50%;}#sk-container-id-1 div.sk-parallel-item:last-child::after {align-self: flex-start;width: 50%;}#sk-container-id-1 div.sk-parallel-item:only-child::after {width: 0;}#sk-container-id-1 div.sk-dashed-wrapped {border: 1px dashed gray;margin: 0 0.4em 0.5em 0.4em;box-sizing: border-box;padding-bottom: 0.4em;background-color: white;}#sk-container-id-1 div.sk-label label {font-family: monospace;font-weight: bold;display: inline-block;line-height: 1.2em;}#sk-container-id-1 div.sk-label-container {text-align: center;}#sk-container-id-1 div.sk-container {/* jupyter's `normalize.less` sets `[hidden] { display: none; }` but bootstrap.min.css set `[hidden] { display: none !important; }` so we also need the `!important` here to be able to override the default hidden behavior on the sphinx rendered scikit-learn.org. See: https://github.com/scikit-learn/scikit-learn/issues/21755 */display: inline-block !important;position: relative;}#sk-container-id-1 div.sk-text-repr-fallback {display: none;}</style><div id=\"sk-container-id-1\" class=\"sk-top-container\"><div class=\"sk-text-repr-fallback\"><pre>StandardScaler()</pre><b>In a Jupyter environment, please rerun this cell to show the HTML representation or trust the notebook. <br />On GitHub, the HTML representation is unable to render, please try loading this page with nbviewer.org.</b></div><div class=\"sk-container\" hidden><div class=\"sk-item\"><div class=\"sk-estimator sk-toggleable\"><input class=\"sk-toggleable__control sk-hidden--visually\" id=\"sk-estimator-id-1\" type=\"checkbox\" checked><label for=\"sk-estimator-id-1\" class=\"sk-toggleable__label sk-toggleable__label-arrow\">StandardScaler</label><div class=\"sk-toggleable__content\"><pre>StandardScaler()</pre></div></div></div></div></div>"
      ],
      "text/plain": [
       "StandardScaler()"
      ]
     },
     "execution_count": 7,
     "metadata": {},
     "output_type": "execute_result"
    }
   ],
   "source": [
    "dataset.loop_param_scaler"
   ]
  },
  {
   "cell_type": "code",
   "execution_count": 11,
   "metadata": {},
   "outputs": [
    {
     "data": {
      "text/plain": [
       "(96, 4)"
      ]
     },
     "execution_count": 11,
     "metadata": {},
     "output_type": "execute_result"
    }
   ],
   "source": [
    "voltage.shape"
   ]
  },
  {
   "cell_type": "code",
   "execution_count": 12,
   "metadata": {},
   "outputs": [
    {
     "name": "stdout",
     "output_type": "stream",
     "text": [
      "No spectroscopic datasets found as attributes of /Measurement_000/Channel_000/Position_Indices\n",
      "No position datasets found as attributes of /Raw_Data-SHO_Fit_000/Spectroscopic_Values\n",
      "Using GPU NVIDIA GeForce RTX 3090\n",
      "Pytorch seed was set to 42\n",
      "Numpy seed was set to 42\n",
      "tensorflow seed was set to 42\n"
     ]
    },
    {
     "ename": "type",
     "evalue": "The size of tensor a (48) must match the size of tensor b (500) at non-singleton dimension 0",
     "output_type": "error",
     "traceback": [
      "\u001b[0;31m---------------------------------------------------------------------------\u001b[0m",
      "\u001b[0;31mRuntimeError\u001b[0m                              Traceback (most recent call last)",
      "\u001b[1;32m/home/ferroelectric/m3_learning/m3_learning/papers/2023_Rapid_Fitting/5_Hysteresis_Fitter.ipynb Cell 14\u001b[0m line \u001b[0;36m2\n\u001b[1;32m     <a href='vscode-notebook-cell://ssh-remote%2B7b22686f73744e616d65223a2231302e3234382e33362e3231222c2275736572223a22666572726f656c656374726963227d/home/ferroelectric/m3_learning/m3_learning/papers/2023_Rapid_Fitting/5_Hysteresis_Fitter.ipynb#X30sdnNjb2RlLXJlbW90ZQ%3D%3D?line=22'>23</a>\u001b[0m train \u001b[39m=\u001b[39m \u001b[39mTrue\u001b[39;00m\n\u001b[1;32m     <a href='vscode-notebook-cell://ssh-remote%2B7b22686f73744e616d65223a2231302e3234382e33362e3231222c2275736572223a22666572726f656c656374726963227d/home/ferroelectric/m3_learning/m3_learning/papers/2023_Rapid_Fitting/5_Hysteresis_Fitter.ipynb#X30sdnNjb2RlLXJlbW90ZQ%3D%3D?line=24'>25</a>\u001b[0m \u001b[39mif\u001b[39;00m train:\n\u001b[1;32m     <a href='vscode-notebook-cell://ssh-remote%2B7b22686f73744e616d65223a2231302e3234382e33362e3231222c2275736572223a22666572726f656c656374726963227d/home/ferroelectric/m3_learning/m3_learning/papers/2023_Rapid_Fitting/5_Hysteresis_Fitter.ipynb#X30sdnNjb2RlLXJlbW90ZQ%3D%3D?line=25'>26</a>\u001b[0m     \u001b[39m# fits the model\u001b[39;00m\n\u001b[0;32m---> <a href='vscode-notebook-cell://ssh-remote%2B7b22686f73744e616d65223a2231302e3234382e33362e3231222c2275736572223a22666572726f656c656374726963227d/home/ferroelectric/m3_learning/m3_learning/papers/2023_Rapid_Fitting/5_Hysteresis_Fitter.ipynb#X30sdnNjb2RlLXJlbW90ZQ%3D%3D?line=26'>27</a>\u001b[0m     model\u001b[39m.\u001b[39;49mfit(\n\u001b[1;32m     <a href='vscode-notebook-cell://ssh-remote%2B7b22686f73744e616d65223a2231302e3234382e33362e3231222c2275736572223a22666572726f656c656374726963227d/home/ferroelectric/m3_learning/m3_learning/papers/2023_Rapid_Fitting/5_Hysteresis_Fitter.ipynb#X30sdnNjb2RlLXJlbW90ZQ%3D%3D?line=27'>28</a>\u001b[0m         X_train,\n\u001b[1;32m     <a href='vscode-notebook-cell://ssh-remote%2B7b22686f73744e616d65223a2231302e3234382e33362e3231222c2275736572223a22666572726f656c656374726963227d/home/ferroelectric/m3_learning/m3_learning/papers/2023_Rapid_Fitting/5_Hysteresis_Fitter.ipynb#X30sdnNjb2RlLXJlbW90ZQ%3D%3D?line=28'>29</a>\u001b[0m         \u001b[39m500\u001b[39;49m,\n\u001b[1;32m     <a href='vscode-notebook-cell://ssh-remote%2B7b22686f73744e616d65223a2231302e3234382e33362e3231222c2275736572223a22666572726f656c656374726963227d/home/ferroelectric/m3_learning/m3_learning/papers/2023_Rapid_Fitting/5_Hysteresis_Fitter.ipynb#X30sdnNjb2RlLXJlbW90ZQ%3D%3D?line=29'>30</a>\u001b[0m         optimizer\u001b[39m=\u001b[39;49m\u001b[39m\"\u001b[39;49m\u001b[39mAdam\u001b[39;49m\u001b[39m\"\u001b[39;49m,\n\u001b[1;32m     <a href='vscode-notebook-cell://ssh-remote%2B7b22686f73744e616d65223a2231302e3234382e33362e3231222c2275736572223a22666572726f656c656374726963227d/home/ferroelectric/m3_learning/m3_learning/papers/2023_Rapid_Fitting/5_Hysteresis_Fitter.ipynb#X30sdnNjb2RlLXJlbW90ZQ%3D%3D?line=30'>31</a>\u001b[0m         epochs \u001b[39m=\u001b[39;49m \u001b[39m5\u001b[39;49m,\n\u001b[1;32m     <a href='vscode-notebook-cell://ssh-remote%2B7b22686f73744e616d65223a2231302e3234382e33362e3231222c2275736572223a22666572726f656c656374726963227d/home/ferroelectric/m3_learning/m3_learning/papers/2023_Rapid_Fitting/5_Hysteresis_Fitter.ipynb#X30sdnNjb2RlLXJlbW90ZQ%3D%3D?line=31'>32</a>\u001b[0m     )\n\u001b[1;32m     <a href='vscode-notebook-cell://ssh-remote%2B7b22686f73744e616d65223a2231302e3234382e33362e3231222c2275736572223a22666572726f656c656374726963227d/home/ferroelectric/m3_learning/m3_learning/papers/2023_Rapid_Fitting/5_Hysteresis_Fitter.ipynb#X30sdnNjb2RlLXJlbW90ZQ%3D%3D?line=32'>33</a>\u001b[0m \u001b[39melse\u001b[39;00m:\n\u001b[1;32m     <a href='vscode-notebook-cell://ssh-remote%2B7b22686f73744e616d65223a2231302e3234382e33362e3231222c2275736572223a22666572726f656c656374726963227d/home/ferroelectric/m3_learning/m3_learning/papers/2023_Rapid_Fitting/5_Hysteresis_Fitter.ipynb#X30sdnNjb2RlLXJlbW90ZQ%3D%3D?line=33'>34</a>\u001b[0m     model\u001b[39m.\u001b[39mload(\n\u001b[1;32m     <a href='vscode-notebook-cell://ssh-remote%2B7b22686f73744e616d65223a2231302e3234382e33362e3231222c2275736572223a22666572726f656c656374726963227d/home/ferroelectric/m3_learning/m3_learning/papers/2023_Rapid_Fitting/5_Hysteresis_Fitter.ipynb#X30sdnNjb2RlLXJlbW90ZQ%3D%3D?line=34'>35</a>\u001b[0m         \u001b[39m\"\u001b[39m\u001b[39m/home/ferroelectric/m3_learning/m3_learning/papers/2023_Rapid_Fitting/Trained Models/SHO Fitter/SHO_Fitter_original_data_model_epoch_5_train_loss_0.0449272525189978.pth\u001b[39m\u001b[39m\"\u001b[39m\n\u001b[1;32m     <a href='vscode-notebook-cell://ssh-remote%2B7b22686f73744e616d65223a2231302e3234382e33362e3231222c2275736572223a22666572726f656c656374726963227d/home/ferroelectric/m3_learning/m3_learning/papers/2023_Rapid_Fitting/5_Hysteresis_Fitter.ipynb#X30sdnNjb2RlLXJlbW90ZQ%3D%3D?line=35'>36</a>\u001b[0m     )\n",
      "File \u001b[0;32m~/m3_learning/m3_learning/src/m3_learning/nn/Fitter1D/Fitter1D.py:349\u001b[0m, in \u001b[0;36mModel.fit\u001b[0;34m(self, data_train, batch_size, epochs, loss_func, optimizer, seed, datatype, save_all, write_CSV, closure, basepath, early_stopping_loss, early_stopping_count, early_stopping_time, save_training_loss, **kwargs)\u001b[0m\n\u001b[1;32m    347\u001b[0m     optimizer_name \u001b[39m=\u001b[39m \u001b[39m\"\u001b[39m\u001b[39mTrust Region CG\u001b[39m\u001b[39m\"\u001b[39m\n\u001b[1;32m    348\u001b[0m \u001b[39melse\u001b[39;00m:\n\u001b[0;32m--> 349\u001b[0m     pred, embedding \u001b[39m=\u001b[39m \u001b[39mself\u001b[39;49m\u001b[39m.\u001b[39;49mmodel(train_batch)\n\u001b[1;32m    350\u001b[0m     pred \u001b[39m=\u001b[39m pred\u001b[39m.\u001b[39mto(torch\u001b[39m.\u001b[39mfloat32)\n\u001b[1;32m    351\u001b[0m     embedding \u001b[39m=\u001b[39m embedding\u001b[39m.\u001b[39mto(torch\u001b[39m.\u001b[39mfloat32)\n",
      "File \u001b[0;32m~/micromamba/envs/shofittting/lib/python3.10/site-packages/torch/nn/modules/module.py:1501\u001b[0m, in \u001b[0;36mModule._call_impl\u001b[0;34m(self, *args, **kwargs)\u001b[0m\n\u001b[1;32m   1496\u001b[0m \u001b[39m# If we don't have any hooks, we want to skip the rest of the logic in\u001b[39;00m\n\u001b[1;32m   1497\u001b[0m \u001b[39m# this function, and just call forward.\u001b[39;00m\n\u001b[1;32m   1498\u001b[0m \u001b[39mif\u001b[39;00m \u001b[39mnot\u001b[39;00m (\u001b[39mself\u001b[39m\u001b[39m.\u001b[39m_backward_hooks \u001b[39mor\u001b[39;00m \u001b[39mself\u001b[39m\u001b[39m.\u001b[39m_backward_pre_hooks \u001b[39mor\u001b[39;00m \u001b[39mself\u001b[39m\u001b[39m.\u001b[39m_forward_hooks \u001b[39mor\u001b[39;00m \u001b[39mself\u001b[39m\u001b[39m.\u001b[39m_forward_pre_hooks\n\u001b[1;32m   1499\u001b[0m         \u001b[39mor\u001b[39;00m _global_backward_pre_hooks \u001b[39mor\u001b[39;00m _global_backward_hooks\n\u001b[1;32m   1500\u001b[0m         \u001b[39mor\u001b[39;00m _global_forward_hooks \u001b[39mor\u001b[39;00m _global_forward_pre_hooks):\n\u001b[0;32m-> 1501\u001b[0m     \u001b[39mreturn\u001b[39;00m forward_call(\u001b[39m*\u001b[39;49margs, \u001b[39m*\u001b[39;49m\u001b[39m*\u001b[39;49mkwargs)\n\u001b[1;32m   1502\u001b[0m \u001b[39m# Do not call functions when jit is used\u001b[39;00m\n\u001b[1;32m   1503\u001b[0m full_backward_hooks, non_full_backward_hooks \u001b[39m=\u001b[39m [], []\n",
      "File \u001b[0;32m~/m3_learning/m3_learning/src/m3_learning/nn/Fitter1D/Fitter1D.py:178\u001b[0m, in \u001b[0;36mMultiscale1DFitter.forward\u001b[0;34m(self, x, n)\u001b[0m\n\u001b[1;32m    172\u001b[0m     unscaled_param \u001b[39m=\u001b[39m embedding\n\u001b[1;32m    174\u001b[0m \u001b[39m# frequency_bins = resample(self.dataset.frequency_bin,\u001b[39;00m\n\u001b[1;32m    175\u001b[0m \u001b[39m#                           self.dataset.resampled_bins)\u001b[39;00m\n\u001b[1;32m    176\u001b[0m \n\u001b[1;32m    177\u001b[0m \u001b[39m# passes to the pytorch fitting function\u001b[39;00m\n\u001b[0;32m--> 178\u001b[0m fits \u001b[39m=\u001b[39m \u001b[39mself\u001b[39;49m\u001b[39m.\u001b[39;49mfunction(\n\u001b[1;32m    179\u001b[0m     unscaled_param, \u001b[39mself\u001b[39;49m\u001b[39m.\u001b[39;49mx_data, device\u001b[39m=\u001b[39;49m\u001b[39mself\u001b[39;49m\u001b[39m.\u001b[39;49mdevice)\n\u001b[1;32m    181\u001b[0m \u001b[39m# Does the post processing if required\u001b[39;00m\n\u001b[1;32m    182\u001b[0m \u001b[39mif\u001b[39;00m \u001b[39mself\u001b[39m\u001b[39m.\u001b[39mpost_processing \u001b[39mis\u001b[39;00m \u001b[39mnot\u001b[39;00m \u001b[39mNone\u001b[39;00m:\n",
      "File \u001b[0;32m~/m3_learning/m3_learning/src/m3_learning/be/loop_fitter.py:36\u001b[0m, in \u001b[0;36mloop_fitting_function_torch\u001b[0;34m(y, V, type, device)\u001b[0m\n\u001b[1;32m     32\u001b[0m a0, a1, a2, a3, a4, b0, b1, b2, b3 \u001b[39m=\u001b[39m [y[:, i] \u001b[39mfor\u001b[39;00m i \u001b[39min\u001b[39;00m \u001b[39mrange\u001b[39m(\u001b[39m9\u001b[39m)]\n\u001b[1;32m     34\u001b[0m V1, V2 \u001b[39m=\u001b[39m V[:half_len], V[half_len:]\n\u001b[0;32m---> 36\u001b[0m g1 \u001b[39m=\u001b[39m (b1 \u001b[39m-\u001b[39m b0) \u001b[39m/\u001b[39m \u001b[39m2\u001b[39m \u001b[39m*\u001b[39m (torch\u001b[39m.\u001b[39merf((V1 \u001b[39m-\u001b[39;49m a2) \u001b[39m*\u001b[39m \u001b[39m1000\u001b[39m) \u001b[39m+\u001b[39m \u001b[39m1\u001b[39m) \u001b[39m+\u001b[39m b0\n\u001b[1;32m     37\u001b[0m g2 \u001b[39m=\u001b[39m (b3 \u001b[39m-\u001b[39m b2) \u001b[39m/\u001b[39m \u001b[39m2\u001b[39m \u001b[39m*\u001b[39m (torch\u001b[39m.\u001b[39merf((V2 \u001b[39m-\u001b[39m a3) \u001b[39m*\u001b[39m \u001b[39m1000\u001b[39m) \u001b[39m+\u001b[39m \u001b[39m1\u001b[39m) \u001b[39m+\u001b[39m b2\n\u001b[1;32m     39\u001b[0m y1 \u001b[39m=\u001b[39m (g1 \u001b[39m*\u001b[39m torch\u001b[39m.\u001b[39merf((V1 \u001b[39m-\u001b[39m a2) \u001b[39m/\u001b[39m g1) \u001b[39m+\u001b[39m b0) \u001b[39m/\u001b[39m (b0 \u001b[39m+\u001b[39m b1)\n",
      "\u001b[0;31mRuntimeError\u001b[0m: The size of tensor a (48) must match the size of tensor b (500) at non-singleton dimension 0"
     ]
    }
   ],
   "source": [
    "#TODO: need to make the function work with multiple loops\n",
    "\n",
    "from m3_learning.be.loop_fitter import loop_fitting_function_torch\n",
    "\n",
    "\n",
    "data, voltage = dataset.get_hysteresis(scaled=True, loop_interpolated = True)\n",
    "\n",
    "model_ = Multiscale1DFitter(loop_fitting_function_torch, # function \n",
    "                            voltage[:,0], # x data\n",
    "                            1, # input channels\n",
    "                            9, # output parameters\n",
    "                            dataset.loop_param_scaler)\n",
    "\n",
    "# instantiate the model\n",
    "model = Model(model_, dataset, training=True, model_basename=\"SHO_Fitter_original_data\")\n",
    "\n",
    "from sklearn.model_selection import train_test_split\n",
    "\n",
    "\n",
    "X_train, X_test = train_test_split(data.reshape(-1,96), test_size=0.2, random_state=42)\n",
    "\n",
    "X_train = np.atleast_3d(X_train)\n",
    "\n",
    "\n",
    "train = True\n",
    "\n",
    "if train:\n",
    "    # fits the model\n",
    "    model.fit(\n",
    "        X_train,\n",
    "        500,\n",
    "        optimizer=\"Adam\",\n",
    "        epochs = 5,\n",
    "    )\n",
    "else:\n",
    "    model.load(\n",
    "        \"/home/ferroelectric/m3_learning/m3_learning/papers/2023_Rapid_Fitting/Trained Models/SHO Fitter/SHO_Fitter_original_data_model_epoch_5_train_loss_0.0449272525189978.pth\"\n",
    "    )"
   ]
  },
  {
   "cell_type": "code",
   "execution_count": 25,
   "metadata": {},
   "outputs": [
    {
     "data": {
      "text/plain": [
       "(11520, 96, 1)"
      ]
     },
     "execution_count": 25,
     "metadata": {},
     "output_type": "execute_result"
    }
   ],
   "source": []
  },
  {
   "cell_type": "code",
   "execution_count": 27,
   "metadata": {},
   "outputs": [
    {
     "ename": "type",
     "evalue": "'BE_Dataset' object has no attribute 'x_data'",
     "output_type": "error",
     "traceback": [
      "\u001b[0;31m---------------------------------------------------------------------------\u001b[0m",
      "\u001b[0;31mAttributeError\u001b[0m                            Traceback (most recent call last)",
      "\u001b[1;32m/home/ferroelectric/m3_learning/m3_learning/papers/2023_Rapid_Fitting/5_Hysteresis_Fitter.ipynb Cell 15\u001b[0m line \u001b[0;36m1\n\u001b[0;32m----> <a href='vscode-notebook-cell://ssh-remote%2B7b22686f73744e616d65223a2231302e3234382e33362e3231222c2275736572223a22666572726f656c656374726963227d/home/ferroelectric/m3_learning/m3_learning/papers/2023_Rapid_Fitting/5_Hysteresis_Fitter.ipynb#Y120sdnNjb2RlLXJlbW90ZQ%3D%3D?line=0'>1</a>\u001b[0m dataset\u001b[39m.\u001b[39;49mx_data\n",
      "\u001b[0;31mAttributeError\u001b[0m: 'BE_Dataset' object has no attribute 'x_data'"
     ]
    }
   ],
   "source": []
  },
  {
   "cell_type": "code",
   "execution_count": 19,
   "metadata": {},
   "outputs": [
    {
     "data": {
      "text/plain": [
       "[<matplotlib.lines.Line2D at 0x7fb0d1860fa0>,\n",
       " <matplotlib.lines.Line2D at 0x7fb0d1861000>,\n",
       " <matplotlib.lines.Line2D at 0x7fb0d1861030>,\n",
       " <matplotlib.lines.Line2D at 0x7fb0d1861120>]"
      ]
     },
     "execution_count": 19,
     "metadata": {},
     "output_type": "execute_result"
    },
    {
     "data": {
      "image/png": "[encoded data removed]",
      "text/plain": [
       "<Figure size 640x480 with 1 Axes>"
      ]
     },
     "metadata": {},
     "output_type": "display_data"
    }
   ],
   "source": [
    "import matplotlib.pyplot as plt\n",
    "plt.plot(voltage, X_train[1000])"
   ]
  },
  {
   "cell_type": "markdown",
   "metadata": {},
   "source": [
    "## Plot a Random Example of the fit"
   ]
  },
  {
   "cell_type": "code",
   "execution_count": null,
   "metadata": {},
   "outputs": [],
   "source": [
    "# insatiate the visualization object\n",
    "image_scalebar = [2000, 500, \"nm\", \"br\"]\n",
    "\n",
    "BE_viz = Viz(dataset, printing, verbose=True, \n",
    "             SHO_ranges = [(0,1.5e-4), (1.31e6, 1.33e6), (-300, 300), (-np.pi, np.pi)], \n",
    "             image_scalebar = image_scalebar)\n",
    "\n",
    "self = BE_viz"
   ]
  },
  {
   "cell_type": "code",
   "execution_count": null,
   "metadata": {},
   "outputs": [],
   "source": [
    "dataset.get_state"
   ]
  },
  {
   "cell_type": "code",
   "execution_count": 9,
   "metadata": {},
   "outputs": [
    {
     "name": "stdout",
     "output_type": "stream",
     "text": [
      "No spectroscopic datasets found as attributes of /Measurement_000/Channel_000/Position_Indices\n",
      "No position datasets found as attributes of /Raw_Data-SHO_Fit_000/Spectroscopic_Values\n"
     ]
    }
   ],
   "source": [
    "out, voltage = dataset.get_hysteresis(scaled=True, loop_interpolated = True)"
   ]
  },
  {
   "cell_type": "code",
   "execution_count": 114,
   "metadata": {},
   "outputs": [
    {
     "data": {
      "text/plain": [
       "[<matplotlib.lines.Line2D at 0x7f91d1823fd0>]"
      ]
     },
     "execution_count": 114,
     "metadata": {},
     "output_type": "execute_result"
    },
    {
     "data": {
      "image/png": "[encoded data removed]",
      "text/plain": [
       "<Figure size 640x480 with 1 Axes>"
      ]
     },
     "metadata": {},
     "output_type": "display_data"
    }
   ],
   "source": [
    "plt.plot(dataset.dc_voltage)"
   ]
  },
  {
   "cell_type": "code",
   "execution_count": 10,
   "metadata": {},
   "outputs": [
    {
     "data": {
      "text/plain": [
       "[<matplotlib.lines.Line2D at 0x7f1d2f63e230>]"
      ]
     },
     "execution_count": 10,
     "metadata": {},
     "output_type": "execute_result"
    },
    {
     "data": {
      "image/png": "[encoded data removed]",
      "text/plain": [
       "<Figure size 640x480 with 1 Axes>"
      ]
     },
     "metadata": {},
     "output_type": "display_data"
    }
   ],
   "source": [
    "import matplotlib.pyplot as plt\n",
    "\n",
    "a = np.random.randint(0,60,(1))\n",
    "b = np.random.randint(0,60,(1))\n",
    "\n",
    "\n",
    "plt.plot(voltage[:,0].squeeze(), out[a,b,0].squeeze())"
   ]
  },
  {
   "cell_type": "code",
   "execution_count": 11,
   "metadata": {},
   "outputs": [
    {
     "name": "stdout",
     "output_type": "stream",
     "text": [
      "No spectroscopic datasets found as attributes of /Measurement_000/Channel_000/Position_Indices\n",
      "No position datasets found as attributes of /Raw_Data-SHO_Fit_000/Spectroscopic_Values\n"
     ]
    }
   ],
   "source": [
    "hys, bias = dataset.get_hysteresis()\n",
    "\n",
    "hys_2 = clean_interpolate(hys, axis=3)"
   ]
  },
  {
   "cell_type": "code",
   "execution_count": null,
   "metadata": {},
   "outputs": [],
   "source": [
    "def find_non_finite_indices(arr):\n",
    "    non_finite_mask = ~np.isfinite(arr)\n",
    "    indices = np.argwhere(non_finite_mask)\n",
    "    return indices"
   ]
  },
  {
   "cell_type": "code",
   "execution_count": null,
   "metadata": {},
   "outputs": [],
   "source": [
    "hys.shape"
   ]
  },
  {
   "cell_type": "code",
   "execution_count": null,
   "metadata": {},
   "outputs": [],
   "source": [
    "find_non_finite_indices(hys)"
   ]
  },
  {
   "cell_type": "code",
   "execution_count": null,
   "metadata": {},
   "outputs": [],
   "source": [
    "a"
   ]
  },
  {
   "cell_type": "code",
   "execution_count": null,
   "metadata": {},
   "outputs": [],
   "source": [
    "import matplotlib.pyplot as plt\n",
    "\n",
    "a = np.random.randint(0,60,(1))\n",
    "b = np.random.randint(0,60,(1))\n",
    "\n",
    "\n",
    "plt.plot(hys[a[0],b[0],0])\n",
    "plt.plot(hys_2[a[0],b[0],0])"
   ]
  },
  {
   "cell_type": "code",
   "execution_count": 12,
   "metadata": {},
   "outputs": [
    {
     "ename": "type",
     "evalue": "incomplete input (3744456558.py, line 22)",
     "output_type": "error",
     "traceback": [
      "\u001b[0;31m---------------------------------------------------------------------------\u001b[0m",
      "\u001b[0;31mSyntaxError\u001b[0m                               Traceback (most recent call last)",
      "File \u001b[0;32m~/micromamba/envs/shofittting/lib/python3.10/site-packages/IPython/core/compilerop.py:86\u001b[0m, in \u001b[0;36mCachingCompiler.ast_parse\u001b[0;34m(self, source, filename, symbol)\u001b[0m\n\u001b[1;32m     81\u001b[0m \u001b[39mdef\u001b[39;00m \u001b[39mast_parse\u001b[39m(\u001b[39mself\u001b[39m, source, filename\u001b[39m=\u001b[39m\u001b[39m'\u001b[39m\u001b[39m<unknown>\u001b[39m\u001b[39m'\u001b[39m, symbol\u001b[39m=\u001b[39m\u001b[39m'\u001b[39m\u001b[39mexec\u001b[39m\u001b[39m'\u001b[39m):\n\u001b[1;32m     82\u001b[0m \u001b[39m    \u001b[39m\u001b[39m\"\"\"Parse code to an AST with the current compiler flags active.\u001b[39;00m\n\u001b[1;32m     83\u001b[0m \n\u001b[1;32m     84\u001b[0m \u001b[39m    Arguments are exactly the same as ast.parse (in the standard library),\u001b[39;00m\n\u001b[1;32m     85\u001b[0m \u001b[39m    and are passed to the built-in compile function.\"\"\"\u001b[39;00m\n\u001b[0;32m---> 86\u001b[0m     \u001b[39mreturn\u001b[39;00m \u001b[39mcompile\u001b[39;49m(source, filename, symbol, \u001b[39mself\u001b[39;49m\u001b[39m.\u001b[39;49mflags \u001b[39m|\u001b[39;49m PyCF_ONLY_AST, \u001b[39m1\u001b[39;49m)\n",
      "\u001b[0;31mSyntaxError\u001b[0m: incomplete input (3744456558.py, line 22)"
     ]
    }
   ],
   "source": [
    "def hysteresis_fit(self, \n",
    "                   voltage, \n",
    "                   datasets, \n",
    "                   original = True,\n",
    "                   row = None, \n",
    "                   col = None,\n",
    "                   cycle = None):\n",
    "    \n",
    "    if row is None:\n",
    "        row = np.random.randint(0, self.dataset.num_rows, 1)\n",
    "        \n",
    "    if col is None:\n",
    "        col = np.random.randint(0, self.dataset.num_cols, 1)\n",
    "        \n",
    "    if cycle is None:\n",
    "        cycle = np.random.randint(0, self.dataset.num_cycles, 1)\n",
    "    \n",
    "    fig, ax = subfigures(1,1, size = (1.25,1.25))\n",
    "    \n",
    "\n",
    "        "
   ]
  },
  {
   "cell_type": "code",
   "execution_count": 38,
   "metadata": {},
   "outputs": [
    {
     "ename": "type",
     "evalue": "'list' object has no attribute 'plot'",
     "output_type": "error",
     "traceback": [
      "\u001b[0;31m---------------------------------------------------------------------------\u001b[0m",
      "\u001b[0;31mAttributeError\u001b[0m                            Traceback (most recent call last)",
      "\u001b[1;32m/home/ferroelectric/m3_learning/m3_learning/papers/2023_Rapid_Fitting/5_Hysteresis_Fitter.ipynb Cell 37\u001b[0m line \u001b[0;36m6\n\u001b[1;32m      <a href='vscode-notebook-cell://ssh-remote%2B10.248.36.21/home/ferroelectric/m3_learning/m3_learning/papers/2023_Rapid_Fitting/5_Hysteresis_Fitter.ipynb#X36sdnNjb2RlLXJlbW90ZQ%3D%3D?line=0'>1</a>\u001b[0m \u001b[39mfrom\u001b[39;00m \u001b[39mm3_learning\u001b[39;00m\u001b[39m.\u001b[39;00m\u001b[39mviz\u001b[39;00m\u001b[39m.\u001b[39;00m\u001b[39mlayout\u001b[39;00m \u001b[39mimport\u001b[39;00m layout_fig, inset_connector, add_box, subfigures, add_text_to_figure, get_axis_pos_inches, imagemap,  FigDimConverter, labelfigs, imagemap, scalebar\n\u001b[1;32m      <a href='vscode-notebook-cell://ssh-remote%2B10.248.36.21/home/ferroelectric/m3_learning/m3_learning/papers/2023_Rapid_Fitting/5_Hysteresis_Fitter.ipynb#X36sdnNjb2RlLXJlbW90ZQ%3D%3D?line=2'>3</a>\u001b[0m fig, axs \u001b[39m=\u001b[39m subfigures(\u001b[39m1\u001b[39m,\u001b[39m1\u001b[39m, size \u001b[39m=\u001b[39m (\u001b[39m1.25\u001b[39m,\u001b[39m1.25\u001b[39m))\n\u001b[0;32m----> <a href='vscode-notebook-cell://ssh-remote%2B10.248.36.21/home/ferroelectric/m3_learning/m3_learning/papers/2023_Rapid_Fitting/5_Hysteresis_Fitter.ipynb#X36sdnNjb2RlLXJlbW90ZQ%3D%3D?line=5'>6</a>\u001b[0m axs\u001b[39m.\u001b[39;49mplot(V, proj_nd_shifted_transposed[i[\u001b[39m0\u001b[39m], i[\u001b[39m1\u001b[39m], :, \u001b[39m3\u001b[39m],\u001b[39m'\u001b[39m\u001b[39mog\u001b[39m\u001b[39m'\u001b[39m,\n\u001b[1;32m      <a href='vscode-notebook-cell://ssh-remote%2B10.248.36.21/home/ferroelectric/m3_learning/m3_learning/papers/2023_Rapid_Fitting/5_Hysteresis_Fitter.ipynb#X36sdnNjb2RlLXJlbW90ZQ%3D%3D?line=6'>7</a>\u001b[0m          label\u001b[39m=\u001b[39m\u001b[39m'\u001b[39m\u001b[39minitial loops\u001b[39m\u001b[39m'\u001b[39m)\n\u001b[1;32m      <a href='vscode-notebook-cell://ssh-remote%2B10.248.36.21/home/ferroelectric/m3_learning/m3_learning/papers/2023_Rapid_Fitting/5_Hysteresis_Fitter.ipynb#X36sdnNjb2RlLXJlbW90ZQ%3D%3D?line=7'>8</a>\u001b[0m axs\u001b[39m.\u001b[39mplot(V, loop_fit_results[:, i[\u001b[39m0\u001b[39m], i[\u001b[39m1\u001b[39m]], \u001b[39m'\u001b[39m\u001b[39mblue\u001b[39m\u001b[39m'\u001b[39m, label\u001b[39m=\u001b[39m\u001b[39m'\u001b[39m\u001b[39mfit results (NumPy)\u001b[39m\u001b[39m'\u001b[39m)\n\u001b[1;32m      <a href='vscode-notebook-cell://ssh-remote%2B10.248.36.21/home/ferroelectric/m3_learning/m3_learning/papers/2023_Rapid_Fitting/5_Hysteresis_Fitter.ipynb#X36sdnNjb2RlLXJlbW90ZQ%3D%3D?line=8'>9</a>\u001b[0m axs\u001b[39m.\u001b[39mplot(V, np\u001b[39m.\u001b[39mreshape(loop_fitting_function_tf(func_type, V, params), \n\u001b[1;32m     <a href='vscode-notebook-cell://ssh-remote%2B10.248.36.21/home/ferroelectric/m3_learning/m3_learning/papers/2023_Rapid_Fitting/5_Hysteresis_Fitter.ipynb#X36sdnNjb2RlLXJlbW90ZQ%3D%3D?line=9'>10</a>\u001b[0m                        (num_pix_1d, num_pix_1d, \u001b[39m96\u001b[39m))[i[\u001b[39m0\u001b[39m], i[\u001b[39m1\u001b[39m], :], \u001b[39m'\u001b[39m\u001b[39mblack\u001b[39m\u001b[39m'\u001b[39m, \n\u001b[1;32m     <a href='vscode-notebook-cell://ssh-remote%2B10.248.36.21/home/ferroelectric/m3_learning/m3_learning/papers/2023_Rapid_Fitting/5_Hysteresis_Fitter.ipynb#X36sdnNjb2RlLXJlbW90ZQ%3D%3D?line=10'>11</a>\u001b[0m          label\u001b[39m=\u001b[39m\u001b[39m'\u001b[39m\u001b[39mfit results (Tensorflow)\u001b[39m\u001b[39m'\u001b[39m)\n",
      "\u001b[0;31mAttributeError\u001b[0m: 'list' object has no attribute 'plot'"
     ]
    },
    {
     "data": {
      "image/png": "[encoded data removed]",
      "text/plain": [
       "<Figure size 205x158 with 1 Axes>"
      ]
     },
     "metadata": {},
     "output_type": "display_data"
    }
   ],
   "source": [
    "from m3_learning.viz.layout import layout_fig, inset_connector, add_box, subfigures, add_text_to_figure, get_axis_pos_inches, imagemap,  FigDimConverter, labelfigs, imagemap, scalebar\n",
    "\n",
    "fig, axs = subfigures(1,1, size = (1.25,1.25))\n",
    "\n",
    "\n",
    "axs.plot(V, proj_nd_shifted_transposed[i[0], i[1], :, 3],'og',\n",
    "         label='initial loops')\n",
    "axs.plot(V, loop_fit_results[:, i[0], i[1]], 'blue', label='fit results (NumPy)')\n",
    "axs.plot(V, np.reshape(loop_fitting_function_tf(func_type, V, params), \n",
    "                       (num_pix_1d, num_pix_1d, 96))[i[0], i[1], :], 'black', \n",
    "         label='fit results (Tensorflow)')\n",
    "axs.legend()\n",
    "axs.ticklabel_format(axis=\"y\", style=\"sci\", scilimits=(0,0))\n",
    "axs.set(xlabel='Voltage (V)', ylabel='Amplitude (Arb. U.)')\n",
    "axs.label_outer()"
   ]
  },
  {
   "cell_type": "code",
   "execution_count": 73,
   "metadata": {},
   "outputs": [
    {
     "data": {
      "text/plain": [
       "(60, 60, 4, 9)"
      ]
     },
     "execution_count": 73,
     "metadata": {},
     "output_type": "execute_result"
    }
   ],
   "source": []
  },
  {
   "cell_type": "code",
   "execution_count": null,
   "metadata": {},
   "outputs": [],
   "source": []
  },
  {
   "cell_type": "code",
   "execution_count": null,
   "metadata": {},
   "outputs": [],
   "source": [
    "with h5py.File(dataset.file, \"r+\") as h5_f:\n",
    "    \n",
    "    out = h5_f['/Raw_Data_SHO_Fit/Raw_Data-SHO_Fit_000/Fit-Loop_Fit_000/Fit'][:]"
   ]
  },
  {
   "cell_type": "code",
   "execution_count": 78,
   "metadata": {},
   "outputs": [],
   "source": []
  },
  {
   "cell_type": "code",
   "execution_count": null,
   "metadata": {},
   "outputs": [],
   "source": [
    "dataset.num_cols"
   ]
  },
  {
   "cell_type": "code",
   "execution_count": null,
   "metadata": {},
   "outputs": [],
   "source": [
    "parm = dataset.LSQF_hysteresis_params(output_shape = \"index\")"
   ]
  },
  {
   "cell_type": "code",
   "execution_count": null,
   "metadata": {},
   "outputs": [],
   "source": [
    "parm.shape\n"
   ]
  },
  {
   "cell_type": "code",
   "execution_count": null,
   "metadata": {},
   "outputs": [],
   "source": [
    "out, bias = dataset.get_hysteresis(\"/Raw_Data_SHO_Fit/Raw_Data-SHO_Fit_000/Fit-Loop_Fit_000\", plotting_values=True)\n",
    "out.shape"
   ]
  },
  {
   "cell_type": "code",
   "execution_count": 76,
   "metadata": {},
   "outputs": [
    {
     "ename": "type",
     "evalue": "name 'loop_fitting_function_torch' is not defined",
     "output_type": "error",
     "traceback": [
      "\u001b[0;31m---------------------------------------------------------------------------\u001b[0m",
      "\u001b[0;31mNameError\u001b[0m                                 Traceback (most recent call last)",
      "\u001b[1;32m/home/ferroelectric/m3_learning/m3_learning/papers/2023_Rapid_Fitting/5_Hysteresis_Fitter.ipynb Cell 58\u001b[0m line \u001b[0;36m1\n\u001b[1;32m      <a href='vscode-notebook-cell://ssh-remote%2B10.248.36.21/home/ferroelectric/m3_learning/m3_learning/papers/2023_Rapid_Fitting/5_Hysteresis_Fitter.ipynb#X63sdnNjb2RlLXJlbW90ZQ%3D%3D?line=6'>7</a>\u001b[0m row \u001b[39m=\u001b[39m \u001b[39m20\u001b[39m\n\u001b[1;32m      <a href='vscode-notebook-cell://ssh-remote%2B10.248.36.21/home/ferroelectric/m3_learning/m3_learning/papers/2023_Rapid_Fitting/5_Hysteresis_Fitter.ipynb#X63sdnNjb2RlLXJlbW90ZQ%3D%3D?line=8'>9</a>\u001b[0m parm \u001b[39m=\u001b[39m dataset\u001b[39m.\u001b[39mLSQF_hysteresis_params()[row, col, cycle]\u001b[39m.\u001b[39mview(\u001b[39m'\u001b[39m\u001b[39m<f4\u001b[39m\u001b[39m'\u001b[39m)\n\u001b[0;32m---> <a href='vscode-notebook-cell://ssh-remote%2B10.248.36.21/home/ferroelectric/m3_learning/m3_learning/papers/2023_Rapid_Fitting/5_Hysteresis_Fitter.ipynb#X63sdnNjb2RlLXJlbW90ZQ%3D%3D?line=9'>10</a>\u001b[0m loop \u001b[39m=\u001b[39m loop_fitting_function_torch(bias[:, cycle], parm, \u001b[39mtype\u001b[39m\u001b[39m=\u001b[39m\u001b[39m'\u001b[39m\u001b[39m9 parameters\u001b[39m\u001b[39m'\u001b[39m)\n\u001b[1;32m     <a href='vscode-notebook-cell://ssh-remote%2B10.248.36.21/home/ferroelectric/m3_learning/m3_learning/papers/2023_Rapid_Fitting/5_Hysteresis_Fitter.ipynb#X63sdnNjb2RlLXJlbW90ZQ%3D%3D?line=10'>11</a>\u001b[0m out, bias \u001b[39m=\u001b[39m dataset\u001b[39m.\u001b[39mget_hysteresis(\u001b[39m\"\u001b[39m\u001b[39m/Raw_Data_SHO_Fit/Raw_Data-SHO_Fit_000/Fit-Loop_Fit_000\u001b[39m\u001b[39m\"\u001b[39m, plotting_values\u001b[39m=\u001b[39m\u001b[39mTrue\u001b[39;00m)\n\u001b[1;32m     <a href='vscode-notebook-cell://ssh-remote%2B10.248.36.21/home/ferroelectric/m3_learning/m3_learning/papers/2023_Rapid_Fitting/5_Hysteresis_Fitter.ipynb#X63sdnNjb2RlLXJlbW90ZQ%3D%3D?line=14'>15</a>\u001b[0m plt\u001b[39m.\u001b[39mplot(bias[:, cycle]\u001b[39m.\u001b[39msqueeze(), loop\u001b[39m.\u001b[39mcpu()\u001b[39m.\u001b[39msqueeze(), \u001b[39m'\u001b[39m\u001b[39mr\u001b[39m\u001b[39m'\u001b[39m)\n",
      "\u001b[0;31mNameError\u001b[0m: name 'loop_fitting_function_torch' is not defined"
     ]
    }
   ],
   "source": [
    "import matplotlib.pyplot as plt\n",
    "\n",
    "self = dataset\n",
    "\n",
    "col = np.random.randint(0, self.num_cols, 1)\n",
    "cycle = pos = np.random.randint(0, 4, 1)\n",
    "row = 20\n",
    "\n",
    "parm = dataset.LSQF_hysteresis_params()[row, col, cycle].view('<f4')\n",
    "loop = loop_fitting_function_torch(bias[:, cycle], parm, type='9 parameters')\n",
    "out, bias = dataset.get_hysteresis(\"/Raw_Data_SHO_Fit/Raw_Data-SHO_Fit_000/Fit-Loop_Fit_000\", plotting_values=True)\n",
    "\n",
    "\n",
    "\n",
    "plt.plot(bias[:, cycle].squeeze(), loop.cpu().squeeze(), 'r')\n",
    "plt.plot(bias[:, cycle].squeeze(), out[row, col, :, cycle].squeeze(), 'b')"
   ]
  },
  {
   "cell_type": "code",
   "execution_count": null,
   "metadata": {},
   "outputs": [],
   "source": [
    "from scipy.special import erf, erfinv\n",
    "import warnings\n",
    "\n",
    "def loop_fit_function(vdc, coef_vec):\n",
    "    \"\"\"\n",
    "    9 parameter fit function\n",
    "    \n",
    "    Parameters\n",
    "    -----------\n",
    "    vdc : 1D numpy array or list\n",
    "        DC voltages\n",
    "    coef_vec : 1D numpy array or list\n",
    "        9 parameter coefficient vector\n",
    "        \n",
    "    Returns\n",
    "    ---------\n",
    "    loop_eval : 1D numpy array\n",
    "        Loop values\n",
    "    \"\"\"\n",
    "\n",
    "    a = coef_vec[:5]\n",
    "    b = coef_vec[5:]\n",
    "    d = 1000\n",
    "\n",
    "    v1 = np.asarray(vdc[:int(len(vdc) / 2)])\n",
    "    v2 = np.asarray(vdc[int(len(vdc) / 2):])\n",
    "\n",
    "    g1 = (b[1] - b[0]) / 2 * (erf((v1 - a[2]) * d) + 1) + b[0]\n",
    "    g2 = (b[3] - b[2]) / 2 * (erf((v2 - a[3]) * d) + 1) + b[2]\n",
    "\n",
    "    y1 = (g1 * erf((v1 - a[2]) / g1) + b[0]) / (b[0] + b[1])\n",
    "    y2 = (g2 * erf((v2 - a[3]) / g2) + b[2]) / (b[2] + b[3])\n",
    "\n",
    "    f1 = a[0] + a[1] * y1 + a[4] * v1\n",
    "    f2 = a[0] + a[1] * y2 + a[4] * v2\n",
    "\n",
    "    loop_eval = np.hstack((f1, f2))\n",
    "    return loop_eval"
   ]
  },
  {
   "cell_type": "code",
   "execution_count": null,
   "metadata": {},
   "outputs": [],
   "source": [
    "plt.plot(bias[:,0])"
   ]
  },
  {
   "cell_type": "code",
   "execution_count": null,
   "metadata": {},
   "outputs": [],
   "source": [
    "loop_eval = loop_fit_function(bias[:,0], parm)"
   ]
  },
  {
   "cell_type": "code",
   "execution_count": null,
   "metadata": {},
   "outputs": [],
   "source": [
    "plt.plot(bias[:,cycle].squeeze(), loop_eval)"
   ]
  },
  {
   "cell_type": "code",
   "execution_count": null,
   "metadata": {},
   "outputs": [],
   "source": [
    "dataset.LSQF_hysteresis_params()[0,0]"
   ]
  },
  {
   "cell_type": "code",
   "execution_count": null,
   "metadata": {},
   "outputs": [],
   "source": [
    "from m3_learning.be.loop_fitter import loop_fitting_function_torch"
   ]
  },
  {
   "cell_type": "code",
   "execution_count": null,
   "metadata": {},
   "outputs": [],
   "source": [
    "with h5py.File(\"/home/ferroelectric/m3_learning/m3_learning/papers/2023_Rapid_Fitting/Data/data_raw_SHO.h5\", \"r+\") as h5_f:\n",
    "    # number of pixels in the image\n",
    "    num_pix = h5_f[\"Measurement_000\"].attrs[\"num_pix\"]\n",
    "    \n",
    "    # voltage vector\n",
    "    V = np.swapaxes(np.atleast_2d(h5_f['Measurement_000']['Channel_000']['UDVS'][::2][:, 1][24:120]), 0, 1).astype(np.float64)\n",
    "    \n",
    "    params = np.array(h5_f['Fit_Loop_Parameters'][:])\n",
    "    "
   ]
  },
  {
   "cell_type": "code",
   "execution_count": null,
   "metadata": {},
   "outputs": [],
   "source": [
    "dataset.dataset"
   ]
  },
  {
   "cell_type": "code",
   "execution_count": null,
   "metadata": {},
   "outputs": [],
   "source": [
    "import matplotlib.pyplot as plt\n",
    "\n",
    "plt.plot(dataset.hysteresis_waveform)\n"
   ]
  },
  {
   "cell_type": "code",
   "execution_count": null,
   "metadata": {},
   "outputs": [],
   "source": [
    "# # Sets path to file\n",
    "# path = r\"./\"\n",
    "\n",
    "# # Opens the data file2\n",
    "# h5_f = h5py.File(path + \"data_file.h5\", \"r+\")\n",
    "\n",
    "\n",
    "# # number of pixels in the image\n",
    "# num_pix = h5_f[\"Measurement_000\"].attrs[\"num_pix\"]\n",
    "# #dataset.num_pix\n",
    "\n",
    "# num_pix_1d = int(np.sqrt(num_pix))\n",
    "# #dataset.num_pix\n",
    "\n",
    "\n",
    "# # number of DC voltage steps\n",
    "# voltage_steps = h5_f[\"Measurement_000\"].attrs[\"num_udvs_steps\"]\n",
    "\n",
    "# proj_nd_shifted = loop_lsqf(h5_f)\n",
    "# proj_nd_shifted_transposed = np.transpose(proj_nd_shifted,(1,0,2,3))\n",
    "\n",
    "# getting parameters for the hysteresis loops\n",
    "params = np.array(h5_f['params_hysteresis'][:])\n",
    "params_names = ['a_0', 'a_1', 'a_2', 'a_3', 'a_4', 'b_0', 'b_1', 'b_2', 'b_3']\n",
    "\n",
    "# voltage vector\n",
    "V = np.swapaxes(np.atleast_2d(h5_f['Measurement_000']['Channel_000']['UDVS'][::2][:, 1][24:120]), 0, 1).astype(np.float64)\n",
    "\n",
    "# to set up a type of loop_fitting function to use. Possible options: ['9 parameters', '13 parameters']\n",
    "func_type = '9 parameters'\n",
    "\n",
    "# retrieve results\n",
    "real_loops = np.array(h5_f['real_loops_hysteresis'][:])\n",
    "unscaled_param_trust = np.array(h5_f['predictions_hysteresis_trustregcg'][:])\n",
    "unscaled_param_adam = np.array(h5_f['predictions_hysteresis_adam'][:])"
   ]
  }
 ],
 "metadata": {
  "kernelspec": {
   "display_name": "rapid_fitting",
   "language": "python",
   "name": "python3"
  },
  "language_info": {
   "codemirror_mode": {
    "name": "ipython",
    "version": 3
   },
   "file_extension": ".py",
   "mimetype": "text/x-python",
   "name": "python",
   "nbconvert_exporter": "python",
   "pygments_lexer": "ipython3",
   "version": "3.10.11"
  },
  "orig_nbformat": 4,
  "vscode": {
   "interpreter": {
    "hash": "c58f42fd11d8ae4df132d3c425059695e86ccc63a852aa66615442730ca8b1fc"
   }
  }
 },
 "nbformat": 4,
 "nbformat_minor": 2
}
