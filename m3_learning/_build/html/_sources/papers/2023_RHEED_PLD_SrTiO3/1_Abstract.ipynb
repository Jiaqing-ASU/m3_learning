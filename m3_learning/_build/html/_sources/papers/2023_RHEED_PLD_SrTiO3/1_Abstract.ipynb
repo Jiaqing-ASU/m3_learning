{
 "cells": [
  {
   "attachments": {},
   "cell_type": "markdown",
   "metadata": {},
   "source": [
    "# Abstract"
   ]
  },
  {
   "attachments": {},
   "cell_type": "markdown",
   "metadata": {},
   "source": [
    "Pulsed-laser deposition (PLD) is a powerful technique to grow complex oxides with controlled stoichiometry. To understand growth dynamics, it is common to leverage in situ spectroscopies such as reflection high energy electron diffraction (RHEED) to monitor surface crystallinity. Most commercial systems rely on video-rate cameras operating at 60-120 Hz that lack sufficient temporal resolution to capture growth dynamics at practical deposition frequencies. Here, we implement a high-speed platform to record in situ dynamics via RHEED at >500 Hz. We design an open-source analysis package to fit diffraction spots to 2D Gaussians, allowing single-pulse surface reconstruction kinetics extraction. Using homoepitaxially deposited (001)-oriented SrTiO3 as a model system, we demonstrate how high-speed RHEED can provide real time insight into growth processes obscured by slower acquisition systems. By fitting the single-pulse intensity to a set of exponential functions, we observe changes in the characteristic decay time and mechanism correlated to the substrate step width and surface termination. Specifically, we observe exponential decay in per pulse intensity when depositing on lower energy TiO2-terminated surfaces. Conversely, exponential stabilization is observed when surfaces are SrO or mixed terminated. Similarly, the extracted characteristic time decreases with an increase in the density of bonding sites associated with mixed termination and narrower step widths.   Ultimately, this work shows how increasing RHEED temporal resolution can uncover new insight into growth processes. This experimental platform provides new capabilities to enable data-driven machine learning analysis and autonomous control systems to enhance the complexity and fecundity of PLD."
   ]
  },
  {
   "attachments": {},
   "cell_type": "markdown",
   "metadata": {},
   "source": []
  }
 ],
 "metadata": {
  "kernelspec": {
   "display_name": "STEM",
   "language": "python",
   "name": "python3"
  },
  "language_info": {
   "name": "python",
   "version": "3.10.0"
  },
  "orig_nbformat": 4
 },
 "nbformat": 4,
 "nbformat_minor": 2
}
