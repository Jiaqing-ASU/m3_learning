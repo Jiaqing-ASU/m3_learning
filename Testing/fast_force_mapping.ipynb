{
 "cells": [
  {
   "cell_type": "code",
   "execution_count": 1,
   "metadata": {},
   "outputs": [],
   "source": [
    "import sys\n",
    "sys.path.append('../../')\n",
    "sys.path.append('C:\\codes\\m3_learning\\m3_learning\\src')"
   ]
  },
  {
   "cell_type": "code",
   "execution_count": 3,
   "metadata": {},
   "outputs": [],
   "source": [
    "from m3_learning.nn.Fitter1D.Fitter1D import Multiscale1DFitter, Model\n",
    "import torch\n"
   ]
  },
  {
   "cell_type": "code",
   "execution_count": 15,
   "metadata": {},
   "outputs": [],
   "source": [
    "from m3_learning.be.loop_fitter import loop_fitting_function_torch\n",
    "\n",
    "\n",
    "model_ = Multiscale1DFitter(loop_fitting_function_torch, # function \n",
    "                            x_data, # x data\n",
    "                            1, # input channels\n",
    "                            9, # output parameters\n",
    "                            dataset.SHO_scaler, \n",
    "                            postprocessor)"
   ]
  },
  {
   "cell_type": "code",
   "execution_count": 4,
   "metadata": {},
   "outputs": [],
   "source": [
    "def hertz_model(V, y, device = \"cuda\"):\n",
    "    V = torch.tensor(V, dtype=torch.float64, device=device)\n",
    "\n",
    "    try:\n",
    "        y = torch.from_numpy(y).to(device)\n",
    "        if len(y.shape) == 1:\n",
    "            y = torch.unsqueeze(y, 0)\n",
    "    except:\n",
    "        pass\n",
    "    \n",
    "    E_star, R = y[:, 0], y[:, 1]\n",
    "    d = V.type(torch.float64)\n",
    "\n",
    "    F_hertz = (4 / 3) * E_star * torch.sqrt(R) * torch.pow(d, 1.5)\n",
    "    return F_hertz"
   ]
  },
  {
   "cell_type": "code",
   "execution_count": null,
   "metadata": {},
   "outputs": [],
   "source": [
    "np."
   ]
  }
 ],
 "metadata": {
  "kernelspec": {
   "display_name": "rapid_fitting",
   "language": "python",
   "name": "python3"
  },
  "language_info": {
   "codemirror_mode": {
    "name": "ipython",
    "version": 3
   },
   "file_extension": ".py",
   "mimetype": "text/x-python",
   "name": "python",
   "nbconvert_exporter": "python",
   "pygments_lexer": "ipython3",
   "version": "3.10.6"
  },
  "orig_nbformat": 4
 },
 "nbformat": 4,
 "nbformat_minor": 2
}
